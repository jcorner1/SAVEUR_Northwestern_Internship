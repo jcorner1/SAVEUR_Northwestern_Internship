{
 "cells": [
  {
   "cell_type": "code",
   "execution_count": null,
   "metadata": {},
   "outputs": [],
   "source": [
    "import pyart\n",
    "import wradlib as wrl\n",
    "import pandas as pd\n",
    "import tempfile\n",
    "import os\n",
    "import numpy as np\n",
    "import matplotlib.pyplot as plt\n",
    "\n",
    "import pytz\n",
    "import datetime as dt\n",
    "\n",
    "from copy import deepcopy\n",
    "import cartopy.crs as ccrs\n",
    "import cartopy.io.shapereader as shpreader\n",
    "import cartopy.feature as cfeature\n",
    "\n",
    "import boto3\n",
    "from botocore.handlers import disable_signing\n",
    "\n",
    "import warnings\n",
    "warnings.filterwarnings(\"ignore\")\n",
    "\n",
    "import sys"
   ]
  },
  {
   "cell_type": "code",
   "execution_count": null,
   "metadata": {},
   "outputs": [],
   "source": [
    "#datestr = '2013/04/17'\n",
    "datestr = sys.argv[1]\n",
    "\n",
    "path_radarfiles = '/lcrc/group/earthscience/icrisologo/SAVEUR/gridded/'+datestr\n",
    "savepath = '/lcrc/group/earthscience/icrisologo/KLOT_accum/1hr'\n",
    "\n",
    "rr_retrieval_methods = ['rainrate','rainrate_from_kdp','rainrate_from_attenuation','rainrate_z_RT','rainrate_z_MP','rainrate_z_WC']"
   ]
  },
  {
   "cell_type": "code",
   "execution_count": null,
   "metadata": {},
   "outputs": [],
   "source": [
    "# In[3]:\n",
    "\n",
    "\n",
    "flist = os.listdir(path_radarfiles)\n",
    "flist.sort()"
   ]
  },
  {
   "cell_type": "code",
   "execution_count": null,
   "metadata": {},
   "outputs": [],
   "source": [
    "# Group the files according to hour, and put them in a dictionary where the hours are the keys.\n",
    "\n",
    "# In[4]:\n",
    "\n",
    "\n",
    "# create an empty dictionary\n",
    "fname_dict = {}\n",
    "for i in range(1,25,1):\n",
    "    fname_dict[i] = []\n",
    "# fill in dictionary\n",
    "for i in range(len(flist)):\n",
    "    #fname = keys[i].rsplit('/',1)[-1].strip('.nc')\n",
    "    dtime_utc = dt.datetime.strptime(flist[i],'radar_KLOT_%Y%m%d_%H%M%S_gridded.nc')\n",
    "    fname_dict[dtime_utc.hour+1].append(flist[i])"
   ]
  },
  {
   "cell_type": "code",
   "execution_count": null,
   "metadata": {},
   "outputs": [],
   "source": [
    "# In[5]:\n",
    "\n",
    "\n",
    "# Get time intervals average every hour\n",
    "timediff_ave = {}\n",
    "for i in range(1,25,1):\n",
    "    timediff_ave[i] = []\n",
    "for hour in list(fname_dict):\n",
    "    timelist = []\n",
    "    timediff = []\n",
    "    fnames_within_hour = fname_dict[hour]\n",
    "    for fname in fnames_within_hour:\n",
    "        dtime_utc = dt.datetime.strptime(fname,'radar_KLOT_%Y%m%d_%H%M%S_gridded.nc')\n",
    "        timelist.append(dtime_utc)\n",
    "    for tdiff in np.diff(timelist):\n",
    "        timediff.append(np.diff(timelist)[0].seconds)\n",
    "    timediff_ave[hour] = np.mean(timediff)"
   ]
  },
  {
   "cell_type": "code",
   "execution_count": null,
   "metadata": {},
   "outputs": [],
   "source": [
    "# In[9]:\n",
    "\n",
    "\n",
    "for hour in list(fname_dict):\n",
    "    print(hour,end='')\n",
    "    fnames_within_hour = fname_dict[hour]\n",
    "\n",
    "    # get current hour\n",
    "    dtime_hr = dt.datetime.strptime(fnames_within_hour[0],'radar_KLOT_%Y%m%d_%H%M%S_gridded.nc')+dt.timedelta(hours=1)\n",
    "\n",
    "    # set up grid base for hourly accum\n",
    "    grid = pyart.io.read_grid(os.path.join(path_radarfiles,fnames_within_hour[0]))\n",
    "    grid_base = deepcopy(grid)\n",
    "    grid_base.fields = {}\n",
    "    grid_base.time['units'] = dt.datetime.strftime(dtime_hr,'%Y/%m/%d %H:00:00')\n",
    "\n",
    "    # initiate hour accum array\n",
    "    hour_accum = np.zeros((len(rr_retrieval_methods),300,300))\n",
    "\n",
    "    for fname in fnames_within_hour:#[:1]:\n",
    "        print('.',end='')\n",
    "\n",
    "        # read to radar object using pyart\n",
    "        grid = pyart.io.read_grid(os.path.join(path_radarfiles,fname))\n",
    "\n",
    "        for i,method in enumerate(rr_retrieval_methods):\n",
    "\n",
    "            rdepth = grid.fields['radar_rainfall_depth_'+method]\n",
    "            hour_accum[i] += np.squeeze(np.ma.filled(rdepth['data'],0.0))\n",
    "\n",
    "    for i,method in enumerate(rr_retrieval_methods):\n",
    "        # add hourly depth to grid base object\n",
    "        hourdepth_dict = {}\n",
    "        hourdepth_dict['data'] = np.expand_dims(hour_accum[i],axis=0)\n",
    "        hourdepth_dict['RR method'] = method\n",
    "        hourdepth_dict['long_name'] = 'Hourly accumulation ' + method\n",
    "        hourdepth_dict['units'] = 'mm / time interval'\n",
    "        hourdepth_dict['standard_name'] = 'hourlyaccum_'+method\n",
    "        hourdepth_dict['coordinates'] = 'elevation azimuth range'\n",
    "\n",
    "        grid_base.add_field('hourlyaccum_'+method, hourdepth_dict, replace_existing=True)\n",
    "\n",
    "    # write grid to file\n",
    "    pyart.io.write_grid(os.path.join(savepath,'KLOT_'+dt.datetime.strftime(dtime_hr,'%Y%m%d_%H0000')+'_accum1HR.nc'), grid_base)\n",
    "\n",
    "#     print('')\n",
    "\n"
   ]
  }
 ],
 "metadata": {
  "kernelspec": {
   "display_name": "Python 3",
   "language": "python",
   "name": "python3"
  },
  "language_info": {
   "codemirror_mode": {
    "name": "ipython",
    "version": 3
   },
   "file_extension": ".py",
   "mimetype": "text/x-python",
   "name": "python",
   "nbconvert_exporter": "python",
   "pygments_lexer": "ipython3",
   "version": "3.6.5"
  }
 },
 "nbformat": 4,
 "nbformat_minor": 2
}
