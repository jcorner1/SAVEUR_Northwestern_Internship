{
 "cells": [
  {
   "cell_type": "code",
   "execution_count": null,
   "metadata": {},
   "outputs": [],
   "source": [
    "import pyart\n",
    "import wradlib as wrl\n",
    "import pandas as pd\n",
    "import tempfile\n",
    "import os\n",
    "import numpy as np\n",
    "import matplotlib.pyplot as plt\n",
    "\n",
    "import sys\n",
    "\n",
    "import pytz\n",
    "import datetime as dt\n",
    "\n",
    "import warnings\n",
    "warnings.filterwarnings(\"ignore\")"
   ]
  },
  {
   "cell_type": "code",
   "execution_count": null,
   "metadata": {},
   "outputs": [],
   "source": [
    "#datestr = '2013/04/17'\n",
    "#datestr = sys.argv[1]\n",
    "\n",
    "path_radarfiles = '/lcrc/group/earthscience/icrisologo/diff_retrievals_processed/'+datestr\n",
    "\n",
    "rr_retrieval_methods = ['rainrate','rainrate_from_kdp','rainrate_from_attenuation','rainrate_z_RT','rainrate_z_MP','rainrate_z_WC']\n",
    "\n",
    "savepath = '/lcrc/group/earthscience/icrisologo/SAVEUR/gridded'\n",
    "\n",
    "\n",
    "\n",
    "flist = os.listdir(path_radarfiles)\n",
    "flist.sort()\n"
   ]
  },
  {
   "cell_type": "code",
   "execution_count": null,
   "metadata": {},
   "outputs": [],
   "source": [
    "# create an empty dictionary\n",
    "fname_dict = {}\n",
    "for i in range(1,25,1):\n",
    "    fname_dict[i] = []\n",
    "# fill in dictionary\n",
    "for i in range(len(flist)):\n",
    "    #fname = keys[i].rsplit('/',1)[-1].strip('.nc')\n",
    "    dtime_utc = dt.datetime.strptime(flist[i],'radar_KLOT_%Y%m%d_%H%M%S.nc')\n",
    "    fname_dict[dtime_utc.hour+1].append(flist[i])"
   ]
  },
  {
   "cell_type": "code",
   "execution_count": null,
   "metadata": {},
   "outputs": [],
   "source": [
    "# Get time intervals average every hour\n",
    "timediff_ave = {}\n",
    "for i in range(1,25,1):\n",
    "    timediff_ave[i] = []\n",
    "for hour in list(fname_dict):\n",
    "    timelist = []\n",
    "    timediff = []\n",
    "    fnames_within_hour = fname_dict[hour]\n",
    "    for fname in fnames_within_hour:\n",
    "        dtime_utc = dt.datetime.strptime(fname,'radar_KLOT_%Y%m%d_%H%M%S.nc')\n",
    "        timelist.append(dtime_utc)\n",
    "    for tdiff in np.diff(timelist):\n",
    "        timediff.append(np.diff(timelist)[0].seconds)\n",
    "    timediff_ave[hour] = np.mean(timediff)"
   ]
  },
  {
   "cell_type": "code",
   "execution_count": null,
   "metadata": {},
   "outputs": [],
   "source": [
    "# For every hour in the list, get the filenames associated with that hour and loop through the files. Read each file, \n",
    "# convert reflectivity to rain rate, and convert rain rate to rain amount. Add these rain amounts for \n",
    "# the hour and save it to file.\n",
    "\n",
    "for hour in list(fname_dict):\n",
    "    print('Hour: ',hour)\n",
    "    interval = timediff_ave[hour]\n",
    "    fnames_within_hour = fname_dict[hour]\n",
    "\n",
    "    hour_accum = np.zeros((len(rr_retrieval_methods),300,300))\n",
    "    for fname in fnames_within_hour:\n",
    "        print(fname+':',end='')\n",
    "\n",
    "        # get local time of radar\n",
    "        fname_ = fname.rsplit('/',1)[-1].strip('.nc')\n",
    "        dtime_utc = dt.datetime.strptime(fname_,'radar_KLOT_%Y%m%d_%H%M%S')\n",
    "        dtime_utc = pytz.utc.localize(dtime_utc)\n",
    "\n",
    "        # read to radar object using pyart\n",
    "        radar = pyart.io.read_cfradial(os.path.join(path_radarfiles,fname))\n",
    "\n",
    "#         # Mask out last 10 gates of each ray, this removes the \"ring\" around the radar.\n",
    "#         radar.fields[method]['data'][:, -10:] = np.ma.masked\n",
    "\n",
    "        gatefilter = pyart.filters.GateFilter(radar)\n",
    "        gatefilter.exclude_transition()\n",
    "        gatefilter.exclude_masked('reflectivity')\n",
    "\n",
    "        # perform Cartesian mapping, limit to the reflectivity field.\n",
    "        grid = pyart.map.grid_from_radars(\n",
    "            [radar], gatefilters=[gatefilter],\n",
    "            grid_shape=(1, 300, 300),\n",
    "            grid_limits=((2000, 2000), (-123000.0, 123000.0), (-123000.0, 123000.0)),\n",
    "            )\n",
    "\n"
   ]
  },
  {
   "cell_type": "code",
   "execution_count": null,
   "metadata": {},
   "outputs": [],
   "source": []
  }
 ],
 "metadata": {
  "kernelspec": {
   "display_name": "Python 3",
   "language": "python",
   "name": "python3"
  },
  "language_info": {
   "codemirror_mode": {
    "name": "ipython",
    "version": 3
   },
   "file_extension": ".py",
   "mimetype": "text/x-python",
   "name": "python",
   "nbconvert_exporter": "python",
   "pygments_lexer": "ipython3",
   "version": "3.6.5"
  }
 },
 "nbformat": 4,
 "nbformat_minor": 2
}
