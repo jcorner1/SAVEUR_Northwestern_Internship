{
 "cells": [
  {
   "cell_type": "code",
   "execution_count": 18,
   "metadata": {},
   "outputs": [],
   "source": [
    "import xarray as xr\n",
    "import cartopy.crs as ccrs\n",
    "import cartopy.io.shapereader as shpreader\n",
    "import pyart\n",
    "import glob\n",
    "import multiprocessing\n",
    "import requests\n",
    "import shutil\n",
    "\n",
    "\n",
    "import wradlib as wrl\n",
    "import gzip\n",
    "import os\n",
    "from osgeo import osr\n",
    "\n",
    "import numpy as np\n",
    "import pandas as pd\n",
    "from datetime import datetime\n",
    "import matplotlib.ticker as mticker\n",
    "from cartopy.mpl.gridliner import LONGITUDE_FORMATTER, LATITUDE_FORMATTER\n",
    "\n",
    "import fiona\n",
    "import shapely\n",
    "import pickle"
   ]
  },
  {
   "cell_type": "code",
   "execution_count": 19,
   "metadata": {},
   "outputs": [],
   "source": [
    "# A def that emails me when the data is ready\n",
    "import smtplib\n",
    "from email.message import EmailMessage\n",
    "\n",
    "def email_alert(subject, body, to):\n",
    "    \n",
    "    msg = EmailMessage()\n",
    "    msg.set_content(body)\n",
    "    msg['subject'] = subject\n",
    "    msg['to'] = to\n",
    "    \n",
    "    \n",
    "    user = 'jeremy.corner.alert@gmail.com'\n",
    "    password = 'jrdakdhxfmvaigsy'\n",
    "    \n",
    "    server = smtplib.SMTP('smtp.gmail.com', 587)\n",
    "    server.starttls()\n",
    "    server.login(user, password)\n",
    "    server.send_message(msg)\n",
    "    \n",
    "    server.quit()"
   ]
  },
  {
   "cell_type": "code",
   "execution_count": 3,
   "metadata": {},
   "outputs": [],
   "source": [
    "time1 = datetime.now()\n"
   ]
  },
  {
   "cell_type": "code",
   "execution_count": 4,
   "metadata": {},
   "outputs": [],
   "source": [
    "day = '26'\n",
    "month = '06'\n",
    "month1 = 'June'\n",
    "year = '2021'\n"
   ]
  },
  {
   "cell_type": "code",
   "execution_count": 5,
   "metadata": {},
   "outputs": [],
   "source": [
    "past = datetime.now()\n",
    "\n",
    "for hour in range(24):\n",
    "    if hour <= 9:\n",
    "        for minute in range(59):\n",
    "            if minute % 2 == 0:\n",
    "                if minute <= 8:\n",
    "                    time = f'0{hour}0{minute}00'\n",
    "                    url = f'https://mtarchive.geol.iastate.edu/{year}/{month}/{day}/mrms/ncep/PrecipRate/PrecipRate_00.00_{year}{month}{day}-{time}.grib2.gz'\n",
    "                    r = requests.get(url, allow_redirects=True)\n",
    "                    filename = url[-41:]\n",
    "                    if int(r.headers.get('content-length', None)) > 10000:\n",
    "                        open(f'/gpfs/fs1/home/ac.jcorner/Rainfall/Data/MRMS/{day}_{month1}_{year}/{filename}', 'wb').write(r.content)\n",
    "                    \n",
    "                else:\n",
    "                    time = f'0{hour}{minute}00'\n",
    "                    url = f'https://mtarchive.geol.iastate.edu/{year}/{month}/{day}/mrms/ncep/PrecipRate/PrecipRate_00.00_{year}{month}{day}-{time}.grib2.gz'\n",
    "                    r = requests.get(url, allow_redirects=True)\n",
    "                    filename = url[-41:]\n",
    "                    if int(r.headers.get('content-length', None)) > 10000:\n",
    "                        open(f'/gpfs/fs1/home/ac.jcorner/Rainfall/Data/MRMS/{day}_{month1}_{year}/{filename}', 'wb').write(r.content)\n",
    "                    \n",
    "                    \n",
    "    else:\n",
    "        for minute in range(59):\n",
    "            if minute % 2 == 0:\n",
    "                if minute <= 8:\n",
    "                    time = f'{hour}0{minute}00'\n",
    "                    url = f'https://mtarchive.geol.iastate.edu/{year}/{month}/{day}/mrms/ncep/PrecipRate/PrecipRate_00.00_{year}{month}{day}-{time}.grib2.gz'\n",
    "                    r = requests.get(url, allow_redirects=True)\n",
    "                    filename = url[-41:]\n",
    "                    if int(r.headers.get('content-length', None)) > 10000:\n",
    "                        open(f'/gpfs/fs1/home/ac.jcorner/Rainfall/Data/MRMS/{day}_{month1}_{year}/{filename}', 'wb').write(r.content)\n",
    "                    \n",
    "                else:\n",
    "                    time = f'{hour}{minute}00'\n",
    "                    url = f'https://mtarchive.geol.iastate.edu/{year}/{month}/{day}/mrms/ncep/PrecipRate/PrecipRate_00.00_{year}{month}{day}-{time}.grib2.gz'\n",
    "                    r = requests.get(url, allow_redirects=True)\n",
    "                    filename = url[-41:]\n",
    "                    if int(r.headers.get('content-length', None)) > 10000:\n",
    "                        open(f'/gpfs/fs1/home/ac.jcorner/Rainfall/Data/MRMS/{day}_{month1}_{year}/{filename}', 'wb').write(r.content)\n",
    "                    \n",
    "                \n",
    "               "
   ]
  },
  {
   "cell_type": "code",
   "execution_count": null,
   "metadata": {},
   "outputs": [],
   "source": []
  },
  {
   "cell_type": "code",
   "execution_count": 6,
   "metadata": {},
   "outputs": [
    {
     "name": "stdout",
     "output_type": "stream",
     "text": [
      "0:03:01.120545\n"
     ]
    }
   ],
   "source": [
    "for pathname in glob.glob(f'/gpfs/fs1/home/ac.jcorner/Rainfall/Data/MRMS/{day}_{month1}_{year}/*.gz'):\n",
    "    with gzip.open(f'{pathname}', 'rb') as f_in:\n",
    "        with open(f'{pathname[0:-3]}', 'wb') as f_out:\n",
    "            shutil.copyfileobj(f_in, f_out)\n",
    "            \n",
    "current = datetime.now()\n",
    "print(current - past) \n"
   ]
  },
  {
   "cell_type": "code",
   "execution_count": 7,
   "metadata": {},
   "outputs": [],
   "source": [
    "data = glob.glob(f'/gpfs/fs1/home/ac.jcorner/Rainfall/Data/MRMS/{day}_{month1}_{year}/*.grib2')\n",
    "data.sort()\n",
    "#print(data[][-12:-10])"
   ]
  },
  {
   "cell_type": "code",
   "execution_count": 103,
   "metadata": {},
   "outputs": [],
   "source": [
    "ds = xr.open_dataset(data[0])\n",
    "\n",
    "\n",
    "#ds = xr.open_dataset(os.path.join(pathfiles,datafile), engine='cfgrib')\n",
    "\n",
    "\n",
    "#Subset the data and create grid\n",
    "#ds_sub = ds.sel(latitude=slice(43,40),longitude=slice(270,273))\n",
    "ds_sub = ds.sel(latitude=slice(45,36),longitude=slice(266,275))\n",
    "\n",
    "\n",
    "y_rad = ds_sub['latitude'].values\n",
    "x_rad = ds_sub['longitude'].values\n",
    "\n",
    "mesh_x, mesh_y = np.meshgrid(x_rad, y_rad)\n",
    "\n",
    "# Put the two coordinate grids in one array.\n",
    "\n",
    "grid_xy = np.zeros((900,900,2))\n",
    "\n",
    "grid_xy[:,:,0] = mesh_x\n",
    "grid_xy[:,:,1] = mesh_y"
   ]
  },
  {
   "cell_type": "code",
   "execution_count": 9,
   "metadata": {},
   "outputs": [
    {
     "data": {
      "text/plain": [
       "0"
      ]
     },
     "execution_count": 9,
     "metadata": {},
     "output_type": "execute_result"
    }
   ],
   "source": [
    "# Read the watershed shapefile.\n",
    "# this file is in UTM\n",
    "fname_shp = '/gpfs/fs1/home/ac.jcorner/Rainfall/Data/city_detailed_utm/city_detailed_utm.shp'\n",
    "\n",
    "dataset, inLayer = wrl.io.open_vector(fname_shp)\n",
    "borders, keys = wrl.georef.get_vector_coordinates(inLayer, key='node_id')\n",
    "\n",
    "# Define different projections that will be used in the processing.\n",
    "\n",
    "proj_wgs = osr.SpatialReference()\n",
    "proj_wgs.ImportFromEPSG(4326)\n",
    "\n",
    "proj_aeqd = osr.SpatialReference()\n",
    "proj_aeqd.ImportFromEPSG(54032)\n",
    "\n",
    "proj_IL = osr.SpatialReference()\n",
    "proj_IL.ImportFromEPSG(26771)\n",
    "\n",
    "proj_IL_UTM = osr.SpatialReference()\n",
    "proj_IL_UTM.ImportFromEPSG(26916)"
   ]
  },
  {
   "cell_type": "code",
   "execution_count": 10,
   "metadata": {},
   "outputs": [],
   "source": [
    "# Reproject the radar grid to UTM, to match the shapefile.\n",
    "grid_xy_utm = wrl.georef.reproject(grid_xy,\n",
    "                                projection_source=proj_wgs,\n",
    "                                projection_target=proj_IL_UTM)\n",
    "\n",
    "x_rad_utm = grid_xy_utm[:,:,0]\n",
    "y_rad_utm = grid_xy_utm[:,:,1]"
   ]
  },
  {
   "cell_type": "code",
   "execution_count": 102,
   "metadata": {},
   "outputs": [],
   "source": [
    "# Create a mask to reduce size.\n",
    "# Reduce grid size using a bounding box (to enhancing performance)\n",
    "bbox = inLayer.GetExtent()\n",
    "\n",
    "buffer = 100.\n",
    "bbox = dict(left=bbox[0] - buffer, right=bbox[1] + buffer,\n",
    "            bottom=bbox[2] - buffer, top=bbox[3] + buffer)\n",
    "mask = (((grid_xy_utm[..., 1] > bbox['bottom']) & (grid_xy_utm[..., 1] < bbox['top'])) &\n",
    "        ((grid_xy_utm[..., 0] > bbox['left']) & (grid_xy_utm[..., 0] < bbox['right'])))\n",
    "\n",
    "# Create vertices for each grid cell\n",
    "# (MUST BE DONE IN NATIVE COORDINATES)\n",
    "\n",
    "grdverts = wrl.zonalstats.grid_centers_to_vertices(x_rad_utm[mask],\n",
    "                                                   y_rad_utm[mask], 824,\n",
    "                                                   824)"
   ]
  },
  {
   "cell_type": "code",
   "execution_count": null,
   "metadata": {},
   "outputs": [],
   "source": []
  },
  {
   "cell_type": "code",
   "execution_count": 104,
   "metadata": {
    "scrolled": true
   },
   "outputs": [
    {
     "name": "stdout",
     "output_type": "stream",
     "text": [
      "1:58:33.221985\n"
     ]
    }
   ],
   "source": [
    "past = datetime.now()\n",
    "\n",
    "file_hour = '00'\n",
    "grid_p = np.zeros((900,900))\n",
    "\n",
    "for file in data:  \n",
    "    if file[-12:-10] == file_hour:\n",
    "        df = xr.open_dataset(file)\n",
    "        p_amount = df.sel(latitude=slice(45,36),longitude=slice(266,275))['unknown'].values\n",
    "        grid_p[:,:] = p_amount/30.0 + grid_p[:,:]\n",
    "    \n",
    "    else:\n",
    "        pd.DataFrame(grid_p).to_csv(f\"/gpfs/fs1/home/ac.jcorner/Rainfall/Data/MRMS/{day}_{month1}_{year}/one_hour_{file_hour}_agg.csv\")\n",
    "        file_hour = file[-12:-10]\n",
    "        grid_p = np.zeros((900,900))\n",
    "        df = xr.open_dataset(file)\n",
    "        p_amount = df.sel(latitude=slice(45,36),longitude=slice(266,275))['unknown'].values\n",
    "        grid_p[:,:] = p_amount/30.0 + grid_p[:,:]\n",
    "              \n",
    "pd.DataFrame(grid_p).to_csv(f\"/gpfs/fs1/home/ac.jcorner/Rainfall/Data/MRMS/{day}_{month1}_{year}/one_hour_{file_hour}_agg.csv\")        \n",
    "current = datetime.now()\n",
    "print(current - past)    "
   ]
  },
  {
   "cell_type": "code",
   "execution_count": 105,
   "metadata": {},
   "outputs": [],
   "source": [
    "csv = glob.glob(f'/gpfs/fs1/home/ac.jcorner/Rainfall/Data/MRMS/{day}_{month1}_{year}/*agg.csv')\n",
    "csv.sort()\n"
   ]
  },
  {
   "cell_type": "code",
   "execution_count": 106,
   "metadata": {},
   "outputs": [],
   "source": [
    "def data_agg(data_file_path):\n",
    "    \n",
    "    \"\"\"this is a function built so that MRMS data can be ran in parallel.\n",
    "    \n",
    "        data_file_path = the path for the data file\n",
    "        \n",
    "        returns csv that aggregates the MRMS file into the catchments.\"\"\"\n",
    "    \n",
    "    past = datetime.now()\n",
    "    df = pd.read_csv(data_file_path)\n",
    "    df = df.to_numpy()\n",
    "    df = df[:,1:]\n",
    "    \n",
    "    MRMS_data_agg = []\n",
    "    \n",
    "    hour = data_file_path[-10:-8]\n",
    "\n",
    "    with fiona.open(\"/gpfs/fs1/home/ac.jcorner/Rainfall/Data/city_detailed_utm/city_detailed_utm.shp\") as c:\n",
    "            for record in c:\n",
    "                amount = []\n",
    "                shape = shapely.geometry.shape(record['geometry'])\n",
    "\n",
    "\n",
    "\n",
    "                for count in range(y_rad_utm[1].size):\n",
    "                    for i in y_rad_utm[count]:\n",
    "                        if i >= bbox['bottom'] and i <= bbox['top'] :\n",
    "                            for j in x_rad_utm[count]:\n",
    "                                if j >= bbox['left'] and j <= bbox['right']:\n",
    "                                    point = shapely.geometry.Point(j, i)\n",
    "                                    if shape.contains(point):\n",
    "                                        x = np.where(x_rad_utm[count] == j)\n",
    "                                        y = np.where(y_rad_utm[count] == i)\n",
    "                                        amount.append(df[x[0],y[0]][0])\n",
    "                                        \n",
    "\n",
    "                if len(amount) > 0:\n",
    "                    maxi = np.max(amount)\n",
    "                    print(f\"catchment {record['id']} with the amount of {maxi} at {hour}.\")\n",
    "                    MRMS_data_agg.append(maxi)\n",
    "\n",
    "                else:\n",
    "                    print(f\"catchment {record['id']} with the amount of nan at {hour}.\")\n",
    "                    f_amount = np.average(amount)\n",
    "                    MRMS_data_agg.append(f_amount)\n",
    "\n",
    "    f = np.array(MRMS_data_agg)\n",
    "    df = pd.DataFrame(f)\n",
    "    \n",
    "    df.to_csv(f'/gpfs/fs1/home/ac.jcorner/Rainfall/MRMS_data_agg_{year}{month}{day}_{hour}.csv')\n",
    "    \n",
    "    email_alert('Done, Time To Talk To Scott', f'the script should be done now for {hour}', 'jeremy.corner1998@gmail.com')\n",
    "    \n",
    "    current = datetime.now()\n",
    "    print(current - past)\n",
    "    \n",
    "    return MRMS_data_agg"
   ]
  },
  {
   "cell_type": "code",
   "execution_count": 107,
   "metadata": {},
   "outputs": [
    {
     "name": "stdout",
     "output_type": "stream",
     "text": [
      "catchment 0 with the amount of 5.200000032782555 at 23.\n",
      "catchment 0 with the amount of 7.113333227112889 at 22.\n",
      "catchment 0 with the amount of 7.226666357368231 at 17.\n",
      "catchment 0 with the amount of 3.8266667015850544 at 10.catchment 0 with the amount of 0.9833333678543568 at 16.\n",
      "\n",
      "catchment 0 with the amount of 7.4599997801706195 at 18.\n",
      "catchment 0 with the amount of 5.856666540727019 at 21.\n",
      "catchment 0 with the amount of 0.0400000028312206 at 13.\n",
      "catchment 0 with the amount of 11.23666686564684 at 08.\n",
      "catchment 0 with the amount of 9.253333508968351 at 19.\n",
      "catchment 0 with the amount of 0.4399999985471368 at 14.\n",
      "catchment 0 with the amount of 0.1566666662693023 at 12.\n",
      "catchment 0 with the amount of 13.040000326931477 at 06.\n",
      "catchment 0 with the amount of 1.893333315849304 at 11.\n",
      "catchment 0 with the amount of 34.906665824353695 at 00.\n",
      "catchment 0 with the amount of 10.743333153426647 at 05.\n",
      "catchment 0 with the amount of 31.023332878947254 at 02.\n",
      "catchment 0 with the amount of 18.183333337306976 at 07.\n",
      "catchment 0 with the amount of 30.07333286292851 at 01.\n",
      "catchment 0 with the amount of 15.459999918937685 at 09.\n",
      "catchment 0 with the amount of 23.90666649863124 at 03.\n",
      "catchment 0 with the amount of 1.426666697487235 at 15.\n",
      "catchment 0 with the amount of 20.23333379626274 at 04.\n",
      "catchment 0 with the amount of 0.773333327844739 at 20.\n",
      "catchment 1 with the amount of nan at 23.\n"
     ]
    },
    {
     "name": "stderr",
     "output_type": "stream",
     "text": [
      "/home/ac.jcorner/anaconda3/envs/data/lib/python3.9/site-packages/numpy/lib/function_base.py:380: RuntimeWarning: Mean of empty slice.\n",
      "  avg = a.mean(axis)\n",
      "/home/ac.jcorner/anaconda3/envs/data/lib/python3.9/site-packages/numpy/core/_methods.py:189: RuntimeWarning: invalid value encountered in double_scalars\n",
      "  ret = ret.dtype.type(ret / rcount)\n"
     ]
    },
    {
     "name": "stdout",
     "output_type": "stream",
     "text": [
      "catchment 1 with the amount of nan at 22.\n",
      "catchment 1 with the amount of nan at 17.\n"
     ]
    },
    {
     "name": "stderr",
     "output_type": "stream",
     "text": [
      "/home/ac.jcorner/anaconda3/envs/data/lib/python3.9/site-packages/numpy/lib/function_base.py:380: RuntimeWarning: Mean of empty slice.\n",
      "  avg = a.mean(axis)\n",
      "/home/ac.jcorner/anaconda3/envs/data/lib/python3.9/site-packages/numpy/lib/function_base.py:380: RuntimeWarning: Mean of empty slice.\n",
      "  avg = a.mean(axis)\n",
      "/home/ac.jcorner/anaconda3/envs/data/lib/python3.9/site-packages/numpy/core/_methods.py:189: RuntimeWarning: invalid value encountered in double_scalars\n",
      "  ret = ret.dtype.type(ret / rcount)\n",
      "/home/ac.jcorner/anaconda3/envs/data/lib/python3.9/site-packages/numpy/core/_methods.py:189: RuntimeWarning: invalid value encountered in double_scalars\n",
      "  ret = ret.dtype.type(ret / rcount)\n"
     ]
    },
    {
     "name": "stdout",
     "output_type": "stream",
     "text": [
      "catchment 1 with the amount of nan at 16.\n"
     ]
    },
    {
     "name": "stderr",
     "output_type": "stream",
     "text": [
      "/home/ac.jcorner/anaconda3/envs/data/lib/python3.9/site-packages/numpy/lib/function_base.py:380: RuntimeWarning: Mean of empty slice.\n",
      "  avg = a.mean(axis)\n",
      "/home/ac.jcorner/anaconda3/envs/data/lib/python3.9/site-packages/numpy/core/_methods.py:189: RuntimeWarning: invalid value encountered in double_scalars\n",
      "  ret = ret.dtype.type(ret / rcount)\n"
     ]
    },
    {
     "name": "stdout",
     "output_type": "stream",
     "text": [
      "catchment 1 with the amount of nan at 18.\n"
     ]
    },
    {
     "name": "stderr",
     "output_type": "stream",
     "text": [
      "/home/ac.jcorner/anaconda3/envs/data/lib/python3.9/site-packages/numpy/lib/function_base.py:380: RuntimeWarning: Mean of empty slice.\n",
      "  avg = a.mean(axis)\n",
      "/home/ac.jcorner/anaconda3/envs/data/lib/python3.9/site-packages/numpy/core/_methods.py:189: RuntimeWarning: invalid value encountered in double_scalars\n",
      "  ret = ret.dtype.type(ret / rcount)\n"
     ]
    },
    {
     "name": "stdout",
     "output_type": "stream",
     "text": [
      "catchment 1 with the amount of nan at 10.\n"
     ]
    },
    {
     "name": "stderr",
     "output_type": "stream",
     "text": [
      "/home/ac.jcorner/anaconda3/envs/data/lib/python3.9/site-packages/numpy/lib/function_base.py:380: RuntimeWarning: Mean of empty slice.\n",
      "  avg = a.mean(axis)\n",
      "/home/ac.jcorner/anaconda3/envs/data/lib/python3.9/site-packages/numpy/core/_methods.py:189: RuntimeWarning: invalid value encountered in double_scalars\n",
      "  ret = ret.dtype.type(ret / rcount)\n"
     ]
    },
    {
     "name": "stdout",
     "output_type": "stream",
     "text": [
      "catchment 1 with the amount of nan at 19.\n"
     ]
    },
    {
     "name": "stderr",
     "output_type": "stream",
     "text": [
      "/home/ac.jcorner/anaconda3/envs/data/lib/python3.9/site-packages/numpy/lib/function_base.py:380: RuntimeWarning: Mean of empty slice.\n",
      "  avg = a.mean(axis)\n",
      "/home/ac.jcorner/anaconda3/envs/data/lib/python3.9/site-packages/numpy/core/_methods.py:189: RuntimeWarning: invalid value encountered in double_scalars\n",
      "  ret = ret.dtype.type(ret / rcount)\n"
     ]
    },
    {
     "name": "stdout",
     "output_type": "stream",
     "text": [
      "catchment 1 with the amount of nan at 13.\n"
     ]
    },
    {
     "name": "stderr",
     "output_type": "stream",
     "text": [
      "/home/ac.jcorner/anaconda3/envs/data/lib/python3.9/site-packages/numpy/lib/function_base.py:380: RuntimeWarning: Mean of empty slice.\n",
      "  avg = a.mean(axis)\n",
      "/home/ac.jcorner/anaconda3/envs/data/lib/python3.9/site-packages/numpy/core/_methods.py:189: RuntimeWarning: invalid value encountered in double_scalars\n",
      "  ret = ret.dtype.type(ret / rcount)\n"
     ]
    },
    {
     "name": "stdout",
     "output_type": "stream",
     "text": [
      "catchment 1 with the amount of nan at 08.\n"
     ]
    },
    {
     "name": "stderr",
     "output_type": "stream",
     "text": [
      "/home/ac.jcorner/anaconda3/envs/data/lib/python3.9/site-packages/numpy/lib/function_base.py:380: RuntimeWarning: Mean of empty slice.\n",
      "  avg = a.mean(axis)\n",
      "/home/ac.jcorner/anaconda3/envs/data/lib/python3.9/site-packages/numpy/core/_methods.py:189: RuntimeWarning: invalid value encountered in double_scalars\n",
      "  ret = ret.dtype.type(ret / rcount)\n"
     ]
    },
    {
     "name": "stdout",
     "output_type": "stream",
     "text": [
      "catchment 1 with the amount of nan at 12.\n"
     ]
    },
    {
     "name": "stderr",
     "output_type": "stream",
     "text": [
      "/home/ac.jcorner/anaconda3/envs/data/lib/python3.9/site-packages/numpy/lib/function_base.py:380: RuntimeWarning: Mean of empty slice.\n",
      "  avg = a.mean(axis)\n",
      "/home/ac.jcorner/anaconda3/envs/data/lib/python3.9/site-packages/numpy/core/_methods.py:189: RuntimeWarning: invalid value encountered in double_scalars\n",
      "  ret = ret.dtype.type(ret / rcount)\n"
     ]
    },
    {
     "name": "stdout",
     "output_type": "stream",
     "text": [
      "catchment 1 with the amount of nan at 21.\n"
     ]
    },
    {
     "name": "stderr",
     "output_type": "stream",
     "text": [
      "/home/ac.jcorner/anaconda3/envs/data/lib/python3.9/site-packages/numpy/lib/function_base.py:380: RuntimeWarning: Mean of empty slice.\n",
      "  avg = a.mean(axis)\n",
      "/home/ac.jcorner/anaconda3/envs/data/lib/python3.9/site-packages/numpy/core/_methods.py:189: RuntimeWarning: invalid value encountered in double_scalars\n",
      "  ret = ret.dtype.type(ret / rcount)\n"
     ]
    },
    {
     "name": "stdout",
     "output_type": "stream",
     "text": [
      "catchment 1 with the amount of nan at 11.\n"
     ]
    },
    {
     "name": "stderr",
     "output_type": "stream",
     "text": [
      "/home/ac.jcorner/anaconda3/envs/data/lib/python3.9/site-packages/numpy/lib/function_base.py:380: RuntimeWarning: Mean of empty slice.\n",
      "  avg = a.mean(axis)\n",
      "/home/ac.jcorner/anaconda3/envs/data/lib/python3.9/site-packages/numpy/core/_methods.py:189: RuntimeWarning: invalid value encountered in double_scalars\n",
      "  ret = ret.dtype.type(ret / rcount)\n"
     ]
    },
    {
     "name": "stdout",
     "output_type": "stream",
     "text": [
      "catchment 1 with the amount of nan at 06.\n"
     ]
    },
    {
     "name": "stderr",
     "output_type": "stream",
     "text": [
      "/home/ac.jcorner/anaconda3/envs/data/lib/python3.9/site-packages/numpy/lib/function_base.py:380: RuntimeWarning: Mean of empty slice.\n",
      "  avg = a.mean(axis)\n",
      "/home/ac.jcorner/anaconda3/envs/data/lib/python3.9/site-packages/numpy/core/_methods.py:189: RuntimeWarning: invalid value encountered in double_scalars\n",
      "  ret = ret.dtype.type(ret / rcount)\n"
     ]
    },
    {
     "name": "stdout",
     "output_type": "stream",
     "text": [
      "catchment 1 with the amount of nan at 14.\n"
     ]
    },
    {
     "name": "stderr",
     "output_type": "stream",
     "text": [
      "/home/ac.jcorner/anaconda3/envs/data/lib/python3.9/site-packages/numpy/lib/function_base.py:380: RuntimeWarning: Mean of empty slice.\n",
      "  avg = a.mean(axis)\n",
      "/home/ac.jcorner/anaconda3/envs/data/lib/python3.9/site-packages/numpy/core/_methods.py:189: RuntimeWarning: invalid value encountered in double_scalars\n",
      "  ret = ret.dtype.type(ret / rcount)\n"
     ]
    },
    {
     "name": "stdout",
     "output_type": "stream",
     "text": [
      "catchment 1 with the amount of nan at 05.\n"
     ]
    },
    {
     "name": "stderr",
     "output_type": "stream",
     "text": [
      "/home/ac.jcorner/anaconda3/envs/data/lib/python3.9/site-packages/numpy/lib/function_base.py:380: RuntimeWarning: Mean of empty slice.\n",
      "  avg = a.mean(axis)\n",
      "/home/ac.jcorner/anaconda3/envs/data/lib/python3.9/site-packages/numpy/core/_methods.py:189: RuntimeWarning: invalid value encountered in double_scalars\n",
      "  ret = ret.dtype.type(ret / rcount)\n"
     ]
    },
    {
     "name": "stdout",
     "output_type": "stream",
     "text": [
      "catchment 1 with the amount of nan at 09.\n"
     ]
    },
    {
     "name": "stderr",
     "output_type": "stream",
     "text": [
      "/home/ac.jcorner/anaconda3/envs/data/lib/python3.9/site-packages/numpy/lib/function_base.py:380: RuntimeWarning: Mean of empty slice.\n",
      "  avg = a.mean(axis)\n",
      "/home/ac.jcorner/anaconda3/envs/data/lib/python3.9/site-packages/numpy/core/_methods.py:189: RuntimeWarning: invalid value encountered in double_scalars\n",
      "  ret = ret.dtype.type(ret / rcount)\n"
     ]
    },
    {
     "name": "stdout",
     "output_type": "stream",
     "text": [
      "catchment 1 with the amount of nan at 00.\n"
     ]
    },
    {
     "name": "stderr",
     "output_type": "stream",
     "text": [
      "/home/ac.jcorner/anaconda3/envs/data/lib/python3.9/site-packages/numpy/lib/function_base.py:380: RuntimeWarning: Mean of empty slice.\n",
      "  avg = a.mean(axis)\n",
      "/home/ac.jcorner/anaconda3/envs/data/lib/python3.9/site-packages/numpy/core/_methods.py:189: RuntimeWarning: invalid value encountered in double_scalars\n",
      "  ret = ret.dtype.type(ret / rcount)\n"
     ]
    },
    {
     "name": "stdout",
     "output_type": "stream",
     "text": [
      "catchment 1 with the amount of nan at 07.\n"
     ]
    },
    {
     "name": "stderr",
     "output_type": "stream",
     "text": [
      "/home/ac.jcorner/anaconda3/envs/data/lib/python3.9/site-packages/numpy/lib/function_base.py:380: RuntimeWarning: Mean of empty slice.\n",
      "  avg = a.mean(axis)\n",
      "/home/ac.jcorner/anaconda3/envs/data/lib/python3.9/site-packages/numpy/core/_methods.py:189: RuntimeWarning: invalid value encountered in double_scalars\n",
      "  ret = ret.dtype.type(ret / rcount)\n"
     ]
    },
    {
     "name": "stdout",
     "output_type": "stream",
     "text": [
      "catchment 1 with the amount of nan at 01.\n"
     ]
    },
    {
     "name": "stderr",
     "output_type": "stream",
     "text": [
      "/home/ac.jcorner/anaconda3/envs/data/lib/python3.9/site-packages/numpy/lib/function_base.py:380: RuntimeWarning: Mean of empty slice.\n",
      "  avg = a.mean(axis)\n",
      "/home/ac.jcorner/anaconda3/envs/data/lib/python3.9/site-packages/numpy/core/_methods.py:189: RuntimeWarning: invalid value encountered in double_scalars\n",
      "  ret = ret.dtype.type(ret / rcount)\n"
     ]
    },
    {
     "name": "stdout",
     "output_type": "stream",
     "text": [
      "catchment 1 with the amount of nan at 02.\n"
     ]
    },
    {
     "name": "stderr",
     "output_type": "stream",
     "text": [
      "/home/ac.jcorner/anaconda3/envs/data/lib/python3.9/site-packages/numpy/lib/function_base.py:380: RuntimeWarning: Mean of empty slice.\n",
      "  avg = a.mean(axis)\n",
      "/home/ac.jcorner/anaconda3/envs/data/lib/python3.9/site-packages/numpy/core/_methods.py:189: RuntimeWarning: invalid value encountered in double_scalars\n",
      "  ret = ret.dtype.type(ret / rcount)\n"
     ]
    },
    {
     "name": "stdout",
     "output_type": "stream",
     "text": [
      "catchment 1 with the amount of nan at 03.\n"
     ]
    },
    {
     "name": "stderr",
     "output_type": "stream",
     "text": [
      "/home/ac.jcorner/anaconda3/envs/data/lib/python3.9/site-packages/numpy/lib/function_base.py:380: RuntimeWarning: Mean of empty slice.\n",
      "  avg = a.mean(axis)\n",
      "/home/ac.jcorner/anaconda3/envs/data/lib/python3.9/site-packages/numpy/core/_methods.py:189: RuntimeWarning: invalid value encountered in double_scalars\n",
      "  ret = ret.dtype.type(ret / rcount)\n"
     ]
    },
    {
     "name": "stdout",
     "output_type": "stream",
     "text": [
      "catchment 1 with the amount of nan at 15.\n"
     ]
    },
    {
     "name": "stderr",
     "output_type": "stream",
     "text": [
      "/home/ac.jcorner/anaconda3/envs/data/lib/python3.9/site-packages/numpy/lib/function_base.py:380: RuntimeWarning: Mean of empty slice.\n",
      "  avg = a.mean(axis)\n",
      "/home/ac.jcorner/anaconda3/envs/data/lib/python3.9/site-packages/numpy/core/_methods.py:189: RuntimeWarning: invalid value encountered in double_scalars\n",
      "  ret = ret.dtype.type(ret / rcount)\n"
     ]
    },
    {
     "name": "stdout",
     "output_type": "stream",
     "text": [
      "catchment 1 with the amount of nan at 04.\n"
     ]
    },
    {
     "name": "stderr",
     "output_type": "stream",
     "text": [
      "/home/ac.jcorner/anaconda3/envs/data/lib/python3.9/site-packages/numpy/lib/function_base.py:380: RuntimeWarning: Mean of empty slice.\n",
      "  avg = a.mean(axis)\n",
      "/home/ac.jcorner/anaconda3/envs/data/lib/python3.9/site-packages/numpy/core/_methods.py:189: RuntimeWarning: invalid value encountered in double_scalars\n",
      "  ret = ret.dtype.type(ret / rcount)\n"
     ]
    },
    {
     "name": "stdout",
     "output_type": "stream",
     "text": [
      "catchment 1 with the amount of nan at 20.\n"
     ]
    },
    {
     "name": "stderr",
     "output_type": "stream",
     "text": [
      "/home/ac.jcorner/anaconda3/envs/data/lib/python3.9/site-packages/numpy/lib/function_base.py:380: RuntimeWarning: Mean of empty slice.\n",
      "  avg = a.mean(axis)\n",
      "/home/ac.jcorner/anaconda3/envs/data/lib/python3.9/site-packages/numpy/core/_methods.py:189: RuntimeWarning: invalid value encountered in double_scalars\n",
      "  ret = ret.dtype.type(ret / rcount)\n"
     ]
    },
    {
     "name": "stdout",
     "output_type": "stream",
     "text": [
      "catchment 2 with the amount of nan at 23.\n",
      "catchment 2 with the amount of nan at 16.\n",
      "catchment 2 with the amount of nan at 17.\n",
      "catchment 2 with the amount of nan at 22.\n",
      "catchment 2 with the amount of nan at 18.\n",
      "catchment 2 with the amount of nan at 10.\n",
      "catchment 2 with the amount of nan at 19.\n",
      "catchment 2 with the amount of nan at 11.\n",
      "catchment 2 with the amount of nan at 21.\n",
      "catchment 2 with the amount of nan at 08.\n",
      "catchment 2 with the amount of nan at 13.\n",
      "catchment 2 with the amount of nan at 06.\n",
      "catchment 2 with the amount of nan at 12.\n",
      "catchment 2 with the amount of nan at 09.\n",
      "catchment 2 with the amount of nan at 05.\n",
      "catchment 2 with the amount of nan at 14.\n",
      "catchment 2 with the amount of nan at 00.\n",
      "catchment 2 with the amount of nan at 01.\n",
      "catchment 2 with the amount of nan at 02.\n",
      "catchment 2 with the amount of nan at 07.\n",
      "catchment 2 with the amount of nan at 03.\n",
      "catchment 2 with the amount of nan at 15.\n",
      "catchment 2 with the amount of nan at 04.\n",
      "catchment 2 with the amount of nan at 20.\n",
      "catchment 3 with the amount of 4.116666669026017 at 23.\n",
      "catchment 3 with the amount of 0.7533333534374833 at 16.\n",
      "catchment 3 with the amount of 15.406666541472076 at 22.\n",
      "catchment 3 with the amount of 0.6200000252574682 at 17.\n",
      "catchment 3 with the amount of 7.390000073239207 at 18.\n",
      "catchment 3 with the amount of 7.373333258554339 at 10.\n",
      "catchment 3 with the amount of 9.086666621267796 at 19.\n",
      "catchment 3 with the amount of 9.576666668057442 at 21.\n",
      "catchment 3 with the amount of 0.7833333434537053 at 11.\n",
      "catchment 3 with the amount of 7.606666702777147 at 08.\n",
      "catchment 3 with the amount of 0.0366666689515113 at 13.\n",
      "catchment 3 with the amount of 6.480000007897615 at 06.\n",
      "catchment 3 with the amount of 5.716666764579713 at 09.\n",
      "catchment 3 with the amount of 0.063333336263895 at 12.\n",
      "catchment 3 with the amount of 26.266666498035192 at 05.\n",
      "catchment 3 with the amount of 0.3266666755080223 at 14.\n",
      "catchment 3 with the amount of 23.65333309955895 at 00.\n",
      "catchment 3 with the amount of 29.909999698400497 at 02.\n",
      "catchment 3 with the amount of 40.30333295091987 at 01.\n",
      "catchment 3 with the amount of 17.696666833013296 at 07.\n",
      "catchment 3 with the amount of 24.563333235681057 at 03.\n",
      "catchment 3 with the amount of 1.1666667023673654 at 15.\n",
      "catchment 3 with the amount of 14.383333273231983 at 04.\n",
      "catchment 3 with the amount of 1.346666693687439 at 20.\n",
      "catchment 4 with the amount of 15.406666541472076 at 22.\n",
      "catchment 4 with the amount of 0.7533333534374833 at 16.\n",
      "catchment 4 with the amount of 7.390000073239207 at 18.\n",
      "catchment 4 with the amount of 0.6200000252574682 at 17.\n",
      "catchment 4 with the amount of 7.373333258554339 at 10.\n",
      "catchment 4 with the amount of 9.086666621267796 at 19.\n",
      "catchment 4 with the amount of 9.576666668057442 at 21.\n",
      "catchment 4 with the amount of 0.7833333434537053 at 11.\n",
      "catchment 4 with the amount of 7.606666702777147 at 08.\n",
      "catchment 4 with the amount of 0.0366666689515113 at 13.\n",
      "catchment 4 with the amount of 6.480000007897615 at 06.\n",
      "catchment 4 with the amount of 5.716666764579713 at 09.\n",
      "catchment 4 with the amount of 0.063333336263895 at 12.\n",
      "catchment 4 with the amount of 26.266666498035192 at 05.\n",
      "catchment 4 with the amount of 0.3266666755080223 at 14.\n",
      "catchment 4 with the amount of 23.65333309955895 at 00.\n",
      "catchment 4 with the amount of 29.909999698400497 at 02.\n",
      "catchment 4 with the amount of 40.30333295091987 at 01.\n",
      "catchment 4 with the amount of 17.696666833013296 at 07.\n",
      "catchment 4 with the amount of 4.116666669026017 at 23.\n",
      "catchment 4 with the amount of 24.563333235681057 at 03.\n",
      "catchment 4 with the amount of 1.1666667023673654 at 15.\n",
      "catchment 4 with the amount of 14.383333273231983 at 04.\n",
      "catchment 4 with the amount of 1.346666693687439 at 20.\n",
      "catchment 5 with the amount of 11.629999917931857 at 22.\n",
      "catchment 5 with the amount of 0.8566666767001152 at 16.\n",
      "catchment 5 with the amount of 11.069999858736992 at 18.\n",
      "catchment 5 with the amount of 2.070000022649765 at 17.\n",
      "catchment 5 with the amount of 3.6799999959766874 at 10.\n",
      "catchment 5 with the amount of 7.060000043362379 at 19.\n",
      "catchment 5 with the amount of 2.593333300203085 at 11.\n",
      "catchment 5 with the amount of 5.763333320617676 at 21.\n",
      "catchment 5 with the amount of 10.45333331823349 at 08.\n",
      "catchment 5 with the amount of 0.0700000040233135 at 13.\n",
      "catchment 5 with the amount of 7.616666693240404 at 06.\n",
      "catchment 5 with the amount of 7.973333358764648 at 09.\n",
      "catchment 5 with the amount of 0.2266666740179062 at 12.\n",
      "catchment 5 with the amount of 0.3666666746139526 at 14.\n",
      "catchment 5 with the amount of 30.49666614644229 at 00.\n",
      "catchment 5 with the amount of 16.186666671186686 at 05.\n",
      "catchment 5 with the amount of 37.44000026583672 at 02.\n",
      "catchment 5 with the amount of 31.319999795407057 at 01.\n",
      "catchment 5 with the amount of 19.300000183284283 at 07.\n",
      "catchment 5 with the amount of 30.89666697382927 at 03.\n",
      "catchment 5 with the amount of 5.7866669036448 at 23.\n",
      "catchment 5 with the amount of 1.2133333599194884 at 15.\n",
      "catchment 5 with the amount of 21.17333352565765 at 04.\n",
      "catchment 5 with the amount of 7.509999990463257 at 20.\n",
      "catchment 6 with the amount of 11.629999917931857 at 22.\n",
      "catchment 6 with the amount of 0.8566666767001152 at 16.\n",
      "catchment 6 with the amount of 2.070000022649765 at 17.\n",
      "catchment 6 with the amount of 11.069999858736992 at 18.\n",
      "catchment 6 with the amount of 3.6799999959766874 at 10.\n",
      "catchment 6 with the amount of 7.060000043362379 at 19.\n",
      "catchment 6 with the amount of 5.763333320617676 at 21.\n",
      "catchment 6 with the amount of 2.593333300203085 at 11.\n",
      "catchment 6 with the amount of 7.616666693240404 at 06.\n",
      "catchment 6 with the amount of 10.45333331823349 at 08.\n",
      "catchment 6 with the amount of 0.0700000040233135 at 13.\n",
      "catchment 6 with the amount of 7.973333358764648 at 09.\n",
      "catchment 6 with the amount of 0.2266666740179062 at 12.\n",
      "catchment 6 with the amount of 30.49666614644229 at 00.\n",
      "catchment 6 with the amount of 0.3666666746139526 at 14.\n",
      "catchment 6 with the amount of 16.186666671186686 at 05.\n",
      "catchment 6 with the amount of 37.44000026583672 at 02.\n",
      "catchment 6 with the amount of 31.319999795407057 at 01.\n",
      "catchment 6 with the amount of 19.300000183284283 at 07.\n",
      "catchment 6 with the amount of 30.89666697382927 at 03.\n",
      "catchment 6 with the amount of 5.7866669036448 at 23.\n",
      "catchment 6 with the amount of 1.2133333599194884 at 15.\n",
      "catchment 6 with the amount of 7.509999990463257 at 20.\n",
      "catchment 6 with the amount of 21.17333352565765 at 04.\n",
      "catchment 7 with the amount of 14.459999934770169 at 22.\n",
      "catchment 7 with the amount of 0.5433333460241556 at 16.\n",
      "catchment 7 with the amount of 3.036666611209512 at 17.\n",
      "catchment 7 with the amount of 10.706666631624104 at 18.\n",
      "catchment 7 with the amount of 3.1333334278315306 at 10.\n",
      "catchment 7 with the amount of 9.336666584014893 at 19.\n",
      "catchment 7 with the amount of 16.63333347439766 at 06.\n",
      "catchment 7 with the amount of 3.720000024884939 at 11.\n",
      "catchment 7 with the amount of 9.03333339933306 at 21.\n",
      "catchment 7 with the amount of 11.456666767597198 at 08.\n",
      "catchment 7 with the amount of 0.0400000028312206 at 13.\n",
      "catchment 7 with the amount of 5.503333315253258 at 09.\n",
      "catchment 7 with the amount of 0.4333333373069763 at 12.\n",
      "catchment 7 with the amount of 44.01333328615874 at 00.\n",
      "catchment 7 with the amount of 36.95000046864152 at 02.\n",
      "catchment 7 with the amount of 33.59999980777502 at 01.\n",
      "catchment 7 with the amount of 0.326666671782732 at 14.\n",
      "catchment 7 with the amount of 11.48666699230671 at 05.\n",
      "catchment 7 with the amount of 18.356666704639792 at 07.\n",
      "catchment 7 with the amount of 30.883333444595337 at 03.\n",
      "catchment 7 with the amount of 1.4799999129027128 at 20.\n",
      "catchment 7 with the amount of 1.673333376646042 at 15.\n",
      "catchment 7 with the amount of 2.4233333710581064 at 23.\n",
      "catchment 7 with the amount of 12.06333328783512 at 04.\n",
      "catchment 8 with the amount of 14.459999934770169 at 22.\n",
      "catchment 8 with the amount of 3.036666611209512 at 17.\n",
      "catchment 8 with the amount of 0.5433333460241556 at 16.\n",
      "catchment 8 with the amount of 3.1333334278315306 at 10.\n",
      "catchment 8 with the amount of 10.706666631624104 at 18.\n",
      "catchment 8 with the amount of 9.336666584014893 at 19.\n",
      "catchment 8 with the amount of 16.63333347439766 at 06.\n",
      "catchment 8 with the amount of 3.720000024884939 at 11.\n",
      "catchment 8 with the amount of 11.456666767597198 at 08.\n",
      "catchment 8 with the amount of 9.03333339933306 at 21.\n",
      "catchment 8 with the amount of 0.0400000028312206 at 13.\n",
      "catchment 8 with the amount of 5.503333315253258 at 09.\n",
      "catchment 8 with the amount of 0.4333333373069763 at 12.\n",
      "catchment 8 with the amount of 44.01333328615874 at 00.\n",
      "catchment 8 with the amount of 33.59999980777502 at 01.\n",
      "catchment 8 with the amount of 0.326666671782732 at 14.\n",
      "catchment 8 with the amount of 18.356666704639792 at 07.\n",
      "catchment 8 with the amount of 36.95000046864152 at 02.\n",
      "catchment 8 with the amount of 11.48666699230671 at 05.\n",
      "catchment 8 with the amount of 30.883333444595337 at 03.\n",
      "catchment 8 with the amount of 1.4799999129027128 at 20.\n",
      "catchment 8 with the amount of 1.673333376646042 at 15.\n",
      "catchment 8 with the amount of 2.4233333710581064 at 23.\n",
      "catchment 8 with the amount of 12.06333328783512 at 04.\n",
      "catchment 9 with the amount of 0.1400000043213367 at 22.\n",
      "catchment 9 with the amount of 2.3466666508466005 at 17.\n",
      "catchment 9 with the amount of 0.8366666827350855 at 16.\n",
      "catchment 9 with the amount of 4.270000137388706 at 10.\n",
      "catchment 9 with the amount of 0.0 at 18.\n",
      "catchment 9 with the amount of 7.456666704267263 at 06.\n",
      "catchment 9 with the amount of 8.399999916553497 at 19.\n",
      "catchment 9 with the amount of 1.2733333483338356 at 11.\n",
      "catchment 9 with the amount of 11.933333322405815 at 08.\n",
      "catchment 9 with the amount of 6.413333408534527 at 21.\n",
      "catchment 9 with the amount of 0.0433333348482847 at 13.\n",
      "catchment 9 with the amount of 6.520000070333481 at 09.\n",
      "catchment 9 with the amount of 0.2066666707396507 at 12.\n",
      "catchment 9 with the amount of 18.84666684269905 at 00.\n",
      "catchment 9 with the amount of 32.98000033944845 at 01.\n",
      "catchment 9 with the amount of 13.026666641235352 at 07.\n",
      "catchment 9 with the amount of 0.5533333458006382 at 14.\n",
      "catchment 9 with the amount of 32.96999999880791 at 02.\n",
      "catchment 9 with the amount of 6.340000037103891 at 05.\n",
      "catchment 9 with the amount of 32.54666644334793 at 03.\n",
      "catchment 9 with the amount of 2.4900000877678394 at 20.\n",
      "catchment 9 with the amount of 1.2433333545923233 at 15.\n",
      "catchment 9 with the amount of 10.446666810661554 at 04.\n",
      "catchment 9 with the amount of 0.0 at 23.\n",
      "catchment 10 with the amount of 0.1400000043213367 at 22.\n",
      "catchment 10 with the amount of 2.3466666508466005 at 17.\n",
      "catchment 10 with the amount of 0.8366666827350855 at 16.\n",
      "catchment 10 with the amount of 4.270000137388706 at 10.\n",
      "catchment 10 with the amount of 0.0 at 18.\n",
      "catchment 10 with the amount of 7.456666704267263 at 06.\n",
      "catchment 10 with the amount of 8.399999916553497 at 19.\n",
      "catchment 10 with the amount of 1.2733333483338356 at 11.\n",
      "catchment 10 with the amount of 11.933333322405815 at 08.\n",
      "catchment 10 with the amount of 6.413333408534527 at 21.\n",
      "catchment 10 with the amount of 6.520000070333481 at 09.\n",
      "catchment 10 with the amount of 0.0433333348482847 at 13.\n",
      "catchment 10 with the amount of 0.2066666707396507 at 12.\n",
      "catchment 10 with the amount of 18.84666684269905 at 00.\n",
      "catchment 10 with the amount of 32.98000033944845 at 01.\n",
      "catchment 10 with the amount of 13.026666641235352 at 07.\n",
      "catchment 10 with the amount of 32.96999999880791 at 02.\n",
      "catchment 10 with the amount of 0.5533333458006382 at 14.\n",
      "catchment 10 with the amount of 6.340000037103891 at 05.\n",
      "catchment 10 with the amount of 32.54666644334793 at 03.\n",
      "catchment 10 with the amount of 2.4900000877678394 at 20.\n",
      "catchment 10 with the amount of 1.2433333545923233 at 15.\n",
      "catchment 10 with the amount of 10.446666810661554 at 04.\n",
      "catchment 10 with the amount of 0.0 at 23.\n"
     ]
    },
    {
     "name": "stderr",
     "output_type": "stream",
     "text": [
      "Process Process-46:\n",
      "Exception ignored in: Process Process-48:\n",
      "Exception ignored in: Exception ignored in: <function BaseGeometry.__del__ at 0x2aeba329c550>Process Process-43:\n",
      "Process Process-41:\n",
      "<function BaseGeometry.__del__ at 0x2aeba329c550>Process Process-45:\n",
      "Process Process-33:\n",
      "Process Process-47:\n",
      "Process Process-32:\n",
      "Process Process-31:\n",
      "Process Process-42:\n",
      "Process Process-37:\n",
      "Process Process-36:\n",
      "Process Process-30:\n",
      "Process Process-35:\n",
      "<function BaseGeometry.__del__ at 0x2aeba329c550>\n",
      "Exception ignored in: Process Process-26:\n",
      "\n",
      "Process Process-27:\n",
      "Process Process-28:\n",
      "Process Process-39:\n",
      "\n",
      "<function BaseGeometry.__del__ at 0x2aeba329c550>Traceback (most recent call last):\n",
      "Traceback (most recent call last):\n",
      "Process Process-25:\n",
      "Traceback (most recent call last):\n",
      "  File \"/home/ac.jcorner/anaconda3/envs/data/lib/python3.9/site-packages/shapely/geometry/base.py\", line 209, in __del__\n",
      "  File \"/home/ac.jcorner/anaconda3/envs/data/lib/python3.9/site-packages/shapely/geometry/base.py\", line 209, in __del__\n",
      "\n",
      "  File \"/home/ac.jcorner/anaconda3/envs/data/lib/python3.9/site-packages/shapely/geometry/base.py\", line 209, in __del__\n",
      "Traceback (most recent call last):\n",
      "  File \"/home/ac.jcorner/anaconda3/envs/data/lib/python3.9/site-packages/shapely/geometry/base.py\", line 209, in __del__\n",
      "Exception ignored in: <function BaseGeometry.__del__ at 0x2aeba329c550>\n",
      "Traceback (most recent call last):\n",
      "  File \"/home/ac.jcorner/anaconda3/envs/data/lib/python3.9/site-packages/shapely/geometry/base.py\", line 210, in __del__\n",
      "Traceback (most recent call last):\n",
      "  File \"/home/ac.jcorner/anaconda3/envs/data/lib/python3.9/multiprocessing/process.py\", line 315, in _bootstrap\n",
      "    self.run()\n",
      "Traceback (most recent call last):\n",
      "Traceback (most recent call last):\n",
      "Traceback (most recent call last):\n",
      "Traceback (most recent call last):\n",
      "Traceback (most recent call last):\n",
      "  File \"/home/ac.jcorner/anaconda3/envs/data/lib/python3.9/multiprocessing/process.py\", line 108, in run\n",
      "    self._target(*self._args, **self._kwargs)\n",
      "Traceback (most recent call last):\n",
      "Traceback (most recent call last):\n",
      "Traceback (most recent call last):\n",
      "Traceback (most recent call last):\n",
      "Traceback (most recent call last):\n",
      "Traceback (most recent call last):\n",
      "  File \"/home/ac.jcorner/anaconda3/envs/data/lib/python3.9/multiprocessing/process.py\", line 315, in _bootstrap\n",
      "    self.run()\n",
      "Traceback (most recent call last):\n",
      "Traceback (most recent call last):\n",
      "  File \"/home/ac.jcorner/anaconda3/envs/data/lib/python3.9/multiprocessing/process.py\", line 315, in _bootstrap\n",
      "    self.run()\n",
      "  File \"/home/ac.jcorner/anaconda3/envs/data/lib/python3.9/multiprocessing/process.py\", line 315, in _bootstrap\n",
      "    self.run()\n",
      "Traceback (most recent call last):\n",
      "  File \"/home/ac.jcorner/anaconda3/envs/data/lib/python3.9/multiprocessing/process.py\", line 315, in _bootstrap\n",
      "    self.run()\n",
      "Traceback (most recent call last):\n",
      "  File \"/tmp/ipykernel_22819/2526830807.py\", line 30, in data_agg\n",
      "    point = shapely.geometry.Point(j, i)\n",
      "Traceback (most recent call last):\n",
      "  File \"/home/ac.jcorner/anaconda3/envs/data/lib/python3.9/multiprocessing/process.py\", line 315, in _bootstrap\n",
      "    self.run()\n",
      "  File \"/home/ac.jcorner/anaconda3/envs/data/lib/python3.9/multiprocessing/process.py\", line 315, in _bootstrap\n",
      "    self.run()\n",
      "  File \"/home/ac.jcorner/anaconda3/envs/data/lib/python3.9/multiprocessing/process.py\", line 315, in _bootstrap\n",
      "    self.run()\n",
      "  File \"/home/ac.jcorner/anaconda3/envs/data/lib/python3.9/multiprocessing/process.py\", line 315, in _bootstrap\n",
      "    self.run()\n",
      "  File \"/home/ac.jcorner/anaconda3/envs/data/lib/python3.9/multiprocessing/process.py\", line 315, in _bootstrap\n",
      "    self.run()\n",
      "                  File \"/home/ac.jcorner/anaconda3/envs/data/lib/python3.9/multiprocessing/process.py\", line 315, in _bootstrap\n",
      "    self.run()\n",
      "  File \"/home/ac.jcorner/anaconda3/envs/data/lib/python3.9/multiprocessing/process.py\", line 108, in run\n",
      "    self._target(*self._args, **self._kwargs)\n",
      "      File \"/home/ac.jcorner/anaconda3/envs/data/lib/python3.9/multiprocessing/process.py\", line 315, in _bootstrap\n",
      "    self.run()\n",
      "  File \"/home/ac.jcorner/anaconda3/envs/data/lib/python3.9/multiprocessing/process.py\", line 315, in _bootstrap\n",
      "    self.run()\n",
      "  File \"/home/ac.jcorner/anaconda3/envs/data/lib/python3.9/multiprocessing/process.py\", line 315, in _bootstrap\n",
      "    self.run()\n",
      "  File \"/home/ac.jcorner/anaconda3/envs/data/lib/python3.9/multiprocessing/process.py\", line 108, in run\n",
      "    self._target(*self._args, **self._kwargs)\n",
      "  File \"/home/ac.jcorner/anaconda3/envs/data/lib/python3.9/multiprocessing/process.py\", line 108, in run\n",
      "    self._target(*self._args, **self._kwargs)\n",
      "  File \"/home/ac.jcorner/anaconda3/envs/data/lib/python3.9/multiprocessing/process.py\", line 108, in run\n",
      "    self._target(*self._args, **self._kwargs)\n",
      "  File \"/home/ac.jcorner/anaconda3/envs/data/lib/python3.9/multiprocessing/process.py\", line 315, in _bootstrap\n",
      "    self.run()\n",
      "  File \"/home/ac.jcorner/anaconda3/envs/data/lib/python3.9/site-packages/shapely/geometry/point.py\", line 58, in __init__\n",
      "    self._set_geom(geom)\n",
      "  File \"/home/ac.jcorner/anaconda3/envs/data/lib/python3.9/multiprocessing/process.py\", line 315, in _bootstrap\n",
      "    self.run()\n",
      "  File \"/home/ac.jcorner/anaconda3/envs/data/lib/python3.9/multiprocessing/process.py\", line 108, in run\n",
      "    self._target(*self._args, **self._kwargs)\n",
      "  File \"/home/ac.jcorner/anaconda3/envs/data/lib/python3.9/multiprocessing/process.py\", line 315, in _bootstrap\n",
      "    self.run()\n",
      "  File \"/home/ac.jcorner/anaconda3/envs/data/lib/python3.9/multiprocessing/process.py\", line 108, in run\n",
      "    self._target(*self._args, **self._kwargs)\n",
      "  File \"/home/ac.jcorner/anaconda3/envs/data/lib/python3.9/multiprocessing/process.py\", line 108, in run\n",
      "    self._target(*self._args, **self._kwargs)\n",
      "  File \"/home/ac.jcorner/anaconda3/envs/data/lib/python3.9/multiprocessing/process.py\", line 108, in run\n",
      "    self._target(*self._args, **self._kwargs)\n",
      "  File \"/home/ac.jcorner/anaconda3/envs/data/lib/python3.9/multiprocessing/process.py\", line 108, in run\n",
      "    self._target(*self._args, **self._kwargs)\n",
      "self.__p__ = Noneself._empty(val=None)self._empty(val=None)self._empty(val=None)  File \"/home/ac.jcorner/anaconda3/envs/data/lib/python3.9/multiprocessing/process.py\", line 108, in run\n",
      "    self._target(*self._args, **self._kwargs)\n",
      "  File \"/tmp/ipykernel_22819/2526830807.py\", line 30, in data_agg\n",
      "    point = shapely.geometry.Point(j, i)\n",
      "self._empty(val=None)  File \"/home/ac.jcorner/anaconda3/envs/data/lib/python3.9/multiprocessing/process.py\", line 108, in run\n",
      "    self._target(*self._args, **self._kwargs)\n",
      "  File \"/home/ac.jcorner/anaconda3/envs/data/lib/python3.9/multiprocessing/process.py\", line 108, in run\n",
      "    self._target(*self._args, **self._kwargs)\n",
      "  File \"/home/ac.jcorner/anaconda3/envs/data/lib/python3.9/multiprocessing/process.py\", line 108, in run\n",
      "    self._target(*self._args, **self._kwargs)\n",
      "  File \"/tmp/ipykernel_22819/2526830807.py\", line 30, in data_agg\n",
      "    point = shapely.geometry.Point(j, i)\n",
      "  File \"/tmp/ipykernel_22819/2526830807.py\", line 30, in data_agg\n",
      "    point = shapely.geometry.Point(j, i)\n",
      "  File \"/home/ac.jcorner/anaconda3/envs/data/lib/python3.9/multiprocessing/process.py\", line 108, in run\n",
      "    self._target(*self._args, **self._kwargs)\n",
      "  File \"/home/ac.jcorner/anaconda3/envs/data/lib/python3.9/site-packages/shapely/geometry/base.py\", line 241, in _set_geom\n",
      "    self._empty()\n",
      "  File \"/tmp/ipykernel_22819/2526830807.py\", line 30, in data_agg\n",
      "    point = shapely.geometry.Point(j, i)\n",
      "  File \"/tmp/ipykernel_22819/2526830807.py\", line 29, in data_agg\n",
      "    if j >= bbox['left'] and j <= bbox['right']:\n",
      "  File \"/home/ac.jcorner/anaconda3/envs/data/lib/python3.9/multiprocessing/process.py\", line 108, in run\n",
      "    self._target(*self._args, **self._kwargs)\n",
      "  File \"/tmp/ipykernel_22819/2526830807.py\", line 29, in data_agg\n",
      "    if j >= bbox['left'] and j <= bbox['right']:\n",
      "  File \"/home/ac.jcorner/anaconda3/envs/data/lib/python3.9/multiprocessing/process.py\", line 108, in run\n",
      "    self._target(*self._args, **self._kwargs)\n",
      "  File \"/tmp/ipykernel_22819/2526830807.py\", line 29, in data_agg\n",
      "    if j >= bbox['left'] and j <= bbox['right']:\n",
      "  File \"/tmp/ipykernel_22819/2526830807.py\", line 30, in data_agg\n",
      "    point = shapely.geometry.Point(j, i)\n"
     ]
    },
    {
     "name": "stderr",
     "output_type": "stream",
     "text": [
      "  File \"/tmp/ipykernel_22819/2526830807.py\", line 30, in data_agg\n",
      "    point = shapely.geometry.Point(j, i)\n",
      "\n",
      "\n",
      "\n",
      "  File \"/tmp/ipykernel_22819/2526830807.py\", line 28, in data_agg\n",
      "    for j in x_rad_utm[count]:\n",
      "\n",
      "  File \"/home/ac.jcorner/anaconda3/envs/data/lib/python3.9/site-packages/shapely/geometry/point.py\", line 58, in __init__\n",
      "    self._set_geom(geom)\n",
      "\n",
      "  File \"/tmp/ipykernel_22819/2526830807.py\", line 30, in data_agg\n",
      "    point = shapely.geometry.Point(j, i)\n",
      "  File \"/tmp/ipykernel_22819/2526830807.py\", line 30, in data_agg\n",
      "    point = shapely.geometry.Point(j, i)\n",
      "  File \"/tmp/ipykernel_22819/2526830807.py\", line 30, in data_agg\n",
      "    point = shapely.geometry.Point(j, i)\n",
      "  File \"/home/ac.jcorner/anaconda3/envs/data/lib/python3.9/site-packages/shapely/geometry/point.py\", line 58, in __init__\n",
      "    self._set_geom(geom)\n",
      "  File \"/home/ac.jcorner/anaconda3/envs/data/lib/python3.9/site-packages/shapely/geometry/point.py\", line 57, in __init__\n",
      "    geom, n = geos_point_from_py(tuple(args))\n",
      "  File \"/tmp/ipykernel_22819/2526830807.py\", line 31, in data_agg\n",
      "    if shape.contains(point):\n",
      "  File \"/home/ac.jcorner/anaconda3/envs/data/lib/python3.9/site-packages/shapely/geometry/base.py\", line 200, in _empty\n",
      "    self.__geom__ = val\n",
      "KeyboardInterrupt\n",
      "  File \"/home/ac.jcorner/anaconda3/envs/data/lib/python3.9/site-packages/shapely/geometry/point.py\", line 57, in __init__\n",
      "    geom, n = geos_point_from_py(tuple(args))\n",
      "  File \"/tmp/ipykernel_22819/2526830807.py\", line 30, in data_agg\n",
      "    point = shapely.geometry.Point(j, i)\n",
      "KeyboardInterrupt\n",
      "KeyboardInterrupt\n",
      "  File \"/tmp/ipykernel_22819/2526830807.py\", line 30, in data_agg\n",
      "    point = shapely.geometry.Point(j, i)\n",
      "  File \"/home/ac.jcorner/anaconda3/envs/data/lib/python3.9/site-packages/shapely/geometry/point.py\", line 57, in __init__\n",
      "    geom, n = geos_point_from_py(tuple(args))\n",
      "  File \"/home/ac.jcorner/anaconda3/envs/data/lib/python3.9/site-packages/shapely/geometry/point.py\", line 59, in __init__\n",
      "    self._ndim = n\n",
      "  File \"/home/ac.jcorner/anaconda3/envs/data/lib/python3.9/site-packages/shapely/geometry/base.py\", line 249, in __setattr__\n",
      "  File \"/home/ac.jcorner/anaconda3/envs/data/lib/python3.9/site-packages/shapely/geometry/base.py\", line 200, in _empty\n",
      "  File \"/home/ac.jcorner/anaconda3/envs/data/lib/python3.9/site-packages/shapely/geometry/base.py\", line 200, in _empty\n",
      "KeyboardInterrupt\n",
      "  File \"/home/ac.jcorner/anaconda3/envs/data/lib/python3.9/site-packages/shapely/geometry/base.py\", line 241, in _set_geom\n",
      "    self._empty()\n",
      "  File \"/home/ac.jcorner/anaconda3/envs/data/lib/python3.9/site-packages/shapely/geometry/base.py\", line 194, in _empty\n",
      "  File \"/home/ac.jcorner/anaconda3/envs/data/lib/python3.9/site-packages/shapely/geometry/base.py\", line 199, in _empty\n",
      "  File \"/home/ac.jcorner/anaconda3/envs/data/lib/python3.9/site-packages/shapely/geometry/point.py\", line 58, in __init__\n",
      "    self._set_geom(geom)\n",
      "  File \"/home/ac.jcorner/anaconda3/envs/data/lib/python3.9/site-packages/shapely/geometry/point.py\", line 57, in __init__\n",
      "    geom, n = geos_point_from_py(tuple(args))\n",
      "  File \"/home/ac.jcorner/anaconda3/envs/data/lib/python3.9/site-packages/shapely/geometry/point.py\", line 58, in __init__\n",
      "    self._set_geom(geom)\n",
      "  File \"/home/ac.jcorner/anaconda3/envs/data/lib/python3.9/site-packages/shapely/geometry/base.py\", line 241, in _set_geom\n",
      "    self._empty()\n",
      "  File \"/home/ac.jcorner/anaconda3/envs/data/lib/python3.9/site-packages/shapely/geometry/point.py\", line 278, in geos_point_from_py\n",
      "    lgeos.GEOSCoordSeq_setX(cs, 0, dx)\n",
      "KeyboardInterrupt\n",
      "  File \"/home/ac.jcorner/anaconda3/envs/data/lib/python3.9/site-packages/shapely/geometry/base.py\", line 250, in __setattr__\n",
      "    super().__setattr__(name, value)\n",
      "Traceback (most recent call last):\n",
      "KeyboardInterrupt\n",
      "  File \"/home/ac.jcorner/anaconda3/envs/data/lib/python3.9/site-packages/shapely/geometry/point.py\", line 279, in geos_point_from_py\n",
      "    lgeos.GEOSCoordSeq_setY(cs, 0, dy)\n",
      "  File \"/home/ac.jcorner/anaconda3/envs/data/lib/python3.9/site-packages/shapely/geometry/point.py\", line 265, in geos_point_from_py\n",
      "    if n == 3:\n",
      "  File \"/home/ac.jcorner/anaconda3/envs/data/lib/python3.9/site-packages/shapely/geometry/base.py\", line 248, in __setattr__\n",
      "    try:\n",
      "  File \"/home/ac.jcorner/anaconda3/envs/data/lib/python3.9/site-packages/shapely/geometry/point.py\", line 58, in __init__\n",
      "    self._set_geom(geom)\n",
      "              File \"/home/ac.jcorner/anaconda3/envs/data/lib/python3.9/site-packages/shapely/geometry/base.py\", line 199, in _empty\n",
      "    self._is_empty = True\n",
      "  File \"/home/ac.jcorner/anaconda3/envs/data/lib/python3.9/site-packages/shapely/geometry/base.py\", line 241, in _set_geom\n",
      "    self._empty()\n",
      "      File \"/home/ac.jcorner/anaconda3/envs/data/lib/python3.9/site-packages/shapely/geometry/point.py\", line 286, in geos_point_from_py\n",
      "    return lgeos.GEOSGeom_createPoint(cs), n\n",
      "      File \"/home/ac.jcorner/anaconda3/envs/data/lib/python3.9/site-packages/shapely/geometry/base.py\", line 200, in _empty\n",
      "    self.__geom__ = val\n",
      "  File \"/home/ac.jcorner/anaconda3/envs/data/lib/python3.9/site-packages/shapely/geometry/base.py\", line 241, in _set_geom\n",
      "    self._empty()\n",
      "KeyboardInterrupt\n",
      "KeyboardInterrupt\n",
      "  File \"/home/ac.jcorner/anaconda3/envs/data/lib/python3.9/multiprocessing/process.py\", line 315, in _bootstrap\n",
      "    self.run()\n",
      "KeyboardInterrupt\n",
      "Traceback (most recent call last):\n",
      "KeyboardInterrupt\n",
      "object.__getattribute__(self, name)  File \"/home/ac.jcorner/anaconda3/envs/data/lib/python3.9/site-packages/shapely/geometry/base.py\", line 241, in _set_geom\n",
      "    self._empty()\n",
      "self.__geom__ = val  File \"/home/ac.jcorner/anaconda3/envs/data/lib/python3.9/site-packages/shapely/geometry/base.py\", line 248, in __setattr__\n",
      "    try:\n",
      "self.__geom__ = val  File \"/home/ac.jcorner/anaconda3/envs/data/lib/python3.9/site-packages/shapely/geometry/base.py\", line 200, in _empty\n",
      "    self.__geom__ = val\n",
      "KeyboardInterrupt\n",
      "self._lgeos.GEOSGeom_destroy(self.__geom__)KeyboardInterrupt\n",
      "self._is_empty = True  File \"/home/ac.jcorner/anaconda3/envs/data/lib/python3.9/site-packages/shapely/geometry/base.py\", line 199, in _empty\n",
      "    self._is_empty = True\n",
      "  File \"/home/ac.jcorner/anaconda3/envs/data/lib/python3.9/site-packages/shapely/geometry/base.py\", line 250, in __setattr__\n",
      "    super().__setattr__(name, value)\n",
      "  File \"/home/ac.jcorner/anaconda3/envs/data/lib/python3.9/multiprocessing/process.py\", line 108, in run\n",
      "    self._target(*self._args, **self._kwargs)\n",
      "  File \"/home/ac.jcorner/anaconda3/envs/data/lib/python3.9/multiprocessing/process.py\", line 315, in _bootstrap\n",
      "    self.run()\n",
      "\n",
      "\n",
      "\n",
      "KeyboardInterrupt\n",
      "  File \"/home/ac.jcorner/anaconda3/envs/data/lib/python3.9/site-packages/shapely/geometry/base.py\", line 199, in _empty\n",
      "    self._is_empty = True\n",
      "\n",
      "  File \"/home/ac.jcorner/anaconda3/envs/data/lib/python3.9/site-packages/shapely/geometry/base.py\", line 250, in __setattr__\n",
      "    super().__setattr__(name, value)\n",
      "\n",
      "  File \"/tmp/ipykernel_22819/2526830807.py\", line 31, in data_agg\n",
      "    if shape.contains(point):\n",
      "KeyboardInterrupt\n",
      "KeyboardInterrupt  File \"/home/ac.jcorner/anaconda3/envs/data/lib/python3.9/site-packages/shapely/geometry/base.py\", line 250, in __setattr__\n",
      "    super().__setattr__(name, value)\n",
      "  File \"/home/ac.jcorner/anaconda3/envs/data/lib/python3.9/multiprocessing/process.py\", line 108, in run\n",
      "    self._target(*self._args, **self._kwargs)\n",
      "  File \"/home/ac.jcorner/anaconda3/envs/data/lib/python3.9/site-packages/shapely/geometry/base.py\", line 250, in __setattr__\n",
      "  File \"/home/ac.jcorner/anaconda3/envs/data/lib/python3.9/site-packages/shapely/geometry/base.py\", line 250, in __setattr__\n",
      "KeyboardInterrupt  File \"/home/ac.jcorner/anaconda3/envs/data/lib/python3.9/site-packages/shapely/geometry/base.py\", line 250, in __setattr__\n",
      "    super().__setattr__(name, value)\n",
      "  File \"/home/ac.jcorner/anaconda3/envs/data/lib/python3.9/site-packages/shapely/geometry/base.py\", line 248, in __setattr__\n",
      "  File \"/home/ac.jcorner/anaconda3/envs/data/lib/python3.9/site-packages/shapely/geometry/base.py\", line 764, in contains\n",
      "    return bool(self.impl['contains'](self, other))\n",
      ": KeyboardInterrupt\n",
      "    :       File \"/tmp/ipykernel_22819/2526830807.py\", line 31, in data_agg\n",
      "    if shape.contains(point):\n",
      "KeyboardInterrupt\n",
      "  File \"/home/ac.jcorner/anaconda3/envs/data/lib/python3.9/site-packages/shapely/predicates.py\", line 15, in __call__\n",
      "    return self.fn(this._geom, other._geom, *args)\n"
     ]
    },
    {
     "name": "stderr",
     "output_type": "stream",
     "text": [
      "\n",
      "KeyboardInterrupt\n",
      "    \n",
      "super().__setattr__(name, value)  File \"/home/ac.jcorner/anaconda3/envs/data/lib/python3.9/site-packages/shapely/geometry/base.py\", line 764, in contains\n",
      "    return bool(self.impl['contains'](self, other))\n",
      "  File \"/home/ac.jcorner/anaconda3/envs/data/lib/python3.9/site-packages/shapely/geos.py\", line 575, in errcheck_predicate\n",
      "    if result == 2:\n",
      "super().__setattr__(name, value)try:\n",
      "\n",
      "KeyboardInterrupt\n",
      "  File \"/home/ac.jcorner/anaconda3/envs/data/lib/python3.9/site-packages/shapely/impl.py\", line 58, in __getitem__\n",
      "    return self.map[key]\n",
      "\n",
      "KeyboardInterruptKeyboardInterruptKeyboardInterrupt\n",
      ": KeyboardInterrupt: \n",
      ": \n",
      "\n",
      "Exception ignored in: Process Process-38:\n",
      "Process Process-44:\n",
      "<function BaseGeometry.__del__ at 0x2aeba329c550>Process Process-34:\n",
      "Process Process-40:\n",
      "\n",
      "Traceback (most recent call last):\n",
      "Traceback (most recent call last):\n",
      "  File \"/home/ac.jcorner/anaconda3/envs/data/lib/python3.9/site-packages/shapely/geometry/base.py\", line 209, in __del__\n",
      "  File \"/home/ac.jcorner/anaconda3/envs/data/lib/python3.9/multiprocessing/process.py\", line 315, in _bootstrap\n",
      "    self.run()\n",
      "Traceback (most recent call last):\n",
      "Traceback (most recent call last):\n",
      "    Traceback (most recent call last):\n",
      "  File \"/home/ac.jcorner/anaconda3/envs/data/lib/python3.9/multiprocessing/process.py\", line 108, in run\n",
      "    self._target(*self._args, **self._kwargs)\n",
      "  File \"/home/ac.jcorner/anaconda3/envs/data/lib/python3.9/multiprocessing/process.py\", line 315, in _bootstrap\n",
      "    self.run()\n",
      "  File \"/home/ac.jcorner/anaconda3/envs/data/lib/python3.9/multiprocessing/process.py\", line 315, in _bootstrap\n",
      "    self.run()\n",
      "self._empty(val=None)  File \"/tmp/ipykernel_22819/2526830807.py\", line 31, in data_agg\n",
      "    if shape.contains(point):\n",
      "  File \"/home/ac.jcorner/anaconda3/envs/data/lib/python3.9/multiprocessing/process.py\", line 315, in _bootstrap\n",
      "    self.run()\n",
      "  File \"/home/ac.jcorner/anaconda3/envs/data/lib/python3.9/multiprocessing/process.py\", line 108, in run\n",
      "    self._target(*self._args, **self._kwargs)\n",
      "  File \"/home/ac.jcorner/anaconda3/envs/data/lib/python3.9/multiprocessing/process.py\", line 108, in run\n",
      "    self._target(*self._args, **self._kwargs)\n",
      "\n",
      "  File \"/home/ac.jcorner/anaconda3/envs/data/lib/python3.9/site-packages/shapely/geometry/base.py\", line 764, in contains\n",
      "    return bool(self.impl['contains'](self, other))\n",
      "  File \"/tmp/ipykernel_22819/2526830807.py\", line 30, in data_agg\n",
      "    point = shapely.geometry.Point(j, i)\n",
      "  File \"/tmp/ipykernel_22819/2526830807.py\", line 30, in data_agg\n",
      "    point = shapely.geometry.Point(j, i)\n",
      "  File \"/home/ac.jcorner/anaconda3/envs/data/lib/python3.9/multiprocessing/process.py\", line 108, in run\n",
      "    self._target(*self._args, **self._kwargs)\n",
      "  File \"/home/ac.jcorner/anaconda3/envs/data/lib/python3.9/site-packages/shapely/geometry/base.py\", line 199, in _empty\n",
      "  File \"/home/ac.jcorner/anaconda3/envs/data/lib/python3.9/site-packages/shapely/impl.py\", line 57, in __getitem__\n",
      "    try:\n",
      "  File \"/home/ac.jcorner/anaconda3/envs/data/lib/python3.9/site-packages/shapely/geometry/point.py\", line 58, in __init__\n",
      "    self._set_geom(geom)\n",
      "  File \"/home/ac.jcorner/anaconda3/envs/data/lib/python3.9/site-packages/shapely/geometry/point.py\", line 57, in __init__\n",
      "    geom, n = geos_point_from_py(tuple(args))\n",
      "  File \"/tmp/ipykernel_22819/2526830807.py\", line 31, in data_agg\n",
      "    if shape.contains(point):\n",
      "KeyboardInterrupt\n",
      "      File \"/home/ac.jcorner/anaconda3/envs/data/lib/python3.9/site-packages/shapely/geometry/base.py\", line 241, in _set_geom\n",
      "    self._empty()\n",
      "  File \"/home/ac.jcorner/anaconda3/envs/data/lib/python3.9/site-packages/shapely/geometry/point.py\", line 279, in geos_point_from_py\n",
      "    lgeos.GEOSCoordSeq_setY(cs, 0, dy)\n",
      "  File \"/home/ac.jcorner/anaconda3/envs/data/lib/python3.9/site-packages/shapely/geometry/base.py\", line 764, in contains\n",
      "    return bool(self.impl['contains'](self, other))\n",
      "self._is_empty = True  File \"/home/ac.jcorner/anaconda3/envs/data/lib/python3.9/site-packages/shapely/geometry/base.py\", line 199, in _empty\n",
      "    self._is_empty = True\n",
      "KeyboardInterrupt\n",
      "  File \"/home/ac.jcorner/anaconda3/envs/data/lib/python3.9/site-packages/shapely/predicates.py\", line 13, in __call__\n",
      "    self._validate(other, stop_prepared=True)\n",
      "\n",
      "  File \"/home/ac.jcorner/anaconda3/envs/data/lib/python3.9/site-packages/shapely/geometry/base.py\", line 250, in __setattr__\n",
      "    super().__setattr__(name, value)\n",
      "  File \"/home/ac.jcorner/anaconda3/envs/data/lib/python3.9/site-packages/shapely/topology.py\", line 18, in _validate\n",
      "    if ob is None or ob._geom is None:\n",
      "  File \"/home/ac.jcorner/anaconda3/envs/data/lib/python3.9/site-packages/shapely/geometry/base.py\", line 250, in __setattr__\n",
      "KeyboardInterrupt\n",
      "  File \"/home/ac.jcorner/anaconda3/envs/data/lib/python3.9/site-packages/shapely/geometry/base.py\", line 230, in _geom\n",
      "    return self.__geom__\n",
      "    super().__setattr__(name, value)KeyboardInterrupt\n",
      "\n",
      "KeyboardInterrupt: \n",
      "Process Process-29:\n",
      "Traceback (most recent call last):\n",
      "  File \"/home/ac.jcorner/anaconda3/envs/data/lib/python3.9/multiprocessing/process.py\", line 315, in _bootstrap\n",
      "    self.run()\n",
      "  File \"/home/ac.jcorner/anaconda3/envs/data/lib/python3.9/multiprocessing/process.py\", line 108, in run\n",
      "    self._target(*self._args, **self._kwargs)\n",
      "  File \"/tmp/ipykernel_22819/2526830807.py\", line 31, in data_agg\n",
      "    if shape.contains(point):\n",
      "KeyboardInterrupt\n"
     ]
    }
   ],
   "source": [
    "for timestamp in range(len(csv)):\n",
    "    d = multiprocessing.Process(target=data_agg, args=[csv[timestamp]])\n",
    "    d.start()"
   ]
  },
  {
   "cell_type": "code",
   "execution_count": 15,
   "metadata": {},
   "outputs": [
    {
     "name": "stdout",
     "output_type": "stream",
     "text": [
      "2:04:36.533618\n"
     ]
    }
   ],
   "source": [
    "time2 = datetime.now()\n",
    "print(time2 - time1)"
   ]
  },
  {
   "cell_type": "markdown",
   "metadata": {},
   "source": []
  }
 ],
 "metadata": {
  "kernelspec": {
   "display_name": "Python 3",
   "language": "python",
   "name": "python3"
  },
  "language_info": {
   "codemirror_mode": {
    "name": "ipython",
    "version": 3
   },
   "file_extension": ".py",
   "mimetype": "text/x-python",
   "name": "python",
   "nbconvert_exporter": "python",
   "pygments_lexer": "ipython3",
   "version": "3.8.5"
  }
 },
 "nbformat": 4,
 "nbformat_minor": 4
}
