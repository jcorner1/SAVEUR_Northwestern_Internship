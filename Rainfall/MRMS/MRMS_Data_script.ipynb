{
 "cells": [
  {
   "cell_type": "code",
   "execution_count": 2,
   "metadata": {},
   "outputs": [],
   "source": [
    "import smtplib\n",
    "from email.message import EmailMessage\n",
    "\n",
    "def email_alert(subject, body, to):\n",
    "    \n",
    "    msg = EmailMessage()\n",
    "    msg.set_content(body)\n",
    "    msg['subject'] = subject\n",
    "    msg['to'] = to\n",
    "    \n",
    "    \n",
    "    user = 'jeremy.corner.alert@gmail.com'\n",
    "    password = 'jrdakdhxfmvaigsy'\n",
    "    \n",
    "    server = smtplib.SMTP('smtp.gmail.com', 587)\n",
    "    server.starttls()\n",
    "    server.login(user, password)\n",
    "    server.send_message(msg)\n",
    "    \n",
    "    server.quit()"
   ]
  },
  {
   "cell_type": "code",
   "execution_count": 3,
   "metadata": {},
   "outputs": [
    {
     "name": "stdout",
     "output_type": "stream",
     "text": [
      "\n",
      "## You are using the Python ARM Radar Toolkit (Py-ART), an open source\n",
      "## library for working with weather radar data. Py-ART is partly\n",
      "## supported by the U.S. Department of Energy as part of the Atmospheric\n",
      "## Radiation Measurement (ARM) Climate Research Facility, an Office of\n",
      "## Science user facility.\n",
      "##\n",
      "## If you use this software to prepare a publication, please cite:\n",
      "##\n",
      "##     JJ Helmus and SM Collis, JORS 2016, doi: 10.5334/jors.119\n",
      "\n"
     ]
    }
   ],
   "source": [
    "import xarray as xr\n",
    "#import matplotlib.pyplot as plt\n",
    "import cartopy.crs as ccrs\n",
    "import cartopy.io.shapereader as shpreader\n",
    "import pyart\n",
    "import glob\n",
    "import multiprocessing\n",
    "\n",
    "\n",
    "import wradlib as wrl\n",
    "import gzip\n",
    "import os\n",
    "from osgeo import osr\n",
    "\n",
    "import numpy as np\n",
    "import pandas as pd\n",
    "from datetime import datetime\n",
    "import matplotlib.ticker as mticker\n",
    "from cartopy.mpl.gridliner import LONGITUDE_FORMATTER, LATITUDE_FORMATTER\n",
    "\n",
    "import fiona\n",
    "import shapely"
   ]
  },
  {
   "cell_type": "code",
   "execution_count": 4,
   "metadata": {},
   "outputs": [
    {
     "name": "stderr",
     "output_type": "stream",
     "text": [
      "/home/ac.jcorner/anaconda3/envs/data/lib/python3.9/site-packages/xarray/backends/plugins.py:61: RuntimeWarning: Engine 'cfradial1' loading failed:\n",
      "The 'dask' distribution was not found and is required by the application\n",
      "  warnings.warn(f\"Engine {name!r} loading failed:\\n{ex}\", RuntimeWarning)\n",
      "/home/ac.jcorner/anaconda3/envs/data/lib/python3.9/site-packages/xarray/backends/plugins.py:61: RuntimeWarning: Engine 'cfradial2' loading failed:\n",
      "The 'dask' distribution was not found and is required by the application\n",
      "  warnings.warn(f\"Engine {name!r} loading failed:\\n{ex}\", RuntimeWarning)\n",
      "/home/ac.jcorner/anaconda3/envs/data/lib/python3.9/site-packages/xarray/backends/plugins.py:61: RuntimeWarning: Engine 'gamic' loading failed:\n",
      "The 'dask' distribution was not found and is required by the application\n",
      "  warnings.warn(f\"Engine {name!r} loading failed:\\n{ex}\", RuntimeWarning)\n",
      "/home/ac.jcorner/anaconda3/envs/data/lib/python3.9/site-packages/xarray/backends/plugins.py:61: RuntimeWarning: Engine 'odim' loading failed:\n",
      "The 'dask' distribution was not found and is required by the application\n",
      "  warnings.warn(f\"Engine {name!r} loading failed:\\n{ex}\", RuntimeWarning)\n",
      "/home/ac.jcorner/anaconda3/envs/data/lib/python3.9/site-packages/xarray/backends/plugins.py:61: RuntimeWarning: Engine 'radolan' loading failed:\n",
      "The 'dask' distribution was not found and is required by the application\n",
      "  warnings.warn(f\"Engine {name!r} loading failed:\\n{ex}\", RuntimeWarning)\n"
     ]
    }
   ],
   "source": [
    "#Grab a MRMS grib file to create a grid\n",
    "date = datetime(2021, 6, 12, 22)\n",
    "\n",
    "pathfiles = f'/gpfs/fs1/home/ac.jcorner/Rainfall/Data/MRMS/11_June_2021/'\n",
    "datafile = f'MRMS_MultiSensor_QPE_01H_Pass2_00.00_{date:%Y%m%d-%H}0000.grib2'\n",
    "\n",
    "ds = xr.open_dataset(os.path.join(pathfiles,datafile), engine='cfgrib')\n",
    "\n",
    "\n",
    "#Subset the data and create grid\n",
    "ds_sub = ds.sel(latitude=slice(43,40),longitude=slice(270,273))\n",
    "ds_sub = ds.sel(latitude=slice(45,36),longitude=slice(266,275))\n",
    "\n",
    "p_amount = ds_sub['unknown'].values.size\n",
    "\n",
    "y_rad = ds_sub['latitude'].values\n",
    "x_rad = ds_sub['longitude'].values\n",
    "\n",
    "mesh_x, mesh_y = np.meshgrid(x_rad, y_rad)\n",
    "\n",
    "# Put the two coordinate grids in one array.\n",
    "\n",
    "grid_xy = np.zeros((900,900,2))\n",
    "\n",
    "grid_xy[:,:,0] = mesh_x\n",
    "grid_xy[:,:,1] = mesh_y"
   ]
  },
  {
   "cell_type": "code",
   "execution_count": 5,
   "metadata": {},
   "outputs": [],
   "source": [
    "grid_xyp = np.zeros((900,900,3))\n",
    "\n",
    "grid_xyp[:,:,0] = mesh_x\n",
    "grid_xyp[:,:,1] = mesh_y\n",
    "grid_xyp[:,:,2] = p_amount"
   ]
  },
  {
   "cell_type": "code",
   "execution_count": 6,
   "metadata": {},
   "outputs": [
    {
     "data": {
      "text/plain": [
       "0"
      ]
     },
     "execution_count": 6,
     "metadata": {},
     "output_type": "execute_result"
    }
   ],
   "source": [
    "# Read the watershed shapefile.\n",
    "# this file is in UTM\n",
    "fname_shp = '/gpfs/fs1/home/ac.jcorner/Rainfall/Data/city_detailed_utm/city_detailed_utm.shp'\n",
    "\n",
    "dataset, inLayer = wrl.io.open_vector(fname_shp)\n",
    "borders, keys = wrl.georef.get_vector_coordinates(inLayer, key='node_id')\n",
    "\n",
    "# Define different projections that will be used in the processing.\n",
    "\n",
    "proj_wgs = osr.SpatialReference()\n",
    "proj_wgs.ImportFromEPSG(4326)\n",
    "\n",
    "proj_aeqd = osr.SpatialReference()\n",
    "proj_aeqd.ImportFromEPSG(54032)\n",
    "\n",
    "proj_IL = osr.SpatialReference()\n",
    "proj_IL.ImportFromEPSG(26771)\n",
    "\n",
    "proj_IL_UTM = osr.SpatialReference()\n",
    "proj_IL_UTM.ImportFromEPSG(26916)"
   ]
  },
  {
   "cell_type": "code",
   "execution_count": 7,
   "metadata": {},
   "outputs": [],
   "source": [
    "# Reproject the radar grid to UTM, to match the shapefile.\n",
    "grid_xy_utm = wrl.georef.reproject(grid_xy,\n",
    "                                projection_source=proj_wgs,\n",
    "                                projection_target=proj_IL_UTM)\n",
    "\n",
    "x_rad_utm = grid_xy_utm[:,:,0]\n",
    "y_rad_utm = grid_xy_utm[:,:,1]"
   ]
  },
  {
   "cell_type": "code",
   "execution_count": 8,
   "metadata": {},
   "outputs": [],
   "source": [
    "# Create a mask to reduce size.\n",
    "# Reduce grid size using a bounding box (to enhancing performance)\n",
    "bbox = inLayer.GetExtent()\n",
    "\n",
    "buffer = 100.\n",
    "bbox = dict(left=bbox[0] - buffer, right=bbox[1] + buffer,\n",
    "            bottom=bbox[2] - buffer, top=bbox[3] + buffer)\n",
    "mask = (((grid_xy_utm[..., 1] > bbox['bottom']) & (grid_xy_utm[..., 1] < bbox['top'])) &\n",
    "        ((grid_xy_utm[..., 0] > bbox['left']) & (grid_xy_utm[..., 0] < bbox['right'])))\n",
    "\n",
    "# Create vertices for each grid cell\n",
    "# (MUST BE DONE IN NATIVE COORDINATES)\n",
    "\n",
    "grdverts = wrl.zonalstats.grid_centers_to_vertices(x_rad_utm[mask],\n",
    "                                                   y_rad_utm[mask], 824,\n",
    "                                                   824)"
   ]
  },
  {
   "cell_type": "code",
   "execution_count": 9,
   "metadata": {},
   "outputs": [],
   "source": [
    "# Read the gridded data.\n",
    "datefolder = '7_June_2015'\n",
    "file_dir = \"/gpfs/fs1/home/ac.jcorner/Rainfall/Data/MRMS/\"+datefolder+\"/MRMS/\"\n",
    "gridded_files = glob.glob(file_dir+'*.grib2')\n",
    "gridded_files.sort()"
   ]
  },
  {
   "cell_type": "code",
   "execution_count": 10,
   "metadata": {},
   "outputs": [],
   "source": [
    "def data_agg(data_file_path):\n",
    "    \n",
    "    \"\"\"this is a function built so that MRMS data can be found in parallel.\n",
    "    \n",
    "        data_file_path = the path for the data file\n",
    "        \n",
    "        returns csv that aggregates the MRMS file into the catchments.\"\"\"\n",
    "    \n",
    "    \n",
    "    ds_p = xr.open_dataset(data_file_path)\n",
    "    p_amount = ds_p['unknown'].values\n",
    "    MRMS_data_agg = []\n",
    "    \n",
    "    hour = data_file_path[-12:-10]\n",
    "    date = data_file_path[-21:-13]\n",
    "\n",
    "    with fiona.open(\"/gpfs/fs1/home/ac.jcorner/Rainfall/Data/city_detailed_utm/city_detailed_utm.shp\") as c:\n",
    "            for record in c:\n",
    "                amount = []\n",
    "                shape = shapely.geometry.shape(record['geometry'])\n",
    "\n",
    "\n",
    "\n",
    "                for count in range(y_rad_utm[1].size):\n",
    "                    for i in y_rad_utm[count]:\n",
    "                        if i >= bbox['bottom'] and i <= bbox['top'] :\n",
    "                            for j in x_rad_utm[count]:\n",
    "                                if j >= bbox['left'] and j <= bbox['right']:\n",
    "                                    point = shapely.geometry.Point(j, i)\n",
    "                                    if shape.contains(point):\n",
    "                                        x = np.where(x_rad_utm[count] == j)\n",
    "                                        y = np.where(y_rad_utm[count] == i)\n",
    "                                        amount.append(p_amount[x[0],y[0]][0])\n",
    "                                        \n",
    "\n",
    "                if len(amount) > 0:\n",
    "                    maxi = np.max(amount)\n",
    "                    print(f\"catchment {record['id']} with the amount of {maxi} at {hour}.\")\n",
    "                    MRMS_data_agg.append(maxi)\n",
    "\n",
    "                else:\n",
    "                    print(f\"catchment {record['id']} with the amount of nan at {hour}.\")\n",
    "                    f_amount = np.average(amount)\n",
    "                    MRMS_data_agg.append(f_amount)\n",
    "\n",
    "    f = np.array(MRMS_data_agg)\n",
    "    df = pd.DataFrame(f)\n",
    "    \n",
    "    df.to_csv(f'/gpfs/fs1/home/ac.jcorner/Rainfall/MRMS_data_agg_{date}_{hour}.csv')\n",
    "    \n",
    "    email_alert('Done', f'the script should be done now for {hour}', 'jeremy.corner1998@gmail.com')\n",
    "    \n",
    "    \n",
    "    return MRMS_data_agg"
   ]
  },
  {
   "cell_type": "code",
   "execution_count": 13,
   "metadata": {},
   "outputs": [
    {
     "name": "stdout",
     "output_type": "stream",
     "text": [
      "catchment 0 with the amount of 0.0 at 22.\n",
      "catchment 0 with the amount of 0.4000000059604645 at 04.\n",
      "catchment 0 with the amount of 0.0 at 21.\n",
      "catchment 0 with the amount of 0.699999988079071 at 01.\n",
      "catchment 0 with the amount of 0.0 at 17.\n",
      "catchment 0 with the amount of 1.0 at 02.\n",
      "catchment 0 with the amount of 0.30000001192092896 at 20.\n",
      "catchment 0 with the amount of 0.0 at 23.\n",
      "catchment 0 with the amount of 1.0 at 00.\n",
      "catchment 0 with the amount of 0.0 at 18.\n",
      "catchment 0 with the amount of 0.8999999761581421 at 03.\n",
      "catchment 0 with the amount of 0.5 at 19.\n",
      "catchment 1 with the amount of nan at 22.\n"
     ]
    },
    {
     "name": "stderr",
     "output_type": "stream",
     "text": [
      "/home/ac.jcorner/anaconda3/envs/data/lib/python3.9/site-packages/numpy/lib/function_base.py:380: RuntimeWarning: Mean of empty slice.\n",
      "  avg = a.mean(axis)\n",
      "/home/ac.jcorner/anaconda3/envs/data/lib/python3.9/site-packages/numpy/core/_methods.py:189: RuntimeWarning: invalid value encountered in double_scalars\n",
      "  ret = ret.dtype.type(ret / rcount)\n"
     ]
    },
    {
     "name": "stdout",
     "output_type": "stream",
     "text": [
      "catchment 1 with the amount of nan at 04.\n"
     ]
    },
    {
     "name": "stderr",
     "output_type": "stream",
     "text": [
      "/home/ac.jcorner/anaconda3/envs/data/lib/python3.9/site-packages/numpy/lib/function_base.py:380: RuntimeWarning: Mean of empty slice.\n",
      "  avg = a.mean(axis)\n",
      "/home/ac.jcorner/anaconda3/envs/data/lib/python3.9/site-packages/numpy/core/_methods.py:189: RuntimeWarning: invalid value encountered in double_scalars\n",
      "  ret = ret.dtype.type(ret / rcount)\n"
     ]
    },
    {
     "name": "stdout",
     "output_type": "stream",
     "text": [
      "catchment 1 with the amount of nan at 01.\n"
     ]
    },
    {
     "name": "stderr",
     "output_type": "stream",
     "text": [
      "/home/ac.jcorner/anaconda3/envs/data/lib/python3.9/site-packages/numpy/lib/function_base.py:380: RuntimeWarning: Mean of empty slice.\n",
      "  avg = a.mean(axis)\n",
      "/home/ac.jcorner/anaconda3/envs/data/lib/python3.9/site-packages/numpy/core/_methods.py:189: RuntimeWarning: invalid value encountered in double_scalars\n",
      "  ret = ret.dtype.type(ret / rcount)\n"
     ]
    },
    {
     "name": "stdout",
     "output_type": "stream",
     "text": [
      "catchment 1 with the amount of nan at 21.\n"
     ]
    },
    {
     "name": "stderr",
     "output_type": "stream",
     "text": [
      "/home/ac.jcorner/anaconda3/envs/data/lib/python3.9/site-packages/numpy/lib/function_base.py:380: RuntimeWarning: Mean of empty slice.\n",
      "  avg = a.mean(axis)\n",
      "/home/ac.jcorner/anaconda3/envs/data/lib/python3.9/site-packages/numpy/core/_methods.py:189: RuntimeWarning: invalid value encountered in double_scalars\n",
      "  ret = ret.dtype.type(ret / rcount)\n"
     ]
    },
    {
     "name": "stdout",
     "output_type": "stream",
     "text": [
      "catchment 1 with the amount of nan at 23.\n"
     ]
    },
    {
     "name": "stderr",
     "output_type": "stream",
     "text": [
      "/home/ac.jcorner/anaconda3/envs/data/lib/python3.9/site-packages/numpy/lib/function_base.py:380: RuntimeWarning: Mean of empty slice.\n",
      "  avg = a.mean(axis)\n",
      "/home/ac.jcorner/anaconda3/envs/data/lib/python3.9/site-packages/numpy/core/_methods.py:189: RuntimeWarning: invalid value encountered in double_scalars\n",
      "  ret = ret.dtype.type(ret / rcount)\n"
     ]
    },
    {
     "name": "stdout",
     "output_type": "stream",
     "text": [
      "catchment 1 with the amount of nan at 20.\n"
     ]
    },
    {
     "name": "stderr",
     "output_type": "stream",
     "text": [
      "/home/ac.jcorner/anaconda3/envs/data/lib/python3.9/site-packages/numpy/lib/function_base.py:380: RuntimeWarning: Mean of empty slice.\n",
      "  avg = a.mean(axis)\n",
      "/home/ac.jcorner/anaconda3/envs/data/lib/python3.9/site-packages/numpy/core/_methods.py:189: RuntimeWarning: invalid value encountered in double_scalars\n",
      "  ret = ret.dtype.type(ret / rcount)\n"
     ]
    },
    {
     "name": "stdout",
     "output_type": "stream",
     "text": [
      "catchment 1 with the amount of nan at 02.\n"
     ]
    },
    {
     "name": "stderr",
     "output_type": "stream",
     "text": [
      "/home/ac.jcorner/anaconda3/envs/data/lib/python3.9/site-packages/numpy/lib/function_base.py:380: RuntimeWarning: Mean of empty slice.\n",
      "  avg = a.mean(axis)\n",
      "/home/ac.jcorner/anaconda3/envs/data/lib/python3.9/site-packages/numpy/core/_methods.py:189: RuntimeWarning: invalid value encountered in double_scalars\n",
      "  ret = ret.dtype.type(ret / rcount)\n"
     ]
    },
    {
     "name": "stdout",
     "output_type": "stream",
     "text": [
      "catchment 1 with the amount of nan at 03.\n"
     ]
    },
    {
     "name": "stderr",
     "output_type": "stream",
     "text": [
      "/home/ac.jcorner/anaconda3/envs/data/lib/python3.9/site-packages/numpy/lib/function_base.py:380: RuntimeWarning: Mean of empty slice.\n",
      "  avg = a.mean(axis)\n",
      "/home/ac.jcorner/anaconda3/envs/data/lib/python3.9/site-packages/numpy/core/_methods.py:189: RuntimeWarning: invalid value encountered in double_scalars\n",
      "  ret = ret.dtype.type(ret / rcount)\n"
     ]
    },
    {
     "name": "stdout",
     "output_type": "stream",
     "text": [
      "catchment 1 with the amount of nan at 18.\n"
     ]
    },
    {
     "name": "stderr",
     "output_type": "stream",
     "text": [
      "/home/ac.jcorner/anaconda3/envs/data/lib/python3.9/site-packages/numpy/lib/function_base.py:380: RuntimeWarning: Mean of empty slice.\n",
      "  avg = a.mean(axis)\n",
      "/home/ac.jcorner/anaconda3/envs/data/lib/python3.9/site-packages/numpy/core/_methods.py:189: RuntimeWarning: invalid value encountered in double_scalars\n",
      "  ret = ret.dtype.type(ret / rcount)\n"
     ]
    },
    {
     "name": "stdout",
     "output_type": "stream",
     "text": [
      "catchment 1 with the amount of nan at 00.\n"
     ]
    },
    {
     "name": "stderr",
     "output_type": "stream",
     "text": [
      "/home/ac.jcorner/anaconda3/envs/data/lib/python3.9/site-packages/numpy/lib/function_base.py:380: RuntimeWarning: Mean of empty slice.\n",
      "  avg = a.mean(axis)\n",
      "/home/ac.jcorner/anaconda3/envs/data/lib/python3.9/site-packages/numpy/core/_methods.py:189: RuntimeWarning: invalid value encountered in double_scalars\n",
      "  ret = ret.dtype.type(ret / rcount)\n"
     ]
    },
    {
     "name": "stdout",
     "output_type": "stream",
     "text": [
      "catchment 1 with the amount of nan at 17.\n"
     ]
    },
    {
     "name": "stderr",
     "output_type": "stream",
     "text": [
      "/home/ac.jcorner/anaconda3/envs/data/lib/python3.9/site-packages/numpy/lib/function_base.py:380: RuntimeWarning: Mean of empty slice.\n",
      "  avg = a.mean(axis)\n",
      "/home/ac.jcorner/anaconda3/envs/data/lib/python3.9/site-packages/numpy/core/_methods.py:189: RuntimeWarning: invalid value encountered in double_scalars\n",
      "  ret = ret.dtype.type(ret / rcount)\n"
     ]
    },
    {
     "name": "stdout",
     "output_type": "stream",
     "text": [
      "catchment 1 with the amount of nan at 19.\n"
     ]
    },
    {
     "name": "stderr",
     "output_type": "stream",
     "text": [
      "/home/ac.jcorner/anaconda3/envs/data/lib/python3.9/site-packages/numpy/lib/function_base.py:380: RuntimeWarning: Mean of empty slice.\n",
      "  avg = a.mean(axis)\n",
      "/home/ac.jcorner/anaconda3/envs/data/lib/python3.9/site-packages/numpy/core/_methods.py:189: RuntimeWarning: invalid value encountered in double_scalars\n",
      "  ret = ret.dtype.type(ret / rcount)\n"
     ]
    },
    {
     "name": "stdout",
     "output_type": "stream",
     "text": [
      "catchment 2 with the amount of nan at 04.\n",
      "catchment 2 with the amount of nan at 22.\n",
      "catchment 2 with the amount of nan at 01.\n",
      "catchment 2 with the amount of nan at 23.\n",
      "catchment 2 with the amount of nan at 02.\n",
      "catchment 2 with the amount of nan at 20.\n",
      "catchment 2 with the amount of nan at 21.\n",
      "catchment 2 with the amount of nan at 18.\n",
      "catchment 2 with the amount of nan at 03.\n",
      "catchment 2 with the amount of nan at 00.\n",
      "catchment 2 with the amount of nan at 17.\n",
      "catchment 2 with the amount of nan at 19.\n",
      "catchment 3 with the amount of 0.0 at 22.\n",
      "catchment 3 with the amount of 0.0 at 04.\n",
      "catchment 3 with the amount of 0.0 at 01.\n",
      "catchment 3 with the amount of 0.0 at 02.\n",
      "catchment 3 with the amount of 0.0 at 18.\n",
      "catchment 3 with the amount of 0.0 at 23.\n",
      "catchment 3 with the amount of 0.0 at 03.\n",
      "catchment 3 with the amount of 0.0 at 21.\n",
      "catchment 3 with the amount of 0.0 at 20.\n",
      "catchment 3 with the amount of 0.0 at 00.\n",
      "catchment 3 with the amount of 0.0 at 17.\n",
      "catchment 3 with the amount of 0.0 at 19.\n",
      "catchment 4 with the amount of 0.0 at 22.\n",
      "catchment 4 with the amount of 0.0 at 04.\n",
      "catchment 4 with the amount of 0.0 at 01.\n",
      "catchment 4 with the amount of 0.0 at 02.\n",
      "catchment 4 with the amount of 0.0 at 18.\n",
      "catchment 4 with the amount of 0.0 at 23.\n",
      "catchment 4 with the amount of 0.0 at 21.\n",
      "catchment 4 with the amount of 0.0 at 03.\n",
      "catchment 4 with the amount of 0.0 at 00.\n",
      "catchment 4 with the amount of 0.0 at 20.\n",
      "catchment 4 with the amount of 0.0 at 17.\n",
      "catchment 4 with the amount of 0.0 at 19.\n"
     ]
    },
    {
     "name": "stderr",
     "output_type": "stream",
     "text": [
      "Exception ignored in: Exception ignored in: <function BaseGeometry.__del__ at 0x2ae6a8ba4dc0>Process Process-9:\n",
      "Process Process-10:\n",
      "Process Process-3:\n",
      "<function BaseGeometry.__del__ at 0x2ae6a8ba4dc0>Process Process-6:\n",
      "Process Process-5:\n",
      "Process Process-11:\n",
      "Process Process-4:\n",
      "Process Process-8:\n",
      "Process Process-12:\n",
      "\n",
      "Process Process-2:\n",
      "\n",
      "Traceback (most recent call last):\n",
      "  File \"/home/ac.jcorner/anaconda3/envs/data/lib/python3.9/site-packages/shapely/geometry/base.py\", line 210, in __del__\n",
      "Traceback (most recent call last):\n",
      "  File \"/home/ac.jcorner/anaconda3/envs/data/lib/python3.9/site-packages/shapely/geometry/base.py\", line 210, in __del__\n",
      "Traceback (most recent call last):\n",
      "Traceback (most recent call last):\n",
      "Traceback (most recent call last):\n",
      "  File \"/home/ac.jcorner/anaconda3/envs/data/lib/python3.9/multiprocessing/process.py\", line 315, in _bootstrap\n",
      "    self.run()\n",
      "  File \"/home/ac.jcorner/anaconda3/envs/data/lib/python3.9/multiprocessing/process.py\", line 315, in _bootstrap\n",
      "    self.run()\n",
      "  File \"/home/ac.jcorner/anaconda3/envs/data/lib/python3.9/multiprocessing/process.py\", line 108, in run\n",
      "    self._target(*self._args, **self._kwargs)\n",
      "  File \"/home/ac.jcorner/anaconda3/envs/data/lib/python3.9/multiprocessing/process.py\", line 315, in _bootstrap\n",
      "    self.run()\n",
      "  File \"/home/ac.jcorner/anaconda3/envs/data/lib/python3.9/multiprocessing/process.py\", line 108, in run\n",
      "    self._target(*self._args, **self._kwargs)\n",
      "  File \"/tmp/ipykernel_14013/3442812074.py\", line 27, in data_agg\n",
      "    for j in x_rad_utm[count]:\n",
      "  File \"/tmp/ipykernel_14013/3442812074.py\", line 28, in data_agg\n",
      "    if j >= bbox['left'] and j <= bbox['right']:\n",
      "KeyboardInterrupt\n",
      "  File \"/home/ac.jcorner/anaconda3/envs/data/lib/python3.9/multiprocessing/process.py\", line 108, in run\n",
      "    self._target(*self._args, **self._kwargs)\n",
      "KeyboardInterrupt\n",
      "  File \"/tmp/ipykernel_14013/3442812074.py\", line 28, in data_agg\n",
      "    if j >= bbox['left'] and j <= bbox['right']:\n",
      "KeyboardInterrupt\n",
      "        self.__p__ = None\n",
      "Traceback (most recent call last):\n",
      "self.__p__ = None  File \"/home/ac.jcorner/anaconda3/envs/data/lib/python3.9/site-packages/shapely/geometry/base.py\", line 248, in __setattr__\n",
      "\n",
      "  File \"/home/ac.jcorner/anaconda3/envs/data/lib/python3.9/multiprocessing/process.py\", line 315, in _bootstrap\n",
      "    self.run()\n",
      "    KeyboardInterrupt  File \"/home/ac.jcorner/anaconda3/envs/data/lib/python3.9/multiprocessing/process.py\", line 108, in run\n",
      "    self._target(*self._args, **self._kwargs)\n",
      "try:: \n",
      "  File \"/tmp/ipykernel_14013/3442812074.py\", line 30, in data_agg\n",
      "    if shape.contains(point):\n",
      "\n",
      "KeyboardInterrupt  File \"/home/ac.jcorner/anaconda3/envs/data/lib/python3.9/site-packages/shapely/geometry/base.py\", line 764, in contains\n",
      "    return bool(self.impl['contains'](self, other))\n",
      ":   File \"/home/ac.jcorner/anaconda3/envs/data/lib/python3.9/site-packages/shapely/predicates.py\", line 15, in __call__\n",
      "    return self.fn(this._geom, other._geom, *args)\n",
      "\n",
      "KeyboardInterrupt\n",
      "Traceback (most recent call last):\n",
      "  File \"/home/ac.jcorner/anaconda3/envs/data/lib/python3.9/multiprocessing/process.py\", line 315, in _bootstrap\n",
      "    self.run()\n",
      "  File \"/home/ac.jcorner/anaconda3/envs/data/lib/python3.9/multiprocessing/process.py\", line 108, in run\n",
      "    self._target(*self._args, **self._kwargs)\n",
      "  File \"/tmp/ipykernel_14013/3442812074.py\", line 30, in data_agg\n",
      "    if shape.contains(point):\n",
      "  File \"/home/ac.jcorner/anaconda3/envs/data/lib/python3.9/site-packages/shapely/geometry/base.py\", line 764, in contains\n",
      "    return bool(self.impl['contains'](self, other))\n",
      "  File \"/home/ac.jcorner/anaconda3/envs/data/lib/python3.9/site-packages/shapely/predicates.py\", line 15, in __call__\n",
      "    return self.fn(this._geom, other._geom, *args)\n",
      "  File \"/home/ac.jcorner/anaconda3/envs/data/lib/python3.9/site-packages/shapely/geos.py\", line 573, in errcheck_predicate\n",
      "    def errcheck_predicate(result, func, argtuple):\n",
      "KeyboardInterrupt\n",
      "Traceback (most recent call last):\n",
      "Traceback (most recent call last):\n",
      "Traceback (most recent call last):\n",
      "Traceback (most recent call last):\n",
      "Traceback (most recent call last):\n",
      "  File \"/home/ac.jcorner/anaconda3/envs/data/lib/python3.9/multiprocessing/process.py\", line 315, in _bootstrap\n",
      "    self.run()\n",
      "  File \"/home/ac.jcorner/anaconda3/envs/data/lib/python3.9/multiprocessing/process.py\", line 315, in _bootstrap\n",
      "    self.run()\n",
      "  File \"/home/ac.jcorner/anaconda3/envs/data/lib/python3.9/multiprocessing/process.py\", line 315, in _bootstrap\n",
      "    self.run()\n",
      "  File \"/home/ac.jcorner/anaconda3/envs/data/lib/python3.9/multiprocessing/process.py\", line 315, in _bootstrap\n",
      "    self.run()\n",
      "  File \"/home/ac.jcorner/anaconda3/envs/data/lib/python3.9/multiprocessing/process.py\", line 108, in run\n",
      "    self._target(*self._args, **self._kwargs)\n",
      "  File \"/home/ac.jcorner/anaconda3/envs/data/lib/python3.9/multiprocessing/process.py\", line 315, in _bootstrap\n",
      "    self.run()\n",
      "  File \"/home/ac.jcorner/anaconda3/envs/data/lib/python3.9/multiprocessing/process.py\", line 108, in run\n",
      "    self._target(*self._args, **self._kwargs)\n",
      "  File \"/home/ac.jcorner/anaconda3/envs/data/lib/python3.9/multiprocessing/process.py\", line 108, in run\n",
      "    self._target(*self._args, **self._kwargs)\n",
      "  File \"/home/ac.jcorner/anaconda3/envs/data/lib/python3.9/multiprocessing/process.py\", line 108, in run\n",
      "    self._target(*self._args, **self._kwargs)\n",
      "  File \"/tmp/ipykernel_14013/3442812074.py\", line 29, in data_agg\n",
      "    point = shapely.geometry.Point(j, i)\n",
      "  File \"/tmp/ipykernel_14013/3442812074.py\", line 29, in data_agg\n",
      "    point = shapely.geometry.Point(j, i)\n",
      "  File \"/home/ac.jcorner/anaconda3/envs/data/lib/python3.9/multiprocessing/process.py\", line 108, in run\n",
      "    self._target(*self._args, **self._kwargs)\n",
      "  File \"/tmp/ipykernel_14013/3442812074.py\", line 29, in data_agg\n",
      "    point = shapely.geometry.Point(j, i)\n",
      "  File \"/tmp/ipykernel_14013/3442812074.py\", line 29, in data_agg\n",
      "    point = shapely.geometry.Point(j, i)\n",
      "  File \"/home/ac.jcorner/anaconda3/envs/data/lib/python3.9/site-packages/shapely/geometry/point.py\", line 38, in __init__\n",
      "    def __init__(self, *args):\n",
      "  File \"/home/ac.jcorner/anaconda3/envs/data/lib/python3.9/site-packages/shapely/geometry/point.py\", line 38, in __init__\n",
      "    def __init__(self, *args):\n",
      "  File \"/home/ac.jcorner/anaconda3/envs/data/lib/python3.9/site-packages/shapely/geometry/point.py\", line 57, in __init__\n",
      "    geom, n = geos_point_from_py(tuple(args))\n",
      "  File \"/tmp/ipykernel_14013/3442812074.py\", line 29, in data_agg\n",
      "    point = shapely.geometry.Point(j, i)\n",
      "  File \"/home/ac.jcorner/anaconda3/envs/data/lib/python3.9/site-packages/shapely/geometry/point.py\", line 57, in __init__\n",
      "    geom, n = geos_point_from_py(tuple(args))\n",
      "KeyboardInterrupt\n",
      "KeyboardInterrupt\n",
      "  File \"/home/ac.jcorner/anaconda3/envs/data/lib/python3.9/site-packages/shapely/geometry/point.py\", line 275, in geos_point_from_py\n",
      "    cs = lgeos.GEOSCoordSeq_create(1, n)\n",
      "  File \"/home/ac.jcorner/anaconda3/envs/data/lib/python3.9/site-packages/shapely/geometry/point.py\", line 244, in geos_point_from_py\n",
      "    def geos_point_from_py(ob, update_geom=None, update_ndim=0):\n",
      "  File \"/home/ac.jcorner/anaconda3/envs/data/lib/python3.9/site-packages/shapely/geometry/point.py\", line 57, in __init__\n",
      "    geom, n = geos_point_from_py(tuple(args))\n",
      "KeyboardInterrupt\n",
      "KeyboardInterrupt\n",
      "  File \"/home/ac.jcorner/anaconda3/envs/data/lib/python3.9/site-packages/shapely/geometry/point.py\", line 278, in geos_point_from_py\n",
      "    lgeos.GEOSCoordSeq_setX(cs, 0, dx)\n",
      "KeyboardInterrupt\n",
      "Process Process-1:\n",
      "Process Process-7:\n",
      "Traceback (most recent call last):\n",
      "Traceback (most recent call last):\n",
      "  File \"/home/ac.jcorner/anaconda3/envs/data/lib/python3.9/multiprocessing/process.py\", line 315, in _bootstrap\n",
      "    self.run()\n",
      "  File \"/home/ac.jcorner/anaconda3/envs/data/lib/python3.9/multiprocessing/process.py\", line 315, in _bootstrap\n",
      "    self.run()\n",
      "  File \"/home/ac.jcorner/anaconda3/envs/data/lib/python3.9/multiprocessing/process.py\", line 108, in run\n",
      "    self._target(*self._args, **self._kwargs)\n",
      "  File \"/tmp/ipykernel_14013/3442812074.py\", line 29, in data_agg\n",
      "    point = shapely.geometry.Point(j, i)\n",
      "  File \"/home/ac.jcorner/anaconda3/envs/data/lib/python3.9/multiprocessing/process.py\", line 108, in run\n",
      "    self._target(*self._args, **self._kwargs)\n"
     ]
    },
    {
     "name": "stderr",
     "output_type": "stream",
     "text": [
      "  File \"/home/ac.jcorner/anaconda3/envs/data/lib/python3.9/site-packages/shapely/geometry/point.py\", line 57, in __init__\n",
      "    geom, n = geos_point_from_py(tuple(args))\n",
      "  File \"/home/ac.jcorner/anaconda3/envs/data/lib/python3.9/site-packages/shapely/geometry/point.py\", line 278, in geos_point_from_py\n",
      "    lgeos.GEOSCoordSeq_setX(cs, 0, dx)\n",
      "  File \"/tmp/ipykernel_14013/3442812074.py\", line 29, in data_agg\n",
      "    point = shapely.geometry.Point(j, i)\n",
      "KeyboardInterrupt\n",
      "  File \"/home/ac.jcorner/anaconda3/envs/data/lib/python3.9/site-packages/shapely/geometry/point.py\", line 57, in __init__\n",
      "    geom, n = geos_point_from_py(tuple(args))\n",
      "  File \"/home/ac.jcorner/anaconda3/envs/data/lib/python3.9/site-packages/shapely/geometry/point.py\", line 286, in geos_point_from_py\n",
      "    return lgeos.GEOSGeom_createPoint(cs), n\n",
      "KeyboardInterrupt\n"
     ]
    }
   ],
   "source": [
    "for timestamp in range(len(gridded_files)):\n",
    "    d = multiprocessing.Process(target=data_agg, args=[gridded_files[timestamp]])\n",
    "    d.start()"
   ]
  },
  {
   "cell_type": "code",
   "execution_count": null,
   "metadata": {},
   "outputs": [],
   "source": []
  },
  {
   "cell_type": "code",
   "execution_count": null,
   "metadata": {},
   "outputs": [],
   "source": []
  },
  {
   "cell_type": "code",
   "execution_count": null,
   "metadata": {},
   "outputs": [],
   "source": []
  },
  {
   "cell_type": "code",
   "execution_count": null,
   "metadata": {},
   "outputs": [],
   "source": []
  }
 ],
 "metadata": {
  "kernelspec": {
   "display_name": "Python 3",
   "language": "python",
   "name": "python3"
  },
  "language_info": {
   "codemirror_mode": {
    "name": "ipython",
    "version": 3
   },
   "file_extension": ".py",
   "mimetype": "text/x-python",
   "name": "python",
   "nbconvert_exporter": "python",
   "pygments_lexer": "ipython3",
   "version": "3.8.5"
  }
 },
 "nbformat": 4,
 "nbformat_minor": 5
}
