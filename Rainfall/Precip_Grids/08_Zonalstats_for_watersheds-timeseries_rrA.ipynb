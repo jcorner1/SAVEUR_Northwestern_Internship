{
 "cells": [
  {
   "cell_type": "code",
   "execution_count": 1,
   "metadata": {
    "ExecuteTime": {
     "end_time": "2019-11-27T18:48:28.748353Z",
     "start_time": "2019-11-27T18:48:22.839961Z"
    }
   },
   "outputs": [
    {
     "name": "stdout",
     "output_type": "stream",
     "text": [
      "\n",
      "## You are using the Python ARM Radar Toolkit (Py-ART), an open source\n",
      "## library for working with weather radar data. Py-ART is partly\n",
      "## supported by the U.S. Department of Energy as part of the Atmospheric\n",
      "## Radiation Measurement (ARM) Climate Research Facility, an Office of\n",
      "## Science user facility.\n",
      "##\n",
      "## If you use this software to prepare a publication, please cite:\n",
      "##\n",
      "##     JJ Helmus and SM Collis, JORS 2016, doi: 10.5334/jors.119\n",
      "\n"
     ]
    }
   ],
   "source": [
    "import wradlib as wrl\n",
    "import matplotlib.pyplot as plt\n",
    "import matplotlib as mpl\n",
    "import warnings\n",
    "warnings.filterwarnings('ignore')\n",
    "\n",
    "from osgeo import osr\n",
    "\n",
    "import pickle\n",
    "\n",
    "import pyart\n",
    "import datetime as dt\n",
    "import numpy as np\n",
    "import pandas as pd\n",
    "import os"
   ]
  },
  {
   "cell_type": "code",
   "execution_count": 2,
   "metadata": {
    "ExecuteTime": {
     "end_time": "2019-11-27T18:48:28.759323Z",
     "start_time": "2019-11-27T18:48:28.752343Z"
    }
   },
   "outputs": [],
   "source": [
    "from matplotlib.collections import PatchCollection\n",
    "from matplotlib.colors import from_levels_and_colors\n",
    "import matplotlib.patches as patches"
   ]
  },
  {
   "cell_type": "code",
   "execution_count": 3,
   "metadata": {
    "ExecuteTime": {
     "end_time": "2019-11-27T18:48:28.827152Z",
     "start_time": "2019-11-27T18:48:28.763313Z"
    }
   },
   "outputs": [],
   "source": [
    "# import os\n",
    "\n",
    "# os.environ['LC_NUMERIC']='C'"
   ]
  },
  {
   "cell_type": "markdown",
   "metadata": {},
   "source": [
    "Read the radar grid coordinates. These coordinates are in WGS84 CRS."
   ]
  },
  {
   "cell_type": "code",
   "execution_count": 4,
   "metadata": {
    "ExecuteTime": {
     "end_time": "2019-11-27T18:48:28.845094Z",
     "start_time": "2019-11-27T18:48:28.831132Z"
    }
   },
   "outputs": [],
   "source": [
    "# Getting back the objects:\n",
    "with open('radar_grid.pkl','rb') as f:  # Python 3: open(..., 'rb')\n",
    "    x_rad, y_rad = pickle.load(f)"
   ]
  },
  {
   "cell_type": "code",
   "execution_count": 5,
   "metadata": {
    "ExecuteTime": {
     "end_time": "2019-11-27T18:48:28.858061Z",
     "start_time": "2019-11-27T18:48:28.849084Z"
    }
   },
   "outputs": [
    {
     "data": {
      "text/plain": [
       "(300, 300)"
      ]
     },
     "execution_count": 5,
     "metadata": {},
     "output_type": "execute_result"
    }
   ],
   "source": [
    "x_rad.shape"
   ]
  },
  {
   "cell_type": "markdown",
   "metadata": {},
   "source": [
    "Read the watershed shapefile."
   ]
  },
  {
   "cell_type": "code",
   "execution_count": 6,
   "metadata": {
    "ExecuteTime": {
     "end_time": "2019-11-27T18:48:28.888976Z",
     "start_time": "2019-11-27T18:48:28.863046Z"
    }
   },
   "outputs": [],
   "source": [
    "# this file is in UTM\n",
    "fname_shp = r'C:/Users/iac6311/Documents/Work/Data/GIS/USA/SAVEUR/city_detailed_utm.shp'"
   ]
  },
  {
   "cell_type": "code",
   "execution_count": 7,
   "metadata": {
    "ExecuteTime": {
     "end_time": "2019-11-27T18:48:30.515980Z",
     "start_time": "2019-11-27T18:48:28.891969Z"
    }
   },
   "outputs": [],
   "source": [
    "dataset, inLayer = wrl.io.open_vector(fname_shp)\n",
    "borders, keys = wrl.georef.get_vector_coordinates(inLayer, key='node_id')"
   ]
  },
  {
   "cell_type": "markdown",
   "metadata": {},
   "source": [
    "Define different projections that will be used in the processing."
   ]
  },
  {
   "cell_type": "code",
   "execution_count": 8,
   "metadata": {
    "ExecuteTime": {
     "end_time": "2019-11-27T18:48:30.622508Z",
     "start_time": "2019-11-27T18:48:30.519969Z"
    },
    "scrolled": true
   },
   "outputs": [
    {
     "data": {
      "text/plain": [
       "0"
      ]
     },
     "execution_count": 8,
     "metadata": {},
     "output_type": "execute_result"
    }
   ],
   "source": [
    "proj_wgs = osr.SpatialReference()\n",
    "proj_wgs.ImportFromEPSG(4326)\n",
    "\n",
    "proj_aeqd = osr.SpatialReference()\n",
    "proj_aeqd.ImportFromEPSG(54032)\n",
    "\n",
    "proj_IL = osr.SpatialReference()\n",
    "proj_IL.ImportFromEPSG(26771)\n",
    "\n",
    "proj_IL_UTM = osr.SpatialReference()\n",
    "proj_IL_UTM.ImportFromEPSG(26916)"
   ]
  },
  {
   "cell_type": "markdown",
   "metadata": {},
   "source": [
    "Put the two coordinate grids in one array."
   ]
  },
  {
   "cell_type": "code",
   "execution_count": 9,
   "metadata": {
    "ExecuteTime": {
     "end_time": "2019-11-27T18:48:30.639145Z",
     "start_time": "2019-11-27T18:48:30.623518Z"
    }
   },
   "outputs": [],
   "source": [
    "grid_xy = np.zeros((300,300,2))\n",
    "\n",
    "grid_xy[:,:,0] = x_rad\n",
    "grid_xy[:,:,1] = y_rad"
   ]
  },
  {
   "cell_type": "markdown",
   "metadata": {},
   "source": [
    "Reproject the radar grid to UTM, to match the shapefile."
   ]
  },
  {
   "cell_type": "code",
   "execution_count": 10,
   "metadata": {
    "ExecuteTime": {
     "end_time": "2019-11-27T18:48:30.805582Z",
     "start_time": "2019-11-27T18:48:30.640152Z"
    }
   },
   "outputs": [],
   "source": [
    "grid_xy_utm = wrl.georef.reproject(grid_xy,\n",
    "                                projection_source=proj_wgs,\n",
    "                                projection_target=proj_IL_UTM)\n",
    "\n",
    "# grid_xy_utm = wrl.georef.reproject(grid_xy,\n",
    "#                                 projection_source=proj_aeqd,\n",
    "#                                 projection_target=proj_IL_UTM)"
   ]
  },
  {
   "cell_type": "code",
   "execution_count": 11,
   "metadata": {
    "ExecuteTime": {
     "end_time": "2019-11-27T18:48:30.822213Z",
     "start_time": "2019-11-27T18:48:30.806588Z"
    }
   },
   "outputs": [
    {
     "data": {
      "text/plain": [
       "array([[[ 284847.57546232, 4485132.08909503],\n",
       "        [ 285672.43041583, 4485122.09771765],\n",
       "        [ 286497.28178539, 4485112.10541526],\n",
       "        ...,\n",
       "        [ 529731.16477703, 4482122.56077514],\n",
       "        [ 530555.55719424, 4482112.28006985],\n",
       "        [ 531379.95009244, 4482101.99834006]],\n",
       "\n",
       "       [[ 284857.5242393 , 4485953.74522311],\n",
       "        [ 285682.3801497 , 4485943.75093724],\n",
       "        [ 286507.23247643, 4485933.75573553],\n",
       "        ...,\n",
       "        [ 529741.40993718, 4482943.75539302],\n",
       "        [ 530565.80339401, 4482933.47449603],\n",
       "        [ 531390.19733213, 4482923.19258367]],\n",
       "\n",
       "       [[ 284867.47523913, 4486775.40233558],\n",
       "        [ 285692.33210185, 4486765.40514143],\n",
       "        [ 286517.18538117, 4486755.40704063],\n",
       "        ...,\n",
       "        [ 529751.6559627 , 4483764.95106108],\n",
       "        [ 530576.05045459, 4483754.66997262],\n",
       "        [ 531400.44542805, 4483744.38787791]],\n",
       "\n",
       "       ...,\n",
       "\n",
       "       [[ 287899.37109369, 4729207.35430143],\n",
       "        [ 288724.30857893, 4729196.50906413],\n",
       "        [ 289549.24256788, 4729185.66562465],\n",
       "        ...,\n",
       "        [ 532811.2778056 , 4726063.71593491],\n",
       "        [ 533635.77831884, 4726053.3882719 ],\n",
       "        [ 534460.27939773, 4726043.06229841]],\n",
       "\n",
       "       [[ 287909.97291379, 4730029.30399533],\n",
       "        [ 288734.90999296, 4730018.45591799],\n",
       "        [ 289559.84357615, 4730007.60964765],\n",
       "        ...,\n",
       "        [ 532821.77245814, 4726885.22433155],\n",
       "        [ 533646.27265468, 4726874.8965446 ],\n",
       "        [ 534470.77341717, 4726864.57045631]],\n",
       "\n",
       "       [[ 287920.57690797, 4730851.25468075],\n",
       "        [ 288745.51357648, 4730840.40376362],\n",
       "        [ 289570.44674933, 4730829.55466265],\n",
       "        ...,\n",
       "        [ 532832.26792494, 4727706.73379   ],\n",
       "        [ 533656.76780022, 4727696.40587936],\n",
       "        [ 534481.26824172, 4727686.0796765 ]]])"
      ]
     },
     "execution_count": 11,
     "metadata": {},
     "output_type": "execute_result"
    }
   ],
   "source": [
    "grid_xy_utm"
   ]
  },
  {
   "cell_type": "code",
   "execution_count": 12,
   "metadata": {
    "ExecuteTime": {
     "end_time": "2019-11-27T18:48:30.839382Z",
     "start_time": "2019-11-27T18:48:30.823724Z"
    }
   },
   "outputs": [],
   "source": [
    "x_rad_utm = grid_xy_utm[:,:,0]\n",
    "y_rad_utm = grid_xy_utm[:,:,1]"
   ]
  },
  {
   "cell_type": "markdown",
   "metadata": {},
   "source": [
    "Create a mask to reduce size."
   ]
  },
  {
   "cell_type": "code",
   "execution_count": 13,
   "metadata": {
    "ExecuteTime": {
     "end_time": "2019-11-27T18:48:30.855937Z",
     "start_time": "2019-11-27T18:48:30.840389Z"
    }
   },
   "outputs": [],
   "source": [
    "# Reduce grid size using a bounding box (to enhancing performance)\n",
    "bbox = inLayer.GetExtent()"
   ]
  },
  {
   "cell_type": "code",
   "execution_count": 14,
   "metadata": {
    "ExecuteTime": {
     "end_time": "2019-11-27T18:48:30.905537Z",
     "start_time": "2019-11-27T18:48:30.858929Z"
    }
   },
   "outputs": [
    {
     "name": "stdout",
     "output_type": "stream",
     "text": [
      "(429833.0111856869, 454775.7552739343, 4619778.345386352, 4657770.209322866)\n"
     ]
    }
   ],
   "source": [
    "print(bbox) # in UTM"
   ]
  },
  {
   "cell_type": "code",
   "execution_count": 15,
   "metadata": {
    "ExecuteTime": {
     "end_time": "2019-11-27T18:48:30.929750Z",
     "start_time": "2019-11-27T18:48:30.908527Z"
    }
   },
   "outputs": [],
   "source": [
    "buffer = 5000.\n",
    "bbox = dict(left=bbox[0] - buffer, right=bbox[1] + buffer,\n",
    "            bottom=bbox[2] - buffer, top=bbox[3] + buffer)\n",
    "mask = (((grid_xy_utm[..., 1] > bbox['bottom']) & (grid_xy_utm[..., 1] < bbox['top'])) &\n",
    "        ((grid_xy_utm[..., 0] > bbox['left']) & (grid_xy_utm[..., 0] < bbox['right'])))"
   ]
  },
  {
   "cell_type": "code",
   "execution_count": 16,
   "metadata": {
    "ExecuteTime": {
     "end_time": "2019-11-27T18:48:30.970777Z",
     "start_time": "2019-11-27T18:48:30.932742Z"
    }
   },
   "outputs": [
    {
     "data": {
      "text/plain": [
       "array([[False, False, False, ..., False, False, False],\n",
       "       [False, False, False, ..., False, False, False],\n",
       "       [False, False, False, ..., False, False, False],\n",
       "       ...,\n",
       "       [False, False, False, ..., False, False, False],\n",
       "       [False, False, False, ..., False, False, False],\n",
       "       [False, False, False, ..., False, False, False]])"
      ]
     },
     "execution_count": 16,
     "metadata": {},
     "output_type": "execute_result"
    }
   ],
   "source": [
    "mask"
   ]
  },
  {
   "cell_type": "markdown",
   "metadata": {},
   "source": [
    "Have a look at the mask."
   ]
  },
  {
   "cell_type": "code",
   "execution_count": 17,
   "metadata": {
    "ExecuteTime": {
     "end_time": "2019-11-27T18:48:31.455755Z",
     "start_time": "2019-11-27T18:48:30.972772Z"
    }
   },
   "outputs": [
    {
     "name": "stdout",
     "output_type": "stream",
     "text": [
      "(300, 300)\n"
     ]
    },
    {
     "data": {
      "text/plain": [
       "<matplotlib.collections.QuadMesh at 0x1fdb7555da0>"
      ]
     },
     "execution_count": 17,
     "metadata": {},
     "output_type": "execute_result"
    },
    {
     "data": {
      "image/png": "[encoded data removed]",
      "text/plain": [
       "<Figure size 432x288 with 1 Axes>"
      ]
     },
     "metadata": {
      "needs_background": "light"
     },
     "output_type": "display_data"
    }
   ],
   "source": [
    "print(mask.shape)\n",
    "plt.pcolormesh(mask)"
   ]
  },
  {
   "cell_type": "code",
   "execution_count": 18,
   "metadata": {
    "ExecuteTime": {
     "end_time": "2019-11-27T18:48:31.472389Z",
     "start_time": "2019-11-27T18:48:31.456762Z"
    }
   },
   "outputs": [],
   "source": [
    "# Create vertices for each grid cell\n",
    "# (MUST BE DONE IN NATIVE COORDINATES)\n",
    "\n",
    "grdverts = wrl.zonalstats.grid_centers_to_vertices(x_rad_utm[mask],\n",
    "                                                   y_rad_utm[mask], 824,\n",
    "                                                   824)"
   ]
  },
  {
   "cell_type": "code",
   "execution_count": 19,
   "metadata": {
    "ExecuteTime": {
     "end_time": "2019-11-27T18:48:31.489024Z",
     "start_time": "2019-11-27T18:48:31.473397Z"
    }
   },
   "outputs": [
    {
     "data": {
      "text/plain": [
       "array([[[ 424608.10031457, 4614448.68211735],\n",
       "        [ 425432.10031457, 4614448.68211735],\n",
       "        [ 425432.10031457, 4615272.68211735],\n",
       "        [ 424608.10031457, 4615272.68211735],\n",
       "        [ 424608.10031457, 4614448.68211735]],\n",
       "\n",
       "       [[ 425432.64777443, 4614438.31426381],\n",
       "        [ 426256.64777443, 4614438.31426381],\n",
       "        [ 426256.64777443, 4615262.31426381],\n",
       "        [ 425432.64777443, 4615262.31426381],\n",
       "        [ 425432.64777443, 4614438.31426381]],\n",
       "\n",
       "       [[ 426257.19399653, 4614427.94689258],\n",
       "        [ 427081.19399653, 4614427.94689258],\n",
       "        [ 427081.19399653, 4615251.94689258],\n",
       "        [ 426257.19399653, 4615251.94689258],\n",
       "        [ 426257.19399653, 4614427.94689258]],\n",
       "\n",
       "       ...,\n",
       "\n",
       "       [[ 457367.29672235, 4661688.45404447],\n",
       "        [ 458191.29672235, 4661688.45404447],\n",
       "        [ 458191.29672235, 4662512.45404447],\n",
       "        [ 457367.29672235, 4662512.45404447],\n",
       "        [ 457367.29672235, 4661688.45404447]],\n",
       "\n",
       "       [[ 458191.81493005, 4661678.04839856],\n",
       "        [ 459015.81493005, 4661678.04839856],\n",
       "        [ 459015.81493005, 4662502.04839856],\n",
       "        [ 458191.81493005, 4662502.04839856],\n",
       "        [ 458191.81493005, 4661678.04839856]],\n",
       "\n",
       "       [[ 459016.33245025, 4661667.64375151],\n",
       "        [ 459840.33245025, 4661667.64375151],\n",
       "        [ 459840.33245025, 4662491.64375151],\n",
       "        [ 459016.33245025, 4662491.64375151],\n",
       "        [ 459016.33245025, 4661667.64375151]]])"
      ]
     },
     "execution_count": 19,
     "metadata": {},
     "output_type": "execute_result"
    }
   ],
   "source": [
    "grdverts"
   ]
  },
  {
   "cell_type": "code",
   "execution_count": null,
   "metadata": {},
   "outputs": [],
   "source": []
  },
  {
   "cell_type": "code",
   "execution_count": 20,
   "metadata": {
    "ExecuteTime": {
     "end_time": "2019-11-27T18:48:31.505659Z",
     "start_time": "2019-11-27T18:48:31.490032Z"
    }
   },
   "outputs": [],
   "source": [
    "# # And reproject to Cartesian reference system (here: UTM)\n",
    "# grdverts = wrl.georef.reproject(grdverts,\n",
    "#                                 projection_source=proj_wgs,\n",
    "#                                 projection_target=proj_IL_UTM)"
   ]
  },
  {
   "cell_type": "code",
   "execution_count": 21,
   "metadata": {
    "ExecuteTime": {
     "end_time": "2019-11-27T18:48:31.522035Z",
     "start_time": "2019-11-27T18:48:31.506668Z"
    }
   },
   "outputs": [
    {
     "data": {
      "text/plain": [
       "(2456, 5, 2)"
      ]
     },
     "execution_count": 21,
     "metadata": {},
     "output_type": "execute_result"
    }
   ],
   "source": [
    "grdverts.shape"
   ]
  },
  {
   "cell_type": "code",
   "execution_count": 22,
   "metadata": {
    "ExecuteTime": {
     "end_time": "2019-11-27T18:48:31.539985Z",
     "start_time": "2019-11-27T18:48:31.525024Z"
    }
   },
   "outputs": [
    {
     "data": {
      "text/plain": [
       "array([[-89.53860964, -89.52888271, -89.51915575, ..., -86.64917921,\n",
       "        -86.63945225, -86.62972532],\n",
       "       [-89.53877123, -89.52904323, -89.51931519, ..., -86.64901978,\n",
       "        -86.63929173, -86.62956373],\n",
       "       [-89.53893288, -89.52920379, -89.51947467, ..., -86.64886029,\n",
       "        -86.63913117, -86.62940208],\n",
       "       ...,\n",
       "       [-89.58898186, -89.57891828, -89.56885465, ..., -86.59948031,\n",
       "        -86.58941668, -86.5793531 ],\n",
       "       [-89.5891599 , -89.57909512, -89.56903031, ..., -86.59930466,\n",
       "        -86.58923984, -86.57917506],\n",
       "       [-89.58933799, -89.57927202, -89.56920602, ..., -86.59912894,\n",
       "        -86.58906294, -86.57899697]])"
      ]
     },
     "execution_count": 22,
     "metadata": {},
     "output_type": "execute_result"
    }
   ],
   "source": [
    "x_rad"
   ]
  },
  {
   "cell_type": "code",
   "execution_count": 23,
   "metadata": {
    "ExecuteTime": {
     "end_time": "2019-11-27T18:48:31.565915Z",
     "start_time": "2019-11-27T18:48:31.547963Z"
    }
   },
   "outputs": [
    {
     "data": {
      "text/plain": [
       "array([[40.48902186, 40.48914524, 40.48926779, ..., 40.48926779,\n",
       "        40.48914524, 40.48902186],\n",
       "       [40.49641948, 40.49654288, 40.49666546, ..., 40.49666546,\n",
       "        40.49654288, 40.49641948],\n",
       "       [40.5038171 , 40.50394053, 40.50406312, ..., 40.50406312,\n",
       "        40.50394053, 40.5038171 ],\n",
       "       ...,\n",
       "       [42.68609643, 42.68622594, 42.68635458, ..., 42.68635458,\n",
       "        42.68622594, 42.68609643],\n",
       "       [42.69349392, 42.69362345, 42.69375211, ..., 42.69375211,\n",
       "        42.69362345, 42.69349392],\n",
       "       [42.70089141, 42.70102096, 42.70114964, ..., 42.70114964,\n",
       "        42.70102096, 42.70089141]])"
      ]
     },
     "execution_count": 23,
     "metadata": {},
     "output_type": "execute_result"
    }
   ],
   "source": [
    "y_rad"
   ]
  },
  {
   "cell_type": "code",
   "execution_count": 24,
   "metadata": {
    "ExecuteTime": {
     "end_time": "2019-11-27T18:48:31.610871Z",
     "start_time": "2019-11-27T18:48:31.569904Z"
    }
   },
   "outputs": [
    {
     "data": {
      "text/plain": [
       "array([[ 424608.10031457, 4614448.68211735],\n",
       "       [ 425432.10031457, 4614448.68211735],\n",
       "       [ 425432.10031457, 4615272.68211735],\n",
       "       [ 424608.10031457, 4615272.68211735],\n",
       "       [ 424608.10031457, 4614448.68211735]])"
      ]
     },
     "execution_count": 24,
     "metadata": {},
     "output_type": "execute_result"
    }
   ],
   "source": [
    "grdverts[0]"
   ]
  },
  {
   "cell_type": "code",
   "execution_count": 25,
   "metadata": {
    "ExecuteTime": {
     "end_time": "2019-11-27T18:48:31.989093Z",
     "start_time": "2019-11-27T18:48:31.613862Z"
    }
   },
   "outputs": [
    {
     "name": "stdout",
     "output_type": "stream",
     "text": [
      "424608.1003145724\n",
      "4614448.682117352\n",
      "425432.1003145724\n",
      "4614448.682117352\n",
      "425432.1003145724\n",
      "4615272.682117352\n",
      "424608.1003145724\n",
      "4615272.682117352\n",
      "424608.1003145724\n",
      "4614448.682117352\n"
     ]
    },
    {
     "data": {
      "image/png": "[encoded data removed]",
      "text/plain": [
       "<Figure size 720x576 with 1 Axes>"
      ]
     },
     "metadata": {
      "needs_background": "light"
     },
     "output_type": "display_data"
    }
   ],
   "source": [
    "fig = plt.figure(figsize=(10,8))\n",
    "ax = fig.add_subplot(111, aspect=\"equal\")\n",
    "\n",
    "for i in range(len(grdverts[0])):\n",
    "    print(grdverts[0][i][0])\n",
    "    print(grdverts[0][i][1])\n",
    "    x = grdverts[0][i][0]\n",
    "    y = grdverts[0][i][1]\n",
    "    ax.plot(x,y,'bo')\n",
    "    #plt.set_xlim(np.min(grdverts[0])-100,)"
   ]
  },
  {
   "cell_type": "code",
   "execution_count": 26,
   "metadata": {
    "ExecuteTime": {
     "end_time": "2019-11-27T18:48:32.001027Z",
     "start_time": "2019-11-27T18:48:31.990101Z"
    }
   },
   "outputs": [
    {
     "data": {
      "text/plain": [
       "424608.1003145724"
      ]
     },
     "execution_count": 26,
     "metadata": {},
     "output_type": "execute_result"
    }
   ],
   "source": [
    "np.min(grdverts[0])"
   ]
  },
  {
   "cell_type": "markdown",
   "metadata": {},
   "source": [
    "Create instance of type ZonalDataPoly from source grid and catchment array. This needs to be done only once, then dump to file. The files that will be saved are the `src` shapefile (radar pixels), `trg` shapefile (original catchment), and `dst` shapefile (the radar pixels cut according to `trg`). "
   ]
  },
  {
   "cell_type": "code",
   "execution_count": 27,
   "metadata": {
    "ExecuteTime": {
     "end_time": "2019-11-27T18:48:32.014991Z",
     "start_time": "2019-11-27T18:48:32.004018Z"
    }
   },
   "outputs": [
    {
     "data": {
      "text/plain": [
       "array([array([[ 436756.71818262, 4646857.36044042],\n",
       "       [ 436766.34952442, 4646902.414535  ],\n",
       "       [ 436789.07418281, 4646894.50034369],\n",
       "       [ 436815.47399175, 4646887.63295437],\n",
       "       [ 436902.93912884, 4646886.1378362 ],\n",
       "       [ 436960.95122718, 4646844.55174357],\n",
       "       [ 437103.69216772, 4646740.93084579],\n",
       "       [ 437278.99170261, 4646599.92524794],\n",
       "       [ 437379.59303903, 4646542.05870377],\n",
       "       [ 437373.75237394, 4646523.70268888],\n",
       "       [ 437496.64526745, 4646424.85143676],\n",
       "       [ 437505.50802888, 4646434.47171884],\n",
       "       [ 437552.92785577, 4646395.83713081],\n",
       "       [ 437682.38991352, 4646290.359696  ],\n",
       "       [ 437716.17943166, 4646248.26521431],\n",
       "       [ 437747.17628564, 4646223.33238283],\n",
       "       [ 437833.70741198, 4646129.89939992],\n",
       "       [ 437868.88165185, 4646099.68815832],\n",
       "       [ 437895.43183658, 4646083.62759679],\n",
       "       [ 437907.7365234 , 4646076.18423268],\n",
       "       [ 437982.68837633, 4646037.1071062 ],\n",
       "       [ 438057.68269304, 4646006.13409282],\n",
       "       [ 438059.89286034, 4646000.34932054],\n",
       "       [ 438085.35057749, 4645938.98968462],\n",
       "       [ 438027.27651329, 4645940.89392702],\n",
       "       [ 438000.70067826, 4645948.22795364],\n",
       "       [ 437818.55348566, 4646078.60881494],\n",
       "       [ 437825.61507643, 4646079.07158657],\n",
       "       [ 437796.04433568, 4646104.80454075],\n",
       "       [ 437787.69269548, 4646104.76363708],\n",
       "       [ 437590.26160404, 4646269.21162962],\n",
       "       [ 437299.78804495, 4646481.48120222],\n",
       "       [ 437340.2315405 , 4646481.24452892],\n",
       "       [ 437311.14410408, 4646503.38383889],\n",
       "       [ 437265.525589  , 4646536.52808472],\n",
       "       [ 437237.27913115, 4646535.92184868],\n",
       "       [ 437217.27645107, 4646549.82872427],\n",
       "       [ 437144.4423292 , 4646618.59166241],\n",
       "       [ 437103.39153676, 4646652.05511908],\n",
       "       [ 436985.74877446, 4646747.95384442],\n",
       "       [ 436865.18356046, 4646818.50567099],\n",
       "       [ 436819.40112759, 4646833.51100857],\n",
       "       [ 436756.71818262, 4646857.36044042]]),\n",
       "       array([[ 431865.07708243, 4648350.62101777],\n",
       "       [ 431858.90638175, 4648293.94250641],\n",
       "       [ 431777.47568017, 4648308.66686109],\n",
       "       [ 431692.14812558, 4648321.38147169],\n",
       "       [ 431700.83528558, 4648385.31242559],\n",
       "       [ 431784.05886695, 4648366.27587015],\n",
       "       [ 431865.07708243, 4648350.62101777]]),\n",
       "       array([[ 431865.07708243, 4648350.62101777],\n",
       "       [ 431858.90638175, 4648293.94250641],\n",
       "       [ 431777.47568017, 4648308.66686109],\n",
       "       [ 431692.14812558, 4648321.38147169],\n",
       "       [ 431700.83528558, 4648385.31242559],\n",
       "       [ 431784.05886695, 4648366.27587015],\n",
       "       [ 431865.07708243, 4648350.62101777]]),\n",
       "       ...,\n",
       "       array([[ 447110.95559573, 4620733.71779766],\n",
       "       [ 446931.42590806, 4620733.36569121],\n",
       "       [ 446931.413498  , 4620739.66260246],\n",
       "       [ 446931.08849224, 4620905.39862581],\n",
       "       [ 447079.88429174, 4620905.69034738],\n",
       "       [ 447080.01565295, 4620838.69645621],\n",
       "       [ 447148.68530107, 4620839.89580681],\n",
       "       [ 447173.85687735, 4620809.69306216],\n",
       "       [ 447109.4047466 , 4620808.86111269],\n",
       "       [ 447110.95559573, 4620733.71779766]]),\n",
       "       array([[ 446571.7986057 , 4624929.19228177],\n",
       "       [ 446741.32984072, 4624932.80015153],\n",
       "       [ 446742.04358462, 4624865.9610506 ],\n",
       "       [ 446670.40329234, 4624865.19590807],\n",
       "       [ 446670.56748221, 4624849.82568339],\n",
       "       [ 446671.59452386, 4624753.6272009 ],\n",
       "       [ 446639.90251225, 4624753.28884209],\n",
       "       [ 446543.72905753, 4624752.2620719 ],\n",
       "       [ 446542.0434405 , 4624910.14049257],\n",
       "       [ 446571.99881575, 4624910.46045042],\n",
       "       [ 446571.7986057 , 4624929.19228177]]),\n",
       "       array([[ 446741.32984072, 4624932.80015153],\n",
       "       [ 446842.69694783, 4624936.73994575],\n",
       "       [ 446887.11591479, 4624937.21414499],\n",
       "       [ 446887.42420616, 4624908.34034996],\n",
       "       [ 446842.77336094, 4624907.86374038],\n",
       "       [ 446844.71024731, 4624755.47566912],\n",
       "       [ 446817.54324999, 4624755.18558534],\n",
       "       [ 446671.59452386, 4624753.6272009 ],\n",
       "       [ 446670.56748221, 4624849.82568339],\n",
       "       [ 446670.40329234, 4624865.19590807],\n",
       "       [ 446742.04358462, 4624865.9610506 ],\n",
       "       [ 446741.32984072, 4624932.80015153]])], dtype=object)"
      ]
     },
     "execution_count": 27,
     "metadata": {},
     "output_type": "execute_result"
    }
   ],
   "source": [
    "borders"
   ]
  },
  {
   "cell_type": "code",
   "execution_count": 28,
   "metadata": {
    "ExecuteTime": {
     "end_time": "2019-11-27T18:48:46.142443Z",
     "start_time": "2019-11-27T18:48:32.016984Z"
    }
   },
   "outputs": [
    {
     "name": "stdout",
     "output_type": "stream",
     "text": [
      "Wall time: 14.1 s\n"
     ]
    }
   ],
   "source": [
    "%%time\n",
    "# Create instance of type ZonalDataPoly from source grid and\n",
    "# catchment array\n",
    "zd = wrl.zonalstats.ZonalDataPoly(grdverts, borders)"
   ]
  },
  {
   "cell_type": "code",
   "execution_count": 29,
   "metadata": {
    "ExecuteTime": {
     "end_time": "2019-11-27T18:48:46.422463Z",
     "start_time": "2019-11-27T18:48:46.144437Z"
    }
   },
   "outputs": [
    {
     "ename": "RuntimeError",
     "evalue": "Layer 'src' already exists",
     "output_type": "error",
     "traceback": [
      "\u001b[1;31m---------------------------------------------------------------------------\u001b[0m",
      "\u001b[1;31mRuntimeError\u001b[0m                              Traceback (most recent call last)",
      "\u001b[1;32m<timed eval>\u001b[0m in \u001b[0;36m<module>\u001b[1;34m\u001b[0m\n",
      "\u001b[1;32m~\\AppData\\Local\\Continuum\\anaconda3\\envs\\saveur\\lib\\site-packages\\wradlib\\zonalstats.py\u001b[0m in \u001b[0;36mdump_vector\u001b[1;34m(self, filename, driver, remove)\u001b[0m\n\u001b[0;32m    591\u001b[0m             \u001b[1;32mif\u001b[0m \u001b[1;32mTrue\u001b[0m\u001b[1;33m,\u001b[0m \u001b[0mexisting\u001b[0m \u001b[0mfile\u001b[0m \u001b[0mwill\u001b[0m \u001b[0mbe\u001b[0m \u001b[0mremoved\u001b[0m \u001b[0mbefore\u001b[0m \u001b[0mcreation\u001b[0m\u001b[1;33m\u001b[0m\u001b[1;33m\u001b[0m\u001b[0m\n\u001b[0;32m    592\u001b[0m         \"\"\"\n\u001b[1;32m--> 593\u001b[1;33m         \u001b[0mself\u001b[0m\u001b[1;33m.\u001b[0m\u001b[0msrc\u001b[0m\u001b[1;33m.\u001b[0m\u001b[0mdump_vector\u001b[0m\u001b[1;33m(\u001b[0m\u001b[0mfilename\u001b[0m\u001b[1;33m,\u001b[0m \u001b[0mdriver\u001b[0m\u001b[1;33m,\u001b[0m \u001b[0mremove\u001b[0m\u001b[1;33m=\u001b[0m\u001b[0mremove\u001b[0m\u001b[1;33m)\u001b[0m\u001b[1;33m\u001b[0m\u001b[1;33m\u001b[0m\u001b[0m\n\u001b[0m\u001b[0;32m    594\u001b[0m         \u001b[0mself\u001b[0m\u001b[1;33m.\u001b[0m\u001b[0mtrg\u001b[0m\u001b[1;33m.\u001b[0m\u001b[0mdump_vector\u001b[0m\u001b[1;33m(\u001b[0m\u001b[0mfilename\u001b[0m\u001b[1;33m,\u001b[0m \u001b[0mdriver\u001b[0m\u001b[1;33m,\u001b[0m \u001b[0mremove\u001b[0m\u001b[1;33m=\u001b[0m\u001b[1;32mFalse\u001b[0m\u001b[1;33m)\u001b[0m\u001b[1;33m\u001b[0m\u001b[1;33m\u001b[0m\u001b[0m\n\u001b[0;32m    595\u001b[0m         \u001b[0mself\u001b[0m\u001b[1;33m.\u001b[0m\u001b[0mdst\u001b[0m\u001b[1;33m.\u001b[0m\u001b[0mdump_vector\u001b[0m\u001b[1;33m(\u001b[0m\u001b[0mfilename\u001b[0m\u001b[1;33m,\u001b[0m \u001b[0mdriver\u001b[0m\u001b[1;33m,\u001b[0m \u001b[0mremove\u001b[0m\u001b[1;33m=\u001b[0m\u001b[1;32mFalse\u001b[0m\u001b[1;33m)\u001b[0m\u001b[1;33m\u001b[0m\u001b[1;33m\u001b[0m\u001b[0m\n",
      "\u001b[1;32m~\\AppData\\Local\\Continuum\\anaconda3\\envs\\saveur\\lib\\site-packages\\wradlib\\zonalstats.py\u001b[0m in \u001b[0;36mdump_vector\u001b[1;34m(self, filename, driver, remove)\u001b[0m\n\u001b[0;32m    238\u001b[0m                                      \u001b[0mgdal_type\u001b[0m\u001b[1;33m=\u001b[0m\u001b[0mgdal\u001b[0m\u001b[1;33m.\u001b[0m\u001b[0mOF_VECTOR\u001b[0m\u001b[1;33m,\u001b[0m\u001b[1;33m\u001b[0m\u001b[1;33m\u001b[0m\u001b[0m\n\u001b[0;32m    239\u001b[0m                                      remove=remove)\n\u001b[1;32m--> 240\u001b[1;33m         \u001b[0mogr_copy_layer\u001b[0m\u001b[1;33m(\u001b[0m\u001b[0mself\u001b[0m\u001b[1;33m.\u001b[0m\u001b[0mds\u001b[0m\u001b[1;33m,\u001b[0m \u001b[1;36m0\u001b[0m\u001b[1;33m,\u001b[0m \u001b[0mds_out\u001b[0m\u001b[1;33m)\u001b[0m\u001b[1;33m\u001b[0m\u001b[1;33m\u001b[0m\u001b[0m\n\u001b[0m\u001b[0;32m    241\u001b[0m \u001b[1;33m\u001b[0m\u001b[0m\n\u001b[0;32m    242\u001b[0m         \u001b[1;31m# flush everything\u001b[0m\u001b[1;33m\u001b[0m\u001b[1;33m\u001b[0m\u001b[1;33m\u001b[0m\u001b[0m\n",
      "\u001b[1;32m~\\AppData\\Local\\Continuum\\anaconda3\\envs\\saveur\\lib\\site-packages\\wradlib\\georef\\vector.py\u001b[0m in \u001b[0;36mogr_copy_layer\u001b[1;34m(src_ds, index, dst_ds, reset)\u001b[0m\n\u001b[0;32m    218\u001b[0m         \u001b[0msrc_lyr\u001b[0m\u001b[1;33m.\u001b[0m\u001b[0mSetSpatialFilter\u001b[0m\u001b[1;33m(\u001b[0m\u001b[1;32mNone\u001b[0m\u001b[1;33m)\u001b[0m\u001b[1;33m\u001b[0m\u001b[1;33m\u001b[0m\u001b[0m\n\u001b[0;32m    219\u001b[0m         \u001b[0msrc_lyr\u001b[0m\u001b[1;33m.\u001b[0m\u001b[0mSetAttributeFilter\u001b[0m\u001b[1;33m(\u001b[0m\u001b[1;32mNone\u001b[0m\u001b[1;33m)\u001b[0m\u001b[1;33m\u001b[0m\u001b[1;33m\u001b[0m\u001b[0m\n\u001b[1;32m--> 220\u001b[1;33m     \u001b[0mdst_ds\u001b[0m\u001b[1;33m.\u001b[0m\u001b[0mCopyLayer\u001b[0m\u001b[1;33m(\u001b[0m\u001b[0msrc_lyr\u001b[0m\u001b[1;33m,\u001b[0m \u001b[0msrc_lyr\u001b[0m\u001b[1;33m.\u001b[0m\u001b[0mGetName\u001b[0m\u001b[1;33m(\u001b[0m\u001b[1;33m)\u001b[0m\u001b[1;33m)\u001b[0m\u001b[1;33m\u001b[0m\u001b[1;33m\u001b[0m\u001b[0m\n\u001b[0m\u001b[0;32m    221\u001b[0m \u001b[1;33m\u001b[0m\u001b[0m\n\u001b[0;32m    222\u001b[0m \u001b[1;33m\u001b[0m\u001b[0m\n",
      "\u001b[1;32m~\\AppData\\Local\\Continuum\\anaconda3\\envs\\saveur\\lib\\site-packages\\osgeo\\gdal.py\u001b[0m in \u001b[0;36mCopyLayer\u001b[1;34m(self, *args, **kwargs)\u001b[0m\n\u001b[0;32m   2146\u001b[0m     \u001b[1;32mdef\u001b[0m \u001b[0mCopyLayer\u001b[0m\u001b[1;33m(\u001b[0m\u001b[0mself\u001b[0m\u001b[1;33m,\u001b[0m \u001b[1;33m*\u001b[0m\u001b[0margs\u001b[0m\u001b[1;33m,\u001b[0m \u001b[1;33m**\u001b[0m\u001b[0mkwargs\u001b[0m\u001b[1;33m)\u001b[0m\u001b[1;33m:\u001b[0m\u001b[1;33m\u001b[0m\u001b[1;33m\u001b[0m\u001b[0m\n\u001b[0;32m   2147\u001b[0m         \u001b[1;34m\"\"\"CopyLayer(Dataset self, Layer src_layer, char const * new_name, char ** options=None) -> Layer\"\"\"\u001b[0m\u001b[1;33m\u001b[0m\u001b[1;33m\u001b[0m\u001b[0m\n\u001b[1;32m-> 2148\u001b[1;33m         \u001b[1;32mreturn\u001b[0m \u001b[0m_gdal\u001b[0m\u001b[1;33m.\u001b[0m\u001b[0mDataset_CopyLayer\u001b[0m\u001b[1;33m(\u001b[0m\u001b[0mself\u001b[0m\u001b[1;33m,\u001b[0m \u001b[1;33m*\u001b[0m\u001b[0margs\u001b[0m\u001b[1;33m,\u001b[0m \u001b[1;33m**\u001b[0m\u001b[0mkwargs\u001b[0m\u001b[1;33m)\u001b[0m\u001b[1;33m\u001b[0m\u001b[1;33m\u001b[0m\u001b[0m\n\u001b[0m\u001b[0;32m   2149\u001b[0m \u001b[1;33m\u001b[0m\u001b[0m\n\u001b[0;32m   2150\u001b[0m \u001b[1;33m\u001b[0m\u001b[0m\n",
      "\u001b[1;31mRuntimeError\u001b[0m: Layer 'src' already exists"
     ]
    }
   ],
   "source": [
    "%%time\n",
    "# dump to file\n",
    "zd.dump_vector('zonal_poly_cart_test')"
   ]
  },
  {
   "cell_type": "code",
   "execution_count": 30,
   "metadata": {
    "ExecuteTime": {
     "end_time": "2019-11-27T18:55:01.260139Z",
     "start_time": "2019-11-27T18:48:46.423472Z"
    }
   },
   "outputs": [
    {
     "name": "stdout",
     "output_type": "stream",
     "text": [
      "Wall time: 6min 14s\n"
     ]
    }
   ],
   "source": [
    "%%time\n",
    "# Create instance of type ZonalStatsPoint from zonal data object\n",
    "obj3 = wrl.zonalstats.ZonalStatsPoly(zd)"
   ]
  },
  {
   "cell_type": "markdown",
   "metadata": {},
   "source": [
    "### Now the looping can happen"
   ]
  },
  {
   "cell_type": "markdown",
   "metadata": {
    "ExecuteTime": {
     "end_time": "2019-08-09T16:06:23.491769Z",
     "start_time": "2019-08-09T16:06:23.486798Z"
    }
   },
   "source": [
    "Read the gridded data."
   ]
  },
  {
   "cell_type": "code",
   "execution_count": 40,
   "metadata": {
    "ExecuteTime": {
     "end_time": "2019-11-27T21:19:43.775183Z",
     "start_time": "2019-11-27T21:19:43.763189Z"
    }
   },
   "outputs": [],
   "source": [
    "file_dir = \"./gridded_KLOT_RR\"\n",
    "gridded_files = os.listdir(file_dir)\n",
    "gridded_files = [f for f in gridded_files if f.endswith('_rrA.hdf5')]"
   ]
  },
  {
   "cell_type": "code",
   "execution_count": 41,
   "metadata": {
    "ExecuteTime": {
     "end_time": "2019-11-27T21:19:47.880882Z",
     "start_time": "2019-11-27T21:19:47.855948Z"
    }
   },
   "outputs": [],
   "source": [
    "def testplot(cats, catsavg, xy, data, savefname,\n",
    "             levels=[0, 1, 2, 3, 4, 5, 10, 15, 20, 25, 30, 40, 50, 100, 150],\n",
    "             title=\"\"):\n",
    "    \"\"\"Quick test plot layout for this example file\n",
    "    \"\"\"\n",
    "    colors = plt.cm.viridis(np.linspace(0, 1, len(levels)))\n",
    "    mycmap, mynorm = from_levels_and_colors(levels, colors, extend=\"max\")\n",
    "\n",
    "    radolevels = [0, 1, 2, 3, 4, 5, 10, 15, 20, 25, 30, 40, 50, 100, 150]\n",
    "    radocolors = pyart.graph.cm_colorblind.HomeyerRainbow(np.linspace(0, 1, len(radolevels)))\n",
    "    #pyart.graph.cm_colorblind()\n",
    "    radocmap, radonorm = from_levels_and_colors(radolevels, radocolors,\n",
    "                                                extend=\"max\")\n",
    "\n",
    "    fig = plt.figure(figsize=(18, 10))\n",
    "\n",
    "    # Average rainfall sum\n",
    "    ax = fig.add_subplot(122, aspect=\"equal\")\n",
    "    coll = PatchCollection(cats, array=catsavg, cmap=radocmap, norm=mynorm,\n",
    "                           edgecolors='white', lw=0.5)\n",
    "    ax.add_collection(coll)\n",
    "    ax.autoscale()\n",
    "    plt.colorbar(coll, ax=ax, shrink=0.5)\n",
    "    plt.xlabel(\"NAD83 Z16 Easting\")\n",
    "    plt.ylabel(\"NAD83 Z16 Northing\")\n",
    "    plt.title(title)\n",
    "    plt.draw()\n",
    "\n",
    "    # Original radar data\n",
    "    ax1 = fig.add_subplot(121, aspect=\"equal\")\n",
    "    pm = plt.pcolormesh(xy[:, :, 0], xy[:, :, 1], np.ma.masked_invalid(data),\n",
    "                        cmap=radocmap, norm=radonorm)\n",
    "    coll = PatchCollection(cats, facecolor='None', edgecolor='k', lw=0.1)\n",
    "    ax1.add_collection(coll)\n",
    "    cb = plt.colorbar(pm, ax=ax1, shrink=0.5)\n",
    "    cb.set_label(\"(mm/h)\")\n",
    "    plt.xlabel(\"NAD83 Z16 Easting\")\n",
    "    plt.ylabel(\"NAD83 Z16 Northing\")\n",
    "    plt.title(\"Original radar rain sums: \" + savefname.strip('.png'))\n",
    "    ax1.set_xlim(bbox['left']-10000,bbox['right']+10000)\n",
    "    ax1.set_ylim(bbox['bottom']-10000,bbox['top']+10000)\n",
    "    #plt.draw()\n",
    "    plt.tight_layout()\n",
    "    fig.savefig(savefname)\n",
    "    plt.close()"
   ]
  },
  {
   "cell_type": "code",
   "execution_count": 33,
   "metadata": {
    "ExecuteTime": {
     "end_time": "2019-11-27T18:55:01.301993Z",
     "start_time": "2019-11-27T18:55:01.290025Z"
    }
   },
   "outputs": [],
   "source": [
    "keys_str = [str(f) for f in keys]"
   ]
  },
  {
   "cell_type": "code",
   "execution_count": 34,
   "metadata": {
    "ExecuteTime": {
     "end_time": "2019-11-27T18:55:01.312992Z",
     "start_time": "2019-11-27T18:55:01.303988Z"
    }
   },
   "outputs": [
    {
     "data": {
      "text/plain": [
       "['gridded_KLOT20130417_010000_rrA.hdf5',\n",
       " 'gridded_KLOT20130417_020000_rrA.hdf5',\n",
       " 'gridded_KLOT20130417_030000_rrA.hdf5',\n",
       " 'gridded_KLOT20130417_040000_rrA.hdf5',\n",
       " 'gridded_KLOT20130417_050000_rrA.hdf5',\n",
       " 'gridded_KLOT20130417_060000_rrA.hdf5',\n",
       " 'gridded_KLOT20130417_070000_rrA.hdf5',\n",
       " 'gridded_KLOT20130417_080000_rrA.hdf5',\n",
       " 'gridded_KLOT20130417_090000_rrA.hdf5',\n",
       " 'gridded_KLOT20130417_100000_rrA.hdf5',\n",
       " 'gridded_KLOT20130417_110000_rrA.hdf5',\n",
       " 'gridded_KLOT20130417_120000_rrA.hdf5',\n",
       " 'gridded_KLOT20130417_130000_rrA.hdf5',\n",
       " 'gridded_KLOT20130417_140000_rrA.hdf5',\n",
       " 'gridded_KLOT20130417_150000_rrA.hdf5',\n",
       " 'gridded_KLOT20130417_160000_rrA.hdf5',\n",
       " 'gridded_KLOT20130417_170000_rrA.hdf5',\n",
       " 'gridded_KLOT20130417_180000_rrA.hdf5',\n",
       " 'gridded_KLOT20130417_190000_rrA.hdf5',\n",
       " 'gridded_KLOT20130417_200000_rrA.hdf5',\n",
       " 'gridded_KLOT20130417_210000_rrA.hdf5',\n",
       " 'gridded_KLOT20130417_220000_rrA.hdf5',\n",
       " 'gridded_KLOT20130417_230000_rrA.hdf5',\n",
       " 'gridded_KLOT20130418_000000_rrA.hdf5',\n",
       " 'gridded_KLOT20130418_010000_rrA.hdf5',\n",
       " 'gridded_KLOT20130418_020000_rrA.hdf5',\n",
       " 'gridded_KLOT20130418_030000_rrA.hdf5',\n",
       " 'gridded_KLOT20130418_040000_rrA.hdf5',\n",
       " 'gridded_KLOT20130418_050000_rrA.hdf5',\n",
       " 'gridded_KLOT20130418_060000_rrA.hdf5',\n",
       " 'gridded_KLOT20130418_070000_rrA.hdf5',\n",
       " 'gridded_KLOT20130418_080000_rrA.hdf5',\n",
       " 'gridded_KLOT20130418_090000_rrA.hdf5',\n",
       " 'gridded_KLOT20130418_100000_rrA.hdf5',\n",
       " 'gridded_KLOT20130418_110000_rrA.hdf5',\n",
       " 'gridded_KLOT20130418_120000_rrA.hdf5',\n",
       " 'gridded_KLOT20130418_130000_rrA.hdf5',\n",
       " 'gridded_KLOT20130418_140000_rrA.hdf5',\n",
       " 'gridded_KLOT20130418_150000_rrA.hdf5',\n",
       " 'gridded_KLOT20130418_160000_rrA.hdf5',\n",
       " 'gridded_KLOT20130418_170000_rrA.hdf5',\n",
       " 'gridded_KLOT20130418_180000_rrA.hdf5',\n",
       " 'gridded_KLOT20130418_190000_rrA.hdf5',\n",
       " 'gridded_KLOT20130418_200000_rrA.hdf5',\n",
       " 'gridded_KLOT20130418_210000_rrA.hdf5',\n",
       " 'gridded_KLOT20130418_220000_rrA.hdf5',\n",
       " 'gridded_KLOT20130418_230000_rrA.hdf5',\n",
       " 'gridded_KLOT20130419_000000_rrA.hdf5']"
      ]
     },
     "execution_count": 34,
     "metadata": {},
     "output_type": "execute_result"
    }
   ],
   "source": [
    "gridded_files"
   ]
  },
  {
   "cell_type": "code",
   "execution_count": 35,
   "metadata": {
    "ExecuteTime": {
     "end_time": "2019-11-27T19:06:05.606272Z",
     "start_time": "2019-11-27T18:55:01.314961Z"
    }
   },
   "outputs": [
    {
     "name": "stdout",
     "output_type": "stream",
     "text": [
      "gridded_KLOT20130417_010000_rrA.hdf5\n",
      "gridded_KLOT20130417_020000_rrA.hdf5\n",
      "gridded_KLOT20130417_030000_rrA.hdf5\n",
      "gridded_KLOT20130417_040000_rrA.hdf5\n",
      "gridded_KLOT20130417_050000_rrA.hdf5\n",
      "gridded_KLOT20130417_060000_rrA.hdf5\n",
      "gridded_KLOT20130417_070000_rrA.hdf5\n",
      "gridded_KLOT20130417_080000_rrA.hdf5\n",
      "gridded_KLOT20130417_090000_rrA.hdf5\n",
      "gridded_KLOT20130417_100000_rrA.hdf5\n",
      "gridded_KLOT20130417_110000_rrA.hdf5\n",
      "gridded_KLOT20130417_120000_rrA.hdf5\n",
      "gridded_KLOT20130417_130000_rrA.hdf5\n",
      "gridded_KLOT20130417_140000_rrA.hdf5\n",
      "gridded_KLOT20130417_150000_rrA.hdf5\n",
      "gridded_KLOT20130417_160000_rrA.hdf5\n",
      "gridded_KLOT20130417_170000_rrA.hdf5\n",
      "gridded_KLOT20130417_180000_rrA.hdf5\n",
      "gridded_KLOT20130417_190000_rrA.hdf5\n",
      "gridded_KLOT20130417_200000_rrA.hdf5\n",
      "gridded_KLOT20130417_210000_rrA.hdf5\n",
      "gridded_KLOT20130417_220000_rrA.hdf5\n",
      "gridded_KLOT20130417_230000_rrA.hdf5\n",
      "gridded_KLOT20130418_000000_rrA.hdf5\n",
      "gridded_KLOT20130418_010000_rrA.hdf5\n",
      "gridded_KLOT20130418_020000_rrA.hdf5\n",
      "gridded_KLOT20130418_030000_rrA.hdf5\n",
      "gridded_KLOT20130418_040000_rrA.hdf5\n",
      "gridded_KLOT20130418_050000_rrA.hdf5\n",
      "gridded_KLOT20130418_060000_rrA.hdf5\n",
      "gridded_KLOT20130418_070000_rrA.hdf5\n",
      "gridded_KLOT20130418_080000_rrA.hdf5\n",
      "gridded_KLOT20130418_090000_rrA.hdf5\n",
      "gridded_KLOT20130418_100000_rrA.hdf5\n",
      "gridded_KLOT20130418_110000_rrA.hdf5\n",
      "gridded_KLOT20130418_120000_rrA.hdf5\n",
      "gridded_KLOT20130418_130000_rrA.hdf5\n",
      "gridded_KLOT20130418_140000_rrA.hdf5\n",
      "gridded_KLOT20130418_150000_rrA.hdf5\n",
      "gridded_KLOT20130418_160000_rrA.hdf5\n",
      "gridded_KLOT20130418_170000_rrA.hdf5\n",
      "gridded_KLOT20130418_180000_rrA.hdf5\n",
      "gridded_KLOT20130418_190000_rrA.hdf5\n",
      "gridded_KLOT20130418_200000_rrA.hdf5\n",
      "gridded_KLOT20130418_210000_rrA.hdf5\n",
      "gridded_KLOT20130418_220000_rrA.hdf5\n",
      "gridded_KLOT20130418_230000_rrA.hdf5\n",
      "gridded_KLOT20130419_000000_rrA.hdf5\n"
     ]
    }
   ],
   "source": [
    "# create empty dataframe where we will put the extracted values\n",
    "df = pd.DataFrame()\n",
    "\n",
    "for f in gridded_files:\n",
    "    print(f)\n",
    "    fn = os.path.join(file_dir, f)\n",
    "    data, attrs = wrl.io.from_hdf5(fn)\n",
    "\n",
    "    # mask data to reduce size\n",
    "    data_ = data[mask]\n",
    "    # Compute stats for target polygons\n",
    "    avg3 = obj3.mean(data_.ravel())\n",
    "    \n",
    "    # Target polygon patches\n",
    "    trg_patches = [patches.Polygon(item, True) for item in obj3.zdata.trg.data]\n",
    "    \n",
    "    # set save filename\n",
    "    savefname = fn.rsplit('\\\\')[-1].rsplit('.')[0].strip('gridded_')+'.png'\n",
    "    \n",
    "    # get time\n",
    "    dtime = str(dt.datetime.strptime(fn.rsplit('\\\\')[-1].rsplit('.')[0],'gridded_KLOT%Y%m%d_%H%M%S_rrA'))\n",
    "    \n",
    "    # plot\n",
    "    testplot(trg_patches, avg3, grid_xy_utm, data, savefname,\n",
    "         title=\"Catchment rainfall mean (ZonalStatsPoly)\")\n",
    "    \n",
    "    # put to dataframe\n",
    "    df_ = pd.DataFrame(data=[avg3],columns=keys)\n",
    "    df_['DateTime'] = dtime\n",
    "    \n",
    "    df = df.append(df_)\n"
   ]
  },
  {
   "cell_type": "code",
   "execution_count": 36,
   "metadata": {
    "ExecuteTime": {
     "end_time": "2019-11-27T19:06:05.612847Z",
     "start_time": "2019-11-27T19:06:05.606272Z"
    }
   },
   "outputs": [
    {
     "data": {
      "text/plain": [
       "'2013-04-19 00:00:00'"
      ]
     },
     "execution_count": 36,
     "metadata": {},
     "output_type": "execute_result"
    }
   ],
   "source": [
    "dtime"
   ]
  },
  {
   "cell_type": "code",
   "execution_count": 37,
   "metadata": {
    "ExecuteTime": {
     "end_time": "2019-11-27T19:06:06.903188Z",
     "start_time": "2019-11-27T19:06:05.614814Z"
    }
   },
   "outputs": [],
   "source": [
    "df.to_csv('case_study_20130417_20130418_hourlyrainfall_chicago_catchments_NODEIDS_rrA.csv')"
   ]
  },
  {
   "cell_type": "code",
   "execution_count": 38,
   "metadata": {
    "ExecuteTime": {
     "end_time": "2019-11-27T19:06:17.065029Z",
     "start_time": "2019-11-27T19:06:06.904160Z"
    }
   },
   "outputs": [
    {
     "name": "stdout",
     "output_type": "stream",
     "text": [
      "Wall time: 8.34 s\n"
     ]
    },
    {
     "data": {
      "image/png": "[encoded data removed]",
      "text/plain": [
       "<Figure size 1080x216 with 1 Axes>"
      ]
     },
     "metadata": {
      "needs_background": "light"
     },
     "output_type": "display_data"
    }
   ],
   "source": [
    "%%time\n",
    "plt.figure(figsize=[15,3])\n",
    "for key in keys[0:10000:20]:\n",
    "    plt.plot(df['DateTime'], df[key], color='0.3',alpha=0.1, lw=0.1)"
   ]
  },
  {
   "cell_type": "code",
   "execution_count": 39,
   "metadata": {
    "ExecuteTime": {
     "end_time": "2019-11-27T19:06:17.072041Z",
     "start_time": "2019-11-27T19:06:17.067024Z"
    }
   },
   "outputs": [
    {
     "data": {
      "text/plain": [
       "(300, 300)"
      ]
     },
     "execution_count": 39,
     "metadata": {},
     "output_type": "execute_result"
    }
   ],
   "source": [
    "data.shape"
   ]
  },
  {
   "cell_type": "code",
   "execution_count": null,
   "metadata": {},
   "outputs": [],
   "source": []
  }
 ],
 "metadata": {
  "kernelspec": {
   "display_name": "Python [conda env:saveur]",
   "language": "python",
   "name": "conda-env-saveur-py"
  },
  "language_info": {
   "codemirror_mode": {
    "name": "ipython",
    "version": 3
   },
   "file_extension": ".py",
   "mimetype": "text/x-python",
   "name": "python",
   "nbconvert_exporter": "python",
   "pygments_lexer": "ipython3",
   "version": "3.7.3"
  },
  "varInspector": {
   "cols": {
    "lenName": 16,
    "lenType": 16,
    "lenVar": 40
   },
   "kernels_config": {
    "python": {
     "delete_cmd_postfix": "",
     "delete_cmd_prefix": "del ",
     "library": "var_list.py",
     "varRefreshCmd": "print(var_dic_list())"
    },
    "r": {
     "delete_cmd_postfix": ") ",
     "delete_cmd_prefix": "rm(",
     "library": "var_list.r",
     "varRefreshCmd": "cat(var_dic_list()) "
    }
   },
   "types_to_exclude": [
    "module",
    "function",
    "builtin_function_or_method",
    "instance",
    "_Feature"
   ],
   "window_display": false
  }
 },
 "nbformat": 4,
 "nbformat_minor": 2
}
