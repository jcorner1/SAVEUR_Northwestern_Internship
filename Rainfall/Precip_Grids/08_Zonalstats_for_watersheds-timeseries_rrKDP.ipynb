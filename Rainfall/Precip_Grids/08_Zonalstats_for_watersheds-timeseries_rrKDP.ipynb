{
 "cells": [
  {
   "cell_type": "code",
   "execution_count": 6,
   "metadata": {
    "ExecuteTime": {
     "end_time": "2019-12-03T00:46:50.467672Z",
     "start_time": "2019-12-03T00:46:50.463208Z"
    }
   },
   "outputs": [],
   "source": [
    "import wradlib as wrl\n",
    "import matplotlib.pyplot as plt\n",
    "import matplotlib as mpl\n",
    "import warnings\n",
    "warnings.filterwarnings('ignore')\n",
    "\n",
    "from osgeo import osr\n",
    "\n",
    "import pickle\n",
    "\n",
    "import pyart\n",
    "import datetime as dt\n",
    "import numpy as np\n",
    "import pandas as pd\n",
    "import os"
   ]
  },
  {
   "cell_type": "code",
   "execution_count": 7,
   "metadata": {
    "ExecuteTime": {
     "end_time": "2019-12-03T00:46:50.476601Z",
     "start_time": "2019-12-03T00:46:50.469658Z"
    }
   },
   "outputs": [],
   "source": [
    "from matplotlib.collections import PatchCollection\n",
    "from matplotlib.colors import from_levels_and_colors\n",
    "import matplotlib.patches as patches"
   ]
  },
  {
   "cell_type": "code",
   "execution_count": 8,
   "metadata": {
    "ExecuteTime": {
     "end_time": "2019-12-03T00:46:50.487017Z",
     "start_time": "2019-12-03T00:46:50.478585Z"
    }
   },
   "outputs": [],
   "source": [
    "# import os\n",
    "\n",
    "# os.environ['LC_NUMERIC']='C'"
   ]
  },
  {
   "cell_type": "markdown",
   "metadata": {},
   "source": [
    "Read the radar grid coordinates. These coordinates are in WGS84 CRS."
   ]
  },
  {
   "cell_type": "code",
   "execution_count": 42,
   "metadata": {
    "ExecuteTime": {
     "end_time": "2019-12-03T00:57:00.452314Z",
     "start_time": "2019-12-03T00:57:00.437930Z"
    }
   },
   "outputs": [],
   "source": [
    "# Getting back the objects:\n",
    "with open('radar_grid_600x600.pkl','rb') as f:  # Python 3: open(..., 'rb')\n",
    "    x_rad, y_rad = pickle.load(f)"
   ]
  },
  {
   "cell_type": "code",
   "execution_count": 43,
   "metadata": {
    "ExecuteTime": {
     "end_time": "2019-12-03T00:57:00.801035Z",
     "start_time": "2019-12-03T00:57:00.797532Z"
    }
   },
   "outputs": [
    {
     "data": {
      "text/plain": [
       "(600, 600)"
      ]
     },
     "execution_count": 43,
     "metadata": {},
     "output_type": "execute_result"
    }
   ],
   "source": [
    "x_rad.shape"
   ]
  },
  {
   "cell_type": "markdown",
   "metadata": {},
   "source": [
    "Read the watershed shapefile."
   ]
  },
  {
   "cell_type": "code",
   "execution_count": 44,
   "metadata": {
    "ExecuteTime": {
     "end_time": "2019-12-03T00:57:01.233375Z",
     "start_time": "2019-12-03T00:57:01.230927Z"
    }
   },
   "outputs": [],
   "source": [
    "# this file is in UTM\n",
    "fname_shp = r'C:/Users/iac6311/Documents/Work/Data/GIS/USA/SAVEUR/city_detailed_utm.shp'"
   ]
  },
  {
   "cell_type": "code",
   "execution_count": 45,
   "metadata": {
    "ExecuteTime": {
     "end_time": "2019-12-03T00:57:02.359642Z",
     "start_time": "2019-12-03T00:57:01.686070Z"
    }
   },
   "outputs": [],
   "source": [
    "dataset, inLayer = wrl.io.open_vector(fname_shp)\n",
    "borders, keys = wrl.georef.get_vector_coordinates(inLayer, key='node_id')"
   ]
  },
  {
   "cell_type": "markdown",
   "metadata": {},
   "source": [
    "Define different projections that will be used in the processing."
   ]
  },
  {
   "cell_type": "code",
   "execution_count": 46,
   "metadata": {
    "ExecuteTime": {
     "end_time": "2019-12-03T00:57:02.734122Z",
     "start_time": "2019-12-03T00:57:02.717290Z"
    }
   },
   "outputs": [
    {
     "data": {
      "text/plain": [
       "0"
      ]
     },
     "execution_count": 46,
     "metadata": {},
     "output_type": "execute_result"
    }
   ],
   "source": [
    "proj_wgs = osr.SpatialReference()\n",
    "proj_wgs.ImportFromEPSG(4326)\n",
    "\n",
    "proj_aeqd = osr.SpatialReference()\n",
    "proj_aeqd.ImportFromEPSG(54032)\n",
    "\n",
    "proj_IL = osr.SpatialReference()\n",
    "proj_IL.ImportFromEPSG(26771)\n",
    "\n",
    "proj_IL_UTM = osr.SpatialReference()\n",
    "proj_IL_UTM.ImportFromEPSG(26916)"
   ]
  },
  {
   "cell_type": "markdown",
   "metadata": {},
   "source": [
    "Put the two coordinate grids in one array."
   ]
  },
  {
   "cell_type": "code",
   "execution_count": 47,
   "metadata": {
    "ExecuteTime": {
     "end_time": "2019-12-03T00:57:04.883468Z",
     "start_time": "2019-12-03T00:57:04.877484Z"
    }
   },
   "outputs": [],
   "source": [
    "grid_xy = np.zeros((600,600,2))\n",
    "\n",
    "grid_xy[:,:,0] = x_rad\n",
    "grid_xy[:,:,1] = y_rad"
   ]
  },
  {
   "cell_type": "markdown",
   "metadata": {},
   "source": [
    "Reproject the radar grid to UTM, to match the shapefile."
   ]
  },
  {
   "cell_type": "code",
   "execution_count": 48,
   "metadata": {
    "ExecuteTime": {
     "end_time": "2019-12-03T00:57:06.497921Z",
     "start_time": "2019-12-03T00:57:06.149238Z"
    }
   },
   "outputs": [],
   "source": [
    "grid_xy_utm = wrl.georef.reproject(grid_xy,\n",
    "                                projection_source=proj_wgs,\n",
    "                                projection_target=proj_IL_UTM)\n",
    "\n",
    "# grid_xy_utm = wrl.georef.reproject(grid_xy,\n",
    "#                                 projection_source=proj_aeqd,\n",
    "#                                 projection_target=proj_IL_UTM)"
   ]
  },
  {
   "cell_type": "code",
   "execution_count": 49,
   "metadata": {
    "ExecuteTime": {
     "end_time": "2019-12-03T00:57:06.538609Z",
     "start_time": "2019-12-03T00:57:06.535135Z"
    }
   },
   "outputs": [],
   "source": [
    "x_rad_utm = grid_xy_utm[:,:,0]\n",
    "y_rad_utm = grid_xy_utm[:,:,1]"
   ]
  },
  {
   "cell_type": "markdown",
   "metadata": {},
   "source": [
    "Create a mask to reduce size."
   ]
  },
  {
   "cell_type": "code",
   "execution_count": 50,
   "metadata": {
    "ExecuteTime": {
     "end_time": "2019-12-03T00:57:08.735307Z",
     "start_time": "2019-12-03T00:57:08.732826Z"
    }
   },
   "outputs": [],
   "source": [
    "# Reduce grid size using a bounding box (to enhancing performance)\n",
    "bbox = inLayer.GetExtent()"
   ]
  },
  {
   "cell_type": "code",
   "execution_count": 51,
   "metadata": {
    "ExecuteTime": {
     "end_time": "2019-12-03T00:57:08.936488Z",
     "start_time": "2019-12-03T00:57:08.933510Z"
    }
   },
   "outputs": [
    {
     "name": "stdout",
     "output_type": "stream",
     "text": [
      "(429833.0111856869, 454775.7552739343, 4619778.345386352, 4657770.209322866)\n"
     ]
    }
   ],
   "source": [
    "print(bbox) # in UTM"
   ]
  },
  {
   "cell_type": "code",
   "execution_count": 52,
   "metadata": {
    "ExecuteTime": {
     "end_time": "2019-12-03T00:57:09.357858Z",
     "start_time": "2019-12-03T00:57:09.348930Z"
    }
   },
   "outputs": [],
   "source": [
    "buffer = 5000.\n",
    "bbox = dict(left=bbox[0] - buffer, right=bbox[1] + buffer,\n",
    "            bottom=bbox[2] - buffer, top=bbox[3] + buffer)\n",
    "mask = (((grid_xy_utm[..., 1] > bbox['bottom']) & (grid_xy_utm[..., 1] < bbox['top'])) &\n",
    "        ((grid_xy_utm[..., 0] > bbox['left']) & (grid_xy_utm[..., 0] < bbox['right'])))"
   ]
  },
  {
   "cell_type": "code",
   "execution_count": 53,
   "metadata": {
    "ExecuteTime": {
     "end_time": "2019-12-03T00:57:09.752069Z",
     "start_time": "2019-12-03T00:57:09.748565Z"
    }
   },
   "outputs": [
    {
     "data": {
      "text/plain": [
       "array([[False, False, False, ..., False, False, False],\n",
       "       [False, False, False, ..., False, False, False],\n",
       "       [False, False, False, ..., False, False, False],\n",
       "       ...,\n",
       "       [False, False, False, ..., False, False, False],\n",
       "       [False, False, False, ..., False, False, False],\n",
       "       [False, False, False, ..., False, False, False]])"
      ]
     },
     "execution_count": 53,
     "metadata": {},
     "output_type": "execute_result"
    }
   ],
   "source": [
    "mask"
   ]
  },
  {
   "cell_type": "markdown",
   "metadata": {},
   "source": [
    "Have a look at the mask."
   ]
  },
  {
   "cell_type": "code",
   "execution_count": 54,
   "metadata": {
    "ExecuteTime": {
     "end_time": "2019-12-03T00:57:10.893430Z",
     "start_time": "2019-12-03T00:57:10.421694Z"
    }
   },
   "outputs": [
    {
     "name": "stdout",
     "output_type": "stream",
     "text": [
      "(600, 600)\n"
     ]
    },
    {
     "data": {
      "text/plain": [
       "<matplotlib.collections.QuadMesh at 0x23370b4f828>"
      ]
     },
     "execution_count": 54,
     "metadata": {},
     "output_type": "execute_result"
    },
    {
     "data": {
      "image/png": "[encoded data removed]",
      "text/plain": [
       "<Figure size 432x288 with 1 Axes>"
      ]
     },
     "metadata": {
      "needs_background": "light"
     },
     "output_type": "display_data"
    }
   ],
   "source": [
    "print(mask.shape)\n",
    "plt.pcolormesh(mask)"
   ]
  },
  {
   "cell_type": "code",
   "execution_count": 55,
   "metadata": {
    "ExecuteTime": {
     "end_time": "2019-12-03T00:57:10.936082Z",
     "start_time": "2019-12-03T00:57:10.930096Z"
    }
   },
   "outputs": [],
   "source": [
    "# Create vertices for each grid cell\n",
    "# (MUST BE DONE IN NATIVE COORDINATES)\n",
    "\n",
    "grdverts = wrl.zonalstats.grid_centers_to_vertices(x_rad_utm[mask],\n",
    "                                                   y_rad_utm[mask], 824,\n",
    "                                                   824)"
   ]
  },
  {
   "cell_type": "code",
   "execution_count": null,
   "metadata": {},
   "outputs": [],
   "source": []
  },
  {
   "cell_type": "code",
   "execution_count": 56,
   "metadata": {
    "ExecuteTime": {
     "end_time": "2019-12-03T00:57:12.983746Z",
     "start_time": "2019-12-03T00:57:12.981302Z"
    }
   },
   "outputs": [],
   "source": [
    "# # And reproject to Cartesian reference system (here: UTM)\n",
    "# grdverts = wrl.georef.reproject(grdverts,\n",
    "#                                 projection_source=proj_wgs,\n",
    "#                                 projection_target=proj_IL_UTM)"
   ]
  },
  {
   "cell_type": "code",
   "execution_count": 57,
   "metadata": {
    "ExecuteTime": {
     "end_time": "2019-12-03T00:57:13.184629Z",
     "start_time": "2019-12-03T00:57:13.181156Z"
    }
   },
   "outputs": [
    {
     "data": {
      "text/plain": [
       "(9930, 5, 2)"
      ]
     },
     "execution_count": 57,
     "metadata": {},
     "output_type": "execute_result"
    }
   ],
   "source": [
    "grdverts.shape"
   ]
  },
  {
   "cell_type": "code",
   "execution_count": 58,
   "metadata": {
    "ExecuteTime": {
     "end_time": "2019-12-03T00:57:13.858199Z",
     "start_time": "2019-12-03T00:57:13.853735Z"
    }
   },
   "outputs": [
    {
     "data": {
      "text/plain": [
       "array([[-89.53860964, -89.5337543 , -89.52889895, ..., -86.63943601,\n",
       "        -86.63458066, -86.62972532],\n",
       "       [-89.5386903 , -89.53383469, -89.52897907, ..., -86.63935589,\n",
       "        -86.63450027, -86.62964467],\n",
       "       [-89.53877096, -89.53391509, -89.5290592 , ..., -86.63927576,\n",
       "        -86.63441988, -86.629564  ],\n",
       "       ...,\n",
       "       [-89.58916019, -89.58413621, -89.57911222, ..., -86.58922274,\n",
       "        -86.58419875, -86.57917477],\n",
       "       [-89.58924908, -89.58422481, -89.57920052, ..., -86.58913444,\n",
       "        -86.58411016, -86.57908588],\n",
       "       [-89.58933799, -89.58431341, -89.57928883, ..., -86.58904613,\n",
       "        -86.58402155, -86.57899697]])"
      ]
     },
     "execution_count": 58,
     "metadata": {},
     "output_type": "execute_result"
    }
   ],
   "source": [
    "x_rad"
   ]
  },
  {
   "cell_type": "code",
   "execution_count": 59,
   "metadata": {
    "ExecuteTime": {
     "end_time": "2019-12-03T00:57:15.985058Z",
     "start_time": "2019-12-03T00:57:15.981558Z"
    }
   },
   "outputs": [
    {
     "data": {
      "text/plain": [
       "array([[40.48902186, 40.48908355, 40.48914503, ..., 40.48914503,\n",
       "        40.48908355, 40.48902186],\n",
       "       [40.49271449, 40.49277619, 40.49283768, ..., 40.49283768,\n",
       "        40.49277619, 40.49271449],\n",
       "       [40.49640713, 40.49646883, 40.49653033, ..., 40.49653033,\n",
       "        40.49646883, 40.49640713],\n",
       "       ...,\n",
       "       [42.69350627, 42.69357104, 42.69363558, ..., 42.69363558,\n",
       "        42.69357104, 42.69350627],\n",
       "       [42.69719884, 42.69726361, 42.69732816, ..., 42.69732816,\n",
       "        42.69726361, 42.69719884],\n",
       "       [42.70089141, 42.70095618, 42.70102074, ..., 42.70102074,\n",
       "        42.70095618, 42.70089141]])"
      ]
     },
     "execution_count": 59,
     "metadata": {},
     "output_type": "execute_result"
    }
   ],
   "source": [
    "y_rad"
   ]
  },
  {
   "cell_type": "code",
   "execution_count": 60,
   "metadata": {
    "ExecuteTime": {
     "end_time": "2019-12-03T00:57:23.499730Z",
     "start_time": "2019-12-03T00:57:23.495265Z"
    }
   },
   "outputs": [
    {
     "data": {
      "text/plain": [
       "array([[ 424790.82739973, 4614637.03707477],\n",
       "       [ 425614.82739973, 4614637.03707477],\n",
       "       [ 425614.82739973, 4615461.03707477],\n",
       "       [ 424790.82739973, 4615461.03707477],\n",
       "       [ 424790.82739973, 4614637.03707477]])"
      ]
     },
     "execution_count": 60,
     "metadata": {},
     "output_type": "execute_result"
    }
   ],
   "source": [
    "grdverts[0]"
   ]
  },
  {
   "cell_type": "code",
   "execution_count": 61,
   "metadata": {
    "ExecuteTime": {
     "end_time": "2019-12-03T00:57:23.949112Z",
     "start_time": "2019-12-03T00:57:23.797330Z"
    }
   },
   "outputs": [
    {
     "name": "stdout",
     "output_type": "stream",
     "text": [
      "424790.8273997268\n",
      "4614637.037074773\n",
      "425614.8273997268\n",
      "4614637.037074773\n",
      "425614.8273997268\n",
      "4615461.037074773\n",
      "424790.8273997268\n",
      "4615461.037074773\n",
      "424790.8273997268\n",
      "4614637.037074773\n"
     ]
    },
    {
     "data": {
      "image/png": "[encoded data removed]",
      "text/plain": [
       "<Figure size 720x576 with 1 Axes>"
      ]
     },
     "metadata": {
      "needs_background": "light"
     },
     "output_type": "display_data"
    }
   ],
   "source": [
    "fig = plt.figure(figsize=(10,8))\n",
    "ax = fig.add_subplot(111, aspect=\"equal\")\n",
    "\n",
    "for i in range(len(grdverts[0])):\n",
    "    print(grdverts[0][i][0])\n",
    "    print(grdverts[0][i][1])\n",
    "    x = grdverts[0][i][0]\n",
    "    y = grdverts[0][i][1]\n",
    "    ax.plot(x,y,'bo')\n",
    "    #plt.set_xlim(np.min(grdverts[0])-100,)"
   ]
  },
  {
   "cell_type": "markdown",
   "metadata": {},
   "source": [
    "Create instance of type ZonalDataPoly from source grid and catchment array. This needs to be done only once, then dump to file. The files that will be saved are the `src` shapefile (radar pixels), `trg` shapefile (original catchment), and `dst` shapefile (the radar pixels cut according to `trg`). "
   ]
  },
  {
   "cell_type": "code",
   "execution_count": 62,
   "metadata": {
    "ExecuteTime": {
     "end_time": "2019-12-03T00:57:48.615293Z",
     "start_time": "2019-12-03T00:57:24.765303Z"
    }
   },
   "outputs": [
    {
     "name": "stdout",
     "output_type": "stream",
     "text": [
      "Wall time: 23.8 s\n"
     ]
    }
   ],
   "source": [
    "%%time\n",
    "# Create instance of type ZonalDataPoly from source grid and\n",
    "# catchment array\n",
    "zd = wrl.zonalstats.ZonalDataPoly(grdverts, borders)"
   ]
  },
  {
   "cell_type": "code",
   "execution_count": 63,
   "metadata": {
    "ExecuteTime": {
     "end_time": "2019-12-03T00:57:50.385295Z",
     "start_time": "2019-12-03T00:57:48.660186Z"
    }
   },
   "outputs": [
    {
     "name": "stdout",
     "output_type": "stream",
     "text": [
      "Wall time: 1.72 s\n"
     ]
    }
   ],
   "source": [
    "%%time\n",
    "# dump to file\n",
    "zd.dump_vector('zonal_poly_cart_test')"
   ]
  },
  {
   "cell_type": "code",
   "execution_count": 64,
   "metadata": {
    "ExecuteTime": {
     "end_time": "2019-12-03T01:16:39.866700Z",
     "start_time": "2019-12-03T00:57:50.431904Z"
    }
   },
   "outputs": [
    {
     "name": "stdout",
     "output_type": "stream",
     "text": [
      "Wall time: 18min 49s\n"
     ]
    }
   ],
   "source": [
    "%%time\n",
    "# Create instance of type ZonalStatsPoint from zonal data object\n",
    "obj3 = wrl.zonalstats.ZonalStatsPoly(zd)"
   ]
  },
  {
   "cell_type": "markdown",
   "metadata": {},
   "source": [
    "### Now the looping can happen"
   ]
  },
  {
   "cell_type": "markdown",
   "metadata": {
    "ExecuteTime": {
     "end_time": "2019-08-09T16:06:23.491769Z",
     "start_time": "2019-08-09T16:06:23.486798Z"
    }
   },
   "source": [
    "Read the gridded data."
   ]
  },
  {
   "cell_type": "code",
   "execution_count": 72,
   "metadata": {
    "ExecuteTime": {
     "end_time": "2019-12-03T01:38:43.448729Z",
     "start_time": "2019-12-03T01:38:43.442778Z"
    }
   },
   "outputs": [],
   "source": [
    "file_dir = \"./gridded_600x600\"\n",
    "gridded_files = os.listdir(file_dir)\n",
    "gridded_files = [f for f in gridded_files if f.endswith('_rrZ.hdf5')]"
   ]
  },
  {
   "cell_type": "code",
   "execution_count": 73,
   "metadata": {
    "ExecuteTime": {
     "end_time": "2019-12-03T01:38:45.402970Z",
     "start_time": "2019-12-03T01:38:45.391564Z"
    }
   },
   "outputs": [],
   "source": [
    "def testplot(cats, catsavg, xy, data, savefname,\n",
    "             levels=[0, 1, 2, 3, 4, 5, 10, 15, 20, 25, 30, 40, 50, 100, 150],\n",
    "             title=\"\"):\n",
    "    \"\"\"Quick test plot layout for this example file\n",
    "    \"\"\"\n",
    "    colors = plt.cm.viridis(np.linspace(0, 1, len(levels)))\n",
    "    mycmap, mynorm = from_levels_and_colors(levels, colors, extend=\"max\")\n",
    "\n",
    "    radolevels = [0, 1, 2, 3, 4, 5, 10, 15, 20, 25, 30, 40, 50, 100, 150]\n",
    "    radocolors = pyart.graph.cm_colorblind.HomeyerRainbow(np.linspace(0, 1, len(radolevels)))\n",
    "    #pyart.graph.cm_colorblind()\n",
    "    radocmap, radonorm = from_levels_and_colors(radolevels, radocolors,\n",
    "                                                extend=\"max\")\n",
    "\n",
    "    fig = plt.figure(figsize=(18, 10))\n",
    "\n",
    "    # Average rainfall sum\n",
    "    ax = fig.add_subplot(122, aspect=\"equal\")\n",
    "    coll = PatchCollection(cats, array=catsavg, cmap=radocmap, norm=mynorm,\n",
    "                           edgecolors='white', lw=0.5)\n",
    "    ax.add_collection(coll)\n",
    "    ax.autoscale()\n",
    "    plt.colorbar(coll, ax=ax, shrink=0.5)\n",
    "    plt.xlabel(\"NAD83 Z16 Easting\")\n",
    "    plt.ylabel(\"NAD83 Z16 Northing\")\n",
    "    plt.title(title)\n",
    "    plt.draw()\n",
    "\n",
    "    # Original radar data\n",
    "    ax1 = fig.add_subplot(121, aspect=\"equal\")\n",
    "    pm = plt.pcolormesh(xy[:, :, 0], xy[:, :, 1], np.ma.masked_invalid(data),\n",
    "                        cmap=radocmap, norm=radonorm)\n",
    "    coll = PatchCollection(cats, facecolor='None', edgecolor='k', lw=0.1)\n",
    "    ax1.add_collection(coll)\n",
    "    cb = plt.colorbar(pm, ax=ax1, shrink=0.5)\n",
    "    cb.set_label(\"(mm/h)\")\n",
    "    plt.xlabel(\"NAD83 Z16 Easting\")\n",
    "    plt.ylabel(\"NAD83 Z16 Northing\")\n",
    "    plt.title(\"Original radar rain sums: \" + savefname.strip('.png'))\n",
    "    ax1.set_xlim(bbox['left']-10000,bbox['right']+10000)\n",
    "    ax1.set_ylim(bbox['bottom']-10000,bbox['top']+10000)\n",
    "    #plt.draw()\n",
    "    plt.tight_layout()\n",
    "    fig.savefig(savefname)\n",
    "    plt.close()"
   ]
  },
  {
   "cell_type": "code",
   "execution_count": 74,
   "metadata": {
    "ExecuteTime": {
     "end_time": "2019-12-03T01:38:47.388956Z",
     "start_time": "2019-12-03T01:38:47.384990Z"
    }
   },
   "outputs": [],
   "source": [
    "keys_str = [str(f) for f in keys]"
   ]
  },
  {
   "cell_type": "code",
   "execution_count": 75,
   "metadata": {
    "ExecuteTime": {
     "end_time": "2019-12-03T01:38:49.459758Z",
     "start_time": "2019-12-03T01:38:49.455791Z"
    }
   },
   "outputs": [
    {
     "data": {
      "text/plain": [
       "['gridded_600x600_KLOT20130417_010000_rrZ.hdf5',\n",
       " 'gridded_600x600_KLOT20130417_020000_rrZ.hdf5',\n",
       " 'gridded_600x600_KLOT20130417_030000_rrZ.hdf5',\n",
       " 'gridded_600x600_KLOT20130417_040000_rrZ.hdf5',\n",
       " 'gridded_600x600_KLOT20130417_050000_rrZ.hdf5',\n",
       " 'gridded_600x600_KLOT20130417_060000_rrZ.hdf5',\n",
       " 'gridded_600x600_KLOT20130417_070000_rrZ.hdf5',\n",
       " 'gridded_600x600_KLOT20130417_080000_rrZ.hdf5',\n",
       " 'gridded_600x600_KLOT20130417_090000_rrZ.hdf5',\n",
       " 'gridded_600x600_KLOT20130417_100000_rrZ.hdf5',\n",
       " 'gridded_600x600_KLOT20130417_110000_rrZ.hdf5',\n",
       " 'gridded_600x600_KLOT20130417_120000_rrZ.hdf5',\n",
       " 'gridded_600x600_KLOT20130417_130000_rrZ.hdf5',\n",
       " 'gridded_600x600_KLOT20130417_140000_rrZ.hdf5',\n",
       " 'gridded_600x600_KLOT20130417_150000_rrZ.hdf5',\n",
       " 'gridded_600x600_KLOT20130417_160000_rrZ.hdf5',\n",
       " 'gridded_600x600_KLOT20130417_170000_rrZ.hdf5',\n",
       " 'gridded_600x600_KLOT20130417_180000_rrZ.hdf5',\n",
       " 'gridded_600x600_KLOT20130417_190000_rrZ.hdf5',\n",
       " 'gridded_600x600_KLOT20130417_200000_rrZ.hdf5',\n",
       " 'gridded_600x600_KLOT20130417_210000_rrZ.hdf5',\n",
       " 'gridded_600x600_KLOT20130417_220000_rrZ.hdf5',\n",
       " 'gridded_600x600_KLOT20130417_230000_rrZ.hdf5',\n",
       " 'gridded_600x600_KLOT20130418_000000_rrZ.hdf5',\n",
       " 'gridded_600x600_KLOT20130418_010000_rrZ.hdf5',\n",
       " 'gridded_600x600_KLOT20130418_020000_rrZ.hdf5',\n",
       " 'gridded_600x600_KLOT20130418_030000_rrZ.hdf5',\n",
       " 'gridded_600x600_KLOT20130418_040000_rrZ.hdf5',\n",
       " 'gridded_600x600_KLOT20130418_050000_rrZ.hdf5',\n",
       " 'gridded_600x600_KLOT20130418_060000_rrZ.hdf5',\n",
       " 'gridded_600x600_KLOT20130418_070000_rrZ.hdf5',\n",
       " 'gridded_600x600_KLOT20130418_080000_rrZ.hdf5',\n",
       " 'gridded_600x600_KLOT20130418_090000_rrZ.hdf5',\n",
       " 'gridded_600x600_KLOT20130418_100000_rrZ.hdf5',\n",
       " 'gridded_600x600_KLOT20130418_110000_rrZ.hdf5',\n",
       " 'gridded_600x600_KLOT20130418_120000_rrZ.hdf5',\n",
       " 'gridded_600x600_KLOT20130418_130000_rrZ.hdf5',\n",
       " 'gridded_600x600_KLOT20130418_140000_rrZ.hdf5',\n",
       " 'gridded_600x600_KLOT20130418_150000_rrZ.hdf5',\n",
       " 'gridded_600x600_KLOT20130418_160000_rrZ.hdf5',\n",
       " 'gridded_600x600_KLOT20130418_170000_rrZ.hdf5',\n",
       " 'gridded_600x600_KLOT20130418_180000_rrZ.hdf5',\n",
       " 'gridded_600x600_KLOT20130418_190000_rrZ.hdf5',\n",
       " 'gridded_600x600_KLOT20130418_200000_rrZ.hdf5',\n",
       " 'gridded_600x600_KLOT20130418_210000_rrZ.hdf5',\n",
       " 'gridded_600x600_KLOT20130418_220000_rrZ.hdf5',\n",
       " 'gridded_600x600_KLOT20130418_230000_rrZ.hdf5',\n",
       " 'gridded_600x600_KLOT20130419_000000_rrZ.hdf5']"
      ]
     },
     "execution_count": 75,
     "metadata": {},
     "output_type": "execute_result"
    }
   ],
   "source": [
    "gridded_files"
   ]
  },
  {
   "cell_type": "code",
   "execution_count": 76,
   "metadata": {
    "ExecuteTime": {
     "end_time": "2019-12-03T01:48:26.076291Z",
     "start_time": "2019-12-03T01:38:54.630335Z"
    }
   },
   "outputs": [
    {
     "name": "stdout",
     "output_type": "stream",
     "text": [
      "gridded_600x600_KLOT20130417_010000_rrZ.hdf5\n",
      "gridded_600x600_KLOT20130417_020000_rrZ.hdf5\n",
      "gridded_600x600_KLOT20130417_030000_rrZ.hdf5\n",
      "gridded_600x600_KLOT20130417_040000_rrZ.hdf5\n",
      "gridded_600x600_KLOT20130417_050000_rrZ.hdf5\n",
      "gridded_600x600_KLOT20130417_060000_rrZ.hdf5\n",
      "gridded_600x600_KLOT20130417_070000_rrZ.hdf5\n",
      "gridded_600x600_KLOT20130417_080000_rrZ.hdf5\n",
      "gridded_600x600_KLOT20130417_090000_rrZ.hdf5\n",
      "gridded_600x600_KLOT20130417_100000_rrZ.hdf5\n",
      "gridded_600x600_KLOT20130417_110000_rrZ.hdf5\n",
      "gridded_600x600_KLOT20130417_120000_rrZ.hdf5\n",
      "gridded_600x600_KLOT20130417_130000_rrZ.hdf5\n",
      "gridded_600x600_KLOT20130417_140000_rrZ.hdf5\n",
      "gridded_600x600_KLOT20130417_150000_rrZ.hdf5\n",
      "gridded_600x600_KLOT20130417_160000_rrZ.hdf5\n",
      "gridded_600x600_KLOT20130417_170000_rrZ.hdf5\n",
      "gridded_600x600_KLOT20130417_180000_rrZ.hdf5\n",
      "gridded_600x600_KLOT20130417_190000_rrZ.hdf5\n",
      "gridded_600x600_KLOT20130417_200000_rrZ.hdf5\n",
      "gridded_600x600_KLOT20130417_210000_rrZ.hdf5\n",
      "gridded_600x600_KLOT20130417_220000_rrZ.hdf5\n",
      "gridded_600x600_KLOT20130417_230000_rrZ.hdf5\n",
      "gridded_600x600_KLOT20130418_000000_rrZ.hdf5\n",
      "gridded_600x600_KLOT20130418_010000_rrZ.hdf5\n",
      "gridded_600x600_KLOT20130418_020000_rrZ.hdf5\n",
      "gridded_600x600_KLOT20130418_030000_rrZ.hdf5\n",
      "gridded_600x600_KLOT20130418_040000_rrZ.hdf5\n",
      "gridded_600x600_KLOT20130418_050000_rrZ.hdf5\n",
      "gridded_600x600_KLOT20130418_060000_rrZ.hdf5\n",
      "gridded_600x600_KLOT20130418_070000_rrZ.hdf5\n",
      "gridded_600x600_KLOT20130418_080000_rrZ.hdf5\n",
      "gridded_600x600_KLOT20130418_090000_rrZ.hdf5\n",
      "gridded_600x600_KLOT20130418_100000_rrZ.hdf5\n",
      "gridded_600x600_KLOT20130418_110000_rrZ.hdf5\n",
      "gridded_600x600_KLOT20130418_120000_rrZ.hdf5\n",
      "gridded_600x600_KLOT20130418_130000_rrZ.hdf5\n",
      "gridded_600x600_KLOT20130418_140000_rrZ.hdf5\n",
      "gridded_600x600_KLOT20130418_150000_rrZ.hdf5\n",
      "gridded_600x600_KLOT20130418_160000_rrZ.hdf5\n",
      "gridded_600x600_KLOT20130418_170000_rrZ.hdf5\n",
      "gridded_600x600_KLOT20130418_180000_rrZ.hdf5\n",
      "gridded_600x600_KLOT20130418_190000_rrZ.hdf5\n",
      "gridded_600x600_KLOT20130418_200000_rrZ.hdf5\n",
      "gridded_600x600_KLOT20130418_210000_rrZ.hdf5\n",
      "gridded_600x600_KLOT20130418_220000_rrZ.hdf5\n",
      "gridded_600x600_KLOT20130418_230000_rrZ.hdf5\n",
      "gridded_600x600_KLOT20130419_000000_rrZ.hdf5\n"
     ]
    }
   ],
   "source": [
    "# create empty dataframe where we will put the extracted values\n",
    "df = pd.DataFrame()\n",
    "\n",
    "for f in gridded_files:\n",
    "    print(f)\n",
    "    fn = os.path.join(file_dir, f)\n",
    "    data, attrs = wrl.io.from_hdf5(fn)\n",
    "\n",
    "    # mask data to reduce size\n",
    "    data_ = data[mask]\n",
    "    # Compute stats for target polygons\n",
    "    avg3 = obj3.mean(data_.ravel())\n",
    "    \n",
    "    # Target polygon patches\n",
    "    trg_patches = [patches.Polygon(item, True) for item in obj3.zdata.trg.data]\n",
    "    \n",
    "    # set save filename\n",
    "    savefname = fn.rsplit('\\\\')[-1].rsplit('.')[0].strip('gridded_')+'.png'\n",
    "    \n",
    "    # get time\n",
    "    dtime = str(dt.datetime.strptime(fn.rsplit('\\\\')[-1].rsplit('.')[0],'gridded_600x600_KLOT%Y%m%d_%H%M%S_rrZ'))\n",
    "    \n",
    "    # plot\n",
    "    testplot(trg_patches, avg3, grid_xy_utm, data, savefname,\n",
    "         title=\"Catchment rainfall mean (ZonalStatsPoly)\")\n",
    "    \n",
    "    # put to dataframe\n",
    "    df_ = pd.DataFrame(data=[avg3],columns=keys)\n",
    "    df_['DateTime'] = dtime\n",
    "    \n",
    "    df = df.append(df_)\n"
   ]
  },
  {
   "cell_type": "code",
   "execution_count": 77,
   "metadata": {
    "ExecuteTime": {
     "end_time": "2019-12-03T01:48:28.506863Z",
     "start_time": "2019-12-03T01:48:28.501902Z"
    }
   },
   "outputs": [
    {
     "data": {
      "text/plain": [
       "'2013-04-19 00:00:00'"
      ]
     },
     "execution_count": 77,
     "metadata": {},
     "output_type": "execute_result"
    }
   ],
   "source": [
    "dtime"
   ]
  },
  {
   "cell_type": "code",
   "execution_count": 78,
   "metadata": {
    "ExecuteTime": {
     "end_time": "2019-12-03T01:48:31.906459Z",
     "start_time": "2019-12-03T01:48:30.742341Z"
    }
   },
   "outputs": [],
   "source": [
    "df.to_csv('case_study_600x600_20130417_20130418_hourlyrainfall_chicago_catchments_NODEIDS_rrZ.csv')"
   ]
  },
  {
   "cell_type": "code",
   "execution_count": 79,
   "metadata": {
    "ExecuteTime": {
     "end_time": "2019-12-03T01:51:38.707279Z",
     "start_time": "2019-12-03T01:51:31.538108Z"
    }
   },
   "outputs": [
    {
     "name": "stdout",
     "output_type": "stream",
     "text": [
      "Wall time: 5.82 s\n"
     ]
    },
    {
     "data": {
      "image/png": "[encoded data removed]",
      "text/plain": [
       "<Figure size 1080x216 with 1 Axes>"
      ]
     },
     "metadata": {
      "needs_background": "light"
     },
     "output_type": "display_data"
    }
   ],
   "source": [
    "%%time\n",
    "plt.figure(figsize=[15,3])\n",
    "for key in keys[0:10000:20]:\n",
    "    plt.plot(df['DateTime'], df[key], color='0.3',alpha=0.1, lw=0.1)"
   ]
  },
  {
   "cell_type": "code",
   "execution_count": null,
   "metadata": {},
   "outputs": [],
   "source": []
  }
 ],
 "metadata": {
  "kernelspec": {
   "display_name": "Python [conda env:saveur]",
   "language": "python",
   "name": "conda-env-saveur-py"
  },
  "language_info": {
   "codemirror_mode": {
    "name": "ipython",
    "version": 3
   },
   "file_extension": ".py",
   "mimetype": "text/x-python",
   "name": "python",
   "nbconvert_exporter": "python",
   "pygments_lexer": "ipython3",
   "version": "3.7.3"
  },
  "varInspector": {
   "cols": {
    "lenName": 16,
    "lenType": 16,
    "lenVar": 40
   },
   "kernels_config": {
    "python": {
     "delete_cmd_postfix": "",
     "delete_cmd_prefix": "del ",
     "library": "var_list.py",
     "varRefreshCmd": "print(var_dic_list())"
    },
    "r": {
     "delete_cmd_postfix": ") ",
     "delete_cmd_prefix": "rm(",
     "library": "var_list.r",
     "varRefreshCmd": "cat(var_dic_list()) "
    }
   },
   "types_to_exclude": [
    "module",
    "function",
    "builtin_function_or_method",
    "instance",
    "_Feature"
   ],
   "window_display": false
  }
 },
 "nbformat": 4,
 "nbformat_minor": 2
}
