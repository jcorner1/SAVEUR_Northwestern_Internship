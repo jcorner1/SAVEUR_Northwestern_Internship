{
 "cells": [
  {
   "cell_type": "code",
   "execution_count": 1,
   "metadata": {},
   "outputs": [
    {
     "name": "stdout",
     "output_type": "stream",
     "text": [
      "\n",
      "## You are using the Python ARM Radar Toolkit (Py-ART), an open source\n",
      "## library for working with weather radar data. Py-ART is partly\n",
      "## supported by the U.S. Department of Energy as part of the Atmospheric\n",
      "## Radiation Measurement (ARM) Climate Research Facility, an Office of\n",
      "## Science user facility.\n",
      "##\n",
      "## If you use this software to prepare a publication, please cite:\n",
      "##\n",
      "##     JJ Helmus and SM Collis, JORS 2016, doi: 10.5334/jors.119\n",
      "\n"
     ]
    }
   ],
   "source": [
    "import wradlib as wrl\n",
    "import matplotlib.pyplot as plt\n",
    "import matplotlib as mpl\n",
    "import warnings\n",
    "warnings.filterwarnings('ignore')\n",
    "\n",
    "from osgeo import osr\n",
    "\n",
    "import pickle\n",
    "\n",
    "import pyart\n",
    "import datetime as dt\n",
    "import numpy as np\n",
    "import pandas as pd"
   ]
  },
  {
   "cell_type": "code",
   "execution_count": 2,
   "metadata": {},
   "outputs": [],
   "source": [
    "from matplotlib.collections import PatchCollection\n",
    "from matplotlib.colors import from_levels_and_colors\n",
    "import matplotlib.patches as patches"
   ]
  },
  {
   "cell_type": "code",
   "execution_count": 3,
   "metadata": {},
   "outputs": [],
   "source": [
    "import os\n",
    "os.environ['LC_NUMERIC']='C'"
   ]
  },
  {
   "cell_type": "markdown",
   "metadata": {},
   "source": [
    "Read the radar grid coordinates. These coordinates are in WGS84 CRS."
   ]
  },
  {
   "cell_type": "code",
   "execution_count": 4,
   "metadata": {},
   "outputs": [],
   "source": [
    "# Getting back the objects:\n",
    "with open('radar_grid.pkl','rb') as f:  # Python 3: open(..., 'rb')\n",
    "    x_rad, y_rad = pickle.load(f)"
   ]
  },
  {
   "cell_type": "markdown",
   "metadata": {},
   "source": [
    "Read the watershed shapefile."
   ]
  },
  {
   "cell_type": "code",
   "execution_count": 26,
   "metadata": {},
   "outputs": [],
   "source": [
    "# this file is in UTM\n",
    "fname_shp = r'C:/Users/iac6311/Documents/Work/Data/GIS/USA/CHI_shps/chi_detailed_north.shp'\n",
    "#fname_shp = r'C:/Users/iac6311/Documents/Work/Data/GIS/USA/CHI_shps/section.shp'\n",
    "#fname_shp = r'C:/Users/iac6311/Documents/Work/Data/GIS/USA/CHI_shps/bottom_proj.shp'"
   ]
  },
  {
   "cell_type": "code",
   "execution_count": 27,
   "metadata": {},
   "outputs": [],
   "source": [
    "dataset, inLayer = wrl.io.open_vector(fname_shp)\n",
    "borders, keys = wrl.georef.get_vector_coordinates(inLayer, key='objectid')"
   ]
  },
  {
   "cell_type": "markdown",
   "metadata": {},
   "source": [
    "Define different projections that will be used in the processing."
   ]
  },
  {
   "cell_type": "code",
   "execution_count": 28,
   "metadata": {},
   "outputs": [
    {
     "data": {
      "text/plain": [
       "0"
      ]
     },
     "execution_count": 28,
     "metadata": {},
     "output_type": "execute_result"
    }
   ],
   "source": [
    "proj_wgs = osr.SpatialReference()\n",
    "proj_wgs.ImportFromEPSG(4326)\n",
    "\n",
    "proj_IL = osr.SpatialReference()\n",
    "proj_IL.ImportFromEPSG(26771)\n",
    "\n",
    "proj_IL_UTM = osr.SpatialReference()\n",
    "proj_IL_UTM.ImportFromEPSG(26916)"
   ]
  },
  {
   "cell_type": "markdown",
   "metadata": {},
   "source": [
    "Put the two coordinate grids in one array."
   ]
  },
  {
   "cell_type": "code",
   "execution_count": 29,
   "metadata": {},
   "outputs": [],
   "source": [
    "grid_xy = np.zeros((300,300,2))\n",
    "\n",
    "grid_xy[:,:,0] = x_rad\n",
    "grid_xy[:,:,1] = y_rad"
   ]
  },
  {
   "cell_type": "markdown",
   "metadata": {},
   "source": [
    "Reproject the radar grid to UTM, to match the shapefile."
   ]
  },
  {
   "cell_type": "code",
   "execution_count": 30,
   "metadata": {},
   "outputs": [],
   "source": [
    "grid_xy_utm = wrl.georef.reproject(grid_xy,\n",
    "                                projection_source=proj_wgs,\n",
    "                                projection_target=proj_IL_UTM)"
   ]
  },
  {
   "cell_type": "code",
   "execution_count": 31,
   "metadata": {},
   "outputs": [
    {
     "name": "stdout",
     "output_type": "stream",
     "text": [
      "(300, 300, 2)\n",
      "[[[ 284847.57546232 4485132.08909503]\n",
      "  [ 285672.43041583 4485122.09771765]\n",
      "  [ 286497.28178539 4485112.10541526]\n",
      "  ...\n",
      "  [ 529731.16477703 4482122.56077514]\n",
      "  [ 530555.55719424 4482112.28006985]\n",
      "  [ 531379.95009244 4482101.99834006]]\n",
      "\n",
      " [[ 284857.5242393  4485953.74522311]\n",
      "  [ 285682.3801497  4485943.75093724]\n",
      "  [ 286507.23247643 4485933.75573553]\n",
      "  ...\n",
      "  [ 529741.40993718 4482943.75539302]\n",
      "  [ 530565.80339401 4482933.47449603]\n",
      "  [ 531390.19733213 4482923.19258367]]\n",
      "\n",
      " [[ 284867.47523913 4486775.40233558]\n",
      "  [ 285692.33210185 4486765.40514143]\n",
      "  [ 286517.18538117 4486755.40704063]\n",
      "  ...\n",
      "  [ 529751.6559627  4483764.95106108]\n",
      "  [ 530576.05045459 4483754.66997262]\n",
      "  [ 531400.44542805 4483744.38787791]]\n",
      "\n",
      " [[ 284877.42846166 4487597.06043246]\n",
      "  [ 285702.28627211 4487587.06033027]\n",
      "  [ 286527.14049944 4487577.05933058]\n",
      "  ...\n",
      "  [ 529761.9028534  4484586.14777939]\n",
      "  [ 530586.29837579 4484575.86649966]\n",
      "  [ 531410.69438003 4484565.58422284]]\n",
      "\n",
      " [[ 284887.38390674 4488418.7195138 ]\n",
      "  [ 285712.24266033 4488408.71650378]\n",
      "  [ 286537.09783108 4488398.71260544]\n",
      "  ...\n",
      "  [ 529772.15060912 4485407.34554797]\n",
      "  [ 530596.54715745 4485397.06407722]\n",
      "  [ 531420.94418791 4485386.78161851]]]\n"
     ]
    }
   ],
   "source": [
    "print(grid_xy_utm.shape)\n",
    "print(grid_xy_utm[:5])"
   ]
  },
  {
   "cell_type": "markdown",
   "metadata": {},
   "source": [
    "Create a mask to reduce size."
   ]
  },
  {
   "cell_type": "code",
   "execution_count": 32,
   "metadata": {},
   "outputs": [],
   "source": [
    "# Reduce grid size using a bounding box (to enhancing performance)\n",
    "bbox = inLayer.GetExtent()"
   ]
  },
  {
   "cell_type": "code",
   "execution_count": 33,
   "metadata": {},
   "outputs": [
    {
     "name": "stdout",
     "output_type": "stream",
     "text": [
      "(439402.12706660177, 450353.43918830535, 4637504.005529532, 4657766.929259206)\n"
     ]
    }
   ],
   "source": [
    "print(bbox) # in UTM"
   ]
  },
  {
   "cell_type": "code",
   "execution_count": 34,
   "metadata": {},
   "outputs": [],
   "source": [
    "buffer = 5000.\n",
    "bbox = dict(left=bbox[0] - buffer, right=bbox[1] + buffer,\n",
    "            bottom=bbox[2] - buffer, top=bbox[3] + buffer)\n",
    "mask = (((grid_xy_utm[..., 1] > bbox['bottom']) & (grid_xy_utm[..., 1] < bbox['top'])) &\n",
    "        ((grid_xy_utm[..., 0] > bbox['left']) & (grid_xy_utm[..., 0] < bbox['right'])))"
   ]
  },
  {
   "cell_type": "code",
   "execution_count": 35,
   "metadata": {},
   "outputs": [
    {
     "data": {
      "text/plain": [
       "array([[False, False, False, ..., False, False, False],\n",
       "       [False, False, False, ..., False, False, False],\n",
       "       [False, False, False, ..., False, False, False],\n",
       "       ...,\n",
       "       [False, False, False, ..., False, False, False],\n",
       "       [False, False, False, ..., False, False, False],\n",
       "       [False, False, False, ..., False, False, False]])"
      ]
     },
     "execution_count": 35,
     "metadata": {},
     "output_type": "execute_result"
    }
   ],
   "source": [
    "mask"
   ]
  },
  {
   "cell_type": "markdown",
   "metadata": {},
   "source": [
    "Have a look at the mask."
   ]
  },
  {
   "cell_type": "code",
   "execution_count": 36,
   "metadata": {},
   "outputs": [
    {
     "name": "stdout",
     "output_type": "stream",
     "text": [
      "(300, 300)\n"
     ]
    },
    {
     "data": {
      "text/plain": [
       "<matplotlib.collections.QuadMesh at 0x1824457c940>"
      ]
     },
     "execution_count": 36,
     "metadata": {},
     "output_type": "execute_result"
    },
    {
     "data": {
      "image/png": "[encoded data removed]",
      "text/plain": [
       "<Figure size 432x288 with 1 Axes>"
      ]
     },
     "metadata": {
      "needs_background": "light"
     },
     "output_type": "display_data"
    }
   ],
   "source": [
    "print(mask.shape)\n",
    "plt.pcolormesh(mask)"
   ]
  },
  {
   "cell_type": "code",
   "execution_count": 37,
   "metadata": {},
   "outputs": [],
   "source": [
    "# Create vertices for each grid cell\n",
    "# (MUST BE DONE IN NATIVE COORDINATES)\n",
    "\n",
    "grdverts = wrl.zonalstats.grid_centers_to_vertices(x_rad[mask],\n",
    "                                                   y_rad[mask], 0.01,\n",
    "                                                   0.01)"
   ]
  },
  {
   "cell_type": "code",
   "execution_count": 38,
   "metadata": {},
   "outputs": [],
   "source": [
    "# And reproject to Cartesian reference system (here: UTM)\n",
    "grdverts = wrl.georef.reproject(grdverts,\n",
    "                                projection_source=proj_wgs,\n",
    "                                projection_target=proj_IL_UTM)"
   ]
  },
  {
   "cell_type": "code",
   "execution_count": 39,
   "metadata": {},
   "outputs": [
    {
     "data": {
      "text/plain": [
       "(953, 5, 2)"
      ]
     },
     "execution_count": 39,
     "metadata": {},
     "output_type": "execute_result"
    }
   ],
   "source": [
    "grdverts.shape"
   ]
  },
  {
   "cell_type": "code",
   "execution_count": 40,
   "metadata": {},
   "outputs": [
    {
     "data": {
      "text/plain": [
       "array([[[ 434722.36649431, 4632256.97017256],\n",
       "        [ 435552.62900567, 4632249.41825474],\n",
       "        [ 435562.66415524, 4633359.68803462],\n",
       "        [ 434732.53094273, 4633367.24024814],\n",
       "        [ 434722.36649431, 4632256.97017256]],\n",
       "\n",
       "       [[ 435546.96916079, 4632246.53332653],\n",
       "        [ 436377.23179544, 4632239.07743381],\n",
       "        [ 436387.13851902, 4633349.34691871],\n",
       "        [ 435557.00518243, 4633356.80310337],\n",
       "        [ 435546.96916079, 4632246.53332653]],\n",
       "\n",
       "       [[ 436371.57075274, 4632236.09715828],\n",
       "        [ 437201.83352451, 4632228.73729006],\n",
       "        [ 437211.61182287, 4633339.00648352],\n",
       "        [ 436381.4783484 , 4633346.36663994],\n",
       "        [ 436371.57075274, 4632236.09715828]],\n",
       "\n",
       "       ...,\n",
       "\n",
       "       [[ 453239.64484805, 4661600.06384362],\n",
       "        [ 454066.4609655 , 4661594.63999093],\n",
       "        [ 454073.68027633, 4662704.95527037],\n",
       "        [ 453246.9941177 , 4662710.37931778],\n",
       "        [ 453239.64484805, 4661600.06384362]],\n",
       "\n",
       "       [[ 454064.23128169, 4661589.6050436 ],\n",
       "        [ 454891.04784651, 4661584.27770129],\n",
       "        [ 454898.13753804, 4662694.59278124],\n",
       "        [ 454071.45093141, 4662699.92031481],\n",
       "        [ 454064.23128169, 4661589.6050436 ]],\n",
       "\n",
       "       [[ 454888.81695219, 4661579.14724283],\n",
       "        [ 455715.63397809, 4661573.91641036],\n",
       "        [ 455722.59405113, 4662684.23129411],\n",
       "        [ 454895.9069828 , 4662689.46231437],\n",
       "        [ 454888.81695219, 4661579.14724283]]])"
      ]
     },
     "execution_count": 40,
     "metadata": {},
     "output_type": "execute_result"
    }
   ],
   "source": [
    "grdverts"
   ]
  },
  {
   "cell_type": "markdown",
   "metadata": {},
   "source": [
    "Create instance of type ZonalDataPoly from source grid and catchment array. This needs to be done only once, then dump to file. The files that will be saved are the `src` shapefile (radar pixels), `trg` shapefile (original catchment), and `dst` shapefile (the radar pixels cut according to `trg`). "
   ]
  },
  {
   "cell_type": "code",
   "execution_count": 41,
   "metadata": {},
   "outputs": [
    {
     "data": {
      "text/plain": [
       "array([array([[ 445405.25771401, 4649796.80062032],\n",
       "       [ 445395.62944845, 4649796.82323923],\n",
       "       [ 445391.18539139, 4649827.45548728],\n",
       "       [ 445382.90960922, 4649869.44106619],\n",
       "       [ 445364.55083146, 4649926.93108461],\n",
       "       [ 445346.30594258, 4649973.81578375],\n",
       "       [ 445316.89431859, 4650026.24476857],\n",
       "       [ 445337.16850804, 4650026.59186131],\n",
       "       [ 445298.1901958 , 4650096.63934053],\n",
       "       [ 445298.1318269 , 4650098.63890434],\n",
       "       [ 445468.64179954, 4650100.44777556],\n",
       "       [ 445470.97640648, 4650100.47251355],\n",
       "       [ 445470.91112022, 4650106.62205124],\n",
       "       [ 445583.83048555, 4650107.81990513],\n",
       "       [ 445590.11146597, 4650107.8865773 ],\n",
       "       [ 445671.68979937, 4650108.75197443],\n",
       "       [ 445672.26025142, 4650108.7579895 ],\n",
       "       [ 445673.04680484, 4650106.03648533],\n",
       "       [ 445675.19649932, 4650087.92976167],\n",
       "       [ 445671.93642885, 4650077.79080139],\n",
       "       [ 445669.04355756, 4650072.62496276],\n",
       "       [ 445671.4939545 , 4650057.58831689],\n",
       "       [ 445680.11172192, 4650023.56902365],\n",
       "       [ 445690.04847539, 4649985.19282637],\n",
       "       [ 445691.73510188, 4649976.87814692],\n",
       "       [ 445694.6507379 , 4649966.47535314],\n",
       "       [ 445698.07667385, 4649951.06696829],\n",
       "       [ 445700.10110725, 4649940.9582788 ],\n",
       "       [ 445702.44187412, 4649934.14783659],\n",
       "       [ 445719.05312856, 4649902.10350693],\n",
       "       [ 445728.06982813, 4649885.07847235],\n",
       "       [ 445731.98776149, 4649881.89706192],\n",
       "       [ 445735.81060841, 4649879.46064532],\n",
       "       [ 445745.88844375, 4649861.88272746],\n",
       "       [ 445758.70349867, 4649835.9676801 ],\n",
       "       [ 445762.05729163, 4649829.23284667],\n",
       "       [ 445767.498275  , 4649817.40119192],\n",
       "       [ 445773.23322908, 4649807.42359475],\n",
       "       [ 445778.21329863, 4649799.45974708],\n",
       "       [ 445779.0194237 , 4649798.33647656],\n",
       "       [ 445771.16977377, 4649798.30431407],\n",
       "       [ 445617.31913113, 4649797.67202973],\n",
       "       [ 445572.70084273, 4649797.48864083],\n",
       "       [ 445476.73598788, 4649797.09433742],\n",
       "       [ 445405.25771401, 4649796.80062032]]),\n",
       "       array([[ 445405.25771401, 4649796.80062032],\n",
       "       [ 445395.62944845, 4649796.82323923],\n",
       "       [ 445391.18539139, 4649827.45548728],\n",
       "       [ 445382.90960922, 4649869.44106619],\n",
       "       [ 445364.55083146, 4649926.93108461],\n",
       "       [ 445346.30594258, 4649973.81578375],\n",
       "       [ 445316.89431859, 4650026.24476857],\n",
       "       [ 445337.16850804, 4650026.59186131],\n",
       "       [ 445298.1901958 , 4650096.63934053],\n",
       "       [ 445298.1318269 , 4650098.63890434],\n",
       "       [ 445468.64179954, 4650100.44777556],\n",
       "       [ 445470.97640648, 4650100.47251355],\n",
       "       [ 445470.91112022, 4650106.62205124],\n",
       "       [ 445583.83048555, 4650107.81990513],\n",
       "       [ 445590.11146597, 4650107.8865773 ],\n",
       "       [ 445671.68979937, 4650108.75197443],\n",
       "       [ 445672.26025142, 4650108.7579895 ],\n",
       "       [ 445673.04680484, 4650106.03648533],\n",
       "       [ 445675.19649932, 4650087.92976167],\n",
       "       [ 445671.93642885, 4650077.79080139],\n",
       "       [ 445669.04355756, 4650072.62496276],\n",
       "       [ 445671.4939545 , 4650057.58831689],\n",
       "       [ 445680.11172192, 4650023.56902365],\n",
       "       [ 445690.04847539, 4649985.19282637],\n",
       "       [ 445691.73510188, 4649976.87814692],\n",
       "       [ 445694.6507379 , 4649966.47535314],\n",
       "       [ 445698.07667385, 4649951.06696829],\n",
       "       [ 445700.10110725, 4649940.9582788 ],\n",
       "       [ 445702.44187412, 4649934.14783659],\n",
       "       [ 445719.05312856, 4649902.10350693],\n",
       "       [ 445728.06982813, 4649885.07847235],\n",
       "       [ 445731.98776149, 4649881.89706192],\n",
       "       [ 445735.81060841, 4649879.46064532],\n",
       "       [ 445745.88844375, 4649861.88272746],\n",
       "       [ 445758.70349867, 4649835.9676801 ],\n",
       "       [ 445762.05729163, 4649829.23284667],\n",
       "       [ 445767.498275  , 4649817.40119192],\n",
       "       [ 445773.23322908, 4649807.42359475],\n",
       "       [ 445778.21329863, 4649799.45974708],\n",
       "       [ 445779.0194237 , 4649798.33647656],\n",
       "       [ 445771.16977377, 4649798.30431407],\n",
       "       [ 445617.31913113, 4649797.67202973],\n",
       "       [ 445572.70084273, 4649797.48864083],\n",
       "       [ 445476.73598788, 4649797.09433742],\n",
       "       [ 445405.25771401, 4649796.80062032]]),\n",
       "       array([[ 444830.87521179, 4649977.14345128],\n",
       "       [ 444833.69999936, 4649794.60784775],\n",
       "       [ 444833.66236869, 4649792.18833395],\n",
       "       [ 444842.14807914, 4649792.00174717],\n",
       "       [ 444842.73285909, 4649736.87601891],\n",
       "       [ 444680.98700701, 4649735.15989996],\n",
       "       [ 444680.72568269, 4649773.50427427],\n",
       "       [ 444676.01349504, 4649774.02851877],\n",
       "       [ 444671.47540049, 4649773.94440308],\n",
       "       [ 444670.06788667, 4649871.17734653],\n",
       "       [ 444676.49622456, 4649871.15265394],\n",
       "       [ 444689.50305632, 4649871.10283069],\n",
       "       [ 444689.53142892, 4649868.42105301],\n",
       "       [ 444740.27204155, 4649868.95931367],\n",
       "       [ 444739.27577932, 4649962.87075664],\n",
       "       [ 444751.23441892, 4649962.74717018],\n",
       "       [ 444751.20815494, 4649976.69752193],\n",
       "       [ 444830.87521179, 4649977.14345128]]),\n",
       "       ...,\n",
       "       array([[ 448566.15095226, 4638666.08205231],\n",
       "       [ 448566.86518245, 4638636.35430453],\n",
       "       [ 448680.16840797, 4638638.41722242],\n",
       "       [ 448679.83311966, 4638635.77439864],\n",
       "       [ 448692.77510269, 4638635.57314712],\n",
       "       [ 448692.69738506, 4638630.57261126],\n",
       "       [ 448718.28740685, 4638630.17467723],\n",
       "       [ 448720.27773084, 4638625.7303513 ],\n",
       "       [ 448759.9181052 , 4638626.48829413],\n",
       "       [ 448772.39433867, 4638601.0732217 ],\n",
       "       [ 448791.69495019, 4638561.75615248],\n",
       "       [ 448771.776085  , 4638561.34441999],\n",
       "       [ 448731.16202954, 4638560.50492779],\n",
       "       [ 448730.63201622, 4638583.1683731 ],\n",
       "       [ 448547.57213032, 4638579.24806305],\n",
       "       [ 448546.73920673, 4638636.96153984],\n",
       "       [ 448553.33938089, 4638636.85885627],\n",
       "       [ 448553.50757951, 4638666.57288988],\n",
       "       [ 448566.15095226, 4638666.08205231]]),\n",
       "       array([[ 448429.88621279, 4638668.20116576],\n",
       "       [ 448428.81233993, 4638723.7062605 ],\n",
       "       [ 448428.56735984, 4638728.09616976],\n",
       "       [ 448550.62030444, 4638729.17707815],\n",
       "       [ 448565.61358679, 4638729.30994864],\n",
       "       [ 448565.83039245, 4638721.1068354 ],\n",
       "       [ 448651.16749274, 4638722.13346825],\n",
       "       [ 448651.0851022 , 4638716.83877831],\n",
       "       [ 448715.78761836, 4638716.38558262],\n",
       "       [ 448759.9181052 , 4638626.48829413],\n",
       "       [ 448720.27773084, 4638625.7303513 ],\n",
       "       [ 448718.28740685, 4638630.17467723],\n",
       "       [ 448692.69738506, 4638630.57261126],\n",
       "       [ 448692.77510269, 4638635.57314712],\n",
       "       [ 448679.83311966, 4638635.77439864],\n",
       "       [ 448680.16840797, 4638638.41722242],\n",
       "       [ 448566.86518245, 4638636.35430453],\n",
       "       [ 448566.15095226, 4638666.08205231],\n",
       "       [ 448553.50757951, 4638666.57288988],\n",
       "       [ 448553.33938089, 4638636.85885627],\n",
       "       [ 448537.16182209, 4638637.11049689],\n",
       "       [ 448491.57006844, 4638637.81950932],\n",
       "       [ 448491.47396394, 4638631.64235144],\n",
       "       [ 448430.28388211, 4638632.00544818],\n",
       "       [ 448429.96447103, 4638668.19994942],\n",
       "       [ 448429.88621279, 4638668.20116576]]),\n",
       "       array([[ 447928.73726843, 4637891.94324359],\n",
       "       [ 447928.80795272, 4637889.57613451],\n",
       "       [ 447955.44825509, 4637890.49269918],\n",
       "       [ 447957.63685744, 4637888.84828848],\n",
       "       [ 447959.67863558, 4637888.87864275],\n",
       "       [ 447989.850319  , 4637858.56899814],\n",
       "       [ 448002.14467546, 4637858.6997584 ],\n",
       "       [ 448004.71642501, 4637858.73177438],\n",
       "       [ 448004.70126135, 4637854.83528155],\n",
       "       [ 448004.63320087, 4637837.52465533],\n",
       "       [ 448008.24921892, 4637837.06596144],\n",
       "       [ 448008.11935828, 4637802.84741167],\n",
       "       [ 447968.0570484 , 4637802.46384162],\n",
       "       [ 447963.99779087, 4637800.31267539],\n",
       "       [ 447938.63523682, 4637800.30441643],\n",
       "       [ 447938.60396478, 4637798.2920039 ],\n",
       "       [ 447934.98169283, 4637798.34829493],\n",
       "       [ 447934.17409098, 4637837.01001674],\n",
       "       [ 447893.50173952, 4637836.23333065],\n",
       "       [ 447894.3969061 , 4637803.20654025],\n",
       "       [ 447801.98398063, 4637801.82536294],\n",
       "       [ 447800.76088686, 4637800.83792051],\n",
       "       [ 447780.70255855, 4637801.14983211],\n",
       "       [ 447779.35739768, 4637890.07352582],\n",
       "       [ 447891.85641071, 4637891.4815487 ],\n",
       "       [ 447928.73726843, 4637891.94324359]])], dtype=object)"
      ]
     },
     "execution_count": 41,
     "metadata": {},
     "output_type": "execute_result"
    }
   ],
   "source": [
    "borders"
   ]
  },
  {
   "cell_type": "code",
   "execution_count": 42,
   "metadata": {},
   "outputs": [
    {
     "name": "stdout",
     "output_type": "stream",
     "text": [
      "Wall time: 1.28 s\n"
     ]
    }
   ],
   "source": [
    "%%time\n",
    "# Create instance of type ZonalDataPoly from source grid and\n",
    "# catchment array\n",
    "zd = wrl.zonalstats.ZonalDataPoly(grdverts, borders)"
   ]
  },
  {
   "cell_type": "code",
   "execution_count": 43,
   "metadata": {},
   "outputs": [
    {
     "name": "stdout",
     "output_type": "stream",
     "text": [
      "Wall time: 157 ms\n"
     ]
    }
   ],
   "source": [
    "%%time\n",
    "# dump to file\n",
    "zd.dump_vector('zonal_poly_cart_north')"
   ]
  },
  {
   "cell_type": "code",
   "execution_count": 44,
   "metadata": {},
   "outputs": [
    {
     "name": "stdout",
     "output_type": "stream",
     "text": [
      "Wall time: 9.43 s\n"
     ]
    }
   ],
   "source": [
    "%%time\n",
    "# Create instance of type ZonalStatsPoint from zonal data object\n",
    "obj3 = wrl.zonalstats.ZonalStatsPoly(zd)"
   ]
  },
  {
   "cell_type": "markdown",
   "metadata": {},
   "source": [
    "### Now the looping can happen"
   ]
  },
  {
   "cell_type": "markdown",
   "metadata": {},
   "source": [
    "Read the gridded data."
   ]
  },
  {
   "cell_type": "code",
   "execution_count": 162,
   "metadata": {},
   "outputs": [],
   "source": [
    "file_dir = \"./output\"\n",
    "gridded_files = os.listdir(file_dir)\n",
    "gridded_files = [f for f in gridded_files if f.endswith('.hdf5')]"
   ]
  },
  {
   "cell_type": "code",
   "execution_count": 175,
   "metadata": {},
   "outputs": [],
   "source": [
    "def testplot(cats, catsavg, xy, data, savefname,\n",
    "             levels=[0, 1, 2, 3, 4, 5, 10, 15, 20, 25, 30, 40, 50, 100, 150],\n",
    "             title=\"\"):\n",
    "    \"\"\"Quick test plot layout for this example file\n",
    "    \"\"\"\n",
    "    colors = plt.cm.viridis(np.linspace(0, 1, len(levels)))\n",
    "    mycmap, mynorm = from_levels_and_colors(levels, colors, extend=\"max\")\n",
    "\n",
    "    radolevels = [0, 1, 2, 3, 4, 5, 10, 15, 20, 25, 30, 40, 50, 100, 150]\n",
    "    radocolors = pyart.graph.cm_colorblind.HomeyerRainbow(np.linspace(0, 1, len(radolevels)))\n",
    "    #pyart.graph.cm_colorblind()\n",
    "    radocmap, radonorm = from_levels_and_colors(radolevels, radocolors,\n",
    "                                                extend=\"max\")\n",
    "\n",
    "    fig = plt.figure(figsize=(18, 10))\n",
    "\n",
    "    # Average rainfall sum\n",
    "    ax = fig.add_subplot(122, aspect=\"equal\")\n",
    "    coll = PatchCollection(cats, array=catsavg, cmap=radocmap, norm=mynorm,\n",
    "                           edgecolors='white', lw=0.5)\n",
    "    ax.add_collection(coll)\n",
    "    ax.autoscale()\n",
    "    plt.colorbar(coll, ax=ax, shrink=0.5)\n",
    "    plt.xlabel(\"NAD83 Z16 Easting\")\n",
    "    plt.ylabel(\"NAD83 Z16 Northing\")\n",
    "    plt.title(title)\n",
    "    plt.draw()\n",
    "\n",
    "    # Original radar data\n",
    "    ax1 = fig.add_subplot(121, aspect=\"equal\")\n",
    "    pm = plt.pcolormesh(xy[:, :, 0], xy[:, :, 1], np.ma.masked_invalid(data),\n",
    "                        cmap=radocmap, norm=radonorm)\n",
    "    coll = PatchCollection(cats, facecolor='None', edgecolor='k', lw=0.1)\n",
    "    ax1.add_collection(coll)\n",
    "    cb = plt.colorbar(pm, ax=ax1, shrink=0.5)\n",
    "    cb.set_label(\"(mm/h)\")\n",
    "    plt.xlabel(\"NAD83 Z16 Easting\")\n",
    "    plt.ylabel(\"NAD83 Z16 Northing\")\n",
    "    plt.title(\"Original radar rain sums: \" + savefname.strip('.png'))\n",
    "    ax1.set_xlim(bbox['left']-10000,bbox['right']+10000)\n",
    "    ax1.set_ylim(bbox['bottom']-10000,bbox['top']+10000)\n",
    "    #plt.draw()\n",
    "    plt.tight_layout()\n",
    "    fig.savefig(savefname)\n",
    "    plt.close()"
   ]
  },
  {
   "cell_type": "code",
   "execution_count": 176,
   "metadata": {},
   "outputs": [],
   "source": [
    "keys_str = [str(f) for f in keys]"
   ]
  },
  {
   "cell_type": "code",
   "execution_count": 178,
   "metadata": {},
   "outputs": [
    {
     "name": "stdout",
     "output_type": "stream",
     "text": [
      "gridded_KLOT20130417_010000.hdf5\n",
      "gridded_KLOT20130417_020000.hdf5\n",
      "gridded_KLOT20130417_030000.hdf5\n",
      "gridded_KLOT20130417_040000.hdf5\n",
      "gridded_KLOT20130417_050000.hdf5\n",
      "gridded_KLOT20130417_060000.hdf5\n",
      "gridded_KLOT20130417_070000.hdf5\n",
      "gridded_KLOT20130417_080000.hdf5\n",
      "gridded_KLOT20130417_090000.hdf5\n",
      "gridded_KLOT20130417_100000.hdf5\n",
      "gridded_KLOT20130417_110000.hdf5\n",
      "gridded_KLOT20130417_120000.hdf5\n",
      "gridded_KLOT20130417_130000.hdf5\n",
      "gridded_KLOT20130417_140000.hdf5\n",
      "gridded_KLOT20130417_150000.hdf5\n",
      "gridded_KLOT20130417_160000.hdf5\n",
      "gridded_KLOT20130417_170000.hdf5\n",
      "gridded_KLOT20130417_180000.hdf5\n",
      "gridded_KLOT20130417_190000.hdf5\n",
      "gridded_KLOT20130417_200000.hdf5\n",
      "gridded_KLOT20130417_210000.hdf5\n",
      "gridded_KLOT20130417_220000.hdf5\n",
      "gridded_KLOT20130417_230000.hdf5\n",
      "gridded_KLOT20130418_000000.hdf5\n",
      "gridded_KLOT20130418_010000.hdf5\n",
      "gridded_KLOT20130418_020000.hdf5\n",
      "gridded_KLOT20130418_030000.hdf5\n",
      "gridded_KLOT20130418_040000.hdf5\n",
      "gridded_KLOT20130418_050000.hdf5\n",
      "gridded_KLOT20130418_060000.hdf5\n",
      "gridded_KLOT20130418_070000.hdf5\n",
      "gridded_KLOT20130418_080000.hdf5\n",
      "gridded_KLOT20130418_090000.hdf5\n",
      "gridded_KLOT20130418_100000.hdf5\n",
      "gridded_KLOT20130418_110000.hdf5\n",
      "gridded_KLOT20130418_120000.hdf5\n",
      "gridded_KLOT20130418_130000.hdf5\n",
      "gridded_KLOT20130418_140000.hdf5\n",
      "gridded_KLOT20130418_150000.hdf5\n",
      "gridded_KLOT20130418_160000.hdf5\n",
      "gridded_KLOT20130418_170000.hdf5\n",
      "gridded_KLOT20130418_180000.hdf5\n",
      "gridded_KLOT20130418_190000.hdf5\n",
      "gridded_KLOT20130418_200000.hdf5\n",
      "gridded_KLOT20130418_210000.hdf5\n",
      "gridded_KLOT20130418_220000.hdf5\n",
      "gridded_KLOT20130418_230000.hdf5\n",
      "gridded_KLOT20130419_000000.hdf5\n"
     ]
    }
   ],
   "source": [
    "# create empty dataframe where we will put the extracted values\n",
    "df = pd.DataFrame()\n",
    "\n",
    "for f in gridded_files:\n",
    "    print(f)\n",
    "    fn = os.path.join(file_dir, f)\n",
    "    data, attrs = wrl.io.from_hdf5(fn)\n",
    "\n",
    "    # mask data to reduce size\n",
    "    data_ = data[mask]\n",
    "    # Compute stats for target polygons\n",
    "    avg3 = obj3.mean(data_.ravel())\n",
    "    \n",
    "    # Target polygon patches\n",
    "    trg_patches = [patches.Polygon(item, True) for item in obj3.zdata.trg.data]\n",
    "    \n",
    "    # set save filename\n",
    "    savefname = fn.rsplit('\\\\')[-1].rsplit('.')[0].strip('gridded_')+'.png'\n",
    "    \n",
    "    # get time\n",
    "    dtime = str(dt.datetime.strptime(fn.rsplit('\\\\')[-1].rsplit('.')[0],'gridded_KLOT%Y%m%d_%H%M%S'))\n",
    "    \n",
    "    # plot\n",
    "    testplot(trg_patches, avg3, grid_xy_utm, data, savefname,\n",
    "         title=\"Catchment rainfall mean (ZonalStatsPoly)\")\n",
    "    \n",
    "    # put to dataframe\n",
    "    df_ = pd.DataFrame(data=[avg3],columns=keys)\n",
    "    df_['DateTime'] = dtime\n",
    "    \n",
    "    df = df.append(df_)\n"
   ]
  },
  {
   "cell_type": "code",
   "execution_count": 229,
   "metadata": {},
   "outputs": [
    {
     "name": "stdout",
     "output_type": "stream",
     "text": [
      "Wall time: 3.66 s\n"
     ]
    },
    {
     "data": {
      "image/png": "[encoded data removed]",
      "text/plain": [
       "<Figure size 1080x216 with 1 Axes>"
      ]
     },
     "metadata": {
      "needs_background": "light"
     },
     "output_type": "display_data"
    }
   ],
   "source": [
    "%%time\n",
    "plt.figure(figsize=[15,3])\n",
    "for key in keys[0:10000:20]:\n",
    "    plt.plot(date, df[key], color='0.3',alpha=0.1, lw=0.1)"
   ]
  },
  {
   "cell_type": "code",
   "execution_count": 214,
   "metadata": {},
   "outputs": [],
   "source": [
    "df.to_csv('case_study_01_04182013_hourlyrainfall_chicago_catchments.csv')"
   ]
  },
  {
   "cell_type": "code",
   "execution_count": 228,
   "metadata": {},
   "outputs": [
    {
     "data": {
      "text/plain": [
       "500"
      ]
     },
     "execution_count": 228,
     "metadata": {},
     "output_type": "execute_result"
    }
   ],
   "source": [
    "len(keys[0:10000:20])"
   ]
  },
  {
   "cell_type": "code",
   "execution_count": null,
   "metadata": {},
   "outputs": [],
   "source": []
  }
 ],
 "metadata": {
  "kernelspec": {
   "display_name": "Python [conda env:saveur]",
   "language": "python",
   "name": "conda-env-saveur-py"
  },
  "language_info": {
   "codemirror_mode": {
    "name": "ipython",
    "version": 3
   },
   "file_extension": ".py",
   "mimetype": "text/x-python",
   "name": "python",
   "nbconvert_exporter": "python",
   "pygments_lexer": "ipython3",
   "version": "3.7.3"
  }
 },
 "nbformat": 4,
 "nbformat_minor": 2
}
