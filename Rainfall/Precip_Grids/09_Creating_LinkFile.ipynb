{
 "cells": [
  {
   "cell_type": "code",
   "execution_count": 3,
   "metadata": {
    "ExecuteTime": {
     "end_time": "2019-08-13T17:06:26.146738Z",
     "start_time": "2019-08-13T17:06:22.630542Z"
    }
   },
   "outputs": [
    {
     "name": "stdout",
     "output_type": "stream",
     "text": [
      "Populating the interactive namespace from numpy and matplotlib\n"
     ]
    }
   ],
   "source": [
    "%pylab inline\n",
    "\n",
    "import pandas as pd\n",
    "import numpy as np"
   ]
  },
  {
   "cell_type": "code",
   "execution_count": 4,
   "metadata": {
    "ExecuteTime": {
     "end_time": "2019-08-13T17:07:38.027019Z",
     "start_time": "2019-08-13T17:07:38.024436Z"
    }
   },
   "outputs": [],
   "source": [
    "intersection_file = 'C:/Users/iac6311/Documents/Work/git/precipitation-gradients/output/catchment_zonalstats/intersection_radargrids_catchments_area.csv'"
   ]
  },
  {
   "cell_type": "code",
   "execution_count": 5,
   "metadata": {
    "ExecuteTime": {
     "end_time": "2019-08-13T17:07:57.316796Z",
     "start_time": "2019-08-13T17:07:57.257741Z"
    }
   },
   "outputs": [],
   "source": [
    "df = pd.read_csv(intersection_file)"
   ]
  },
  {
   "cell_type": "code",
   "execution_count": 6,
   "metadata": {
    "ExecuteTime": {
     "end_time": "2019-08-13T17:08:00.446545Z",
     "start_time": "2019-08-13T17:08:00.401471Z"
    }
   },
   "outputs": [
    {
     "data": {
      "text/html": [
       "<div>\n",
       "<style scoped>\n",
       "    .dataframe tbody tr th:only-of-type {\n",
       "        vertical-align: middle;\n",
       "    }\n",
       "\n",
       "    .dataframe tbody tr th {\n",
       "        vertical-align: top;\n",
       "    }\n",
       "\n",
       "    .dataframe thead th {\n",
       "        text-align: right;\n",
       "    }\n",
       "</style>\n",
       "<table border=\"1\" class=\"dataframe\">\n",
       "  <thead>\n",
       "    <tr style=\"text-align: right;\">\n",
       "      <th></th>\n",
       "      <th>OBJECTID</th>\n",
       "      <th>linksuffix</th>\n",
       "      <th>node_id</th>\n",
       "      <th>rain_prof</th>\n",
       "      <th>subcatid</th>\n",
       "      <th>total_area</th>\n",
       "      <th>x</th>\n",
       "      <th>y</th>\n",
       "      <th>Shape_Leng</th>\n",
       "      <th>Shape_Area</th>\n",
       "      <th>index</th>\n",
       "      <th>sub_area</th>\n",
       "    </tr>\n",
       "  </thead>\n",
       "  <tbody>\n",
       "    <tr>\n",
       "      <th>0</th>\n",
       "      <td>1</td>\n",
       "      <td>NaN</td>\n",
       "      <td>2A6114</td>\n",
       "      <td>2A</td>\n",
       "      <td>2A6114U.1</td>\n",
       "      <td>26.825</td>\n",
       "      <td>657211.8</td>\n",
       "      <td>1931234.2</td>\n",
       "      <td>11388.201101</td>\n",
       "      <td>1.167411e+06</td>\n",
       "      <td>1590</td>\n",
       "      <td>39119.09</td>\n",
       "    </tr>\n",
       "    <tr>\n",
       "      <th>1</th>\n",
       "      <td>1</td>\n",
       "      <td>NaN</td>\n",
       "      <td>2A6114</td>\n",
       "      <td>2A</td>\n",
       "      <td>2A6114U.1</td>\n",
       "      <td>26.825</td>\n",
       "      <td>657211.8</td>\n",
       "      <td>1931234.2</td>\n",
       "      <td>11388.201101</td>\n",
       "      <td>1.167411e+06</td>\n",
       "      <td>1631</td>\n",
       "      <td>51408.80</td>\n",
       "    </tr>\n",
       "    <tr>\n",
       "      <th>2</th>\n",
       "      <td>1</td>\n",
       "      <td>NaN</td>\n",
       "      <td>2A6114</td>\n",
       "      <td>2A</td>\n",
       "      <td>2A6114U.1</td>\n",
       "      <td>26.825</td>\n",
       "      <td>657211.8</td>\n",
       "      <td>1931234.2</td>\n",
       "      <td>11388.201101</td>\n",
       "      <td>1.167411e+06</td>\n",
       "      <td>1632</td>\n",
       "      <td>18121.48</td>\n",
       "    </tr>\n",
       "    <tr>\n",
       "      <th>3</th>\n",
       "      <td>2</td>\n",
       "      <td>NaN</td>\n",
       "      <td>2A6120</td>\n",
       "      <td>2A</td>\n",
       "      <td>2A6120R.1</td>\n",
       "      <td>2.468</td>\n",
       "      <td>638618.3</td>\n",
       "      <td>1937157.9</td>\n",
       "      <td>1504.571364</td>\n",
       "      <td>1.075051e+05</td>\n",
       "      <td>1709</td>\n",
       "      <td>9980.97</td>\n",
       "    </tr>\n",
       "    <tr>\n",
       "      <th>4</th>\n",
       "      <td>3</td>\n",
       "      <td>NaN</td>\n",
       "      <td>2A6120</td>\n",
       "      <td>2A</td>\n",
       "      <td>2A6120U.1</td>\n",
       "      <td>2.468</td>\n",
       "      <td>638618.3</td>\n",
       "      <td>1937157.9</td>\n",
       "      <td>1504.571364</td>\n",
       "      <td>1.075051e+05</td>\n",
       "      <td>1709</td>\n",
       "      <td>9980.97</td>\n",
       "    </tr>\n",
       "  </tbody>\n",
       "</table>\n",
       "</div>"
      ],
      "text/plain": [
       "   OBJECTID  linksuffix node_id rain_prof   subcatid  total_area         x  \\\n",
       "0         1         NaN  2A6114        2A  2A6114U.1      26.825  657211.8   \n",
       "1         1         NaN  2A6114        2A  2A6114U.1      26.825  657211.8   \n",
       "2         1         NaN  2A6114        2A  2A6114U.1      26.825  657211.8   \n",
       "3         2         NaN  2A6120        2A  2A6120R.1       2.468  638618.3   \n",
       "4         3         NaN  2A6120        2A  2A6120U.1       2.468  638618.3   \n",
       "\n",
       "           y    Shape_Leng    Shape_Area  index  sub_area  \n",
       "0  1931234.2  11388.201101  1.167411e+06   1590  39119.09  \n",
       "1  1931234.2  11388.201101  1.167411e+06   1631  51408.80  \n",
       "2  1931234.2  11388.201101  1.167411e+06   1632  18121.48  \n",
       "3  1937157.9   1504.571364  1.075051e+05   1709   9980.97  \n",
       "4  1937157.9   1504.571364  1.075051e+05   1709   9980.97  "
      ]
     },
     "execution_count": 6,
     "metadata": {},
     "output_type": "execute_result"
    }
   ],
   "source": [
    "df.head()"
   ]
  },
  {
   "cell_type": "code",
   "execution_count": 7,
   "metadata": {
    "ExecuteTime": {
     "end_time": "2019-08-13T17:10:06.570080Z",
     "start_time": "2019-08-13T17:10:06.565096Z"
    }
   },
   "outputs": [],
   "source": [
    "subcatid_uniques = df.subcatid.unique()"
   ]
  },
  {
   "cell_type": "code",
   "execution_count": 8,
   "metadata": {
    "ExecuteTime": {
     "end_time": "2019-08-13T17:10:10.450148Z",
     "start_time": "2019-08-13T17:10:10.446159Z"
    }
   },
   "outputs": [
    {
     "data": {
      "text/plain": [
       "array(['2A6114U.1', '2A6120R.1', '2A6120U.1', ..., '3C5456U.1',\n",
       "       '3C5740U.1', '3C5743U.1'], dtype=object)"
      ]
     },
     "execution_count": 8,
     "metadata": {},
     "output_type": "execute_result"
    }
   ],
   "source": [
    "subcatid_uniques"
   ]
  },
  {
   "cell_type": "code",
   "execution_count": 17,
   "metadata": {
    "ExecuteTime": {
     "end_time": "2019-08-13T17:16:13.151027Z",
     "start_time": "2019-08-13T17:16:13.147039Z"
    }
   },
   "outputs": [],
   "source": [
    "scid = subcatid_uniques[10]"
   ]
  },
  {
   "cell_type": "code",
   "execution_count": 18,
   "metadata": {
    "ExecuteTime": {
     "end_time": "2019-08-13T17:16:13.432555Z",
     "start_time": "2019-08-13T17:16:13.425473Z"
    }
   },
   "outputs": [
    {
     "data": {
      "text/plain": [
       "'2B2199U.1'"
      ]
     },
     "execution_count": 18,
     "metadata": {},
     "output_type": "execute_result"
    }
   ],
   "source": [
    "scid"
   ]
  },
  {
   "cell_type": "code",
   "execution_count": 58,
   "metadata": {
    "ExecuteTime": {
     "end_time": "2019-08-13T17:27:53.618335Z",
     "start_time": "2019-08-13T17:27:53.607293Z"
    }
   },
   "outputs": [
    {
     "data": {
      "text/html": [
       "<div>\n",
       "<style scoped>\n",
       "    .dataframe tbody tr th:only-of-type {\n",
       "        vertical-align: middle;\n",
       "    }\n",
       "\n",
       "    .dataframe tbody tr th {\n",
       "        vertical-align: top;\n",
       "    }\n",
       "\n",
       "    .dataframe thead th {\n",
       "        text-align: right;\n",
       "    }\n",
       "</style>\n",
       "<table border=\"1\" class=\"dataframe\">\n",
       "  <thead>\n",
       "    <tr style=\"text-align: right;\">\n",
       "      <th></th>\n",
       "      <th>OBJECTID</th>\n",
       "      <th>linksuffix</th>\n",
       "      <th>node_id</th>\n",
       "      <th>rain_prof</th>\n",
       "      <th>subcatid</th>\n",
       "      <th>total_area</th>\n",
       "      <th>x</th>\n",
       "      <th>y</th>\n",
       "      <th>Shape_Leng</th>\n",
       "      <th>Shape_Area</th>\n",
       "      <th>index</th>\n",
       "      <th>sub_area</th>\n",
       "    </tr>\n",
       "  </thead>\n",
       "  <tbody>\n",
       "    <tr>\n",
       "      <th>25</th>\n",
       "      <td>10</td>\n",
       "      <td>NaN</td>\n",
       "      <td>2B2199</td>\n",
       "      <td>2B</td>\n",
       "      <td>2B2199R.1</td>\n",
       "      <td>8.604</td>\n",
       "      <td>667667.1</td>\n",
       "      <td>1922859.6</td>\n",
       "      <td>3622.781612</td>\n",
       "      <td>374771.662831</td>\n",
       "      <td>1467</td>\n",
       "      <td>13895.97</td>\n",
       "    </tr>\n",
       "    <tr>\n",
       "      <th>26</th>\n",
       "      <td>10</td>\n",
       "      <td>NaN</td>\n",
       "      <td>2B2199</td>\n",
       "      <td>2B</td>\n",
       "      <td>2B2199R.1</td>\n",
       "      <td>8.604</td>\n",
       "      <td>667667.1</td>\n",
       "      <td>1922859.6</td>\n",
       "      <td>3622.781612</td>\n",
       "      <td>374771.662831</td>\n",
       "      <td>1468</td>\n",
       "      <td>1538.53</td>\n",
       "    </tr>\n",
       "    <tr>\n",
       "      <th>27</th>\n",
       "      <td>10</td>\n",
       "      <td>NaN</td>\n",
       "      <td>2B2199</td>\n",
       "      <td>2B</td>\n",
       "      <td>2B2199R.1</td>\n",
       "      <td>8.604</td>\n",
       "      <td>667667.1</td>\n",
       "      <td>1922859.6</td>\n",
       "      <td>3622.781612</td>\n",
       "      <td>374771.662831</td>\n",
       "      <td>1509</td>\n",
       "      <td>19526.53</td>\n",
       "    </tr>\n",
       "    <tr>\n",
       "      <th>28</th>\n",
       "      <td>10</td>\n",
       "      <td>NaN</td>\n",
       "      <td>2B2199</td>\n",
       "      <td>2B</td>\n",
       "      <td>2B2199R.1</td>\n",
       "      <td>8.604</td>\n",
       "      <td>667667.1</td>\n",
       "      <td>1922859.6</td>\n",
       "      <td>3622.781612</td>\n",
       "      <td>374771.662831</td>\n",
       "      <td>1510</td>\n",
       "      <td>52.74</td>\n",
       "    </tr>\n",
       "  </tbody>\n",
       "</table>\n",
       "</div>"
      ],
      "text/plain": [
       "    OBJECTID  linksuffix node_id rain_prof   subcatid  total_area         x  \\\n",
       "25        10         NaN  2B2199        2B  2B2199R.1       8.604  667667.1   \n",
       "26        10         NaN  2B2199        2B  2B2199R.1       8.604  667667.1   \n",
       "27        10         NaN  2B2199        2B  2B2199R.1       8.604  667667.1   \n",
       "28        10         NaN  2B2199        2B  2B2199R.1       8.604  667667.1   \n",
       "\n",
       "            y   Shape_Leng     Shape_Area  index  sub_area  \n",
       "25  1922859.6  3622.781612  374771.662831   1467  13895.97  \n",
       "26  1922859.6  3622.781612  374771.662831   1468   1538.53  \n",
       "27  1922859.6  3622.781612  374771.662831   1509  19526.53  \n",
       "28  1922859.6  3622.781612  374771.662831   1510     52.74  "
      ]
     },
     "execution_count": 58,
     "metadata": {},
     "output_type": "execute_result"
    }
   ],
   "source": [
    "df_sub"
   ]
  },
  {
   "cell_type": "code",
   "execution_count": 59,
   "metadata": {
    "ExecuteTime": {
     "end_time": "2019-08-13T17:27:54.670435Z",
     "start_time": "2019-08-13T17:27:54.666452Z"
    }
   },
   "outputs": [
    {
     "data": {
      "text/plain": [
       "Int64Index([25, 26, 27, 28], dtype='int64')"
      ]
     },
     "execution_count": 59,
     "metadata": {},
     "output_type": "execute_result"
    }
   ],
   "source": [
    "df_sub.index"
   ]
  },
  {
   "cell_type": "code",
   "execution_count": 60,
   "metadata": {
    "ExecuteTime": {
     "end_time": "2019-08-13T17:27:56.935423Z",
     "start_time": "2019-08-13T17:27:56.744027Z"
    }
   },
   "outputs": [
    {
     "name": "stderr",
     "output_type": "stream",
     "text": [
      "C:\\Users\\iac6311\\AppData\\Local\\Continuum\\anaconda3\\envs\\saveurproj\\lib\\site-packages\\ipykernel_launcher.py:1: SettingWithCopyWarning: \n",
      "A value is trying to be set on a copy of a slice from a DataFrame\n",
      "\n",
      "See the caveats in the documentation: http://pandas.pydata.org/pandas-docs/stable/indexing.html#indexing-view-versus-copy\n",
      "  \"\"\"Entry point for launching an IPython kernel.\n"
     ]
    }
   ],
   "source": [
    "df_sub.iloc[0]['test']=0"
   ]
  },
  {
   "cell_type": "code",
   "execution_count": 61,
   "metadata": {
    "ExecuteTime": {
     "end_time": "2019-08-13T17:27:58.301907Z",
     "start_time": "2019-08-13T17:27:58.289907Z"
    }
   },
   "outputs": [
    {
     "data": {
      "text/html": [
       "<div>\n",
       "<style scoped>\n",
       "    .dataframe tbody tr th:only-of-type {\n",
       "        vertical-align: middle;\n",
       "    }\n",
       "\n",
       "    .dataframe tbody tr th {\n",
       "        vertical-align: top;\n",
       "    }\n",
       "\n",
       "    .dataframe thead th {\n",
       "        text-align: right;\n",
       "    }\n",
       "</style>\n",
       "<table border=\"1\" class=\"dataframe\">\n",
       "  <thead>\n",
       "    <tr style=\"text-align: right;\">\n",
       "      <th></th>\n",
       "      <th>OBJECTID</th>\n",
       "      <th>linksuffix</th>\n",
       "      <th>node_id</th>\n",
       "      <th>rain_prof</th>\n",
       "      <th>subcatid</th>\n",
       "      <th>total_area</th>\n",
       "      <th>x</th>\n",
       "      <th>y</th>\n",
       "      <th>Shape_Leng</th>\n",
       "      <th>Shape_Area</th>\n",
       "      <th>index</th>\n",
       "      <th>sub_area</th>\n",
       "    </tr>\n",
       "  </thead>\n",
       "  <tbody>\n",
       "    <tr>\n",
       "      <th>25</th>\n",
       "      <td>10</td>\n",
       "      <td>NaN</td>\n",
       "      <td>2B2199</td>\n",
       "      <td>2B</td>\n",
       "      <td>2B2199R.1</td>\n",
       "      <td>8.604</td>\n",
       "      <td>667667.1</td>\n",
       "      <td>1922859.6</td>\n",
       "      <td>3622.781612</td>\n",
       "      <td>374771.662831</td>\n",
       "      <td>1467</td>\n",
       "      <td>13895.97</td>\n",
       "    </tr>\n",
       "    <tr>\n",
       "      <th>26</th>\n",
       "      <td>10</td>\n",
       "      <td>NaN</td>\n",
       "      <td>2B2199</td>\n",
       "      <td>2B</td>\n",
       "      <td>2B2199R.1</td>\n",
       "      <td>8.604</td>\n",
       "      <td>667667.1</td>\n",
       "      <td>1922859.6</td>\n",
       "      <td>3622.781612</td>\n",
       "      <td>374771.662831</td>\n",
       "      <td>1468</td>\n",
       "      <td>1538.53</td>\n",
       "    </tr>\n",
       "    <tr>\n",
       "      <th>27</th>\n",
       "      <td>10</td>\n",
       "      <td>NaN</td>\n",
       "      <td>2B2199</td>\n",
       "      <td>2B</td>\n",
       "      <td>2B2199R.1</td>\n",
       "      <td>8.604</td>\n",
       "      <td>667667.1</td>\n",
       "      <td>1922859.6</td>\n",
       "      <td>3622.781612</td>\n",
       "      <td>374771.662831</td>\n",
       "      <td>1509</td>\n",
       "      <td>19526.53</td>\n",
       "    </tr>\n",
       "    <tr>\n",
       "      <th>28</th>\n",
       "      <td>10</td>\n",
       "      <td>NaN</td>\n",
       "      <td>2B2199</td>\n",
       "      <td>2B</td>\n",
       "      <td>2B2199R.1</td>\n",
       "      <td>8.604</td>\n",
       "      <td>667667.1</td>\n",
       "      <td>1922859.6</td>\n",
       "      <td>3622.781612</td>\n",
       "      <td>374771.662831</td>\n",
       "      <td>1510</td>\n",
       "      <td>52.74</td>\n",
       "    </tr>\n",
       "  </tbody>\n",
       "</table>\n",
       "</div>"
      ],
      "text/plain": [
       "    OBJECTID  linksuffix node_id rain_prof   subcatid  total_area         x  \\\n",
       "25        10         NaN  2B2199        2B  2B2199R.1       8.604  667667.1   \n",
       "26        10         NaN  2B2199        2B  2B2199R.1       8.604  667667.1   \n",
       "27        10         NaN  2B2199        2B  2B2199R.1       8.604  667667.1   \n",
       "28        10         NaN  2B2199        2B  2B2199R.1       8.604  667667.1   \n",
       "\n",
       "            y   Shape_Leng     Shape_Area  index  sub_area  \n",
       "25  1922859.6  3622.781612  374771.662831   1467  13895.97  \n",
       "26  1922859.6  3622.781612  374771.662831   1468   1538.53  \n",
       "27  1922859.6  3622.781612  374771.662831   1509  19526.53  \n",
       "28  1922859.6  3622.781612  374771.662831   1510     52.74  "
      ]
     },
     "execution_count": 61,
     "metadata": {},
     "output_type": "execute_result"
    }
   ],
   "source": [
    "df_sub.head()"
   ]
  },
  {
   "cell_type": "code",
   "execution_count": 56,
   "metadata": {
    "ExecuteTime": {
     "end_time": "2019-08-13T17:27:10.049924Z",
     "start_time": "2019-08-13T17:27:10.042920Z"
    }
   },
   "outputs": [
    {
     "data": {
      "text/plain": [
       "35013.77"
      ]
     },
     "execution_count": 56,
     "metadata": {},
     "output_type": "execute_result"
    }
   ],
   "source": [
    "df_sub.sub_area.sum()"
   ]
  },
  {
   "cell_type": "code",
   "execution_count": 76,
   "metadata": {
    "ExecuteTime": {
     "end_time": "2019-08-13T17:59:23.181779Z",
     "start_time": "2019-08-13T17:58:17.530582Z"
    }
   },
   "outputs": [],
   "source": [
    "sub_area_array = []\n",
    "\n",
    "for scid in subcatid_uniques:\n",
    "    df_sub = df.loc[(df.subcatid==scid)]\n",
    "    total_sub_area = df_sub.sub_area.sum()\n",
    "    for idx in range(len(df_sub)):\n",
    "        partial_sub_area = df_sub.iloc[idx,:].sub_area\n",
    "        area_percentage = partial_sub_area/float(total_sub_area)\n",
    "        sub_area_array.append(area_percentage)"
   ]
  },
  {
   "cell_type": "code",
   "execution_count": 78,
   "metadata": {
    "ExecuteTime": {
     "end_time": "2019-08-13T18:00:05.389562Z",
     "start_time": "2019-08-13T18:00:05.380469Z"
    }
   },
   "outputs": [],
   "source": [
    "df['area_percentage'] = sub_area_array"
   ]
  },
  {
   "cell_type": "code",
   "execution_count": 79,
   "metadata": {
    "ExecuteTime": {
     "end_time": "2019-08-13T18:00:09.040899Z",
     "start_time": "2019-08-13T18:00:09.014627Z"
    }
   },
   "outputs": [
    {
     "data": {
      "text/html": [
       "<div>\n",
       "<style scoped>\n",
       "    .dataframe tbody tr th:only-of-type {\n",
       "        vertical-align: middle;\n",
       "    }\n",
       "\n",
       "    .dataframe tbody tr th {\n",
       "        vertical-align: top;\n",
       "    }\n",
       "\n",
       "    .dataframe thead th {\n",
       "        text-align: right;\n",
       "    }\n",
       "</style>\n",
       "<table border=\"1\" class=\"dataframe\">\n",
       "  <thead>\n",
       "    <tr style=\"text-align: right;\">\n",
       "      <th></th>\n",
       "      <th>OBJECTID</th>\n",
       "      <th>linksuffix</th>\n",
       "      <th>node_id</th>\n",
       "      <th>rain_prof</th>\n",
       "      <th>subcatid</th>\n",
       "      <th>total_area</th>\n",
       "      <th>x</th>\n",
       "      <th>y</th>\n",
       "      <th>Shape_Leng</th>\n",
       "      <th>Shape_Area</th>\n",
       "      <th>index</th>\n",
       "      <th>sub_area</th>\n",
       "      <th>area_percentage</th>\n",
       "    </tr>\n",
       "  </thead>\n",
       "  <tbody>\n",
       "    <tr>\n",
       "      <th>0</th>\n",
       "      <td>1</td>\n",
       "      <td>NaN</td>\n",
       "      <td>2A6114</td>\n",
       "      <td>2A</td>\n",
       "      <td>2A6114U.1</td>\n",
       "      <td>26.825</td>\n",
       "      <td>657211.8</td>\n",
       "      <td>1931234.2</td>\n",
       "      <td>11388.201101</td>\n",
       "      <td>1.167411e+06</td>\n",
       "      <td>1590</td>\n",
       "      <td>39119.09</td>\n",
       "      <td>0.360049</td>\n",
       "    </tr>\n",
       "    <tr>\n",
       "      <th>1</th>\n",
       "      <td>1</td>\n",
       "      <td>NaN</td>\n",
       "      <td>2A6114</td>\n",
       "      <td>2A</td>\n",
       "      <td>2A6114U.1</td>\n",
       "      <td>26.825</td>\n",
       "      <td>657211.8</td>\n",
       "      <td>1931234.2</td>\n",
       "      <td>11388.201101</td>\n",
       "      <td>1.167411e+06</td>\n",
       "      <td>1631</td>\n",
       "      <td>51408.80</td>\n",
       "      <td>0.473162</td>\n",
       "    </tr>\n",
       "    <tr>\n",
       "      <th>2</th>\n",
       "      <td>1</td>\n",
       "      <td>NaN</td>\n",
       "      <td>2A6114</td>\n",
       "      <td>2A</td>\n",
       "      <td>2A6114U.1</td>\n",
       "      <td>26.825</td>\n",
       "      <td>657211.8</td>\n",
       "      <td>1931234.2</td>\n",
       "      <td>11388.201101</td>\n",
       "      <td>1.167411e+06</td>\n",
       "      <td>1632</td>\n",
       "      <td>18121.48</td>\n",
       "      <td>0.166789</td>\n",
       "    </tr>\n",
       "    <tr>\n",
       "      <th>3</th>\n",
       "      <td>2</td>\n",
       "      <td>NaN</td>\n",
       "      <td>2A6120</td>\n",
       "      <td>2A</td>\n",
       "      <td>2A6120R.1</td>\n",
       "      <td>2.468</td>\n",
       "      <td>638618.3</td>\n",
       "      <td>1937157.9</td>\n",
       "      <td>1504.571364</td>\n",
       "      <td>1.075051e+05</td>\n",
       "      <td>1709</td>\n",
       "      <td>9980.97</td>\n",
       "      <td>1.000000</td>\n",
       "    </tr>\n",
       "    <tr>\n",
       "      <th>4</th>\n",
       "      <td>3</td>\n",
       "      <td>NaN</td>\n",
       "      <td>2A6120</td>\n",
       "      <td>2A</td>\n",
       "      <td>2A6120U.1</td>\n",
       "      <td>2.468</td>\n",
       "      <td>638618.3</td>\n",
       "      <td>1937157.9</td>\n",
       "      <td>1504.571364</td>\n",
       "      <td>1.075051e+05</td>\n",
       "      <td>1709</td>\n",
       "      <td>9980.97</td>\n",
       "      <td>1.000000</td>\n",
       "    </tr>\n",
       "  </tbody>\n",
       "</table>\n",
       "</div>"
      ],
      "text/plain": [
       "   OBJECTID  linksuffix node_id rain_prof   subcatid  total_area         x  \\\n",
       "0         1         NaN  2A6114        2A  2A6114U.1      26.825  657211.8   \n",
       "1         1         NaN  2A6114        2A  2A6114U.1      26.825  657211.8   \n",
       "2         1         NaN  2A6114        2A  2A6114U.1      26.825  657211.8   \n",
       "3         2         NaN  2A6120        2A  2A6120R.1       2.468  638618.3   \n",
       "4         3         NaN  2A6120        2A  2A6120U.1       2.468  638618.3   \n",
       "\n",
       "           y    Shape_Leng    Shape_Area  index  sub_area  area_percentage  \n",
       "0  1931234.2  11388.201101  1.167411e+06   1590  39119.09         0.360049  \n",
       "1  1931234.2  11388.201101  1.167411e+06   1631  51408.80         0.473162  \n",
       "2  1931234.2  11388.201101  1.167411e+06   1632  18121.48         0.166789  \n",
       "3  1937157.9   1504.571364  1.075051e+05   1709   9980.97         1.000000  \n",
       "4  1937157.9   1504.571364  1.075051e+05   1709   9980.97         1.000000  "
      ]
     },
     "execution_count": 79,
     "metadata": {},
     "output_type": "execute_result"
    }
   ],
   "source": [
    "df.head()"
   ]
  },
  {
   "cell_type": "code",
   "execution_count": 80,
   "metadata": {
    "ExecuteTime": {
     "end_time": "2019-08-13T18:00:38.263253Z",
     "start_time": "2019-08-13T18:00:37.708375Z"
    }
   },
   "outputs": [],
   "source": [
    "df.to_csv('C:/Users/iac6311/Documents/Work/git/precipitation-gradients/output/catchment_zonalstats/intersection_radargrids_catchments_area_percentage.csv')"
   ]
  },
  {
   "cell_type": "code",
   "execution_count": null,
   "metadata": {},
   "outputs": [],
   "source": []
  }
 ],
 "metadata": {
  "kernelspec": {
   "display_name": "Python 3",
   "language": "python",
   "name": "python3"
  },
  "language_info": {
   "codemirror_mode": {
    "name": "ipython",
    "version": 3
   },
   "file_extension": ".py",
   "mimetype": "text/x-python",
   "name": "python",
   "nbconvert_exporter": "python",
   "pygments_lexer": "ipython3",
   "version": "3.8.5"
  },
  "varInspector": {
   "cols": {
    "lenName": 16,
    "lenType": 16,
    "lenVar": 40
   },
   "kernels_config": {
    "python": {
     "delete_cmd_postfix": "",
     "delete_cmd_prefix": "del ",
     "library": "var_list.py",
     "varRefreshCmd": "print(var_dic_list())"
    },
    "r": {
     "delete_cmd_postfix": ") ",
     "delete_cmd_prefix": "rm(",
     "library": "var_list.r",
     "varRefreshCmd": "cat(var_dic_list()) "
    }
   },
   "types_to_exclude": [
    "module",
    "function",
    "builtin_function_or_method",
    "instance",
    "_Feature"
   ],
   "window_display": false
  }
 },
 "nbformat": 4,
 "nbformat_minor": 2
}
