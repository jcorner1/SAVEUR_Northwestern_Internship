{
 "cells": [
  {
   "cell_type": "markdown",
   "metadata": {},
   "source": [
    "# Extracting radar values at rain gauge locations (time series)\n",
    "\n",
    "The previous notebook showed the workflow of extracting the radar values at gauge locations for a single scan. In this notebook, snippets from the previous notebook will be re-used to extract the values for the entire case study period."
   ]
  },
  {
   "cell_type": "code",
   "execution_count": 1,
   "metadata": {},
   "outputs": [
    {
     "name": "stdout",
     "output_type": "stream",
     "text": [
      "\n",
      "## You are using the Python ARM Radar Toolkit (Py-ART), an open source\n",
      "## library for working with weather radar data. Py-ART is partly\n",
      "## supported by the U.S. Department of Energy as part of the Atmospheric\n",
      "## Radiation Measurement (ARM) Climate Research Facility, an Office of\n",
      "## Science user facility.\n",
      "##\n",
      "## If you use this software to prepare a publication, please cite:\n",
      "##\n",
      "##     JJ Helmus and SM Collis, JORS 2016, doi: 10.5334/jors.119\n",
      "\n"
     ]
    }
   ],
   "source": [
    "import pyart\n",
    "import wradlib as wrl\n",
    "import pandas as pd\n",
    "import tempfile\n",
    "import os\n",
    "import numpy as np\n",
    "\n",
    "import pytz\n",
    "import datetime as dt\n",
    "\n",
    "from copy import deepcopy\n",
    "import cartopy.crs as ccrs\n",
    "import cartopy.io.shapereader as shpreader\n",
    "import cartopy.feature as cfeature\n",
    "\n",
    "import boto3\n",
    "from botocore.handlers import disable_signing"
   ]
  },
  {
   "cell_type": "code",
   "execution_count": 2,
   "metadata": {},
   "outputs": [
    {
     "name": "stderr",
     "output_type": "stream",
     "text": [
      "/home/ac.jcorner/anaconda3/envs/rainfall/lib/python3.9/site-packages/ipykernel/ipkernel.py:283: DeprecationWarning: `should_run_async` will not call `transform_cell` automatically in the future. Please pass the result to `transformed_cell` argument and any exception that happen during thetransform in `preprocessing_exc_tuple` in IPython 7.17 and above.\n",
      "  and should_run_async(code)\n"
     ]
    }
   ],
   "source": [
    "def rounder(t):\n",
    "    \"\"\"\n",
    "    Rounds the time to the nearest hour.\n",
    "    \"\"\"\n",
    "    if t.minute >= 30:\n",
    "        return t.replace(second=0, microsecond=0, minute=0, hour=t.hour+1)\n",
    "    else:\n",
    "        return t.replace(second=0, microsecond=0, minute=0)"
   ]
  },
  {
   "cell_type": "code",
   "execution_count": 3,
   "metadata": {},
   "outputs": [
    {
     "name": "stderr",
     "output_type": "stream",
     "text": [
      "/home/ac.jcorner/anaconda3/envs/rainfall/lib/python3.9/site-packages/ipykernel/ipkernel.py:283: DeprecationWarning: `should_run_async` will not call `transform_cell` automatically in the future. Please pass the result to `transformed_cell` argument and any exception that happen during thetransform in `preprocessing_exc_tuple` in IPython 7.17 and above.\n",
      "  and should_run_async(code)\n"
     ]
    }
   ],
   "source": [
    "def get_radar_scan(station='KLOT', date=None, key_index=-20):\n",
    "    \n",
    "    '''\n",
    "    Function will pull the latest radar scan from any radar site using \n",
    "    Amazon S3.\n",
    "    ----------\n",
    "    Station = Four letter NEXRAD identifier\n",
    "              Example: 'KEPZ'\n",
    "    Date = default is none for current date, else enter date in format \"YYYY/MM/DD\"\n",
    "    Ex: date ='2013/11/17\n",
    "    Key_index = Number of keys you want pulled from most recent scan.\n",
    "    Ex: key_index = -15 would pull ht most recent 15 scans\n",
    "    '''\n",
    "    \n",
    "    # Creating a bucket and a client to be able to pull data from AWS and setting it as unsigned\n",
    "    bucket = 'noaa-nexrad-level2'\n",
    "    s3 = boto3.resource('s3')\n",
    "    s3.meta.client.meta.events.register('choose-signer.s3.*', disable_signing)\n",
    "    \n",
    "    # Connects the bucket create above with radar data\n",
    "    aws_radar = s3.Bucket(bucket)\n",
    "    \n",
    "    # Setting the date and time to current...\n",
    "    # This will allow for allow the current date's radar scands to be pulled\n",
    "    if date == None:\n",
    "        target_string = datetime.datetime.utcnow().strftime('%Y/%m/%d/'+station)\n",
    "    else:\n",
    "        target_string = date+'/'+station\n",
    "    \n",
    "    for obj in aws_radar.objects.filter(Prefix= target_string):\n",
    "        '{0}:{1}'.format(aws_radar.name, obj.key)\n",
    "    my_list_of_keys = [this_object.key for this_object in aws_radar.objects.filter(Prefix= target_string)]\n",
    "    keys = my_list_of_keys[key_index:]\n",
    "    newkeys = []\n",
    "    for key in keys:\n",
    "        if 'MDM' in key:\n",
    "            pass\n",
    "        elif key.endswith('.tar'):\n",
    "            pass\n",
    "        else:\n",
    "            newkeys.append(key)\n",
    "    #print(newkeys)\n",
    "    return aws_radar, newkeys"
   ]
  },
  {
   "cell_type": "markdown",
   "metadata": {},
   "source": [
    "Get the filenames of the available files for download, for the specified radar `station` (KLOT for Chicago), `date`, and `key_index`. `key_index` refers to the N most recent files."
   ]
  },
  {
   "cell_type": "code",
   "execution_count": 26,
   "metadata": {},
   "outputs": [
    {
     "name": "stderr",
     "output_type": "stream",
     "text": [
      "/home/ac.jcorner/anaconda3/envs/rainfall/lib/python3.9/site-packages/ipykernel/ipkernel.py:283: DeprecationWarning: `should_run_async` will not call `transform_cell` automatically in the future. Please pass the result to `transformed_cell` argument and any exception that happen during thetransform in `preprocessing_exc_tuple` in IPython 7.17 and above.\n",
      "  and should_run_async(code)\n"
     ]
    }
   ],
   "source": [
    "# Setting radar, date of radar scans needed, and key index (amount of items in list)\n",
    "aws_radar, keys = get_radar_scan(station='KLOT', date='2021/06/11', key_index=-400) "
   ]
  },
  {
   "cell_type": "markdown",
   "metadata": {},
   "source": [
    "Set the filenames to be opened."
   ]
  },
  {
   "cell_type": "code",
   "execution_count": 27,
   "metadata": {},
   "outputs": [
    {
     "name": "stderr",
     "output_type": "stream",
     "text": [
      "/home/ac.jcorner/anaconda3/envs/rainfall/lib/python3.9/site-packages/ipykernel/ipkernel.py:283: DeprecationWarning: `should_run_async` will not call `transform_cell` automatically in the future. Please pass the result to `transformed_cell` argument and any exception that happen during thetransform in `preprocessing_exc_tuple` in IPython 7.17 and above.\n",
      "  and should_run_async(code)\n"
     ]
    }
   ],
   "source": [
    "# load CCN gauge locations\n",
    "CCN_gauge_locations_fname = 'C:/Users/irene/Documents/Work/Data/Cook_County/CookCounty_gage_locations.csv'\n",
    "# load CCN gauge observations\n",
    "CCN_gauge_observations_fname = 'C:/Users/irene/Documents/Work/Data/Cook_County/WaterYear2013.csv'"
   ]
  },
  {
   "cell_type": "code",
   "execution_count": 28,
   "metadata": {},
   "outputs": [
    {
     "name": "stderr",
     "output_type": "stream",
     "text": [
      "/home/ac.jcorner/anaconda3/envs/rainfall/lib/python3.9/site-packages/ipykernel/ipkernel.py:283: DeprecationWarning: `should_run_async` will not call `transform_cell` automatically in the future. Please pass the result to `transformed_cell` argument and any exception that happen during thetransform in `preprocessing_exc_tuple` in IPython 7.17 and above.\n",
      "  and should_run_async(code)\n"
     ]
    }
   ],
   "source": [
    "# load CCN gauge locations\n",
    "CCN_gauge_locations_fname = '/home/ac.jcorner/Rainfall/CookCounty_gage_locations.csv'\n",
    "# load CCN gauge observations\n",
    "CCN_gauge_observations_fname = '/home/ac.jcorner/Rainfall/WaterYear2013_hourlyprecip.csv'"
   ]
  },
  {
   "cell_type": "markdown",
   "metadata": {},
   "source": [
    "Read."
   ]
  },
  {
   "cell_type": "code",
   "execution_count": 29,
   "metadata": {},
   "outputs": [
    {
     "name": "stderr",
     "output_type": "stream",
     "text": [
      "/home/ac.jcorner/anaconda3/envs/rainfall/lib/python3.9/site-packages/ipykernel/ipkernel.py:283: DeprecationWarning: `should_run_async` will not call `transform_cell` automatically in the future. Please pass the result to `transformed_cell` argument and any exception that happen during thetransform in `preprocessing_exc_tuple` in IPython 7.17 and above.\n",
      "  and should_run_async(code)\n"
     ]
    }
   ],
   "source": [
    "df_gauge_loc = pd.read_csv(CCN_gauge_locations_fname,header=0)\n",
    "df_gauge = pd.read_csv(CCN_gauge_observations_fname,header=0)"
   ]
  },
  {
   "cell_type": "markdown",
   "metadata": {},
   "source": [
    "Setting up variables that are reccuringly used."
   ]
  },
  {
   "cell_type": "code",
   "execution_count": 30,
   "metadata": {},
   "outputs": [
    {
     "name": "stderr",
     "output_type": "stream",
     "text": [
      "/home/ac.jcorner/anaconda3/envs/rainfall/lib/python3.9/site-packages/ipykernel/ipkernel.py:283: DeprecationWarning: `should_run_async` will not call `transform_cell` automatically in the future. Please pass the result to `transformed_cell` argument and any exception that happen during thetransform in `preprocessing_exc_tuple` in IPython 7.17 and above.\n",
      "  and should_run_async(code)\n"
     ]
    }
   ],
   "source": [
    "# set the timezone\n",
    "timezone = pytz.timezone(\"America/Chicago\")"
   ]
  },
  {
   "cell_type": "code",
   "execution_count": 31,
   "metadata": {},
   "outputs": [
    {
     "name": "stderr",
     "output_type": "stream",
     "text": [
      "/home/ac.jcorner/anaconda3/envs/rainfall/lib/python3.9/site-packages/ipykernel/ipkernel.py:283: DeprecationWarning: `should_run_async` will not call `transform_cell` automatically in the future. Please pass the result to `transformed_cell` argument and any exception that happen during thetransform in `preprocessing_exc_tuple` in IPython 7.17 and above.\n",
      "  and should_run_async(code)\n"
     ]
    }
   ],
   "source": [
    "# gauge locations\n",
    "x = df_gauge_loc['Longitude - West'].values\n",
    "y = df_gauge_loc['Latitude'].values"
   ]
  },
  {
   "cell_type": "code",
   "execution_count": 32,
   "metadata": {},
   "outputs": [
    {
     "name": "stderr",
     "output_type": "stream",
     "text": [
      "/home/ac.jcorner/anaconda3/envs/rainfall/lib/python3.9/site-packages/ipykernel/ipkernel.py:283: DeprecationWarning: `should_run_async` will not call `transform_cell` automatically in the future. Please pass the result to `transformed_cell` argument and any exception that happen during thetransform in `preprocessing_exc_tuple` in IPython 7.17 and above.\n",
      "  and should_run_async(code)\n"
     ]
    }
   ],
   "source": [
    "df_gauge['Datetime'] = pd.to_datetime(df_gauge['Date/Time'])\n",
    "df_gauge['Datetime'] = df_gauge['Datetime'].dt.tz_localize(timezone,ambiguous='NaT',nonexistent ='NaT')"
   ]
  },
  {
   "cell_type": "code",
   "execution_count": 33,
   "metadata": {},
   "outputs": [
    {
     "name": "stderr",
     "output_type": "stream",
     "text": [
      "/home/ac.jcorner/anaconda3/envs/rainfall/lib/python3.9/site-packages/ipykernel/ipkernel.py:283: DeprecationWarning: `should_run_async` will not call `transform_cell` automatically in the future. Please pass the result to `transformed_cell` argument and any exception that happen during thetransform in `preprocessing_exc_tuple` in IPython 7.17 and above.\n",
      "  and should_run_async(code)\n"
     ]
    }
   ],
   "source": [
    "proj = wrl.georef.epsg_to_osr(4326)"
   ]
  },
  {
   "cell_type": "code",
   "execution_count": 34,
   "metadata": {
    "scrolled": true
   },
   "outputs": [
    {
     "name": "stderr",
     "output_type": "stream",
     "text": [
      "/home/ac.jcorner/anaconda3/envs/rainfall/lib/python3.9/site-packages/ipykernel/ipkernel.py:283: DeprecationWarning: `should_run_async` will not call `transform_cell` automatically in the future. Please pass the result to `transformed_cell` argument and any exception that happen during thetransform in `preprocessing_exc_tuple` in IPython 7.17 and above.\n",
      "  and should_run_async(code)\n"
     ]
    },
    {
     "data": {
      "text/plain": [
       "['2021/06/11/KLOT/KLOT20210611_000213_V06',\n",
       " '2021/06/11/KLOT/KLOT20210611_000550_V06',\n",
       " '2021/06/11/KLOT/KLOT20210611_000921_V06',\n",
       " '2021/06/11/KLOT/KLOT20210611_001241_V06',\n",
       " '2021/06/11/KLOT/KLOT20210611_001619_V06',\n",
       " '2021/06/11/KLOT/KLOT20210611_001933_V06',\n",
       " '2021/06/11/KLOT/KLOT20210611_002303_V06',\n",
       " '2021/06/11/KLOT/KLOT20210611_002633_V06',\n",
       " '2021/06/11/KLOT/KLOT20210611_002948_V06',\n",
       " '2021/06/11/KLOT/KLOT20210611_003326_V06',\n",
       " '2021/06/11/KLOT/KLOT20210611_003645_V06',\n",
       " '2021/06/11/KLOT/KLOT20210611_004022_V06',\n",
       " '2021/06/11/KLOT/KLOT20210611_004359_V06',\n",
       " '2021/06/11/KLOT/KLOT20210611_004736_V06',\n",
       " '2021/06/11/KLOT/KLOT20210611_005100_V06',\n",
       " '2021/06/11/KLOT/KLOT20210611_005437_V06',\n",
       " '2021/06/11/KLOT/KLOT20210611_005808_V06',\n",
       " '2021/06/11/KLOT/KLOT20210611_010137_V06',\n",
       " '2021/06/11/KLOT/KLOT20210611_010515_V06',\n",
       " '2021/06/11/KLOT/KLOT20210611_010853_V06',\n",
       " '2021/06/11/KLOT/KLOT20210611_011230_V06',\n",
       " '2021/06/11/KLOT/KLOT20210611_011601_V06',\n",
       " '2021/06/11/KLOT/KLOT20210611_011931_V06',\n",
       " '2021/06/11/KLOT/KLOT20210611_012301_V06',\n",
       " '2021/06/11/KLOT/KLOT20210611_012632_V06',\n",
       " '2021/06/11/KLOT/KLOT20210611_013002_V06',\n",
       " '2021/06/11/KLOT/KLOT20210611_013339_V06',\n",
       " '2021/06/11/KLOT/KLOT20210611_013708_V06',\n",
       " '2021/06/11/KLOT/KLOT20210611_014046_V06',\n",
       " '2021/06/11/KLOT/KLOT20210611_014424_V06',\n",
       " '2021/06/11/KLOT/KLOT20210611_014801_V06',\n",
       " '2021/06/11/KLOT/KLOT20210611_015138_V06',\n",
       " '2021/06/11/KLOT/KLOT20210611_015458_V06',\n",
       " '2021/06/11/KLOT/KLOT20210611_015823_V06',\n",
       " '2021/06/11/KLOT/KLOT20210611_020159_V06',\n",
       " '2021/06/11/KLOT/KLOT20210611_020518_V06',\n",
       " '2021/06/11/KLOT/KLOT20210611_020837_V06',\n",
       " '2021/06/11/KLOT/KLOT20210611_021215_V06',\n",
       " '2021/06/11/KLOT/KLOT20210611_021553_V06',\n",
       " '2021/06/11/KLOT/KLOT20210611_021931_V06',\n",
       " '2021/06/11/KLOT/KLOT20210611_022308_V06',\n",
       " '2021/06/11/KLOT/KLOT20210611_022645_V06',\n",
       " '2021/06/11/KLOT/KLOT20210611_023022_V06',\n",
       " '2021/06/11/KLOT/KLOT20210611_023359_V06',\n",
       " '2021/06/11/KLOT/KLOT20210611_023736_V06',\n",
       " '2021/06/11/KLOT/KLOT20210611_024107_V06',\n",
       " '2021/06/11/KLOT/KLOT20210611_024444_V06',\n",
       " '2021/06/11/KLOT/KLOT20210611_024821_V06',\n",
       " '2021/06/11/KLOT/KLOT20210611_025159_V06',\n",
       " '2021/06/11/KLOT/KLOT20210611_025857_V06',\n",
       " '2021/06/11/KLOT/KLOT20210611_030600_V06',\n",
       " '2021/06/11/KLOT/KLOT20210611_031304_V06',\n",
       " '2021/06/11/KLOT/KLOT20210611_032007_V06',\n",
       " '2021/06/11/KLOT/KLOT20210611_032710_V06',\n",
       " '2021/06/11/KLOT/KLOT20210611_033413_V06',\n",
       " '2021/06/11/KLOT/KLOT20210611_034116_V06',\n",
       " '2021/06/11/KLOT/KLOT20210611_034818_V06',\n",
       " '2021/06/11/KLOT/KLOT20210611_035521_V06',\n",
       " '2021/06/11/KLOT/KLOT20210611_040224_V06',\n",
       " '2021/06/11/KLOT/KLOT20210611_040908_V06',\n",
       " '2021/06/11/KLOT/KLOT20210611_041611_V06',\n",
       " '2021/06/11/KLOT/KLOT20210611_042308_V06',\n",
       " '2021/06/11/KLOT/KLOT20210611_043005_V06',\n",
       " '2021/06/11/KLOT/KLOT20210611_043657_V06',\n",
       " '2021/06/11/KLOT/KLOT20210611_044350_V06',\n",
       " '2021/06/11/KLOT/KLOT20210611_045041_V06',\n",
       " '2021/06/11/KLOT/KLOT20210611_045725_V06',\n",
       " '2021/06/11/KLOT/KLOT20210611_050409_V06',\n",
       " '2021/06/11/KLOT/KLOT20210611_051053_V06',\n",
       " '2021/06/11/KLOT/KLOT20210611_051737_V06',\n",
       " '2021/06/11/KLOT/KLOT20210611_052422_V06',\n",
       " '2021/06/11/KLOT/KLOT20210611_053106_V06',\n",
       " '2021/06/11/KLOT/KLOT20210611_053750_V06',\n",
       " '2021/06/11/KLOT/KLOT20210611_054432_V06',\n",
       " '2021/06/11/KLOT/KLOT20210611_055116_V06',\n",
       " '2021/06/11/KLOT/KLOT20210611_055804_V06',\n",
       " '2021/06/11/KLOT/KLOT20210611_060453_V06',\n",
       " '2021/06/11/KLOT/KLOT20210611_061140_V06',\n",
       " '2021/06/11/KLOT/KLOT20210611_061828_V06',\n",
       " '2021/06/11/KLOT/KLOT20210611_062721_V06',\n",
       " '2021/06/11/KLOT/KLOT20210611_063414_V06',\n",
       " '2021/06/11/KLOT/KLOT20210611_064102_V06',\n",
       " '2021/06/11/KLOT/KLOT20210611_064750_V06',\n",
       " '2021/06/11/KLOT/KLOT20210611_065434_V06',\n",
       " '2021/06/11/KLOT/KLOT20210611_070122_V06',\n",
       " '2021/06/11/KLOT/KLOT20210611_070811_V06',\n",
       " '2021/06/11/KLOT/KLOT20210611_071459_V06',\n",
       " '2021/06/11/KLOT/KLOT20210611_072147_V06',\n",
       " '2021/06/11/KLOT/KLOT20210611_072835_V06',\n",
       " '2021/06/11/KLOT/KLOT20210611_073528_V06',\n",
       " '2021/06/11/KLOT/KLOT20210611_074216_V06',\n",
       " '2021/06/11/KLOT/KLOT20210611_074903_V06',\n",
       " '2021/06/11/KLOT/KLOT20210611_075606_V06',\n",
       " '2021/06/11/KLOT/KLOT20210611_080309_V06',\n",
       " '2021/06/11/KLOT/KLOT20210611_081011_V06',\n",
       " '2021/06/11/KLOT/KLOT20210611_081714_V06',\n",
       " '2021/06/11/KLOT/KLOT20210611_082417_V06',\n",
       " '2021/06/11/KLOT/KLOT20210611_083114_V06',\n",
       " '2021/06/11/KLOT/KLOT20210611_083817_V06',\n",
       " '2021/06/11/KLOT/KLOT20210611_084509_V06',\n",
       " '2021/06/11/KLOT/KLOT20210611_085212_V06',\n",
       " '2021/06/11/KLOT/KLOT20210611_085916_V06',\n",
       " '2021/06/11/KLOT/KLOT20210611_090618_V06',\n",
       " '2021/06/11/KLOT/KLOT20210611_091323_V06',\n",
       " '2021/06/11/KLOT/KLOT20210611_092020_V06',\n",
       " '2021/06/11/KLOT/KLOT20210611_092723_V06',\n",
       " '2021/06/11/KLOT/KLOT20210611_093427_V06',\n",
       " '2021/06/11/KLOT/KLOT20210611_094130_V06',\n",
       " '2021/06/11/KLOT/KLOT20210611_094835_V06',\n",
       " '2021/06/11/KLOT/KLOT20210611_095539_V06',\n",
       " '2021/06/11/KLOT/KLOT20210611_100243_V06',\n",
       " '2021/06/11/KLOT/KLOT20210611_100947_V06',\n",
       " '2021/06/11/KLOT/KLOT20210611_101651_V06',\n",
       " '2021/06/11/KLOT/KLOT20210611_102354_V06',\n",
       " '2021/06/11/KLOT/KLOT20210611_103058_V06',\n",
       " '2021/06/11/KLOT/KLOT20210611_103800_V06',\n",
       " '2021/06/11/KLOT/KLOT20210611_104503_V06',\n",
       " '2021/06/11/KLOT/KLOT20210611_105207_V06',\n",
       " '2021/06/11/KLOT/KLOT20210611_105910_V06',\n",
       " '2021/06/11/KLOT/KLOT20210611_110612_V06',\n",
       " '2021/06/11/KLOT/KLOT20210611_111315_V06',\n",
       " '2021/06/11/KLOT/KLOT20210611_112020_V06',\n",
       " '2021/06/11/KLOT/KLOT20210611_112723_V06',\n",
       " '2021/06/11/KLOT/KLOT20210611_113426_V06',\n",
       " '2021/06/11/KLOT/KLOT20210611_114130_V06',\n",
       " '2021/06/11/KLOT/KLOT20210611_114835_V06',\n",
       " '2021/06/11/KLOT/KLOT20210611_115539_V06',\n",
       " '2021/06/11/KLOT/KLOT20210611_120241_V06',\n",
       " '2021/06/11/KLOT/KLOT20210611_120945_V06',\n",
       " '2021/06/11/KLOT/KLOT20210611_121648_V06',\n",
       " '2021/06/11/KLOT/KLOT20210611_122352_V06',\n",
       " '2021/06/11/KLOT/KLOT20210611_123057_V06',\n",
       " '2021/06/11/KLOT/KLOT20210611_123801_V06',\n",
       " '2021/06/11/KLOT/KLOT20210611_124504_V06',\n",
       " '2021/06/11/KLOT/KLOT20210611_125208_V06',\n",
       " '2021/06/11/KLOT/KLOT20210611_125912_V06',\n",
       " '2021/06/11/KLOT/KLOT20210611_130614_V06',\n",
       " '2021/06/11/KLOT/KLOT20210611_131318_V06',\n",
       " '2021/06/11/KLOT/KLOT20210611_132021_V06',\n",
       " '2021/06/11/KLOT/KLOT20210611_132724_V06',\n",
       " '2021/06/11/KLOT/KLOT20210611_133427_V06',\n",
       " '2021/06/11/KLOT/KLOT20210611_134124_V06',\n",
       " '2021/06/11/KLOT/KLOT20210611_134827_V06',\n",
       " '2021/06/11/KLOT/KLOT20210611_135530_V06',\n",
       " '2021/06/11/KLOT/KLOT20210611_140233_V06',\n",
       " '2021/06/11/KLOT/KLOT20210611_140936_V06',\n",
       " '2021/06/11/KLOT/KLOT20210611_141641_V06',\n",
       " '2021/06/11/KLOT/KLOT20210611_142344_V06',\n",
       " '2021/06/11/KLOT/KLOT20210611_143251_V06',\n",
       " '2021/06/11/KLOT/KLOT20210611_143954_V06',\n",
       " '2021/06/11/KLOT/KLOT20210611_144658_V06',\n",
       " '2021/06/11/KLOT/KLOT20210611_145355_V06',\n",
       " '2021/06/11/KLOT/KLOT20210611_150046_V06',\n",
       " '2021/06/11/KLOT/KLOT20210611_150739_V06',\n",
       " '2021/06/11/KLOT/KLOT20210611_151437_V06',\n",
       " '2021/06/11/KLOT/KLOT20210611_152129_V06',\n",
       " '2021/06/11/KLOT/KLOT20210611_152816_V06',\n",
       " '2021/06/11/KLOT/KLOT20210611_153504_V06',\n",
       " '2021/06/11/KLOT/KLOT20210611_154153_V06',\n",
       " '2021/06/11/KLOT/KLOT20210611_154845_V06',\n",
       " '2021/06/11/KLOT/KLOT20210611_155534_V06',\n",
       " '2021/06/11/KLOT/KLOT20210611_160221_V06',\n",
       " '2021/06/11/KLOT/KLOT20210611_160918_V06',\n",
       " '2021/06/11/KLOT/KLOT20210611_161607_V06',\n",
       " '2021/06/11/KLOT/KLOT20210611_162255_V06',\n",
       " '2021/06/11/KLOT/KLOT20210611_162946_V06',\n",
       " '2021/06/11/KLOT/KLOT20210611_163634_V06',\n",
       " '2021/06/11/KLOT/KLOT20210611_164323_V06',\n",
       " '2021/06/11/KLOT/KLOT20210611_165012_V06',\n",
       " '2021/06/11/KLOT/KLOT20210611_165655_V06',\n",
       " '2021/06/11/KLOT/KLOT20210611_170339_V06',\n",
       " '2021/06/11/KLOT/KLOT20210611_171023_V06',\n",
       " '2021/06/11/KLOT/KLOT20210611_171518_V06',\n",
       " '2021/06/11/KLOT/KLOT20210611_171922_V06',\n",
       " '2021/06/11/KLOT/KLOT20210611_172317_V06',\n",
       " '2021/06/11/KLOT/KLOT20210611_172726_V06',\n",
       " '2021/06/11/KLOT/KLOT20210611_173121_V06',\n",
       " '2021/06/11/KLOT/KLOT20210611_173530_V06',\n",
       " '2021/06/11/KLOT/KLOT20210611_173952_V06',\n",
       " '2021/06/11/KLOT/KLOT20210611_174415_V06',\n",
       " '2021/06/11/KLOT/KLOT20210611_174837_V06',\n",
       " '2021/06/11/KLOT/KLOT20210611_175301_V06',\n",
       " '2021/06/11/KLOT/KLOT20210611_175723_V06',\n",
       " '2021/06/11/KLOT/KLOT20210611_180208_V06',\n",
       " '2021/06/11/KLOT/KLOT20210611_180630_V06',\n",
       " '2021/06/11/KLOT/KLOT20210611_181054_V06',\n",
       " '2021/06/11/KLOT/KLOT20210611_181517_V06',\n",
       " '2021/06/11/KLOT/KLOT20210611_182002_V06',\n",
       " '2021/06/11/KLOT/KLOT20210611_182447_V06',\n",
       " '2021/06/11/KLOT/KLOT20210611_182931_V06',\n",
       " '2021/06/11/KLOT/KLOT20210611_183418_V06',\n",
       " '2021/06/11/KLOT/KLOT20210611_183903_V06',\n",
       " '2021/06/11/KLOT/KLOT20210611_184349_V06',\n",
       " '2021/06/11/KLOT/KLOT20210611_184834_V06',\n",
       " '2021/06/11/KLOT/KLOT20210611_185347_V06',\n",
       " '2021/06/11/KLOT/KLOT20210611_185905_V06',\n",
       " '2021/06/11/KLOT/KLOT20210611_190435_V06',\n",
       " '2021/06/11/KLOT/KLOT20210611_191005_V06',\n",
       " '2021/06/11/KLOT/KLOT20210611_191527_V06',\n",
       " '2021/06/11/KLOT/KLOT20210611_192048_V06',\n",
       " '2021/06/11/KLOT/KLOT20210611_192609_V06',\n",
       " '2021/06/11/KLOT/KLOT20210611_193121_V06',\n",
       " '2021/06/11/KLOT/KLOT20210611_193641_V06',\n",
       " '2021/06/11/KLOT/KLOT20210611_194201_V06',\n",
       " '2021/06/11/KLOT/KLOT20210611_194701_V06',\n",
       " '2021/06/11/KLOT/KLOT20210611_195201_V06',\n",
       " '2021/06/11/KLOT/KLOT20210611_195713_V06',\n",
       " '2021/06/11/KLOT/KLOT20210611_200214_V06',\n",
       " '2021/06/11/KLOT/KLOT20210611_200743_V06',\n",
       " '2021/06/11/KLOT/KLOT20210611_201257_V06',\n",
       " '2021/06/11/KLOT/KLOT20210611_201810_V06',\n",
       " '2021/06/11/KLOT/KLOT20210611_202330_V06',\n",
       " '2021/06/11/KLOT/KLOT20210611_202848_V06',\n",
       " '2021/06/11/KLOT/KLOT20210611_203354_V06',\n",
       " '2021/06/11/KLOT/KLOT20210611_203845_V06',\n",
       " '2021/06/11/KLOT/KLOT20210611_204359_V06',\n",
       " '2021/06/11/KLOT/KLOT20210611_204914_V06',\n",
       " '2021/06/11/KLOT/KLOT20210611_205415_V06',\n",
       " '2021/06/11/KLOT/KLOT20210611_205931_V06',\n",
       " '2021/06/11/KLOT/KLOT20210611_210446_V06',\n",
       " '2021/06/11/KLOT/KLOT20210611_211015_V06',\n",
       " '2021/06/11/KLOT/KLOT20210611_211521_V06',\n",
       " '2021/06/11/KLOT/KLOT20210611_212041_V06',\n",
       " '2021/06/11/KLOT/KLOT20210611_212601_V06',\n",
       " '2021/06/11/KLOT/KLOT20210611_213101_V06',\n",
       " '2021/06/11/KLOT/KLOT20210611_213621_V06',\n",
       " '2021/06/11/KLOT/KLOT20210611_214135_V06',\n",
       " '2021/06/11/KLOT/KLOT20210611_214641_V06',\n",
       " '2021/06/11/KLOT/KLOT20210611_215140_V06',\n",
       " '2021/06/11/KLOT/KLOT20210611_215653_V06',\n",
       " '2021/06/11/KLOT/KLOT20210611_220151_V06',\n",
       " '2021/06/11/KLOT/KLOT20210611_220650_V06',\n",
       " '2021/06/11/KLOT/KLOT20210611_221155_V06',\n",
       " '2021/06/11/KLOT/KLOT20210611_221655_V06',\n",
       " '2021/06/11/KLOT/KLOT20210611_222155_V06',\n",
       " '2021/06/11/KLOT/KLOT20210611_222654_V06',\n",
       " '2021/06/11/KLOT/KLOT20210611_223357_V06',\n",
       " '2021/06/11/KLOT/KLOT20210611_223856_V06',\n",
       " '2021/06/11/KLOT/KLOT20210611_224356_V06',\n",
       " '2021/06/11/KLOT/KLOT20210611_224855_V06',\n",
       " '2021/06/11/KLOT/KLOT20210611_225425_V06',\n",
       " '2021/06/11/KLOT/KLOT20210611_225954_V06',\n",
       " '2021/06/11/KLOT/KLOT20210611_230524_V06',\n",
       " '2021/06/11/KLOT/KLOT20210611_231054_V06',\n",
       " '2021/06/11/KLOT/KLOT20210611_231624_V06',\n",
       " '2021/06/11/KLOT/KLOT20210611_232153_V06',\n",
       " '2021/06/11/KLOT/KLOT20210611_232723_V06',\n",
       " '2021/06/11/KLOT/KLOT20210611_233252_V06',\n",
       " '2021/06/11/KLOT/KLOT20210611_233823_V06',\n",
       " '2021/06/11/KLOT/KLOT20210611_234353_V06',\n",
       " '2021/06/11/KLOT/KLOT20210611_234921_V06',\n",
       " '2021/06/11/KLOT/KLOT20210611_235436_V06',\n",
       " '2021/06/11/KLOT/KLOT20210611_235952_V06']"
      ]
     },
     "execution_count": 34,
     "metadata": {},
     "output_type": "execute_result"
    }
   ],
   "source": [
    "keys"
   ]
  },
  {
   "cell_type": "code",
   "execution_count": 35,
   "metadata": {},
   "outputs": [
    {
     "name": "stderr",
     "output_type": "stream",
     "text": [
      "/home/ac.jcorner/anaconda3/envs/rainfall/lib/python3.9/site-packages/ipykernel/ipkernel.py:283: DeprecationWarning: `should_run_async` will not call `transform_cell` automatically in the future. Please pass the result to `transformed_cell` argument and any exception that happen during thetransform in `preprocessing_exc_tuple` in IPython 7.17 and above.\n",
      "  and should_run_async(code)\n"
     ]
    }
   ],
   "source": [
    "def get_radar_time_from_fname(fname):\n",
    "    fn = fname.rsplit('/',1)[-1].strip('.gz')\n",
    "    dtime_utc = dt.datetime.strptime(fn,'KLOT%Y%m%d_%H%M%S_V06')\n",
    "    dtime_utc = pytz.utc.localize(dtime_utc)\n",
    "    return dtime_utc"
   ]
  },
  {
   "cell_type": "code",
   "execution_count": 36,
   "metadata": {},
   "outputs": [
    {
     "name": "stderr",
     "output_type": "stream",
     "text": [
      "/home/ac.jcorner/anaconda3/envs/rainfall/lib/python3.9/site-packages/ipykernel/ipkernel.py:283: DeprecationWarning: `should_run_async` will not call `transform_cell` automatically in the future. Please pass the result to `transformed_cell` argument and any exception that happen during thetransform in `preprocessing_exc_tuple` in IPython 7.17 and above.\n",
      "  and should_run_async(code)\n"
     ]
    }
   ],
   "source": [
    "dtimes = []\n",
    "for key in keys:\n",
    "    dtimes.append(get_radar_time_from_fname(key))"
   ]
  },
  {
   "cell_type": "code",
   "execution_count": 37,
   "metadata": {},
   "outputs": [
    {
     "name": "stderr",
     "output_type": "stream",
     "text": [
      "/home/ac.jcorner/anaconda3/envs/rainfall/lib/python3.9/site-packages/ipykernel/ipkernel.py:283: DeprecationWarning: `should_run_async` will not call `transform_cell` automatically in the future. Please pass the result to `transformed_cell` argument and any exception that happen during thetransform in `preprocessing_exc_tuple` in IPython 7.17 and above.\n",
      "  and should_run_async(code)\n"
     ]
    },
    {
     "data": {
      "text/plain": [
       "datetime.timedelta(seconds=342, microseconds=297619)"
      ]
     },
     "execution_count": 37,
     "metadata": {},
     "output_type": "execute_result"
    }
   ],
   "source": [
    "np.mean(np.diff(dtimes))"
   ]
  },
  {
   "cell_type": "code",
   "execution_count": 38,
   "metadata": {},
   "outputs": [
    {
     "name": "stderr",
     "output_type": "stream",
     "text": [
      "/home/ac.jcorner/anaconda3/envs/rainfall/lib/python3.9/site-packages/ipykernel/ipkernel.py:283: DeprecationWarning: `should_run_async` will not call `transform_cell` automatically in the future. Please pass the result to `transformed_cell` argument and any exception that happen during thetransform in `preprocessing_exc_tuple` in IPython 7.17 and above.\n",
      "  and should_run_async(code)\n"
     ]
    }
   ],
   "source": [
    "newkeys=keys"
   ]
  },
  {
   "cell_type": "markdown",
   "metadata": {},
   "source": [
    "Read one radar file once to get the radar parameters and setup the polar neighbor object. This takes some time to generate, and it makes most sense to generate this once at the start and just reuse the object."
   ]
  },
  {
   "cell_type": "code",
   "execution_count": 39,
   "metadata": {},
   "outputs": [
    {
     "name": "stderr",
     "output_type": "stream",
     "text": [
      "/home/ac.jcorner/anaconda3/envs/rainfall/lib/python3.9/site-packages/ipykernel/ipkernel.py:283: DeprecationWarning: `should_run_async` will not call `transform_cell` automatically in the future. Please pass the result to `transformed_cell` argument and any exception that happen during thetransform in `preprocessing_exc_tuple` in IPython 7.17 and above.\n",
      "  and should_run_async(code)\n"
     ]
    }
   ],
   "source": [
    "# loop through the keys by iterating nframe\n",
    "nframe = 14\n",
    "\n",
    "# open a temporary local file\n",
    "localfile = tempfile.NamedTemporaryFile(delete=False)\n",
    "localfile_name = localfile.name\n",
    "localfile.close()\n",
    "\n",
    "# download to temporary file and read to radar object using pyart\n",
    "aws_radar.download_file(newkeys[nframe], localfile_name)\n",
    "radar = pyart.io.read(localfile_name)\n",
    "\n",
    "# delete temporary file to save space\n",
    "os.remove(localfile_name)"
   ]
  },
  {
   "cell_type": "code",
   "execution_count": 40,
   "metadata": {},
   "outputs": [
    {
     "name": "stderr",
     "output_type": "stream",
     "text": [
      "/home/ac.jcorner/anaconda3/envs/rainfall/lib/python3.9/site-packages/ipykernel/ipkernel.py:283: DeprecationWarning: `should_run_async` will not call `transform_cell` automatically in the future. Please pass the result to `transformed_cell` argument and any exception that happen during thetransform in `preprocessing_exc_tuple` in IPython 7.17 and above.\n",
      "  and should_run_async(code)\n"
     ]
    }
   ],
   "source": [
    "radar_slice0 = radar.get_slice(0)"
   ]
  },
  {
   "cell_type": "code",
   "execution_count": 41,
   "metadata": {},
   "outputs": [
    {
     "name": "stderr",
     "output_type": "stream",
     "text": [
      "/home/ac.jcorner/anaconda3/envs/rainfall/lib/python3.9/site-packages/ipykernel/ipkernel.py:283: DeprecationWarning: `should_run_async` will not call `transform_cell` automatically in the future. Please pass the result to `transformed_cell` argument and any exception that happen during thetransform in `preprocessing_exc_tuple` in IPython 7.17 and above.\n",
      "  and should_run_async(code)\n"
     ]
    }
   ],
   "source": [
    "sitecoords = (radar.longitude['data'][0],radar.latitude['data'][0])\n",
    "az = radar.azimuth['data'][radar_slice0]\n",
    "r = radar.range['data']\n",
    "\n",
    "# create the polar neighbor object\n",
    "polarneighbs = wrl.verify.PolarNeighbours(r, az, sitecoords, proj, x,y, nnear=9)"
   ]
  },
  {
   "cell_type": "code",
   "execution_count": 42,
   "metadata": {},
   "outputs": [
    {
     "name": "stderr",
     "output_type": "stream",
     "text": [
      "/home/ac.jcorner/anaconda3/envs/rainfall/lib/python3.9/site-packages/ipykernel/ipkernel.py:283: DeprecationWarning: `should_run_async` will not call `transform_cell` automatically in the future. Please pass the result to `transformed_cell` argument and any exception that happen during thetransform in `preprocessing_exc_tuple` in IPython 7.17 and above.\n",
      "  and should_run_async(code)\n"
     ]
    }
   ],
   "source": [
    "# create empty dataframe where we will put the extracted values\n",
    "columns=['DateTime','G1','G2','G3','G4','G5','G6','G7','G8',\n",
    "                           'G9','G10','G11','G12','G13','G14','G15','G16','G17',\n",
    "                           'G18','G19','G20','G21','G22','G23','G24','G25']\n",
    "df = pd.DataFrame(columns=columns)"
   ]
  },
  {
   "cell_type": "code",
   "execution_count": 43,
   "metadata": {
    "scrolled": true
   },
   "outputs": [
    {
     "name": "stderr",
     "output_type": "stream",
     "text": [
      "/home/ac.jcorner/anaconda3/envs/rainfall/lib/python3.9/site-packages/ipykernel/ipkernel.py:283: DeprecationWarning: `should_run_async` will not call `transform_cell` automatically in the future. Please pass the result to `transformed_cell` argument and any exception that happen during thetransform in `preprocessing_exc_tuple` in IPython 7.17 and above.\n",
      "  and should_run_async(code)\n"
     ]
    },
    {
     "name": "stdout",
     "output_type": "stream",
     "text": [
      "2021/06/11/KLOT/KLOT20210611_000213_V06\n",
      "2021/06/11/KLOT/KLOT20210611_000550_V06\n",
      "2021/06/11/KLOT/KLOT20210611_000921_V06\n",
      "2021/06/11/KLOT/KLOT20210611_001241_V06\n",
      "2021/06/11/KLOT/KLOT20210611_001619_V06\n",
      "2021/06/11/KLOT/KLOT20210611_001933_V06\n",
      "2021/06/11/KLOT/KLOT20210611_002303_V06\n",
      "2021/06/11/KLOT/KLOT20210611_002633_V06\n",
      "2021/06/11/KLOT/KLOT20210611_002948_V06\n",
      "2021/06/11/KLOT/KLOT20210611_003326_V06\n",
      "2021/06/11/KLOT/KLOT20210611_003645_V06\n",
      "2021/06/11/KLOT/KLOT20210611_004022_V06\n",
      "2021/06/11/KLOT/KLOT20210611_004359_V06\n",
      "2021/06/11/KLOT/KLOT20210611_004736_V06\n",
      "2021/06/11/KLOT/KLOT20210611_005100_V06\n",
      "2021/06/11/KLOT/KLOT20210611_005437_V06\n",
      "2021/06/11/KLOT/KLOT20210611_005808_V06\n",
      "2021/06/11/KLOT/KLOT20210611_010137_V06\n",
      "2021/06/11/KLOT/KLOT20210611_010515_V06\n",
      "2021/06/11/KLOT/KLOT20210611_010853_V06\n",
      "2021/06/11/KLOT/KLOT20210611_011230_V06\n",
      "2021/06/11/KLOT/KLOT20210611_011601_V06\n",
      "2021/06/11/KLOT/KLOT20210611_011931_V06\n",
      "2021/06/11/KLOT/KLOT20210611_012301_V06\n",
      "2021/06/11/KLOT/KLOT20210611_012632_V06\n",
      "2021/06/11/KLOT/KLOT20210611_013002_V06\n",
      "2021/06/11/KLOT/KLOT20210611_013339_V06\n",
      "2021/06/11/KLOT/KLOT20210611_013708_V06\n",
      "2021/06/11/KLOT/KLOT20210611_014046_V06\n",
      "2021/06/11/KLOT/KLOT20210611_014424_V06\n",
      "2021/06/11/KLOT/KLOT20210611_014801_V06\n",
      "2021/06/11/KLOT/KLOT20210611_015138_V06\n",
      "2021/06/11/KLOT/KLOT20210611_015458_V06\n",
      "2021/06/11/KLOT/KLOT20210611_015823_V06\n",
      "2021/06/11/KLOT/KLOT20210611_020159_V06\n",
      "2021/06/11/KLOT/KLOT20210611_020518_V06\n",
      "2021/06/11/KLOT/KLOT20210611_020837_V06\n",
      "2021/06/11/KLOT/KLOT20210611_021215_V06\n",
      "2021/06/11/KLOT/KLOT20210611_021553_V06\n",
      "2021/06/11/KLOT/KLOT20210611_021931_V06\n",
      "2021/06/11/KLOT/KLOT20210611_022308_V06\n",
      "2021/06/11/KLOT/KLOT20210611_022645_V06\n",
      "2021/06/11/KLOT/KLOT20210611_023022_V06\n",
      "2021/06/11/KLOT/KLOT20210611_023359_V06\n",
      "2021/06/11/KLOT/KLOT20210611_023736_V06\n",
      "2021/06/11/KLOT/KLOT20210611_024107_V06\n",
      "2021/06/11/KLOT/KLOT20210611_024444_V06\n",
      "2021/06/11/KLOT/KLOT20210611_024821_V06\n",
      "2021/06/11/KLOT/KLOT20210611_025159_V06\n",
      "2021/06/11/KLOT/KLOT20210611_025857_V06\n",
      "2021/06/11/KLOT/KLOT20210611_030600_V06\n",
      "2021/06/11/KLOT/KLOT20210611_031304_V06\n",
      "2021/06/11/KLOT/KLOT20210611_032007_V06\n",
      "2021/06/11/KLOT/KLOT20210611_032710_V06\n",
      "2021/06/11/KLOT/KLOT20210611_033413_V06\n",
      "2021/06/11/KLOT/KLOT20210611_034116_V06\n",
      "2021/06/11/KLOT/KLOT20210611_034818_V06\n",
      "2021/06/11/KLOT/KLOT20210611_035521_V06\n",
      "2021/06/11/KLOT/KLOT20210611_040224_V06\n",
      "2021/06/11/KLOT/KLOT20210611_040908_V06\n",
      "2021/06/11/KLOT/KLOT20210611_041611_V06\n",
      "2021/06/11/KLOT/KLOT20210611_042308_V06\n",
      "2021/06/11/KLOT/KLOT20210611_043005_V06\n",
      "2021/06/11/KLOT/KLOT20210611_043657_V06\n",
      "2021/06/11/KLOT/KLOT20210611_044350_V06\n",
      "2021/06/11/KLOT/KLOT20210611_045041_V06\n",
      "2021/06/11/KLOT/KLOT20210611_045725_V06\n",
      "2021/06/11/KLOT/KLOT20210611_050409_V06\n",
      "2021/06/11/KLOT/KLOT20210611_051053_V06\n",
      "2021/06/11/KLOT/KLOT20210611_051737_V06\n",
      "2021/06/11/KLOT/KLOT20210611_052422_V06\n",
      "2021/06/11/KLOT/KLOT20210611_053106_V06\n",
      "2021/06/11/KLOT/KLOT20210611_053750_V06\n",
      "2021/06/11/KLOT/KLOT20210611_054432_V06\n",
      "2021/06/11/KLOT/KLOT20210611_055116_V06\n",
      "2021/06/11/KLOT/KLOT20210611_055804_V06\n",
      "2021/06/11/KLOT/KLOT20210611_060453_V06\n",
      "2021/06/11/KLOT/KLOT20210611_061140_V06\n",
      "2021/06/11/KLOT/KLOT20210611_061828_V06\n",
      "2021/06/11/KLOT/KLOT20210611_062721_V06\n",
      "2021/06/11/KLOT/KLOT20210611_063414_V06\n",
      "2021/06/11/KLOT/KLOT20210611_064102_V06\n",
      "2021/06/11/KLOT/KLOT20210611_064750_V06\n",
      "2021/06/11/KLOT/KLOT20210611_065434_V06\n",
      "2021/06/11/KLOT/KLOT20210611_070122_V06\n",
      "2021/06/11/KLOT/KLOT20210611_070811_V06\n",
      "2021/06/11/KLOT/KLOT20210611_071459_V06\n",
      "2021/06/11/KLOT/KLOT20210611_072147_V06\n",
      "2021/06/11/KLOT/KLOT20210611_072835_V06\n",
      "2021/06/11/KLOT/KLOT20210611_073528_V06\n",
      "2021/06/11/KLOT/KLOT20210611_074216_V06\n",
      "2021/06/11/KLOT/KLOT20210611_074903_V06\n",
      "2021/06/11/KLOT/KLOT20210611_075606_V06\n",
      "2021/06/11/KLOT/KLOT20210611_080309_V06\n",
      "2021/06/11/KLOT/KLOT20210611_081011_V06\n",
      "2021/06/11/KLOT/KLOT20210611_081714_V06\n",
      "2021/06/11/KLOT/KLOT20210611_082417_V06\n",
      "2021/06/11/KLOT/KLOT20210611_083114_V06\n",
      "2021/06/11/KLOT/KLOT20210611_083817_V06\n",
      "2021/06/11/KLOT/KLOT20210611_084509_V06\n",
      "2021/06/11/KLOT/KLOT20210611_085212_V06\n",
      "2021/06/11/KLOT/KLOT20210611_085916_V06\n",
      "2021/06/11/KLOT/KLOT20210611_090618_V06\n",
      "2021/06/11/KLOT/KLOT20210611_091323_V06\n",
      "2021/06/11/KLOT/KLOT20210611_092020_V06\n",
      "2021/06/11/KLOT/KLOT20210611_092723_V06\n",
      "2021/06/11/KLOT/KLOT20210611_093427_V06\n",
      "2021/06/11/KLOT/KLOT20210611_094130_V06\n",
      "2021/06/11/KLOT/KLOT20210611_094835_V06\n",
      "2021/06/11/KLOT/KLOT20210611_095539_V06\n",
      "2021/06/11/KLOT/KLOT20210611_100243_V06\n",
      "2021/06/11/KLOT/KLOT20210611_100947_V06\n",
      "2021/06/11/KLOT/KLOT20210611_101651_V06\n",
      "2021/06/11/KLOT/KLOT20210611_102354_V06\n",
      "2021/06/11/KLOT/KLOT20210611_103058_V06\n",
      "2021/06/11/KLOT/KLOT20210611_103800_V06\n",
      "2021/06/11/KLOT/KLOT20210611_104503_V06\n",
      "2021/06/11/KLOT/KLOT20210611_105207_V06\n",
      "2021/06/11/KLOT/KLOT20210611_105910_V06\n",
      "2021/06/11/KLOT/KLOT20210611_110612_V06\n",
      "2021/06/11/KLOT/KLOT20210611_111315_V06\n",
      "2021/06/11/KLOT/KLOT20210611_112020_V06\n",
      "2021/06/11/KLOT/KLOT20210611_112723_V06\n",
      "2021/06/11/KLOT/KLOT20210611_113426_V06\n",
      "2021/06/11/KLOT/KLOT20210611_114130_V06\n",
      "2021/06/11/KLOT/KLOT20210611_114835_V06\n",
      "2021/06/11/KLOT/KLOT20210611_115539_V06\n",
      "2021/06/11/KLOT/KLOT20210611_120241_V06\n",
      "2021/06/11/KLOT/KLOT20210611_120945_V06\n",
      "2021/06/11/KLOT/KLOT20210611_121648_V06\n",
      "2021/06/11/KLOT/KLOT20210611_122352_V06\n",
      "2021/06/11/KLOT/KLOT20210611_123057_V06\n",
      "2021/06/11/KLOT/KLOT20210611_123801_V06\n",
      "2021/06/11/KLOT/KLOT20210611_124504_V06\n",
      "2021/06/11/KLOT/KLOT20210611_125208_V06\n",
      "2021/06/11/KLOT/KLOT20210611_125912_V06\n",
      "2021/06/11/KLOT/KLOT20210611_130614_V06\n",
      "2021/06/11/KLOT/KLOT20210611_131318_V06\n",
      "2021/06/11/KLOT/KLOT20210611_132021_V06\n",
      "2021/06/11/KLOT/KLOT20210611_132724_V06\n",
      "2021/06/11/KLOT/KLOT20210611_133427_V06\n",
      "2021/06/11/KLOT/KLOT20210611_134124_V06\n",
      "2021/06/11/KLOT/KLOT20210611_134827_V06\n",
      "2021/06/11/KLOT/KLOT20210611_135530_V06\n",
      "2021/06/11/KLOT/KLOT20210611_140233_V06\n",
      "2021/06/11/KLOT/KLOT20210611_140936_V06\n",
      "2021/06/11/KLOT/KLOT20210611_141641_V06\n",
      "2021/06/11/KLOT/KLOT20210611_142344_V06\n",
      "2021/06/11/KLOT/KLOT20210611_143251_V06\n",
      "2021/06/11/KLOT/KLOT20210611_143954_V06\n",
      "2021/06/11/KLOT/KLOT20210611_144658_V06\n",
      "2021/06/11/KLOT/KLOT20210611_145355_V06\n",
      "2021/06/11/KLOT/KLOT20210611_150046_V06\n",
      "2021/06/11/KLOT/KLOT20210611_150739_V06\n",
      "2021/06/11/KLOT/KLOT20210611_151437_V06\n",
      "2021/06/11/KLOT/KLOT20210611_152129_V06\n",
      "2021/06/11/KLOT/KLOT20210611_152816_V06\n",
      "2021/06/11/KLOT/KLOT20210611_153504_V06\n",
      "2021/06/11/KLOT/KLOT20210611_154153_V06\n",
      "2021/06/11/KLOT/KLOT20210611_154845_V06\n",
      "2021/06/11/KLOT/KLOT20210611_155534_V06\n",
      "2021/06/11/KLOT/KLOT20210611_160221_V06\n",
      "2021/06/11/KLOT/KLOT20210611_160918_V06\n",
      "2021/06/11/KLOT/KLOT20210611_161607_V06\n",
      "2021/06/11/KLOT/KLOT20210611_162255_V06\n",
      "2021/06/11/KLOT/KLOT20210611_162946_V06\n",
      "2021/06/11/KLOT/KLOT20210611_163634_V06\n",
      "2021/06/11/KLOT/KLOT20210611_164323_V06\n",
      "2021/06/11/KLOT/KLOT20210611_165012_V06\n",
      "2021/06/11/KLOT/KLOT20210611_165655_V06\n",
      "2021/06/11/KLOT/KLOT20210611_170339_V06\n",
      "2021/06/11/KLOT/KLOT20210611_171023_V06\n",
      "2021/06/11/KLOT/KLOT20210611_171518_V06\n",
      "2021/06/11/KLOT/KLOT20210611_171922_V06\n",
      "2021/06/11/KLOT/KLOT20210611_172317_V06\n",
      "2021/06/11/KLOT/KLOT20210611_172726_V06\n",
      "2021/06/11/KLOT/KLOT20210611_173121_V06\n",
      "2021/06/11/KLOT/KLOT20210611_173530_V06\n",
      "2021/06/11/KLOT/KLOT20210611_173952_V06\n",
      "2021/06/11/KLOT/KLOT20210611_174415_V06\n",
      "2021/06/11/KLOT/KLOT20210611_174837_V06\n",
      "2021/06/11/KLOT/KLOT20210611_175301_V06\n",
      "2021/06/11/KLOT/KLOT20210611_175723_V06\n",
      "2021/06/11/KLOT/KLOT20210611_180208_V06\n",
      "2021/06/11/KLOT/KLOT20210611_180630_V06\n",
      "2021/06/11/KLOT/KLOT20210611_181054_V06\n",
      "2021/06/11/KLOT/KLOT20210611_181517_V06\n",
      "2021/06/11/KLOT/KLOT20210611_182002_V06\n",
      "2021/06/11/KLOT/KLOT20210611_182447_V06\n",
      "2021/06/11/KLOT/KLOT20210611_182931_V06\n",
      "2021/06/11/KLOT/KLOT20210611_183418_V06\n",
      "2021/06/11/KLOT/KLOT20210611_183903_V06\n",
      "2021/06/11/KLOT/KLOT20210611_184349_V06\n",
      "2021/06/11/KLOT/KLOT20210611_184834_V06\n",
      "2021/06/11/KLOT/KLOT20210611_185347_V06\n",
      "2021/06/11/KLOT/KLOT20210611_185905_V06\n",
      "2021/06/11/KLOT/KLOT20210611_190435_V06\n",
      "2021/06/11/KLOT/KLOT20210611_191005_V06\n",
      "2021/06/11/KLOT/KLOT20210611_191527_V06\n",
      "2021/06/11/KLOT/KLOT20210611_192048_V06\n",
      "2021/06/11/KLOT/KLOT20210611_192609_V06\n",
      "2021/06/11/KLOT/KLOT20210611_193121_V06\n",
      "2021/06/11/KLOT/KLOT20210611_193641_V06\n",
      "2021/06/11/KLOT/KLOT20210611_194201_V06\n",
      "2021/06/11/KLOT/KLOT20210611_194701_V06\n"
     ]
    },
    {
     "name": "stdout",
     "output_type": "stream",
     "text": [
      "2021/06/11/KLOT/KLOT20210611_195201_V06\n",
      "2021/06/11/KLOT/KLOT20210611_195713_V06\n",
      "2021/06/11/KLOT/KLOT20210611_200214_V06\n",
      "2021/06/11/KLOT/KLOT20210611_200743_V06\n",
      "2021/06/11/KLOT/KLOT20210611_201257_V06\n",
      "2021/06/11/KLOT/KLOT20210611_201810_V06\n",
      "2021/06/11/KLOT/KLOT20210611_202330_V06\n",
      "2021/06/11/KLOT/KLOT20210611_202848_V06\n",
      "2021/06/11/KLOT/KLOT20210611_203354_V06\n",
      "2021/06/11/KLOT/KLOT20210611_203845_V06\n",
      "2021/06/11/KLOT/KLOT20210611_204359_V06\n",
      "2021/06/11/KLOT/KLOT20210611_204914_V06\n",
      "2021/06/11/KLOT/KLOT20210611_205415_V06\n",
      "2021/06/11/KLOT/KLOT20210611_205931_V06\n",
      "2021/06/11/KLOT/KLOT20210611_210446_V06\n",
      "2021/06/11/KLOT/KLOT20210611_211015_V06\n",
      "2021/06/11/KLOT/KLOT20210611_211521_V06\n",
      "2021/06/11/KLOT/KLOT20210611_212041_V06\n",
      "2021/06/11/KLOT/KLOT20210611_212601_V06\n",
      "2021/06/11/KLOT/KLOT20210611_213101_V06\n",
      "2021/06/11/KLOT/KLOT20210611_213621_V06\n",
      "2021/06/11/KLOT/KLOT20210611_214135_V06\n",
      "2021/06/11/KLOT/KLOT20210611_214641_V06\n",
      "2021/06/11/KLOT/KLOT20210611_215140_V06\n",
      "2021/06/11/KLOT/KLOT20210611_215653_V06\n",
      "2021/06/11/KLOT/KLOT20210611_220151_V06\n",
      "2021/06/11/KLOT/KLOT20210611_220650_V06\n",
      "2021/06/11/KLOT/KLOT20210611_221155_V06\n",
      "2021/06/11/KLOT/KLOT20210611_221655_V06\n",
      "2021/06/11/KLOT/KLOT20210611_222155_V06\n",
      "2021/06/11/KLOT/KLOT20210611_222654_V06\n",
      "2021/06/11/KLOT/KLOT20210611_223357_V06\n",
      "2021/06/11/KLOT/KLOT20210611_223856_V06\n",
      "2021/06/11/KLOT/KLOT20210611_224356_V06\n",
      "2021/06/11/KLOT/KLOT20210611_224855_V06\n",
      "2021/06/11/KLOT/KLOT20210611_225425_V06\n",
      "2021/06/11/KLOT/KLOT20210611_225954_V06\n",
      "2021/06/11/KLOT/KLOT20210611_230524_V06\n",
      "2021/06/11/KLOT/KLOT20210611_231054_V06\n",
      "2021/06/11/KLOT/KLOT20210611_231624_V06\n",
      "2021/06/11/KLOT/KLOT20210611_232153_V06\n",
      "2021/06/11/KLOT/KLOT20210611_232723_V06\n",
      "2021/06/11/KLOT/KLOT20210611_233252_V06\n",
      "2021/06/11/KLOT/KLOT20210611_233823_V06\n",
      "2021/06/11/KLOT/KLOT20210611_234353_V06\n",
      "2021/06/11/KLOT/KLOT20210611_234921_V06\n",
      "2021/06/11/KLOT/KLOT20210611_235436_V06\n",
      "2021/06/11/KLOT/KLOT20210611_235952_V06\n"
     ]
    }
   ],
   "source": [
    "for nframe in range(len(newkeys)):\n",
    "    print(newkeys[nframe])\n",
    "    \n",
    "    # 1. Read and open file\n",
    "    # open a temporary local file\n",
    "    localfile = tempfile.NamedTemporaryFile(delete=False)\n",
    "    localfile_name = localfile.name\n",
    "    localfile.close()\n",
    "\n",
    "    # download to temporary file and read to radar object using pyart\n",
    "    aws_radar.download_file(newkeys[nframe], localfile_name)\n",
    "    radar = pyart.io.read(localfile_name)\n",
    "\n",
    "    # delete temporary file to save space\n",
    "    os.remove(localfile_name)\n",
    "    \n",
    "    # get local time of radar\n",
    "    fname = newkeys[nframe].rsplit('/',1)[-1].strip('.gz')\n",
    "    dtime_utc = dt.datetime.strptime(fname,'KLOT%Y%m%d_%H%M%S_V06')\n",
    "    dtime_utc = pytz.utc.localize(dtime_utc)\n",
    "    \n",
    "    # 2. Convert reflectivity to rain rate\n",
    "    gatefilter = pyart.filters.GateFilter(radar)\n",
    "    # Develop your gatefilter first\n",
    "    # exclude masked gates from the gridding\n",
    "    #gatefilter = pyart.filters.GateFilter(radar)\n",
    "    gatefilter.exclude_transition()\n",
    "    gatefilter.exclude_masked('reflectivity')\n",
    "    # Mask reflectivity\n",
    "    radar.fields[\"corrected_reflectivity\"] = deepcopy(radar.fields[\"reflectivity\"])\n",
    "    radar.fields[\"corrected_reflectivity\"][\"data\"] = np.ma.masked_where(\n",
    "        gatefilter._gate_excluded, radar.fields[\"corrected_reflectivity\"][\"data\"])\n",
    "    rr = pyart.retrieve.est_rain_rate_z(radar, refl_field=\"corrected_reflectivity\")\n",
    "    \n",
    "    radar.add_field('rainrate',rr,replace_existing=True)\n",
    "    \n",
    "    # Mask out last 10 gates of each ray, this removes the \"ring\" around the radar.\n",
    "    radar.fields['rainrate']['data'][:, -10:] = np.ma.masked\n",
    "    \n",
    "    # 3.2 Get radar data\n",
    "    # Get slice\n",
    "    radar_slice0 = radar.get_slice(0)\n",
    "    rr_0 = radar.fields['rainrate']['data'][radar_slice0, :]\n",
    "\n",
    "    # get radar values of 9 nearest neighbors\n",
    "    radar_at_gages = polarneighbs.extract(rr_0)\n",
    "    # get mean\n",
    "    radar_at_gages_mean = np.mean(radar_at_gages,axis=1)\n",
    "    # convert rain rate to rain amount\n",
    "    radar_at_gages_amount = wrl.trafo.r_to_depth(radar_at_gages_mean,interval=256)\n",
    "    \n",
    "    df_ = pd.DataFrame(data=[radar_at_gages_amount],columns=columns[1:])\n",
    "    df_['DateTime(UTC)'] = dtime_utc\n",
    "    \n",
    "    df = df.append(df_)"
   ]
  },
  {
   "cell_type": "code",
   "execution_count": 44,
   "metadata": {},
   "outputs": [
    {
     "name": "stderr",
     "output_type": "stream",
     "text": [
      "/home/ac.jcorner/anaconda3/envs/rainfall/lib/python3.9/site-packages/ipykernel/ipkernel.py:283: DeprecationWarning: `should_run_async` will not call `transform_cell` automatically in the future. Please pass the result to `transformed_cell` argument and any exception that happen during thetransform in `preprocessing_exc_tuple` in IPython 7.17 and above.\n",
      "  and should_run_async(code)\n"
     ]
    }
   ],
   "source": [
    "df['Datetime'] = df['DateTime(UTC)'].dt.tz_convert('US/Central')"
   ]
  },
  {
   "cell_type": "code",
   "execution_count": 45,
   "metadata": {},
   "outputs": [
    {
     "name": "stderr",
     "output_type": "stream",
     "text": [
      "/home/ac.jcorner/anaconda3/envs/rainfall/lib/python3.9/site-packages/ipykernel/ipkernel.py:283: DeprecationWarning: `should_run_async` will not call `transform_cell` automatically in the future. Please pass the result to `transformed_cell` argument and any exception that happen during thetransform in `preprocessing_exc_tuple` in IPython 7.17 and above.\n",
      "  and should_run_async(code)\n"
     ]
    }
   ],
   "source": [
    "df.to_csv('KLOT_20210611_RainAmounts_at_CookCountyGauges.csv')"
   ]
  },
  {
   "cell_type": "code",
   "execution_count": null,
   "metadata": {},
   "outputs": [],
   "source": []
  }
 ],
 "metadata": {
  "kernelspec": {
   "display_name": "Python 3",
   "language": "python",
   "name": "python3"
  },
  "language_info": {
   "codemirror_mode": {
    "name": "ipython",
    "version": 3
   },
   "file_extension": ".py",
   "mimetype": "text/x-python",
   "name": "python",
   "nbconvert_exporter": "python",
   "pygments_lexer": "ipython3",
   "version": "3.8.5"
  }
 },
 "nbformat": 4,
 "nbformat_minor": 2
}
