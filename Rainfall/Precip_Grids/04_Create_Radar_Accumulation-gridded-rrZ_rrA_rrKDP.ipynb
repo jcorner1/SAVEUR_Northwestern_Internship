{
 "cells": [
  {
   "cell_type": "markdown",
   "metadata": {},
   "source": [
    "# Hourly accumulations\n",
    "\n",
    "This notebook takes the scans within the hour, converts them to rain rate then to rainfall amount, then adds it up until the end of the hour. The hour totals are saved in a hdf file."
   ]
  },
  {
   "cell_type": "markdown",
   "metadata": {},
   "source": [
    "Import libraries."
   ]
  },
  {
   "cell_type": "code",
   "execution_count": 4,
   "metadata": {
    "ExecuteTime": {
     "end_time": "2019-12-02T18:58:54.399038Z",
     "start_time": "2019-12-02T18:58:54.394605Z"
    }
   },
   "outputs": [],
   "source": [
    "import warnings\n",
    "warnings.filterwarnings('ignore')"
   ]
  },
  {
   "cell_type": "code",
   "execution_count": 5,
   "metadata": {
    "ExecuteTime": {
     "end_time": "2019-12-02T18:58:54.840951Z",
     "start_time": "2019-12-02T18:58:54.831527Z"
    }
   },
   "outputs": [
    {
     "name": "stdout",
     "output_type": "stream",
     "text": [
      "Populating the interactive namespace from numpy and matplotlib\n"
     ]
    }
   ],
   "source": [
    "%pylab inline\n",
    "\n",
    "import pyart\n",
    "import wradlib as wrl\n",
    "import pandas as pd\n",
    "import tempfile\n",
    "import os\n",
    "import numpy as np\n",
    "\n",
    "import pickle\n",
    "\n",
    "import pytz\n",
    "import datetime as dt\n",
    "\n",
    "from copy import deepcopy\n",
    "import cartopy.crs as ccrs\n",
    "import cartopy.io.shapereader as shpreader\n",
    "import cartopy.feature as cfeature\n",
    "\n",
    "import boto3\n",
    "from botocore.handlers import disable_signing"
   ]
  },
  {
   "cell_type": "code",
   "execution_count": null,
   "metadata": {},
   "outputs": [],
   "source": []
  },
  {
   "cell_type": "markdown",
   "metadata": {},
   "source": [
    "Read the shapefiles."
   ]
  },
  {
   "cell_type": "code",
   "execution_count": 6,
   "metadata": {
    "ExecuteTime": {
     "end_time": "2019-12-02T18:58:58.058543Z",
     "start_time": "2019-12-02T18:58:55.918254Z"
    }
   },
   "outputs": [],
   "source": [
    "reader = shpreader.Reader(r'C:\\Users\\iac6311\\Documents\\Work\\Data\\GIS\\USA\\tl_2016_17_cousub\\tl_2016_17_cousub.shp')\n",
    "counties = list(reader.geometries())\n",
    "COUNTIES = cfeature.ShapelyFeature(counties, ccrs.PlateCarree())"
   ]
  },
  {
   "cell_type": "markdown",
   "metadata": {},
   "source": [
    "Read the gauge locations file and gauge observations file into pandas dataframes, and get the location coordinates."
   ]
  },
  {
   "cell_type": "code",
   "execution_count": 7,
   "metadata": {
    "ExecuteTime": {
     "end_time": "2019-12-02T18:58:58.143070Z",
     "start_time": "2019-12-02T18:58:58.075906Z"
    }
   },
   "outputs": [],
   "source": [
    "# load CCN gauge locations\n",
    "CCN_gauge_locations_fname = 'C:/Users/iac6311/Documents/Work/Data/Cook_County/CookCounty_gage_locations.csv'\n",
    "# load CCN gauge observations\n",
    "CCN_gauge_observations_fname = 'C:/Users/iac6311/Documents/Work/Data/Cook_County/WaterYear2013.csv'\n",
    "\n",
    "df_gauge_loc = pd.read_csv(CCN_gauge_locations_fname,header=0)\n",
    "df_gauge = pd.read_csv(CCN_gauge_observations_fname,header=0)\n",
    "\n",
    "x = df_gauge_loc['Longitude - West'].values\n",
    "y = df_gauge_loc['Latitude'].values"
   ]
  },
  {
   "cell_type": "code",
   "execution_count": 8,
   "metadata": {
    "ExecuteTime": {
     "end_time": "2019-12-02T18:58:58.780251Z",
     "start_time": "2019-12-02T18:58:58.776599Z"
    }
   },
   "outputs": [],
   "source": [
    "def rounder(t):\n",
    "    \"\"\"\n",
    "    Rounds the time to the nearest hour.\n",
    "    \"\"\"\n",
    "    if t.minute >= 30:\n",
    "        return t.replace(second=0, microsecond=0, minute=0, hour=t.hour+1)\n",
    "    else:\n",
    "        return t.replace(second=0, microsecond=0, minute=0)"
   ]
  },
  {
   "cell_type": "code",
   "execution_count": 9,
   "metadata": {
    "ExecuteTime": {
     "end_time": "2019-12-02T18:58:59.824770Z",
     "start_time": "2019-12-02T18:58:59.821795Z"
    }
   },
   "outputs": [],
   "source": [
    "path_rrfiles = r'C:\\Users\\iac6311\\Documents\\Work\\SAVEUR\\Processed_RainRetrievals\\2013\\04\\17'"
   ]
  },
  {
   "cell_type": "code",
   "execution_count": 10,
   "metadata": {
    "ExecuteTime": {
     "end_time": "2019-12-02T18:59:00.035558Z",
     "start_time": "2019-12-02T18:59:00.007789Z"
    }
   },
   "outputs": [],
   "source": [
    "rrfiles = os.listdir(path_rrfiles)"
   ]
  },
  {
   "cell_type": "code",
   "execution_count": 11,
   "metadata": {
    "ExecuteTime": {
     "end_time": "2019-12-02T18:59:05.276994Z",
     "start_time": "2019-12-02T18:59:01.870525Z"
    }
   },
   "outputs": [],
   "source": [
    "rrfile = rrfiles[0]\n",
    "\n",
    "radar = pyart.io.read_cfradial(os.path.join(path_rrfiles,rrfile))"
   ]
  },
  {
   "cell_type": "code",
   "execution_count": 12,
   "metadata": {
    "ExecuteTime": {
     "end_time": "2019-12-02T18:59:12.304948Z",
     "start_time": "2019-12-02T18:59:12.282170Z"
    }
   },
   "outputs": [],
   "source": [
    "gatefilter = pyart.filters.GateFilter(radar)\n",
    "# Develop your gatefilter first\n",
    "# exclude masked gates from the gridding\n",
    "#gatefilter = pyart.filters.GateFilter(radar)\n",
    "gatefilter.exclude_transition()\n",
    "gatefilter.exclude_masked('reflectivity')"
   ]
  },
  {
   "cell_type": "code",
   "execution_count": 13,
   "metadata": {
    "ExecuteTime": {
     "end_time": "2019-12-02T18:59:12.468461Z",
     "start_time": "2019-12-02T18:59:12.460049Z"
    }
   },
   "outputs": [
    {
     "data": {
      "text/plain": [
       "dict_keys(['velocity', 'differential_reflectivity', 'reflectivity', 'differential_phase', 'cross_correlation_ratio', 'spectrum_width', 'corrected_reflectivity', 'normalized_coherent_power', 'unfolded_differential_phase', 'corrected_differential_phase', 'specific_differential_phase', 'attenuation', 'rainrate_from_kdp', 'rainrate_from_attenuation', 'rainrate'])"
      ]
     },
     "execution_count": 13,
     "metadata": {},
     "output_type": "execute_result"
    }
   ],
   "source": [
    "radar.fields.keys()"
   ]
  },
  {
   "cell_type": "code",
   "execution_count": 14,
   "metadata": {
    "ExecuteTime": {
     "end_time": "2019-12-02T18:59:14.716292Z",
     "start_time": "2019-12-02T18:59:12.672299Z"
    }
   },
   "outputs": [],
   "source": [
    "# perform Cartesian mapping, limit to the reflectivity field.\n",
    "grid = pyart.map.grid_from_radars(\n",
    "    [radar], gatefilters=[gatefilter],\n",
    "    grid_shape=(1, 300, 300),\n",
    "    grid_limits=((2000, 2000), (-123000.0, 123000.0), (-123000.0, 123000.0)),\n",
    "    fields=['rainrate','rainrate_from_attenuation','rainrate_from_kdp'])"
   ]
  },
  {
   "cell_type": "code",
   "execution_count": 11,
   "metadata": {
    "ExecuteTime": {
     "end_time": "2019-11-27T17:40:38.091596Z",
     "start_time": "2019-11-27T17:40:38.071271Z"
    }
   },
   "outputs": [],
   "source": [
    "x_rad, y_rad = grid.get_point_longitude_latitude()"
   ]
  },
  {
   "cell_type": "code",
   "execution_count": 12,
   "metadata": {
    "ExecuteTime": {
     "end_time": "2019-11-27T17:40:38.120045Z",
     "start_time": "2019-11-27T17:40:38.093587Z"
    }
   },
   "outputs": [],
   "source": [
    "# 3.2 Get radar data\n",
    "# Get slice\n",
    "radar_slice0 = radar.get_slice(0)\n",
    "rr_0 = radar.fields['rainrate']['data'][radar_slice0, :]"
   ]
  },
  {
   "cell_type": "code",
   "execution_count": 13,
   "metadata": {
    "ExecuteTime": {
     "end_time": "2019-11-27T17:40:38.153819Z",
     "start_time": "2019-11-27T17:40:38.121054Z"
    }
   },
   "outputs": [],
   "source": [
    "sitecoords = (radar.longitude['data'][0],radar.latitude['data'][0],radar.altitude['data'][0])\n",
    "az = radar.azimuth['data'][radar_slice0]\n",
    "r = radar.range['data']\n",
    "proj = wrl.georef.epsg_to_osr(4326)"
   ]
  },
  {
   "cell_type": "code",
   "execution_count": 14,
   "metadata": {
    "ExecuteTime": {
     "end_time": "2019-11-27T17:40:38.170455Z",
     "start_time": "2019-11-27T17:40:38.154826Z"
    }
   },
   "outputs": [],
   "source": [
    "# save the radar parameters\n",
    "with open('radarparams.pkl','wb') as f:\n",
    "    pickle.dump([sitecoords, az, r],f)"
   ]
  },
  {
   "cell_type": "code",
   "execution_count": 15,
   "metadata": {
    "ExecuteTime": {
     "end_time": "2019-11-27T17:40:38.278457Z",
     "start_time": "2019-11-27T17:40:38.171465Z"
    }
   },
   "outputs": [
    {
     "name": "stderr",
     "output_type": "stream",
     "text": [
      "C:\\Users\\iac6311\\AppData\\Local\\Continuum\\anaconda3\\envs\\saveur\\lib\\site-packages\\numpy\\ma\\core.py:1018: RuntimeWarning: overflow encountered in multiply\n",
      "  result = self.f(da, db, *args, **kwargs)\n"
     ]
    }
   ],
   "source": [
    "radar_depth = wrl.trafo.r_to_depth(rr_0,interval=256)"
   ]
  },
  {
   "cell_type": "code",
   "execution_count": 16,
   "metadata": {
    "ExecuteTime": {
     "end_time": "2019-11-27T17:40:38.296407Z",
     "start_time": "2019-11-27T17:40:38.280450Z"
    }
   },
   "outputs": [],
   "source": [
    "# create an empty dictionary\n",
    "fname_dict = {}\n",
    "for i in arange(1,25,1):\n",
    "    fname_dict[i] = []\n",
    "# fill in dictionary\n",
    "for i in arange(len(rrfiles)):\n",
    "    fname = rrfiles[i]\n",
    "    dtime_utc = dt.datetime.strptime(fname,'radar_KLOT_%Y%m%d_%H%M%S.nc')\n",
    "    fname_dict[dtime_utc.hour+1].append(dt.datetime.strftime(dtime_utc,'%Y/%m/%d/')+rrfiles[i])"
   ]
  },
  {
   "cell_type": "code",
   "execution_count": 17,
   "metadata": {
    "ExecuteTime": {
     "end_time": "2019-11-27T17:40:38.311367Z",
     "start_time": "2019-11-27T17:40:38.298402Z"
    }
   },
   "outputs": [
    {
     "data": {
      "text/plain": [
       "{1: ['2013/04/17/radar_KLOT_20130417_000444.nc',\n",
       "  '2013/04/17/radar_KLOT_20130417_001029.nc',\n",
       "  '2013/04/17/radar_KLOT_20130417_001615.nc',\n",
       "  '2013/04/17/radar_KLOT_20130417_002201.nc',\n",
       "  '2013/04/17/radar_KLOT_20130417_002746.nc',\n",
       "  '2013/04/17/radar_KLOT_20130417_003331.nc',\n",
       "  '2013/04/17/radar_KLOT_20130417_003916.nc',\n",
       "  '2013/04/17/radar_KLOT_20130417_004500.nc',\n",
       "  '2013/04/17/radar_KLOT_20130417_005048.nc',\n",
       "  '2013/04/17/radar_KLOT_20130417_005633.nc'],\n",
       " 2: ['2013/04/17/radar_KLOT_20130417_010220.nc',\n",
       "  '2013/04/17/radar_KLOT_20130417_010806.nc',\n",
       "  '2013/04/17/radar_KLOT_20130417_011350.nc',\n",
       "  '2013/04/17/radar_KLOT_20130417_012138.nc',\n",
       "  '2013/04/17/radar_KLOT_20130417_012724.nc',\n",
       "  '2013/04/17/radar_KLOT_20130417_013311.nc',\n",
       "  '2013/04/17/radar_KLOT_20130417_013856.nc',\n",
       "  '2013/04/17/radar_KLOT_20130417_014442.nc',\n",
       "  '2013/04/17/radar_KLOT_20130417_015026.nc',\n",
       "  '2013/04/17/radar_KLOT_20130417_015613.nc'],\n",
       " 3: ['2013/04/17/radar_KLOT_20130417_020158.nc',\n",
       "  '2013/04/17/radar_KLOT_20130417_020744.nc',\n",
       "  '2013/04/17/radar_KLOT_20130417_021331.nc',\n",
       "  '2013/04/17/radar_KLOT_20130417_021916.nc',\n",
       "  '2013/04/17/radar_KLOT_20130417_022504.nc',\n",
       "  '2013/04/17/radar_KLOT_20130417_023051.nc',\n",
       "  '2013/04/17/radar_KLOT_20130417_023637.nc',\n",
       "  '2013/04/17/radar_KLOT_20130417_024223.nc',\n",
       "  '2013/04/17/radar_KLOT_20130417_024811.nc',\n",
       "  '2013/04/17/radar_KLOT_20130417_025358.nc',\n",
       "  '2013/04/17/radar_KLOT_20130417_025946.nc'],\n",
       " 4: ['2013/04/17/radar_KLOT_20130417_030533.nc',\n",
       "  '2013/04/17/radar_KLOT_20130417_031119.nc',\n",
       "  '2013/04/17/radar_KLOT_20130417_031705.nc',\n",
       "  '2013/04/17/radar_KLOT_20130417_032254.nc',\n",
       "  '2013/04/17/radar_KLOT_20130417_032840.nc',\n",
       "  '2013/04/17/radar_KLOT_20130417_033427.nc',\n",
       "  '2013/04/17/radar_KLOT_20130417_034015.nc',\n",
       "  '2013/04/17/radar_KLOT_20130417_034602.nc',\n",
       "  '2013/04/17/radar_KLOT_20130417_035148.nc',\n",
       "  '2013/04/17/radar_KLOT_20130417_035734.nc'],\n",
       " 5: ['2013/04/17/radar_KLOT_20130417_040323.nc',\n",
       "  '2013/04/17/radar_KLOT_20130417_040909.nc',\n",
       "  '2013/04/17/radar_KLOT_20130417_041458.nc',\n",
       "  '2013/04/17/radar_KLOT_20130417_042046.nc',\n",
       "  '2013/04/17/radar_KLOT_20130417_042632.nc',\n",
       "  '2013/04/17/radar_KLOT_20130417_043219.nc',\n",
       "  '2013/04/17/radar_KLOT_20130417_043807.nc',\n",
       "  '2013/04/17/radar_KLOT_20130417_044356.nc',\n",
       "  '2013/04/17/radar_KLOT_20130417_044946.nc',\n",
       "  '2013/04/17/radar_KLOT_20130417_045535.nc'],\n",
       " 6: ['2013/04/17/radar_KLOT_20130417_050122.nc',\n",
       "  '2013/04/17/radar_KLOT_20130417_050711.nc',\n",
       "  '2013/04/17/radar_KLOT_20130417_051257.nc',\n",
       "  '2013/04/17/radar_KLOT_20130417_051844.nc',\n",
       "  '2013/04/17/radar_KLOT_20130417_052433.nc',\n",
       "  '2013/04/17/radar_KLOT_20130417_053021.nc',\n",
       "  '2013/04/17/radar_KLOT_20130417_053609.nc',\n",
       "  '2013/04/17/radar_KLOT_20130417_054156.nc',\n",
       "  '2013/04/17/radar_KLOT_20130417_054744.nc',\n",
       "  '2013/04/17/radar_KLOT_20130417_055333.nc',\n",
       "  '2013/04/17/radar_KLOT_20130417_055921.nc'],\n",
       " 7: ['2013/04/17/radar_KLOT_20130417_060509.nc',\n",
       "  '2013/04/17/radar_KLOT_20130417_061057.nc',\n",
       "  '2013/04/17/radar_KLOT_20130417_061645.nc',\n",
       "  '2013/04/17/radar_KLOT_20130417_062233.nc',\n",
       "  '2013/04/17/radar_KLOT_20130417_062820.nc',\n",
       "  '2013/04/17/radar_KLOT_20130417_063409.nc',\n",
       "  '2013/04/17/radar_KLOT_20130417_063959.nc',\n",
       "  '2013/04/17/radar_KLOT_20130417_064546.nc',\n",
       "  '2013/04/17/radar_KLOT_20130417_065133.nc',\n",
       "  '2013/04/17/radar_KLOT_20130417_065717.nc'],\n",
       " 8: ['2013/04/17/radar_KLOT_20130417_070305.nc',\n",
       "  '2013/04/17/radar_KLOT_20130417_070853.nc',\n",
       "  '2013/04/17/radar_KLOT_20130417_071439.nc',\n",
       "  '2013/04/17/radar_KLOT_20130417_072027.nc',\n",
       "  '2013/04/17/radar_KLOT_20130417_072615.nc',\n",
       "  '2013/04/17/radar_KLOT_20130417_073203.nc',\n",
       "  '2013/04/17/radar_KLOT_20130417_073750.nc',\n",
       "  '2013/04/17/radar_KLOT_20130417_074338.nc',\n",
       "  '2013/04/17/radar_KLOT_20130417_074924.nc',\n",
       "  '2013/04/17/radar_KLOT_20130417_075512.nc'],\n",
       " 9: ['2013/04/17/radar_KLOT_20130417_080058.nc',\n",
       "  '2013/04/17/radar_KLOT_20130417_080645.nc',\n",
       "  '2013/04/17/radar_KLOT_20130417_081234.nc',\n",
       "  '2013/04/17/radar_KLOT_20130417_081820.nc',\n",
       "  '2013/04/17/radar_KLOT_20130417_082408.nc',\n",
       "  '2013/04/17/radar_KLOT_20130417_082955.nc',\n",
       "  '2013/04/17/radar_KLOT_20130417_083545.nc',\n",
       "  '2013/04/17/radar_KLOT_20130417_084133.nc',\n",
       "  '2013/04/17/radar_KLOT_20130417_084720.nc',\n",
       "  '2013/04/17/radar_KLOT_20130417_085309.nc',\n",
       "  '2013/04/17/radar_KLOT_20130417_085855.nc'],\n",
       " 10: ['2013/04/17/radar_KLOT_20130417_090441.nc',\n",
       "  '2013/04/17/radar_KLOT_20130417_091029.nc',\n",
       "  '2013/04/17/radar_KLOT_20130417_091614.nc',\n",
       "  '2013/04/17/radar_KLOT_20130417_092407.nc',\n",
       "  '2013/04/17/radar_KLOT_20130417_092954.nc',\n",
       "  '2013/04/17/radar_KLOT_20130417_093543.nc',\n",
       "  '2013/04/17/radar_KLOT_20130417_094130.nc',\n",
       "  '2013/04/17/radar_KLOT_20130417_094719.nc',\n",
       "  '2013/04/17/radar_KLOT_20130417_095308.nc',\n",
       "  '2013/04/17/radar_KLOT_20130417_095855.nc'],\n",
       " 11: ['2013/04/17/radar_KLOT_20130417_100442.nc',\n",
       "  '2013/04/17/radar_KLOT_20130417_101031.nc',\n",
       "  '2013/04/17/radar_KLOT_20130417_101615.nc',\n",
       "  '2013/04/17/radar_KLOT_20130417_102202.nc',\n",
       "  '2013/04/17/radar_KLOT_20130417_102747.nc',\n",
       "  '2013/04/17/radar_KLOT_20130417_103337.nc',\n",
       "  '2013/04/17/radar_KLOT_20130417_103925.nc',\n",
       "  '2013/04/17/radar_KLOT_20130417_104147.nc',\n",
       "  '2013/04/17/radar_KLOT_20130417_104643.nc',\n",
       "  '2013/04/17/radar_KLOT_20130417_105139.nc',\n",
       "  '2013/04/17/radar_KLOT_20130417_105634.nc'],\n",
       " 12: ['2013/04/17/radar_KLOT_20130417_110130.nc',\n",
       "  '2013/04/17/radar_KLOT_20130417_110625.nc',\n",
       "  '2013/04/17/radar_KLOT_20130417_111121.nc',\n",
       "  '2013/04/17/radar_KLOT_20130417_111618.nc',\n",
       "  '2013/04/17/radar_KLOT_20130417_112114.nc',\n",
       "  '2013/04/17/radar_KLOT_20130417_112609.nc',\n",
       "  '2013/04/17/radar_KLOT_20130417_113106.nc',\n",
       "  '2013/04/17/radar_KLOT_20130417_113600.nc',\n",
       "  '2013/04/17/radar_KLOT_20130417_114057.nc',\n",
       "  '2013/04/17/radar_KLOT_20130417_114553.nc',\n",
       "  '2013/04/17/radar_KLOT_20130417_115048.nc',\n",
       "  '2013/04/17/radar_KLOT_20130417_115543.nc'],\n",
       " 13: ['2013/04/17/radar_KLOT_20130417_120038.nc',\n",
       "  '2013/04/17/radar_KLOT_20130417_120518.nc',\n",
       "  '2013/04/17/radar_KLOT_20130417_120956.nc',\n",
       "  '2013/04/17/radar_KLOT_20130417_121437.nc',\n",
       "  '2013/04/17/radar_KLOT_20130417_121915.nc',\n",
       "  '2013/04/17/radar_KLOT_20130417_122353.nc',\n",
       "  '2013/04/17/radar_KLOT_20130417_122833.nc',\n",
       "  '2013/04/17/radar_KLOT_20130417_123312.nc',\n",
       "  '2013/04/17/radar_KLOT_20130417_123750.nc',\n",
       "  '2013/04/17/radar_KLOT_20130417_124229.nc',\n",
       "  '2013/04/17/radar_KLOT_20130417_124708.nc',\n",
       "  '2013/04/17/radar_KLOT_20130417_125146.nc',\n",
       "  '2013/04/17/radar_KLOT_20130417_125624.nc'],\n",
       " 14: ['2013/04/17/radar_KLOT_20130417_130103.nc',\n",
       "  '2013/04/17/radar_KLOT_20130417_130542.nc',\n",
       "  '2013/04/17/radar_KLOT_20130417_131021.nc',\n",
       "  '2013/04/17/radar_KLOT_20130417_131500.nc',\n",
       "  '2013/04/17/radar_KLOT_20130417_131940.nc',\n",
       "  '2013/04/17/radar_KLOT_20130417_132418.nc',\n",
       "  '2013/04/17/radar_KLOT_20130417_132856.nc',\n",
       "  '2013/04/17/radar_KLOT_20130417_133335.nc',\n",
       "  '2013/04/17/radar_KLOT_20130417_133814.nc',\n",
       "  '2013/04/17/radar_KLOT_20130417_134251.nc',\n",
       "  '2013/04/17/radar_KLOT_20130417_134732.nc',\n",
       "  '2013/04/17/radar_KLOT_20130417_135211.nc',\n",
       "  '2013/04/17/radar_KLOT_20130417_135648.nc'],\n",
       " 15: ['2013/04/17/radar_KLOT_20130417_140126.nc',\n",
       "  '2013/04/17/radar_KLOT_20130417_140603.nc',\n",
       "  '2013/04/17/radar_KLOT_20130417_141041.nc',\n",
       "  '2013/04/17/radar_KLOT_20130417_141519.nc',\n",
       "  '2013/04/17/radar_KLOT_20130417_141956.nc',\n",
       "  '2013/04/17/radar_KLOT_20130417_142434.nc',\n",
       "  '2013/04/17/radar_KLOT_20130417_142913.nc',\n",
       "  '2013/04/17/radar_KLOT_20130417_143351.nc',\n",
       "  '2013/04/17/radar_KLOT_20130417_143828.nc',\n",
       "  '2013/04/17/radar_KLOT_20130417_144306.nc',\n",
       "  '2013/04/17/radar_KLOT_20130417_144744.nc',\n",
       "  '2013/04/17/radar_KLOT_20130417_145223.nc',\n",
       "  '2013/04/17/radar_KLOT_20130417_145705.nc'],\n",
       " 16: ['2013/04/17/radar_KLOT_20130417_150144.nc',\n",
       "  '2013/04/17/radar_KLOT_20130417_150621.nc',\n",
       "  '2013/04/17/radar_KLOT_20130417_151059.nc',\n",
       "  '2013/04/17/radar_KLOT_20130417_151536.nc',\n",
       "  '2013/04/17/radar_KLOT_20130417_152015.nc',\n",
       "  '2013/04/17/radar_KLOT_20130417_152454.nc',\n",
       "  '2013/04/17/radar_KLOT_20130417_152932.nc',\n",
       "  '2013/04/17/radar_KLOT_20130417_153410.nc',\n",
       "  '2013/04/17/radar_KLOT_20130417_153849.nc',\n",
       "  '2013/04/17/radar_KLOT_20130417_154327.nc',\n",
       "  '2013/04/17/radar_KLOT_20130417_154805.nc',\n",
       "  '2013/04/17/radar_KLOT_20130417_155244.nc',\n",
       "  '2013/04/17/radar_KLOT_20130417_155721.nc'],\n",
       " 17: ['2013/04/17/radar_KLOT_20130417_160200.nc',\n",
       "  '2013/04/17/radar_KLOT_20130417_160639.nc',\n",
       "  '2013/04/17/radar_KLOT_20130417_161117.nc',\n",
       "  '2013/04/17/radar_KLOT_20130417_161555.nc',\n",
       "  '2013/04/17/radar_KLOT_20130417_162034.nc',\n",
       "  '2013/04/17/radar_KLOT_20130417_164823.nc',\n",
       "  '2013/04/17/radar_KLOT_20130417_165300.nc',\n",
       "  '2013/04/17/radar_KLOT_20130417_165739.nc'],\n",
       " 18: ['2013/04/17/radar_KLOT_20130417_170217.nc',\n",
       "  '2013/04/17/radar_KLOT_20130417_170655.nc',\n",
       "  '2013/04/17/radar_KLOT_20130417_171133.nc',\n",
       "  '2013/04/17/radar_KLOT_20130417_171612.nc',\n",
       "  '2013/04/17/radar_KLOT_20130417_172049.nc',\n",
       "  '2013/04/17/radar_KLOT_20130417_172735.nc',\n",
       "  '2013/04/17/radar_KLOT_20130417_173213.nc',\n",
       "  '2013/04/17/radar_KLOT_20130417_173652.nc',\n",
       "  '2013/04/17/radar_KLOT_20130417_174130.nc',\n",
       "  '2013/04/17/radar_KLOT_20130417_174609.nc',\n",
       "  '2013/04/17/radar_KLOT_20130417_175048.nc',\n",
       "  '2013/04/17/radar_KLOT_20130417_175526.nc'],\n",
       " 19: ['2013/04/17/radar_KLOT_20130417_180005.nc',\n",
       "  '2013/04/17/radar_KLOT_20130417_180444.nc',\n",
       "  '2013/04/17/radar_KLOT_20130417_180923.nc',\n",
       "  '2013/04/17/radar_KLOT_20130417_181401.nc',\n",
       "  '2013/04/17/radar_KLOT_20130417_181840.nc',\n",
       "  '2013/04/17/radar_KLOT_20130417_182317.nc',\n",
       "  '2013/04/17/radar_KLOT_20130417_182756.nc',\n",
       "  '2013/04/17/radar_KLOT_20130417_183234.nc',\n",
       "  '2013/04/17/radar_KLOT_20130417_183714.nc',\n",
       "  '2013/04/17/radar_KLOT_20130417_184152.nc',\n",
       "  '2013/04/17/radar_KLOT_20130417_184629.nc',\n",
       "  '2013/04/17/radar_KLOT_20130417_185106.nc',\n",
       "  '2013/04/17/radar_KLOT_20130417_185545.nc'],\n",
       " 20: ['2013/04/17/radar_KLOT_20130417_190022.nc',\n",
       "  '2013/04/17/radar_KLOT_20130417_190501.nc',\n",
       "  '2013/04/17/radar_KLOT_20130417_190941.nc',\n",
       "  '2013/04/17/radar_KLOT_20130417_191418.nc',\n",
       "  '2013/04/17/radar_KLOT_20130417_191856.nc',\n",
       "  '2013/04/17/radar_KLOT_20130417_192335.nc',\n",
       "  '2013/04/17/radar_KLOT_20130417_192812.nc',\n",
       "  '2013/04/17/radar_KLOT_20130417_193251.nc',\n",
       "  '2013/04/17/radar_KLOT_20130417_193729.nc',\n",
       "  '2013/04/17/radar_KLOT_20130417_194206.nc',\n",
       "  '2013/04/17/radar_KLOT_20130417_194644.nc',\n",
       "  '2013/04/17/radar_KLOT_20130417_195101.nc',\n",
       "  '2013/04/17/radar_KLOT_20130417_195519.nc',\n",
       "  '2013/04/17/radar_KLOT_20130417_195936.nc'],\n",
       " 21: ['2013/04/17/radar_KLOT_20130417_200353.nc',\n",
       "  '2013/04/17/radar_KLOT_20130417_200809.nc',\n",
       "  '2013/04/17/radar_KLOT_20130417_201225.nc',\n",
       "  '2013/04/17/radar_KLOT_20130417_201642.nc',\n",
       "  '2013/04/17/radar_KLOT_20130417_202058.nc',\n",
       "  '2013/04/17/radar_KLOT_20130417_202514.nc',\n",
       "  '2013/04/17/radar_KLOT_20130417_202931.nc',\n",
       "  '2013/04/17/radar_KLOT_20130417_203348.nc',\n",
       "  '2013/04/17/radar_KLOT_20130417_203805.nc',\n",
       "  '2013/04/17/radar_KLOT_20130417_204223.nc',\n",
       "  '2013/04/17/radar_KLOT_20130417_204642.nc',\n",
       "  '2013/04/17/radar_KLOT_20130417_205059.nc',\n",
       "  '2013/04/17/radar_KLOT_20130417_205515.nc',\n",
       "  '2013/04/17/radar_KLOT_20130417_205934.nc'],\n",
       " 22: ['2013/04/17/radar_KLOT_20130417_210352.nc',\n",
       "  '2013/04/17/radar_KLOT_20130417_210808.nc',\n",
       "  '2013/04/17/radar_KLOT_20130417_211226.nc',\n",
       "  '2013/04/17/radar_KLOT_20130417_211643.nc',\n",
       "  '2013/04/17/radar_KLOT_20130417_212100.nc',\n",
       "  '2013/04/17/radar_KLOT_20130417_212517.nc',\n",
       "  '2013/04/17/radar_KLOT_20130417_212933.nc',\n",
       "  '2013/04/17/radar_KLOT_20130417_213350.nc',\n",
       "  '2013/04/17/radar_KLOT_20130417_213809.nc',\n",
       "  '2013/04/17/radar_KLOT_20130417_214226.nc',\n",
       "  '2013/04/17/radar_KLOT_20130417_214642.nc',\n",
       "  '2013/04/17/radar_KLOT_20130417_215101.nc',\n",
       "  '2013/04/17/radar_KLOT_20130417_215520.nc',\n",
       "  '2013/04/17/radar_KLOT_20130417_215938.nc'],\n",
       " 23: ['2013/04/17/radar_KLOT_20130417_220356.nc',\n",
       "  '2013/04/17/radar_KLOT_20130417_220813.nc',\n",
       "  '2013/04/17/radar_KLOT_20130417_221230.nc',\n",
       "  '2013/04/17/radar_KLOT_20130417_221646.nc',\n",
       "  '2013/04/17/radar_KLOT_20130417_222103.nc',\n",
       "  '2013/04/17/radar_KLOT_20130417_222519.nc',\n",
       "  '2013/04/17/radar_KLOT_20130417_222936.nc',\n",
       "  '2013/04/17/radar_KLOT_20130417_223353.nc',\n",
       "  '2013/04/17/radar_KLOT_20130417_223810.nc',\n",
       "  '2013/04/17/radar_KLOT_20130417_224228.nc',\n",
       "  '2013/04/17/radar_KLOT_20130417_224644.nc',\n",
       "  '2013/04/17/radar_KLOT_20130417_225101.nc',\n",
       "  '2013/04/17/radar_KLOT_20130417_225518.nc',\n",
       "  '2013/04/17/radar_KLOT_20130417_225934.nc'],\n",
       " 24: ['2013/04/17/radar_KLOT_20130417_230352.nc',\n",
       "  '2013/04/17/radar_KLOT_20130417_230808.nc',\n",
       "  '2013/04/17/radar_KLOT_20130417_231226.nc',\n",
       "  '2013/04/17/radar_KLOT_20130417_231643.nc',\n",
       "  '2013/04/17/radar_KLOT_20130417_232100.nc',\n",
       "  '2013/04/17/radar_KLOT_20130417_232517.nc',\n",
       "  '2013/04/17/radar_KLOT_20130417_232934.nc',\n",
       "  '2013/04/17/radar_KLOT_20130417_233354.nc',\n",
       "  '2013/04/17/radar_KLOT_20130417_233810.nc',\n",
       "  '2013/04/17/radar_KLOT_20130417_234230.nc',\n",
       "  '2013/04/17/radar_KLOT_20130417_234647.nc',\n",
       "  '2013/04/17/radar_KLOT_20130417_235104.nc',\n",
       "  '2013/04/17/radar_KLOT_20130417_235520.nc',\n",
       "  '2013/04/17/radar_KLOT_20130417_235938.nc']}"
      ]
     },
     "execution_count": 17,
     "metadata": {},
     "output_type": "execute_result"
    }
   ],
   "source": [
    "fname_dict"
   ]
  },
  {
   "cell_type": "code",
   "execution_count": 18,
   "metadata": {
    "ExecuteTime": {
     "end_time": "2019-11-27T17:56:24.565661Z",
     "start_time": "2019-11-27T17:40:38.313362Z"
    },
    "scrolled": true
   },
   "outputs": [
    {
     "name": "stdout",
     "output_type": "stream",
     "text": [
      "20\n",
      "."
     ]
    },
    {
     "name": "stderr",
     "output_type": "stream",
     "text": [
      "C:\\Users\\iac6311\\AppData\\Local\\Continuum\\anaconda3\\envs\\saveur\\lib\\site-packages\\pyart\\io\\cfradial.py:384: RuntimeWarning: invalid value encountered in less\n",
      "  data = self.ncvar[:]\n",
      "C:\\Users\\iac6311\\AppData\\Local\\Continuum\\anaconda3\\envs\\saveur\\lib\\site-packages\\pyart\\io\\cfradial.py:384: RuntimeWarning: invalid value encountered in greater\n",
      "  data = self.ncvar[:]\n",
      "C:\\Users\\iac6311\\AppData\\Local\\Continuum\\anaconda3\\envs\\saveur\\lib\\site-packages\\pyart\\map\\gates_to_grid.py:177: DeprecationWarning: Barnes weighting function is deprecated. Please use Barnes 2 to be consistent with Pauley and Wu 1990.\n",
      "  \" Pauley and Wu 1990.\", DeprecationWarning)\n"
     ]
    },
    {
     "name": "stdout",
     "output_type": "stream",
     "text": [
      "."
     ]
    },
    {
     "name": "stderr",
     "output_type": "stream",
     "text": [
      "C:\\Users\\iac6311\\AppData\\Local\\Continuum\\anaconda3\\envs\\saveur\\lib\\site-packages\\pyart\\io\\cfradial.py:384: RuntimeWarning: invalid value encountered in less\n",
      "  data = self.ncvar[:]\n",
      "C:\\Users\\iac6311\\AppData\\Local\\Continuum\\anaconda3\\envs\\saveur\\lib\\site-packages\\pyart\\io\\cfradial.py:384: RuntimeWarning: invalid value encountered in greater\n",
      "  data = self.ncvar[:]\n",
      "C:\\Users\\iac6311\\AppData\\Local\\Continuum\\anaconda3\\envs\\saveur\\lib\\site-packages\\pyart\\map\\gates_to_grid.py:177: DeprecationWarning: Barnes weighting function is deprecated. Please use Barnes 2 to be consistent with Pauley and Wu 1990.\n",
      "  \" Pauley and Wu 1990.\", DeprecationWarning)\n"
     ]
    },
    {
     "name": "stdout",
     "output_type": "stream",
     "text": [
      "."
     ]
    },
    {
     "name": "stderr",
     "output_type": "stream",
     "text": [
      "C:\\Users\\iac6311\\AppData\\Local\\Continuum\\anaconda3\\envs\\saveur\\lib\\site-packages\\pyart\\io\\cfradial.py:384: RuntimeWarning: invalid value encountered in less\n",
      "  data = self.ncvar[:]\n",
      "C:\\Users\\iac6311\\AppData\\Local\\Continuum\\anaconda3\\envs\\saveur\\lib\\site-packages\\pyart\\io\\cfradial.py:384: RuntimeWarning: invalid value encountered in greater\n",
      "  data = self.ncvar[:]\n",
      "C:\\Users\\iac6311\\AppData\\Local\\Continuum\\anaconda3\\envs\\saveur\\lib\\site-packages\\pyart\\map\\gates_to_grid.py:177: DeprecationWarning: Barnes weighting function is deprecated. Please use Barnes 2 to be consistent with Pauley and Wu 1990.\n",
      "  \" Pauley and Wu 1990.\", DeprecationWarning)\n"
     ]
    },
    {
     "name": "stdout",
     "output_type": "stream",
     "text": [
      "."
     ]
    },
    {
     "name": "stderr",
     "output_type": "stream",
     "text": [
      "C:\\Users\\iac6311\\AppData\\Local\\Continuum\\anaconda3\\envs\\saveur\\lib\\site-packages\\pyart\\io\\cfradial.py:384: RuntimeWarning: invalid value encountered in less\n",
      "  data = self.ncvar[:]\n",
      "C:\\Users\\iac6311\\AppData\\Local\\Continuum\\anaconda3\\envs\\saveur\\lib\\site-packages\\pyart\\io\\cfradial.py:384: RuntimeWarning: invalid value encountered in greater\n",
      "  data = self.ncvar[:]\n",
      "C:\\Users\\iac6311\\AppData\\Local\\Continuum\\anaconda3\\envs\\saveur\\lib\\site-packages\\pyart\\map\\gates_to_grid.py:177: DeprecationWarning: Barnes weighting function is deprecated. Please use Barnes 2 to be consistent with Pauley and Wu 1990.\n",
      "  \" Pauley and Wu 1990.\", DeprecationWarning)\n"
     ]
    },
    {
     "name": "stdout",
     "output_type": "stream",
     "text": [
      "."
     ]
    },
    {
     "name": "stderr",
     "output_type": "stream",
     "text": [
      "C:\\Users\\iac6311\\AppData\\Local\\Continuum\\anaconda3\\envs\\saveur\\lib\\site-packages\\pyart\\io\\cfradial.py:384: RuntimeWarning: invalid value encountered in less\n",
      "  data = self.ncvar[:]\n",
      "C:\\Users\\iac6311\\AppData\\Local\\Continuum\\anaconda3\\envs\\saveur\\lib\\site-packages\\pyart\\io\\cfradial.py:384: RuntimeWarning: invalid value encountered in greater\n",
      "  data = self.ncvar[:]\n",
      "C:\\Users\\iac6311\\AppData\\Local\\Continuum\\anaconda3\\envs\\saveur\\lib\\site-packages\\pyart\\map\\gates_to_grid.py:177: DeprecationWarning: Barnes weighting function is deprecated. Please use Barnes 2 to be consistent with Pauley and Wu 1990.\n",
      "  \" Pauley and Wu 1990.\", DeprecationWarning)\n"
     ]
    },
    {
     "name": "stdout",
     "output_type": "stream",
     "text": [
      "."
     ]
    },
    {
     "name": "stderr",
     "output_type": "stream",
     "text": [
      "C:\\Users\\iac6311\\AppData\\Local\\Continuum\\anaconda3\\envs\\saveur\\lib\\site-packages\\pyart\\io\\cfradial.py:384: RuntimeWarning: invalid value encountered in less\n",
      "  data = self.ncvar[:]\n",
      "C:\\Users\\iac6311\\AppData\\Local\\Continuum\\anaconda3\\envs\\saveur\\lib\\site-packages\\pyart\\io\\cfradial.py:384: RuntimeWarning: invalid value encountered in greater\n",
      "  data = self.ncvar[:]\n",
      "C:\\Users\\iac6311\\AppData\\Local\\Continuum\\anaconda3\\envs\\saveur\\lib\\site-packages\\pyart\\map\\gates_to_grid.py:177: DeprecationWarning: Barnes weighting function is deprecated. Please use Barnes 2 to be consistent with Pauley and Wu 1990.\n",
      "  \" Pauley and Wu 1990.\", DeprecationWarning)\n"
     ]
    },
    {
     "name": "stdout",
     "output_type": "stream",
     "text": [
      "."
     ]
    },
    {
     "name": "stderr",
     "output_type": "stream",
     "text": [
      "C:\\Users\\iac6311\\AppData\\Local\\Continuum\\anaconda3\\envs\\saveur\\lib\\site-packages\\pyart\\io\\cfradial.py:384: RuntimeWarning: invalid value encountered in less\n",
      "  data = self.ncvar[:]\n",
      "C:\\Users\\iac6311\\AppData\\Local\\Continuum\\anaconda3\\envs\\saveur\\lib\\site-packages\\pyart\\io\\cfradial.py:384: RuntimeWarning: invalid value encountered in greater\n",
      "  data = self.ncvar[:]\n",
      "C:\\Users\\iac6311\\AppData\\Local\\Continuum\\anaconda3\\envs\\saveur\\lib\\site-packages\\pyart\\map\\gates_to_grid.py:177: DeprecationWarning: Barnes weighting function is deprecated. Please use Barnes 2 to be consistent with Pauley and Wu 1990.\n",
      "  \" Pauley and Wu 1990.\", DeprecationWarning)\n"
     ]
    },
    {
     "name": "stdout",
     "output_type": "stream",
     "text": [
      "."
     ]
    },
    {
     "name": "stderr",
     "output_type": "stream",
     "text": [
      "C:\\Users\\iac6311\\AppData\\Local\\Continuum\\anaconda3\\envs\\saveur\\lib\\site-packages\\pyart\\io\\cfradial.py:384: RuntimeWarning: invalid value encountered in less\n",
      "  data = self.ncvar[:]\n",
      "C:\\Users\\iac6311\\AppData\\Local\\Continuum\\anaconda3\\envs\\saveur\\lib\\site-packages\\pyart\\io\\cfradial.py:384: RuntimeWarning: invalid value encountered in greater\n",
      "  data = self.ncvar[:]\n",
      "C:\\Users\\iac6311\\AppData\\Local\\Continuum\\anaconda3\\envs\\saveur\\lib\\site-packages\\pyart\\map\\gates_to_grid.py:177: DeprecationWarning: Barnes weighting function is deprecated. Please use Barnes 2 to be consistent with Pauley and Wu 1990.\n",
      "  \" Pauley and Wu 1990.\", DeprecationWarning)\n"
     ]
    },
    {
     "name": "stdout",
     "output_type": "stream",
     "text": [
      "."
     ]
    },
    {
     "name": "stderr",
     "output_type": "stream",
     "text": [
      "C:\\Users\\iac6311\\AppData\\Local\\Continuum\\anaconda3\\envs\\saveur\\lib\\site-packages\\pyart\\io\\cfradial.py:384: RuntimeWarning: invalid value encountered in less\n",
      "  data = self.ncvar[:]\n",
      "C:\\Users\\iac6311\\AppData\\Local\\Continuum\\anaconda3\\envs\\saveur\\lib\\site-packages\\pyart\\io\\cfradial.py:384: RuntimeWarning: invalid value encountered in greater\n",
      "  data = self.ncvar[:]\n",
      "C:\\Users\\iac6311\\AppData\\Local\\Continuum\\anaconda3\\envs\\saveur\\lib\\site-packages\\pyart\\map\\gates_to_grid.py:177: DeprecationWarning: Barnes weighting function is deprecated. Please use Barnes 2 to be consistent with Pauley and Wu 1990.\n",
      "  \" Pauley and Wu 1990.\", DeprecationWarning)\n"
     ]
    },
    {
     "name": "stdout",
     "output_type": "stream",
     "text": [
      "."
     ]
    },
    {
     "name": "stderr",
     "output_type": "stream",
     "text": [
      "C:\\Users\\iac6311\\AppData\\Local\\Continuum\\anaconda3\\envs\\saveur\\lib\\site-packages\\pyart\\io\\cfradial.py:384: RuntimeWarning: invalid value encountered in less\n",
      "  data = self.ncvar[:]\n",
      "C:\\Users\\iac6311\\AppData\\Local\\Continuum\\anaconda3\\envs\\saveur\\lib\\site-packages\\pyart\\io\\cfradial.py:384: RuntimeWarning: invalid value encountered in greater\n",
      "  data = self.ncvar[:]\n",
      "C:\\Users\\iac6311\\AppData\\Local\\Continuum\\anaconda3\\envs\\saveur\\lib\\site-packages\\pyart\\map\\gates_to_grid.py:177: DeprecationWarning: Barnes weighting function is deprecated. Please use Barnes 2 to be consistent with Pauley and Wu 1990.\n",
      "  \" Pauley and Wu 1990.\", DeprecationWarning)\n"
     ]
    },
    {
     "name": "stdout",
     "output_type": "stream",
     "text": [
      "."
     ]
    },
    {
     "name": "stderr",
     "output_type": "stream",
     "text": [
      "C:\\Users\\iac6311\\AppData\\Local\\Continuum\\anaconda3\\envs\\saveur\\lib\\site-packages\\pyart\\io\\cfradial.py:384: RuntimeWarning: invalid value encountered in less\n",
      "  data = self.ncvar[:]\n",
      "C:\\Users\\iac6311\\AppData\\Local\\Continuum\\anaconda3\\envs\\saveur\\lib\\site-packages\\pyart\\io\\cfradial.py:384: RuntimeWarning: invalid value encountered in greater\n",
      "  data = self.ncvar[:]\n",
      "C:\\Users\\iac6311\\AppData\\Local\\Continuum\\anaconda3\\envs\\saveur\\lib\\site-packages\\pyart\\map\\gates_to_grid.py:177: DeprecationWarning: Barnes weighting function is deprecated. Please use Barnes 2 to be consistent with Pauley and Wu 1990.\n",
      "  \" Pauley and Wu 1990.\", DeprecationWarning)\n"
     ]
    },
    {
     "name": "stdout",
     "output_type": "stream",
     "text": [
      "."
     ]
    },
    {
     "name": "stderr",
     "output_type": "stream",
     "text": [
      "C:\\Users\\iac6311\\AppData\\Local\\Continuum\\anaconda3\\envs\\saveur\\lib\\site-packages\\pyart\\io\\cfradial.py:384: RuntimeWarning: invalid value encountered in less\n",
      "  data = self.ncvar[:]\n",
      "C:\\Users\\iac6311\\AppData\\Local\\Continuum\\anaconda3\\envs\\saveur\\lib\\site-packages\\pyart\\io\\cfradial.py:384: RuntimeWarning: invalid value encountered in greater\n",
      "  data = self.ncvar[:]\n",
      "C:\\Users\\iac6311\\AppData\\Local\\Continuum\\anaconda3\\envs\\saveur\\lib\\site-packages\\pyart\\map\\gates_to_grid.py:177: DeprecationWarning: Barnes weighting function is deprecated. Please use Barnes 2 to be consistent with Pauley and Wu 1990.\n",
      "  \" Pauley and Wu 1990.\", DeprecationWarning)\n"
     ]
    },
    {
     "name": "stdout",
     "output_type": "stream",
     "text": [
      "."
     ]
    },
    {
     "name": "stderr",
     "output_type": "stream",
     "text": [
      "C:\\Users\\iac6311\\AppData\\Local\\Continuum\\anaconda3\\envs\\saveur\\lib\\site-packages\\pyart\\io\\cfradial.py:384: RuntimeWarning: invalid value encountered in less\n",
      "  data = self.ncvar[:]\n",
      "C:\\Users\\iac6311\\AppData\\Local\\Continuum\\anaconda3\\envs\\saveur\\lib\\site-packages\\pyart\\io\\cfradial.py:384: RuntimeWarning: invalid value encountered in greater\n",
      "  data = self.ncvar[:]\n",
      "C:\\Users\\iac6311\\AppData\\Local\\Continuum\\anaconda3\\envs\\saveur\\lib\\site-packages\\pyart\\map\\gates_to_grid.py:177: DeprecationWarning: Barnes weighting function is deprecated. Please use Barnes 2 to be consistent with Pauley and Wu 1990.\n",
      "  \" Pauley and Wu 1990.\", DeprecationWarning)\n"
     ]
    },
    {
     "name": "stdout",
     "output_type": "stream",
     "text": [
      "."
     ]
    },
    {
     "name": "stderr",
     "output_type": "stream",
     "text": [
      "C:\\Users\\iac6311\\AppData\\Local\\Continuum\\anaconda3\\envs\\saveur\\lib\\site-packages\\pyart\\io\\cfradial.py:384: RuntimeWarning: invalid value encountered in less\n",
      "  data = self.ncvar[:]\n",
      "C:\\Users\\iac6311\\AppData\\Local\\Continuum\\anaconda3\\envs\\saveur\\lib\\site-packages\\pyart\\io\\cfradial.py:384: RuntimeWarning: invalid value encountered in greater\n",
      "  data = self.ncvar[:]\n",
      "C:\\Users\\iac6311\\AppData\\Local\\Continuum\\anaconda3\\envs\\saveur\\lib\\site-packages\\pyart\\map\\gates_to_grid.py:177: DeprecationWarning: Barnes weighting function is deprecated. Please use Barnes 2 to be consistent with Pauley and Wu 1990.\n",
      "  \" Pauley and Wu 1990.\", DeprecationWarning)\n"
     ]
    },
    {
     "name": "stdout",
     "output_type": "stream",
     "text": [
      "\n",
      "21\n",
      "."
     ]
    },
    {
     "name": "stderr",
     "output_type": "stream",
     "text": [
      "C:\\Users\\iac6311\\AppData\\Local\\Continuum\\anaconda3\\envs\\saveur\\lib\\site-packages\\pyart\\io\\cfradial.py:384: RuntimeWarning: invalid value encountered in less\n",
      "  data = self.ncvar[:]\n",
      "C:\\Users\\iac6311\\AppData\\Local\\Continuum\\anaconda3\\envs\\saveur\\lib\\site-packages\\pyart\\io\\cfradial.py:384: RuntimeWarning: invalid value encountered in greater\n",
      "  data = self.ncvar[:]\n",
      "C:\\Users\\iac6311\\AppData\\Local\\Continuum\\anaconda3\\envs\\saveur\\lib\\site-packages\\pyart\\map\\gates_to_grid.py:177: DeprecationWarning: Barnes weighting function is deprecated. Please use Barnes 2 to be consistent with Pauley and Wu 1990.\n",
      "  \" Pauley and Wu 1990.\", DeprecationWarning)\n"
     ]
    },
    {
     "name": "stdout",
     "output_type": "stream",
     "text": [
      "."
     ]
    },
    {
     "name": "stderr",
     "output_type": "stream",
     "text": [
      "C:\\Users\\iac6311\\AppData\\Local\\Continuum\\anaconda3\\envs\\saveur\\lib\\site-packages\\pyart\\io\\cfradial.py:384: RuntimeWarning: invalid value encountered in less\n",
      "  data = self.ncvar[:]\n",
      "C:\\Users\\iac6311\\AppData\\Local\\Continuum\\anaconda3\\envs\\saveur\\lib\\site-packages\\pyart\\io\\cfradial.py:384: RuntimeWarning: invalid value encountered in greater\n",
      "  data = self.ncvar[:]\n",
      "C:\\Users\\iac6311\\AppData\\Local\\Continuum\\anaconda3\\envs\\saveur\\lib\\site-packages\\pyart\\map\\gates_to_grid.py:177: DeprecationWarning: Barnes weighting function is deprecated. Please use Barnes 2 to be consistent with Pauley and Wu 1990.\n",
      "  \" Pauley and Wu 1990.\", DeprecationWarning)\n"
     ]
    },
    {
     "name": "stdout",
     "output_type": "stream",
     "text": [
      "."
     ]
    },
    {
     "name": "stderr",
     "output_type": "stream",
     "text": [
      "C:\\Users\\iac6311\\AppData\\Local\\Continuum\\anaconda3\\envs\\saveur\\lib\\site-packages\\pyart\\io\\cfradial.py:384: RuntimeWarning: invalid value encountered in less\n",
      "  data = self.ncvar[:]\n",
      "C:\\Users\\iac6311\\AppData\\Local\\Continuum\\anaconda3\\envs\\saveur\\lib\\site-packages\\pyart\\io\\cfradial.py:384: RuntimeWarning: invalid value encountered in greater\n",
      "  data = self.ncvar[:]\n",
      "C:\\Users\\iac6311\\AppData\\Local\\Continuum\\anaconda3\\envs\\saveur\\lib\\site-packages\\pyart\\map\\gates_to_grid.py:177: DeprecationWarning: Barnes weighting function is deprecated. Please use Barnes 2 to be consistent with Pauley and Wu 1990.\n",
      "  \" Pauley and Wu 1990.\", DeprecationWarning)\n"
     ]
    },
    {
     "name": "stdout",
     "output_type": "stream",
     "text": [
      "."
     ]
    },
    {
     "name": "stderr",
     "output_type": "stream",
     "text": [
      "C:\\Users\\iac6311\\AppData\\Local\\Continuum\\anaconda3\\envs\\saveur\\lib\\site-packages\\pyart\\io\\cfradial.py:384: RuntimeWarning: invalid value encountered in less\n",
      "  data = self.ncvar[:]\n",
      "C:\\Users\\iac6311\\AppData\\Local\\Continuum\\anaconda3\\envs\\saveur\\lib\\site-packages\\pyart\\io\\cfradial.py:384: RuntimeWarning: invalid value encountered in greater\n",
      "  data = self.ncvar[:]\n",
      "C:\\Users\\iac6311\\AppData\\Local\\Continuum\\anaconda3\\envs\\saveur\\lib\\site-packages\\pyart\\map\\gates_to_grid.py:177: DeprecationWarning: Barnes weighting function is deprecated. Please use Barnes 2 to be consistent with Pauley and Wu 1990.\n",
      "  \" Pauley and Wu 1990.\", DeprecationWarning)\n"
     ]
    },
    {
     "name": "stdout",
     "output_type": "stream",
     "text": [
      "."
     ]
    },
    {
     "name": "stderr",
     "output_type": "stream",
     "text": [
      "C:\\Users\\iac6311\\AppData\\Local\\Continuum\\anaconda3\\envs\\saveur\\lib\\site-packages\\pyart\\io\\cfradial.py:384: RuntimeWarning: invalid value encountered in less\n",
      "  data = self.ncvar[:]\n",
      "C:\\Users\\iac6311\\AppData\\Local\\Continuum\\anaconda3\\envs\\saveur\\lib\\site-packages\\pyart\\io\\cfradial.py:384: RuntimeWarning: invalid value encountered in greater\n",
      "  data = self.ncvar[:]\n",
      "C:\\Users\\iac6311\\AppData\\Local\\Continuum\\anaconda3\\envs\\saveur\\lib\\site-packages\\pyart\\map\\gates_to_grid.py:177: DeprecationWarning: Barnes weighting function is deprecated. Please use Barnes 2 to be consistent with Pauley and Wu 1990.\n",
      "  \" Pauley and Wu 1990.\", DeprecationWarning)\n"
     ]
    },
    {
     "name": "stdout",
     "output_type": "stream",
     "text": [
      "."
     ]
    },
    {
     "name": "stderr",
     "output_type": "stream",
     "text": [
      "C:\\Users\\iac6311\\AppData\\Local\\Continuum\\anaconda3\\envs\\saveur\\lib\\site-packages\\pyart\\io\\cfradial.py:384: RuntimeWarning: invalid value encountered in less\n",
      "  data = self.ncvar[:]\n",
      "C:\\Users\\iac6311\\AppData\\Local\\Continuum\\anaconda3\\envs\\saveur\\lib\\site-packages\\pyart\\io\\cfradial.py:384: RuntimeWarning: invalid value encountered in greater\n",
      "  data = self.ncvar[:]\n",
      "C:\\Users\\iac6311\\AppData\\Local\\Continuum\\anaconda3\\envs\\saveur\\lib\\site-packages\\pyart\\map\\gates_to_grid.py:177: DeprecationWarning: Barnes weighting function is deprecated. Please use Barnes 2 to be consistent with Pauley and Wu 1990.\n",
      "  \" Pauley and Wu 1990.\", DeprecationWarning)\n"
     ]
    },
    {
     "name": "stdout",
     "output_type": "stream",
     "text": [
      "."
     ]
    },
    {
     "name": "stderr",
     "output_type": "stream",
     "text": [
      "C:\\Users\\iac6311\\AppData\\Local\\Continuum\\anaconda3\\envs\\saveur\\lib\\site-packages\\pyart\\io\\cfradial.py:384: RuntimeWarning: invalid value encountered in less\n",
      "  data = self.ncvar[:]\n",
      "C:\\Users\\iac6311\\AppData\\Local\\Continuum\\anaconda3\\envs\\saveur\\lib\\site-packages\\pyart\\io\\cfradial.py:384: RuntimeWarning: invalid value encountered in greater\n",
      "  data = self.ncvar[:]\n",
      "C:\\Users\\iac6311\\AppData\\Local\\Continuum\\anaconda3\\envs\\saveur\\lib\\site-packages\\pyart\\map\\gates_to_grid.py:177: DeprecationWarning: Barnes weighting function is deprecated. Please use Barnes 2 to be consistent with Pauley and Wu 1990.\n",
      "  \" Pauley and Wu 1990.\", DeprecationWarning)\n"
     ]
    },
    {
     "name": "stdout",
     "output_type": "stream",
     "text": [
      "."
     ]
    },
    {
     "name": "stderr",
     "output_type": "stream",
     "text": [
      "C:\\Users\\iac6311\\AppData\\Local\\Continuum\\anaconda3\\envs\\saveur\\lib\\site-packages\\pyart\\io\\cfradial.py:384: RuntimeWarning: invalid value encountered in less\n",
      "  data = self.ncvar[:]\n",
      "C:\\Users\\iac6311\\AppData\\Local\\Continuum\\anaconda3\\envs\\saveur\\lib\\site-packages\\pyart\\io\\cfradial.py:384: RuntimeWarning: invalid value encountered in greater\n",
      "  data = self.ncvar[:]\n",
      "C:\\Users\\iac6311\\AppData\\Local\\Continuum\\anaconda3\\envs\\saveur\\lib\\site-packages\\pyart\\map\\gates_to_grid.py:177: DeprecationWarning: Barnes weighting function is deprecated. Please use Barnes 2 to be consistent with Pauley and Wu 1990.\n",
      "  \" Pauley and Wu 1990.\", DeprecationWarning)\n"
     ]
    },
    {
     "name": "stdout",
     "output_type": "stream",
     "text": [
      "."
     ]
    },
    {
     "name": "stderr",
     "output_type": "stream",
     "text": [
      "C:\\Users\\iac6311\\AppData\\Local\\Continuum\\anaconda3\\envs\\saveur\\lib\\site-packages\\pyart\\io\\cfradial.py:384: RuntimeWarning: invalid value encountered in less\n",
      "  data = self.ncvar[:]\n",
      "C:\\Users\\iac6311\\AppData\\Local\\Continuum\\anaconda3\\envs\\saveur\\lib\\site-packages\\pyart\\io\\cfradial.py:384: RuntimeWarning: invalid value encountered in greater\n",
      "  data = self.ncvar[:]\n",
      "C:\\Users\\iac6311\\AppData\\Local\\Continuum\\anaconda3\\envs\\saveur\\lib\\site-packages\\pyart\\map\\gates_to_grid.py:177: DeprecationWarning: Barnes weighting function is deprecated. Please use Barnes 2 to be consistent with Pauley and Wu 1990.\n",
      "  \" Pauley and Wu 1990.\", DeprecationWarning)\n"
     ]
    },
    {
     "name": "stdout",
     "output_type": "stream",
     "text": [
      "."
     ]
    },
    {
     "name": "stderr",
     "output_type": "stream",
     "text": [
      "C:\\Users\\iac6311\\AppData\\Local\\Continuum\\anaconda3\\envs\\saveur\\lib\\site-packages\\pyart\\io\\cfradial.py:384: RuntimeWarning: invalid value encountered in less\n",
      "  data = self.ncvar[:]\n",
      "C:\\Users\\iac6311\\AppData\\Local\\Continuum\\anaconda3\\envs\\saveur\\lib\\site-packages\\pyart\\io\\cfradial.py:384: RuntimeWarning: invalid value encountered in greater\n",
      "  data = self.ncvar[:]\n",
      "C:\\Users\\iac6311\\AppData\\Local\\Continuum\\anaconda3\\envs\\saveur\\lib\\site-packages\\pyart\\map\\gates_to_grid.py:177: DeprecationWarning: Barnes weighting function is deprecated. Please use Barnes 2 to be consistent with Pauley and Wu 1990.\n",
      "  \" Pauley and Wu 1990.\", DeprecationWarning)\n"
     ]
    },
    {
     "name": "stdout",
     "output_type": "stream",
     "text": [
      "."
     ]
    },
    {
     "name": "stderr",
     "output_type": "stream",
     "text": [
      "C:\\Users\\iac6311\\AppData\\Local\\Continuum\\anaconda3\\envs\\saveur\\lib\\site-packages\\pyart\\io\\cfradial.py:384: RuntimeWarning: invalid value encountered in less\n",
      "  data = self.ncvar[:]\n",
      "C:\\Users\\iac6311\\AppData\\Local\\Continuum\\anaconda3\\envs\\saveur\\lib\\site-packages\\pyart\\io\\cfradial.py:384: RuntimeWarning: invalid value encountered in greater\n",
      "  data = self.ncvar[:]\n",
      "C:\\Users\\iac6311\\AppData\\Local\\Continuum\\anaconda3\\envs\\saveur\\lib\\site-packages\\pyart\\map\\gates_to_grid.py:177: DeprecationWarning: Barnes weighting function is deprecated. Please use Barnes 2 to be consistent with Pauley and Wu 1990.\n",
      "  \" Pauley and Wu 1990.\", DeprecationWarning)\n"
     ]
    },
    {
     "name": "stdout",
     "output_type": "stream",
     "text": [
      "."
     ]
    },
    {
     "name": "stderr",
     "output_type": "stream",
     "text": [
      "C:\\Users\\iac6311\\AppData\\Local\\Continuum\\anaconda3\\envs\\saveur\\lib\\site-packages\\pyart\\io\\cfradial.py:384: RuntimeWarning: invalid value encountered in less\n",
      "  data = self.ncvar[:]\n",
      "C:\\Users\\iac6311\\AppData\\Local\\Continuum\\anaconda3\\envs\\saveur\\lib\\site-packages\\pyart\\io\\cfradial.py:384: RuntimeWarning: invalid value encountered in greater\n",
      "  data = self.ncvar[:]\n",
      "C:\\Users\\iac6311\\AppData\\Local\\Continuum\\anaconda3\\envs\\saveur\\lib\\site-packages\\pyart\\map\\gates_to_grid.py:177: DeprecationWarning: Barnes weighting function is deprecated. Please use Barnes 2 to be consistent with Pauley and Wu 1990.\n",
      "  \" Pauley and Wu 1990.\", DeprecationWarning)\n"
     ]
    },
    {
     "name": "stdout",
     "output_type": "stream",
     "text": [
      "."
     ]
    },
    {
     "name": "stderr",
     "output_type": "stream",
     "text": [
      "C:\\Users\\iac6311\\AppData\\Local\\Continuum\\anaconda3\\envs\\saveur\\lib\\site-packages\\pyart\\io\\cfradial.py:384: RuntimeWarning: invalid value encountered in less\n",
      "  data = self.ncvar[:]\n",
      "C:\\Users\\iac6311\\AppData\\Local\\Continuum\\anaconda3\\envs\\saveur\\lib\\site-packages\\pyart\\io\\cfradial.py:384: RuntimeWarning: invalid value encountered in greater\n",
      "  data = self.ncvar[:]\n",
      "C:\\Users\\iac6311\\AppData\\Local\\Continuum\\anaconda3\\envs\\saveur\\lib\\site-packages\\pyart\\map\\gates_to_grid.py:177: DeprecationWarning: Barnes weighting function is deprecated. Please use Barnes 2 to be consistent with Pauley and Wu 1990.\n",
      "  \" Pauley and Wu 1990.\", DeprecationWarning)\n"
     ]
    },
    {
     "name": "stdout",
     "output_type": "stream",
     "text": [
      "."
     ]
    },
    {
     "name": "stderr",
     "output_type": "stream",
     "text": [
      "C:\\Users\\iac6311\\AppData\\Local\\Continuum\\anaconda3\\envs\\saveur\\lib\\site-packages\\pyart\\io\\cfradial.py:384: RuntimeWarning: invalid value encountered in less\n",
      "  data = self.ncvar[:]\n",
      "C:\\Users\\iac6311\\AppData\\Local\\Continuum\\anaconda3\\envs\\saveur\\lib\\site-packages\\pyart\\io\\cfradial.py:384: RuntimeWarning: invalid value encountered in greater\n",
      "  data = self.ncvar[:]\n",
      "C:\\Users\\iac6311\\AppData\\Local\\Continuum\\anaconda3\\envs\\saveur\\lib\\site-packages\\pyart\\map\\gates_to_grid.py:177: DeprecationWarning: Barnes weighting function is deprecated. Please use Barnes 2 to be consistent with Pauley and Wu 1990.\n",
      "  \" Pauley and Wu 1990.\", DeprecationWarning)\n"
     ]
    },
    {
     "name": "stdout",
     "output_type": "stream",
     "text": [
      "\n",
      "22\n",
      "."
     ]
    },
    {
     "name": "stderr",
     "output_type": "stream",
     "text": [
      "C:\\Users\\iac6311\\AppData\\Local\\Continuum\\anaconda3\\envs\\saveur\\lib\\site-packages\\pyart\\io\\cfradial.py:384: RuntimeWarning: invalid value encountered in less\n",
      "  data = self.ncvar[:]\n",
      "C:\\Users\\iac6311\\AppData\\Local\\Continuum\\anaconda3\\envs\\saveur\\lib\\site-packages\\pyart\\io\\cfradial.py:384: RuntimeWarning: invalid value encountered in greater\n",
      "  data = self.ncvar[:]\n",
      "C:\\Users\\iac6311\\AppData\\Local\\Continuum\\anaconda3\\envs\\saveur\\lib\\site-packages\\pyart\\map\\gates_to_grid.py:177: DeprecationWarning: Barnes weighting function is deprecated. Please use Barnes 2 to be consistent with Pauley and Wu 1990.\n",
      "  \" Pauley and Wu 1990.\", DeprecationWarning)\n"
     ]
    },
    {
     "name": "stdout",
     "output_type": "stream",
     "text": [
      "."
     ]
    },
    {
     "name": "stderr",
     "output_type": "stream",
     "text": [
      "C:\\Users\\iac6311\\AppData\\Local\\Continuum\\anaconda3\\envs\\saveur\\lib\\site-packages\\pyart\\io\\cfradial.py:384: RuntimeWarning: invalid value encountered in less\n",
      "  data = self.ncvar[:]\n",
      "C:\\Users\\iac6311\\AppData\\Local\\Continuum\\anaconda3\\envs\\saveur\\lib\\site-packages\\pyart\\io\\cfradial.py:384: RuntimeWarning: invalid value encountered in greater\n",
      "  data = self.ncvar[:]\n",
      "C:\\Users\\iac6311\\AppData\\Local\\Continuum\\anaconda3\\envs\\saveur\\lib\\site-packages\\pyart\\map\\gates_to_grid.py:177: DeprecationWarning: Barnes weighting function is deprecated. Please use Barnes 2 to be consistent with Pauley and Wu 1990.\n",
      "  \" Pauley and Wu 1990.\", DeprecationWarning)\n"
     ]
    },
    {
     "name": "stdout",
     "output_type": "stream",
     "text": [
      "."
     ]
    },
    {
     "name": "stderr",
     "output_type": "stream",
     "text": [
      "C:\\Users\\iac6311\\AppData\\Local\\Continuum\\anaconda3\\envs\\saveur\\lib\\site-packages\\pyart\\io\\cfradial.py:384: RuntimeWarning: invalid value encountered in less\n",
      "  data = self.ncvar[:]\n",
      "C:\\Users\\iac6311\\AppData\\Local\\Continuum\\anaconda3\\envs\\saveur\\lib\\site-packages\\pyart\\io\\cfradial.py:384: RuntimeWarning: invalid value encountered in greater\n",
      "  data = self.ncvar[:]\n",
      "C:\\Users\\iac6311\\AppData\\Local\\Continuum\\anaconda3\\envs\\saveur\\lib\\site-packages\\pyart\\map\\gates_to_grid.py:177: DeprecationWarning: Barnes weighting function is deprecated. Please use Barnes 2 to be consistent with Pauley and Wu 1990.\n",
      "  \" Pauley and Wu 1990.\", DeprecationWarning)\n"
     ]
    },
    {
     "name": "stdout",
     "output_type": "stream",
     "text": [
      "."
     ]
    },
    {
     "name": "stderr",
     "output_type": "stream",
     "text": [
      "C:\\Users\\iac6311\\AppData\\Local\\Continuum\\anaconda3\\envs\\saveur\\lib\\site-packages\\pyart\\io\\cfradial.py:384: RuntimeWarning: invalid value encountered in less\n",
      "  data = self.ncvar[:]\n",
      "C:\\Users\\iac6311\\AppData\\Local\\Continuum\\anaconda3\\envs\\saveur\\lib\\site-packages\\pyart\\io\\cfradial.py:384: RuntimeWarning: invalid value encountered in greater\n",
      "  data = self.ncvar[:]\n",
      "C:\\Users\\iac6311\\AppData\\Local\\Continuum\\anaconda3\\envs\\saveur\\lib\\site-packages\\pyart\\map\\gates_to_grid.py:177: DeprecationWarning: Barnes weighting function is deprecated. Please use Barnes 2 to be consistent with Pauley and Wu 1990.\n",
      "  \" Pauley and Wu 1990.\", DeprecationWarning)\n"
     ]
    },
    {
     "name": "stdout",
     "output_type": "stream",
     "text": [
      "."
     ]
    },
    {
     "name": "stderr",
     "output_type": "stream",
     "text": [
      "C:\\Users\\iac6311\\AppData\\Local\\Continuum\\anaconda3\\envs\\saveur\\lib\\site-packages\\pyart\\io\\cfradial.py:384: RuntimeWarning: invalid value encountered in less\n",
      "  data = self.ncvar[:]\n",
      "C:\\Users\\iac6311\\AppData\\Local\\Continuum\\anaconda3\\envs\\saveur\\lib\\site-packages\\pyart\\io\\cfradial.py:384: RuntimeWarning: invalid value encountered in greater\n",
      "  data = self.ncvar[:]\n",
      "C:\\Users\\iac6311\\AppData\\Local\\Continuum\\anaconda3\\envs\\saveur\\lib\\site-packages\\pyart\\map\\gates_to_grid.py:177: DeprecationWarning: Barnes weighting function is deprecated. Please use Barnes 2 to be consistent with Pauley and Wu 1990.\n",
      "  \" Pauley and Wu 1990.\", DeprecationWarning)\n"
     ]
    },
    {
     "name": "stdout",
     "output_type": "stream",
     "text": [
      "."
     ]
    },
    {
     "name": "stderr",
     "output_type": "stream",
     "text": [
      "C:\\Users\\iac6311\\AppData\\Local\\Continuum\\anaconda3\\envs\\saveur\\lib\\site-packages\\pyart\\io\\cfradial.py:384: RuntimeWarning: invalid value encountered in less\n",
      "  data = self.ncvar[:]\n",
      "C:\\Users\\iac6311\\AppData\\Local\\Continuum\\anaconda3\\envs\\saveur\\lib\\site-packages\\pyart\\io\\cfradial.py:384: RuntimeWarning: invalid value encountered in greater\n",
      "  data = self.ncvar[:]\n",
      "C:\\Users\\iac6311\\AppData\\Local\\Continuum\\anaconda3\\envs\\saveur\\lib\\site-packages\\pyart\\map\\gates_to_grid.py:177: DeprecationWarning: Barnes weighting function is deprecated. Please use Barnes 2 to be consistent with Pauley and Wu 1990.\n",
      "  \" Pauley and Wu 1990.\", DeprecationWarning)\n"
     ]
    },
    {
     "name": "stdout",
     "output_type": "stream",
     "text": [
      "."
     ]
    },
    {
     "name": "stderr",
     "output_type": "stream",
     "text": [
      "C:\\Users\\iac6311\\AppData\\Local\\Continuum\\anaconda3\\envs\\saveur\\lib\\site-packages\\pyart\\io\\cfradial.py:384: RuntimeWarning: invalid value encountered in less\n",
      "  data = self.ncvar[:]\n",
      "C:\\Users\\iac6311\\AppData\\Local\\Continuum\\anaconda3\\envs\\saveur\\lib\\site-packages\\pyart\\io\\cfradial.py:384: RuntimeWarning: invalid value encountered in greater\n",
      "  data = self.ncvar[:]\n",
      "C:\\Users\\iac6311\\AppData\\Local\\Continuum\\anaconda3\\envs\\saveur\\lib\\site-packages\\pyart\\map\\gates_to_grid.py:177: DeprecationWarning: Barnes weighting function is deprecated. Please use Barnes 2 to be consistent with Pauley and Wu 1990.\n",
      "  \" Pauley and Wu 1990.\", DeprecationWarning)\n"
     ]
    },
    {
     "name": "stdout",
     "output_type": "stream",
     "text": [
      "."
     ]
    },
    {
     "name": "stderr",
     "output_type": "stream",
     "text": [
      "C:\\Users\\iac6311\\AppData\\Local\\Continuum\\anaconda3\\envs\\saveur\\lib\\site-packages\\pyart\\io\\cfradial.py:384: RuntimeWarning: invalid value encountered in less\n",
      "  data = self.ncvar[:]\n",
      "C:\\Users\\iac6311\\AppData\\Local\\Continuum\\anaconda3\\envs\\saveur\\lib\\site-packages\\pyart\\io\\cfradial.py:384: RuntimeWarning: invalid value encountered in greater\n",
      "  data = self.ncvar[:]\n",
      "C:\\Users\\iac6311\\AppData\\Local\\Continuum\\anaconda3\\envs\\saveur\\lib\\site-packages\\pyart\\map\\gates_to_grid.py:177: DeprecationWarning: Barnes weighting function is deprecated. Please use Barnes 2 to be consistent with Pauley and Wu 1990.\n",
      "  \" Pauley and Wu 1990.\", DeprecationWarning)\n"
     ]
    },
    {
     "name": "stdout",
     "output_type": "stream",
     "text": [
      "."
     ]
    },
    {
     "name": "stderr",
     "output_type": "stream",
     "text": [
      "C:\\Users\\iac6311\\AppData\\Local\\Continuum\\anaconda3\\envs\\saveur\\lib\\site-packages\\pyart\\io\\cfradial.py:384: RuntimeWarning: invalid value encountered in less\n",
      "  data = self.ncvar[:]\n",
      "C:\\Users\\iac6311\\AppData\\Local\\Continuum\\anaconda3\\envs\\saveur\\lib\\site-packages\\pyart\\io\\cfradial.py:384: RuntimeWarning: invalid value encountered in greater\n",
      "  data = self.ncvar[:]\n",
      "C:\\Users\\iac6311\\AppData\\Local\\Continuum\\anaconda3\\envs\\saveur\\lib\\site-packages\\pyart\\map\\gates_to_grid.py:177: DeprecationWarning: Barnes weighting function is deprecated. Please use Barnes 2 to be consistent with Pauley and Wu 1990.\n",
      "  \" Pauley and Wu 1990.\", DeprecationWarning)\n"
     ]
    },
    {
     "name": "stdout",
     "output_type": "stream",
     "text": [
      "."
     ]
    },
    {
     "name": "stderr",
     "output_type": "stream",
     "text": [
      "C:\\Users\\iac6311\\AppData\\Local\\Continuum\\anaconda3\\envs\\saveur\\lib\\site-packages\\pyart\\io\\cfradial.py:384: RuntimeWarning: invalid value encountered in less\n",
      "  data = self.ncvar[:]\n",
      "C:\\Users\\iac6311\\AppData\\Local\\Continuum\\anaconda3\\envs\\saveur\\lib\\site-packages\\pyart\\io\\cfradial.py:384: RuntimeWarning: invalid value encountered in greater\n",
      "  data = self.ncvar[:]\n",
      "C:\\Users\\iac6311\\AppData\\Local\\Continuum\\anaconda3\\envs\\saveur\\lib\\site-packages\\pyart\\map\\gates_to_grid.py:177: DeprecationWarning: Barnes weighting function is deprecated. Please use Barnes 2 to be consistent with Pauley and Wu 1990.\n",
      "  \" Pauley and Wu 1990.\", DeprecationWarning)\n"
     ]
    },
    {
     "name": "stdout",
     "output_type": "stream",
     "text": [
      "."
     ]
    },
    {
     "name": "stderr",
     "output_type": "stream",
     "text": [
      "C:\\Users\\iac6311\\AppData\\Local\\Continuum\\anaconda3\\envs\\saveur\\lib\\site-packages\\pyart\\io\\cfradial.py:384: RuntimeWarning: invalid value encountered in less\n",
      "  data = self.ncvar[:]\n",
      "C:\\Users\\iac6311\\AppData\\Local\\Continuum\\anaconda3\\envs\\saveur\\lib\\site-packages\\pyart\\io\\cfradial.py:384: RuntimeWarning: invalid value encountered in greater\n",
      "  data = self.ncvar[:]\n",
      "C:\\Users\\iac6311\\AppData\\Local\\Continuum\\anaconda3\\envs\\saveur\\lib\\site-packages\\pyart\\map\\gates_to_grid.py:177: DeprecationWarning: Barnes weighting function is deprecated. Please use Barnes 2 to be consistent with Pauley and Wu 1990.\n",
      "  \" Pauley and Wu 1990.\", DeprecationWarning)\n"
     ]
    },
    {
     "name": "stdout",
     "output_type": "stream",
     "text": [
      "."
     ]
    },
    {
     "name": "stderr",
     "output_type": "stream",
     "text": [
      "C:\\Users\\iac6311\\AppData\\Local\\Continuum\\anaconda3\\envs\\saveur\\lib\\site-packages\\pyart\\io\\cfradial.py:384: RuntimeWarning: invalid value encountered in less\n",
      "  data = self.ncvar[:]\n",
      "C:\\Users\\iac6311\\AppData\\Local\\Continuum\\anaconda3\\envs\\saveur\\lib\\site-packages\\pyart\\io\\cfradial.py:384: RuntimeWarning: invalid value encountered in greater\n",
      "  data = self.ncvar[:]\n",
      "C:\\Users\\iac6311\\AppData\\Local\\Continuum\\anaconda3\\envs\\saveur\\lib\\site-packages\\pyart\\map\\gates_to_grid.py:177: DeprecationWarning: Barnes weighting function is deprecated. Please use Barnes 2 to be consistent with Pauley and Wu 1990.\n",
      "  \" Pauley and Wu 1990.\", DeprecationWarning)\n"
     ]
    },
    {
     "name": "stdout",
     "output_type": "stream",
     "text": [
      "."
     ]
    },
    {
     "name": "stderr",
     "output_type": "stream",
     "text": [
      "C:\\Users\\iac6311\\AppData\\Local\\Continuum\\anaconda3\\envs\\saveur\\lib\\site-packages\\pyart\\io\\cfradial.py:384: RuntimeWarning: invalid value encountered in less\n",
      "  data = self.ncvar[:]\n",
      "C:\\Users\\iac6311\\AppData\\Local\\Continuum\\anaconda3\\envs\\saveur\\lib\\site-packages\\pyart\\io\\cfradial.py:384: RuntimeWarning: invalid value encountered in greater\n",
      "  data = self.ncvar[:]\n",
      "C:\\Users\\iac6311\\AppData\\Local\\Continuum\\anaconda3\\envs\\saveur\\lib\\site-packages\\pyart\\map\\gates_to_grid.py:177: DeprecationWarning: Barnes weighting function is deprecated. Please use Barnes 2 to be consistent with Pauley and Wu 1990.\n",
      "  \" Pauley and Wu 1990.\", DeprecationWarning)\n"
     ]
    },
    {
     "name": "stdout",
     "output_type": "stream",
     "text": [
      "."
     ]
    },
    {
     "name": "stderr",
     "output_type": "stream",
     "text": [
      "C:\\Users\\iac6311\\AppData\\Local\\Continuum\\anaconda3\\envs\\saveur\\lib\\site-packages\\pyart\\io\\cfradial.py:384: RuntimeWarning: invalid value encountered in less\n",
      "  data = self.ncvar[:]\n",
      "C:\\Users\\iac6311\\AppData\\Local\\Continuum\\anaconda3\\envs\\saveur\\lib\\site-packages\\pyart\\io\\cfradial.py:384: RuntimeWarning: invalid value encountered in greater\n",
      "  data = self.ncvar[:]\n",
      "C:\\Users\\iac6311\\AppData\\Local\\Continuum\\anaconda3\\envs\\saveur\\lib\\site-packages\\pyart\\map\\gates_to_grid.py:177: DeprecationWarning: Barnes weighting function is deprecated. Please use Barnes 2 to be consistent with Pauley and Wu 1990.\n",
      "  \" Pauley and Wu 1990.\", DeprecationWarning)\n"
     ]
    },
    {
     "name": "stdout",
     "output_type": "stream",
     "text": [
      "\n",
      "23\n",
      "."
     ]
    },
    {
     "name": "stderr",
     "output_type": "stream",
     "text": [
      "C:\\Users\\iac6311\\AppData\\Local\\Continuum\\anaconda3\\envs\\saveur\\lib\\site-packages\\pyart\\io\\cfradial.py:384: RuntimeWarning: invalid value encountered in less\n",
      "  data = self.ncvar[:]\n",
      "C:\\Users\\iac6311\\AppData\\Local\\Continuum\\anaconda3\\envs\\saveur\\lib\\site-packages\\pyart\\io\\cfradial.py:384: RuntimeWarning: invalid value encountered in greater\n",
      "  data = self.ncvar[:]\n",
      "C:\\Users\\iac6311\\AppData\\Local\\Continuum\\anaconda3\\envs\\saveur\\lib\\site-packages\\pyart\\map\\gates_to_grid.py:177: DeprecationWarning: Barnes weighting function is deprecated. Please use Barnes 2 to be consistent with Pauley and Wu 1990.\n",
      "  \" Pauley and Wu 1990.\", DeprecationWarning)\n"
     ]
    },
    {
     "name": "stdout",
     "output_type": "stream",
     "text": [
      "."
     ]
    },
    {
     "name": "stderr",
     "output_type": "stream",
     "text": [
      "C:\\Users\\iac6311\\AppData\\Local\\Continuum\\anaconda3\\envs\\saveur\\lib\\site-packages\\pyart\\io\\cfradial.py:384: RuntimeWarning: invalid value encountered in less\n",
      "  data = self.ncvar[:]\n",
      "C:\\Users\\iac6311\\AppData\\Local\\Continuum\\anaconda3\\envs\\saveur\\lib\\site-packages\\pyart\\io\\cfradial.py:384: RuntimeWarning: invalid value encountered in greater\n",
      "  data = self.ncvar[:]\n",
      "C:\\Users\\iac6311\\AppData\\Local\\Continuum\\anaconda3\\envs\\saveur\\lib\\site-packages\\pyart\\map\\gates_to_grid.py:177: DeprecationWarning: Barnes weighting function is deprecated. Please use Barnes 2 to be consistent with Pauley and Wu 1990.\n",
      "  \" Pauley and Wu 1990.\", DeprecationWarning)\n"
     ]
    },
    {
     "name": "stdout",
     "output_type": "stream",
     "text": [
      "."
     ]
    },
    {
     "name": "stderr",
     "output_type": "stream",
     "text": [
      "C:\\Users\\iac6311\\AppData\\Local\\Continuum\\anaconda3\\envs\\saveur\\lib\\site-packages\\pyart\\io\\cfradial.py:384: RuntimeWarning: invalid value encountered in less\n",
      "  data = self.ncvar[:]\n",
      "C:\\Users\\iac6311\\AppData\\Local\\Continuum\\anaconda3\\envs\\saveur\\lib\\site-packages\\pyart\\io\\cfradial.py:384: RuntimeWarning: invalid value encountered in greater\n",
      "  data = self.ncvar[:]\n",
      "C:\\Users\\iac6311\\AppData\\Local\\Continuum\\anaconda3\\envs\\saveur\\lib\\site-packages\\pyart\\map\\gates_to_grid.py:177: DeprecationWarning: Barnes weighting function is deprecated. Please use Barnes 2 to be consistent with Pauley and Wu 1990.\n",
      "  \" Pauley and Wu 1990.\", DeprecationWarning)\n"
     ]
    },
    {
     "name": "stdout",
     "output_type": "stream",
     "text": [
      "."
     ]
    },
    {
     "name": "stderr",
     "output_type": "stream",
     "text": [
      "C:\\Users\\iac6311\\AppData\\Local\\Continuum\\anaconda3\\envs\\saveur\\lib\\site-packages\\pyart\\io\\cfradial.py:384: RuntimeWarning: invalid value encountered in less\n",
      "  data = self.ncvar[:]\n",
      "C:\\Users\\iac6311\\AppData\\Local\\Continuum\\anaconda3\\envs\\saveur\\lib\\site-packages\\pyart\\io\\cfradial.py:384: RuntimeWarning: invalid value encountered in greater\n",
      "  data = self.ncvar[:]\n",
      "C:\\Users\\iac6311\\AppData\\Local\\Continuum\\anaconda3\\envs\\saveur\\lib\\site-packages\\pyart\\map\\gates_to_grid.py:177: DeprecationWarning: Barnes weighting function is deprecated. Please use Barnes 2 to be consistent with Pauley and Wu 1990.\n",
      "  \" Pauley and Wu 1990.\", DeprecationWarning)\n"
     ]
    },
    {
     "name": "stdout",
     "output_type": "stream",
     "text": [
      "."
     ]
    },
    {
     "name": "stderr",
     "output_type": "stream",
     "text": [
      "C:\\Users\\iac6311\\AppData\\Local\\Continuum\\anaconda3\\envs\\saveur\\lib\\site-packages\\pyart\\io\\cfradial.py:384: RuntimeWarning: invalid value encountered in less\n",
      "  data = self.ncvar[:]\n",
      "C:\\Users\\iac6311\\AppData\\Local\\Continuum\\anaconda3\\envs\\saveur\\lib\\site-packages\\pyart\\io\\cfradial.py:384: RuntimeWarning: invalid value encountered in greater\n",
      "  data = self.ncvar[:]\n",
      "C:\\Users\\iac6311\\AppData\\Local\\Continuum\\anaconda3\\envs\\saveur\\lib\\site-packages\\pyart\\map\\gates_to_grid.py:177: DeprecationWarning: Barnes weighting function is deprecated. Please use Barnes 2 to be consistent with Pauley and Wu 1990.\n",
      "  \" Pauley and Wu 1990.\", DeprecationWarning)\n"
     ]
    },
    {
     "name": "stdout",
     "output_type": "stream",
     "text": [
      "."
     ]
    },
    {
     "name": "stderr",
     "output_type": "stream",
     "text": [
      "C:\\Users\\iac6311\\AppData\\Local\\Continuum\\anaconda3\\envs\\saveur\\lib\\site-packages\\pyart\\io\\cfradial.py:384: RuntimeWarning: invalid value encountered in less\n",
      "  data = self.ncvar[:]\n",
      "C:\\Users\\iac6311\\AppData\\Local\\Continuum\\anaconda3\\envs\\saveur\\lib\\site-packages\\pyart\\io\\cfradial.py:384: RuntimeWarning: invalid value encountered in greater\n",
      "  data = self.ncvar[:]\n",
      "C:\\Users\\iac6311\\AppData\\Local\\Continuum\\anaconda3\\envs\\saveur\\lib\\site-packages\\pyart\\map\\gates_to_grid.py:177: DeprecationWarning: Barnes weighting function is deprecated. Please use Barnes 2 to be consistent with Pauley and Wu 1990.\n",
      "  \" Pauley and Wu 1990.\", DeprecationWarning)\n"
     ]
    },
    {
     "name": "stdout",
     "output_type": "stream",
     "text": [
      "."
     ]
    },
    {
     "name": "stderr",
     "output_type": "stream",
     "text": [
      "C:\\Users\\iac6311\\AppData\\Local\\Continuum\\anaconda3\\envs\\saveur\\lib\\site-packages\\pyart\\io\\cfradial.py:384: RuntimeWarning: invalid value encountered in less\n",
      "  data = self.ncvar[:]\n",
      "C:\\Users\\iac6311\\AppData\\Local\\Continuum\\anaconda3\\envs\\saveur\\lib\\site-packages\\pyart\\io\\cfradial.py:384: RuntimeWarning: invalid value encountered in greater\n",
      "  data = self.ncvar[:]\n",
      "C:\\Users\\iac6311\\AppData\\Local\\Continuum\\anaconda3\\envs\\saveur\\lib\\site-packages\\pyart\\map\\gates_to_grid.py:177: DeprecationWarning: Barnes weighting function is deprecated. Please use Barnes 2 to be consistent with Pauley and Wu 1990.\n",
      "  \" Pauley and Wu 1990.\", DeprecationWarning)\n"
     ]
    },
    {
     "name": "stdout",
     "output_type": "stream",
     "text": [
      "."
     ]
    },
    {
     "name": "stderr",
     "output_type": "stream",
     "text": [
      "C:\\Users\\iac6311\\AppData\\Local\\Continuum\\anaconda3\\envs\\saveur\\lib\\site-packages\\pyart\\io\\cfradial.py:384: RuntimeWarning: invalid value encountered in less\n",
      "  data = self.ncvar[:]\n",
      "C:\\Users\\iac6311\\AppData\\Local\\Continuum\\anaconda3\\envs\\saveur\\lib\\site-packages\\pyart\\io\\cfradial.py:384: RuntimeWarning: invalid value encountered in greater\n",
      "  data = self.ncvar[:]\n",
      "C:\\Users\\iac6311\\AppData\\Local\\Continuum\\anaconda3\\envs\\saveur\\lib\\site-packages\\pyart\\map\\gates_to_grid.py:177: DeprecationWarning: Barnes weighting function is deprecated. Please use Barnes 2 to be consistent with Pauley and Wu 1990.\n",
      "  \" Pauley and Wu 1990.\", DeprecationWarning)\n"
     ]
    },
    {
     "name": "stdout",
     "output_type": "stream",
     "text": [
      "."
     ]
    },
    {
     "name": "stderr",
     "output_type": "stream",
     "text": [
      "C:\\Users\\iac6311\\AppData\\Local\\Continuum\\anaconda3\\envs\\saveur\\lib\\site-packages\\pyart\\io\\cfradial.py:384: RuntimeWarning: invalid value encountered in less\n",
      "  data = self.ncvar[:]\n",
      "C:\\Users\\iac6311\\AppData\\Local\\Continuum\\anaconda3\\envs\\saveur\\lib\\site-packages\\pyart\\io\\cfradial.py:384: RuntimeWarning: invalid value encountered in greater\n",
      "  data = self.ncvar[:]\n",
      "C:\\Users\\iac6311\\AppData\\Local\\Continuum\\anaconda3\\envs\\saveur\\lib\\site-packages\\pyart\\map\\gates_to_grid.py:177: DeprecationWarning: Barnes weighting function is deprecated. Please use Barnes 2 to be consistent with Pauley and Wu 1990.\n",
      "  \" Pauley and Wu 1990.\", DeprecationWarning)\n"
     ]
    },
    {
     "name": "stdout",
     "output_type": "stream",
     "text": [
      "."
     ]
    },
    {
     "name": "stderr",
     "output_type": "stream",
     "text": [
      "C:\\Users\\iac6311\\AppData\\Local\\Continuum\\anaconda3\\envs\\saveur\\lib\\site-packages\\pyart\\io\\cfradial.py:384: RuntimeWarning: invalid value encountered in less\n",
      "  data = self.ncvar[:]\n",
      "C:\\Users\\iac6311\\AppData\\Local\\Continuum\\anaconda3\\envs\\saveur\\lib\\site-packages\\pyart\\io\\cfradial.py:384: RuntimeWarning: invalid value encountered in greater\n",
      "  data = self.ncvar[:]\n",
      "C:\\Users\\iac6311\\AppData\\Local\\Continuum\\anaconda3\\envs\\saveur\\lib\\site-packages\\pyart\\map\\gates_to_grid.py:177: DeprecationWarning: Barnes weighting function is deprecated. Please use Barnes 2 to be consistent with Pauley and Wu 1990.\n",
      "  \" Pauley and Wu 1990.\", DeprecationWarning)\n"
     ]
    },
    {
     "name": "stdout",
     "output_type": "stream",
     "text": [
      "."
     ]
    },
    {
     "name": "stderr",
     "output_type": "stream",
     "text": [
      "C:\\Users\\iac6311\\AppData\\Local\\Continuum\\anaconda3\\envs\\saveur\\lib\\site-packages\\pyart\\io\\cfradial.py:384: RuntimeWarning: invalid value encountered in less\n",
      "  data = self.ncvar[:]\n",
      "C:\\Users\\iac6311\\AppData\\Local\\Continuum\\anaconda3\\envs\\saveur\\lib\\site-packages\\pyart\\io\\cfradial.py:384: RuntimeWarning: invalid value encountered in greater\n",
      "  data = self.ncvar[:]\n",
      "C:\\Users\\iac6311\\AppData\\Local\\Continuum\\anaconda3\\envs\\saveur\\lib\\site-packages\\pyart\\map\\gates_to_grid.py:177: DeprecationWarning: Barnes weighting function is deprecated. Please use Barnes 2 to be consistent with Pauley and Wu 1990.\n",
      "  \" Pauley and Wu 1990.\", DeprecationWarning)\n"
     ]
    },
    {
     "name": "stdout",
     "output_type": "stream",
     "text": [
      "."
     ]
    },
    {
     "name": "stderr",
     "output_type": "stream",
     "text": [
      "C:\\Users\\iac6311\\AppData\\Local\\Continuum\\anaconda3\\envs\\saveur\\lib\\site-packages\\pyart\\io\\cfradial.py:384: RuntimeWarning: invalid value encountered in less\n",
      "  data = self.ncvar[:]\n",
      "C:\\Users\\iac6311\\AppData\\Local\\Continuum\\anaconda3\\envs\\saveur\\lib\\site-packages\\pyart\\io\\cfradial.py:384: RuntimeWarning: invalid value encountered in greater\n",
      "  data = self.ncvar[:]\n",
      "C:\\Users\\iac6311\\AppData\\Local\\Continuum\\anaconda3\\envs\\saveur\\lib\\site-packages\\pyart\\map\\gates_to_grid.py:177: DeprecationWarning: Barnes weighting function is deprecated. Please use Barnes 2 to be consistent with Pauley and Wu 1990.\n",
      "  \" Pauley and Wu 1990.\", DeprecationWarning)\n"
     ]
    },
    {
     "name": "stdout",
     "output_type": "stream",
     "text": [
      "."
     ]
    },
    {
     "name": "stderr",
     "output_type": "stream",
     "text": [
      "C:\\Users\\iac6311\\AppData\\Local\\Continuum\\anaconda3\\envs\\saveur\\lib\\site-packages\\pyart\\io\\cfradial.py:384: RuntimeWarning: invalid value encountered in less\n",
      "  data = self.ncvar[:]\n",
      "C:\\Users\\iac6311\\AppData\\Local\\Continuum\\anaconda3\\envs\\saveur\\lib\\site-packages\\pyart\\io\\cfradial.py:384: RuntimeWarning: invalid value encountered in greater\n",
      "  data = self.ncvar[:]\n",
      "C:\\Users\\iac6311\\AppData\\Local\\Continuum\\anaconda3\\envs\\saveur\\lib\\site-packages\\pyart\\map\\gates_to_grid.py:177: DeprecationWarning: Barnes weighting function is deprecated. Please use Barnes 2 to be consistent with Pauley and Wu 1990.\n",
      "  \" Pauley and Wu 1990.\", DeprecationWarning)\n"
     ]
    },
    {
     "name": "stdout",
     "output_type": "stream",
     "text": [
      "."
     ]
    },
    {
     "name": "stderr",
     "output_type": "stream",
     "text": [
      "C:\\Users\\iac6311\\AppData\\Local\\Continuum\\anaconda3\\envs\\saveur\\lib\\site-packages\\pyart\\io\\cfradial.py:384: RuntimeWarning: invalid value encountered in less\n",
      "  data = self.ncvar[:]\n",
      "C:\\Users\\iac6311\\AppData\\Local\\Continuum\\anaconda3\\envs\\saveur\\lib\\site-packages\\pyart\\io\\cfradial.py:384: RuntimeWarning: invalid value encountered in greater\n",
      "  data = self.ncvar[:]\n",
      "C:\\Users\\iac6311\\AppData\\Local\\Continuum\\anaconda3\\envs\\saveur\\lib\\site-packages\\pyart\\map\\gates_to_grid.py:177: DeprecationWarning: Barnes weighting function is deprecated. Please use Barnes 2 to be consistent with Pauley and Wu 1990.\n",
      "  \" Pauley and Wu 1990.\", DeprecationWarning)\n"
     ]
    },
    {
     "name": "stdout",
     "output_type": "stream",
     "text": [
      "\n",
      "24\n",
      "."
     ]
    },
    {
     "name": "stderr",
     "output_type": "stream",
     "text": [
      "C:\\Users\\iac6311\\AppData\\Local\\Continuum\\anaconda3\\envs\\saveur\\lib\\site-packages\\pyart\\io\\cfradial.py:384: RuntimeWarning: invalid value encountered in less\n",
      "  data = self.ncvar[:]\n",
      "C:\\Users\\iac6311\\AppData\\Local\\Continuum\\anaconda3\\envs\\saveur\\lib\\site-packages\\pyart\\io\\cfradial.py:384: RuntimeWarning: invalid value encountered in greater\n",
      "  data = self.ncvar[:]\n",
      "C:\\Users\\iac6311\\AppData\\Local\\Continuum\\anaconda3\\envs\\saveur\\lib\\site-packages\\pyart\\map\\gates_to_grid.py:177: DeprecationWarning: Barnes weighting function is deprecated. Please use Barnes 2 to be consistent with Pauley and Wu 1990.\n",
      "  \" Pauley and Wu 1990.\", DeprecationWarning)\n"
     ]
    },
    {
     "name": "stdout",
     "output_type": "stream",
     "text": [
      "."
     ]
    },
    {
     "name": "stderr",
     "output_type": "stream",
     "text": [
      "C:\\Users\\iac6311\\AppData\\Local\\Continuum\\anaconda3\\envs\\saveur\\lib\\site-packages\\pyart\\io\\cfradial.py:384: RuntimeWarning: invalid value encountered in less\n",
      "  data = self.ncvar[:]\n",
      "C:\\Users\\iac6311\\AppData\\Local\\Continuum\\anaconda3\\envs\\saveur\\lib\\site-packages\\pyart\\io\\cfradial.py:384: RuntimeWarning: invalid value encountered in greater\n",
      "  data = self.ncvar[:]\n",
      "C:\\Users\\iac6311\\AppData\\Local\\Continuum\\anaconda3\\envs\\saveur\\lib\\site-packages\\pyart\\map\\gates_to_grid.py:177: DeprecationWarning: Barnes weighting function is deprecated. Please use Barnes 2 to be consistent with Pauley and Wu 1990.\n",
      "  \" Pauley and Wu 1990.\", DeprecationWarning)\n"
     ]
    },
    {
     "name": "stdout",
     "output_type": "stream",
     "text": [
      "."
     ]
    },
    {
     "name": "stderr",
     "output_type": "stream",
     "text": [
      "C:\\Users\\iac6311\\AppData\\Local\\Continuum\\anaconda3\\envs\\saveur\\lib\\site-packages\\pyart\\io\\cfradial.py:384: RuntimeWarning: invalid value encountered in less\n",
      "  data = self.ncvar[:]\n",
      "C:\\Users\\iac6311\\AppData\\Local\\Continuum\\anaconda3\\envs\\saveur\\lib\\site-packages\\pyart\\io\\cfradial.py:384: RuntimeWarning: invalid value encountered in greater\n",
      "  data = self.ncvar[:]\n",
      "C:\\Users\\iac6311\\AppData\\Local\\Continuum\\anaconda3\\envs\\saveur\\lib\\site-packages\\pyart\\map\\gates_to_grid.py:177: DeprecationWarning: Barnes weighting function is deprecated. Please use Barnes 2 to be consistent with Pauley and Wu 1990.\n",
      "  \" Pauley and Wu 1990.\", DeprecationWarning)\n"
     ]
    },
    {
     "name": "stdout",
     "output_type": "stream",
     "text": [
      "."
     ]
    },
    {
     "name": "stderr",
     "output_type": "stream",
     "text": [
      "C:\\Users\\iac6311\\AppData\\Local\\Continuum\\anaconda3\\envs\\saveur\\lib\\site-packages\\pyart\\io\\cfradial.py:384: RuntimeWarning: invalid value encountered in less\n",
      "  data = self.ncvar[:]\n",
      "C:\\Users\\iac6311\\AppData\\Local\\Continuum\\anaconda3\\envs\\saveur\\lib\\site-packages\\pyart\\io\\cfradial.py:384: RuntimeWarning: invalid value encountered in greater\n",
      "  data = self.ncvar[:]\n",
      "C:\\Users\\iac6311\\AppData\\Local\\Continuum\\anaconda3\\envs\\saveur\\lib\\site-packages\\pyart\\map\\gates_to_grid.py:177: DeprecationWarning: Barnes weighting function is deprecated. Please use Barnes 2 to be consistent with Pauley and Wu 1990.\n",
      "  \" Pauley and Wu 1990.\", DeprecationWarning)\n"
     ]
    },
    {
     "name": "stdout",
     "output_type": "stream",
     "text": [
      "."
     ]
    },
    {
     "name": "stderr",
     "output_type": "stream",
     "text": [
      "C:\\Users\\iac6311\\AppData\\Local\\Continuum\\anaconda3\\envs\\saveur\\lib\\site-packages\\pyart\\io\\cfradial.py:384: RuntimeWarning: invalid value encountered in less\n",
      "  data = self.ncvar[:]\n",
      "C:\\Users\\iac6311\\AppData\\Local\\Continuum\\anaconda3\\envs\\saveur\\lib\\site-packages\\pyart\\io\\cfradial.py:384: RuntimeWarning: invalid value encountered in greater\n",
      "  data = self.ncvar[:]\n",
      "C:\\Users\\iac6311\\AppData\\Local\\Continuum\\anaconda3\\envs\\saveur\\lib\\site-packages\\pyart\\map\\gates_to_grid.py:177: DeprecationWarning: Barnes weighting function is deprecated. Please use Barnes 2 to be consistent with Pauley and Wu 1990.\n",
      "  \" Pauley and Wu 1990.\", DeprecationWarning)\n"
     ]
    },
    {
     "name": "stdout",
     "output_type": "stream",
     "text": [
      "."
     ]
    },
    {
     "name": "stderr",
     "output_type": "stream",
     "text": [
      "C:\\Users\\iac6311\\AppData\\Local\\Continuum\\anaconda3\\envs\\saveur\\lib\\site-packages\\pyart\\io\\cfradial.py:384: RuntimeWarning: invalid value encountered in less\n",
      "  data = self.ncvar[:]\n",
      "C:\\Users\\iac6311\\AppData\\Local\\Continuum\\anaconda3\\envs\\saveur\\lib\\site-packages\\pyart\\io\\cfradial.py:384: RuntimeWarning: invalid value encountered in greater\n",
      "  data = self.ncvar[:]\n",
      "C:\\Users\\iac6311\\AppData\\Local\\Continuum\\anaconda3\\envs\\saveur\\lib\\site-packages\\pyart\\map\\gates_to_grid.py:177: DeprecationWarning: Barnes weighting function is deprecated. Please use Barnes 2 to be consistent with Pauley and Wu 1990.\n",
      "  \" Pauley and Wu 1990.\", DeprecationWarning)\n"
     ]
    },
    {
     "name": "stdout",
     "output_type": "stream",
     "text": [
      "."
     ]
    },
    {
     "name": "stderr",
     "output_type": "stream",
     "text": [
      "C:\\Users\\iac6311\\AppData\\Local\\Continuum\\anaconda3\\envs\\saveur\\lib\\site-packages\\pyart\\io\\cfradial.py:384: RuntimeWarning: invalid value encountered in less\n",
      "  data = self.ncvar[:]\n",
      "C:\\Users\\iac6311\\AppData\\Local\\Continuum\\anaconda3\\envs\\saveur\\lib\\site-packages\\pyart\\io\\cfradial.py:384: RuntimeWarning: invalid value encountered in greater\n",
      "  data = self.ncvar[:]\n",
      "C:\\Users\\iac6311\\AppData\\Local\\Continuum\\anaconda3\\envs\\saveur\\lib\\site-packages\\pyart\\map\\gates_to_grid.py:177: DeprecationWarning: Barnes weighting function is deprecated. Please use Barnes 2 to be consistent with Pauley and Wu 1990.\n",
      "  \" Pauley and Wu 1990.\", DeprecationWarning)\n"
     ]
    },
    {
     "name": "stdout",
     "output_type": "stream",
     "text": [
      "."
     ]
    },
    {
     "name": "stderr",
     "output_type": "stream",
     "text": [
      "C:\\Users\\iac6311\\AppData\\Local\\Continuum\\anaconda3\\envs\\saveur\\lib\\site-packages\\pyart\\io\\cfradial.py:384: RuntimeWarning: invalid value encountered in less\n",
      "  data = self.ncvar[:]\n",
      "C:\\Users\\iac6311\\AppData\\Local\\Continuum\\anaconda3\\envs\\saveur\\lib\\site-packages\\pyart\\io\\cfradial.py:384: RuntimeWarning: invalid value encountered in greater\n",
      "  data = self.ncvar[:]\n",
      "C:\\Users\\iac6311\\AppData\\Local\\Continuum\\anaconda3\\envs\\saveur\\lib\\site-packages\\pyart\\map\\gates_to_grid.py:177: DeprecationWarning: Barnes weighting function is deprecated. Please use Barnes 2 to be consistent with Pauley and Wu 1990.\n",
      "  \" Pauley and Wu 1990.\", DeprecationWarning)\n"
     ]
    },
    {
     "name": "stdout",
     "output_type": "stream",
     "text": [
      "."
     ]
    },
    {
     "name": "stderr",
     "output_type": "stream",
     "text": [
      "C:\\Users\\iac6311\\AppData\\Local\\Continuum\\anaconda3\\envs\\saveur\\lib\\site-packages\\pyart\\io\\cfradial.py:384: RuntimeWarning: invalid value encountered in less\n",
      "  data = self.ncvar[:]\n",
      "C:\\Users\\iac6311\\AppData\\Local\\Continuum\\anaconda3\\envs\\saveur\\lib\\site-packages\\pyart\\io\\cfradial.py:384: RuntimeWarning: invalid value encountered in greater\n",
      "  data = self.ncvar[:]\n",
      "C:\\Users\\iac6311\\AppData\\Local\\Continuum\\anaconda3\\envs\\saveur\\lib\\site-packages\\pyart\\map\\gates_to_grid.py:177: DeprecationWarning: Barnes weighting function is deprecated. Please use Barnes 2 to be consistent with Pauley and Wu 1990.\n",
      "  \" Pauley and Wu 1990.\", DeprecationWarning)\n"
     ]
    },
    {
     "name": "stdout",
     "output_type": "stream",
     "text": [
      "."
     ]
    },
    {
     "name": "stderr",
     "output_type": "stream",
     "text": [
      "C:\\Users\\iac6311\\AppData\\Local\\Continuum\\anaconda3\\envs\\saveur\\lib\\site-packages\\pyart\\io\\cfradial.py:384: RuntimeWarning: invalid value encountered in less\n",
      "  data = self.ncvar[:]\n",
      "C:\\Users\\iac6311\\AppData\\Local\\Continuum\\anaconda3\\envs\\saveur\\lib\\site-packages\\pyart\\io\\cfradial.py:384: RuntimeWarning: invalid value encountered in greater\n",
      "  data = self.ncvar[:]\n",
      "C:\\Users\\iac6311\\AppData\\Local\\Continuum\\anaconda3\\envs\\saveur\\lib\\site-packages\\pyart\\map\\gates_to_grid.py:177: DeprecationWarning: Barnes weighting function is deprecated. Please use Barnes 2 to be consistent with Pauley and Wu 1990.\n",
      "  \" Pauley and Wu 1990.\", DeprecationWarning)\n"
     ]
    },
    {
     "name": "stdout",
     "output_type": "stream",
     "text": [
      "."
     ]
    },
    {
     "name": "stderr",
     "output_type": "stream",
     "text": [
      "C:\\Users\\iac6311\\AppData\\Local\\Continuum\\anaconda3\\envs\\saveur\\lib\\site-packages\\pyart\\io\\cfradial.py:384: RuntimeWarning: invalid value encountered in less\n",
      "  data = self.ncvar[:]\n",
      "C:\\Users\\iac6311\\AppData\\Local\\Continuum\\anaconda3\\envs\\saveur\\lib\\site-packages\\pyart\\io\\cfradial.py:384: RuntimeWarning: invalid value encountered in greater\n",
      "  data = self.ncvar[:]\n",
      "C:\\Users\\iac6311\\AppData\\Local\\Continuum\\anaconda3\\envs\\saveur\\lib\\site-packages\\pyart\\map\\gates_to_grid.py:177: DeprecationWarning: Barnes weighting function is deprecated. Please use Barnes 2 to be consistent with Pauley and Wu 1990.\n",
      "  \" Pauley and Wu 1990.\", DeprecationWarning)\n"
     ]
    },
    {
     "name": "stdout",
     "output_type": "stream",
     "text": [
      "."
     ]
    },
    {
     "name": "stderr",
     "output_type": "stream",
     "text": [
      "C:\\Users\\iac6311\\AppData\\Local\\Continuum\\anaconda3\\envs\\saveur\\lib\\site-packages\\pyart\\io\\cfradial.py:384: RuntimeWarning: invalid value encountered in less\n",
      "  data = self.ncvar[:]\n",
      "C:\\Users\\iac6311\\AppData\\Local\\Continuum\\anaconda3\\envs\\saveur\\lib\\site-packages\\pyart\\io\\cfradial.py:384: RuntimeWarning: invalid value encountered in greater\n",
      "  data = self.ncvar[:]\n",
      "C:\\Users\\iac6311\\AppData\\Local\\Continuum\\anaconda3\\envs\\saveur\\lib\\site-packages\\pyart\\map\\gates_to_grid.py:177: DeprecationWarning: Barnes weighting function is deprecated. Please use Barnes 2 to be consistent with Pauley and Wu 1990.\n",
      "  \" Pauley and Wu 1990.\", DeprecationWarning)\n"
     ]
    },
    {
     "name": "stdout",
     "output_type": "stream",
     "text": [
      "."
     ]
    },
    {
     "name": "stderr",
     "output_type": "stream",
     "text": [
      "C:\\Users\\iac6311\\AppData\\Local\\Continuum\\anaconda3\\envs\\saveur\\lib\\site-packages\\pyart\\io\\cfradial.py:384: RuntimeWarning: invalid value encountered in less\n",
      "  data = self.ncvar[:]\n",
      "C:\\Users\\iac6311\\AppData\\Local\\Continuum\\anaconda3\\envs\\saveur\\lib\\site-packages\\pyart\\io\\cfradial.py:384: RuntimeWarning: invalid value encountered in greater\n",
      "  data = self.ncvar[:]\n",
      "C:\\Users\\iac6311\\AppData\\Local\\Continuum\\anaconda3\\envs\\saveur\\lib\\site-packages\\pyart\\map\\gates_to_grid.py:177: DeprecationWarning: Barnes weighting function is deprecated. Please use Barnes 2 to be consistent with Pauley and Wu 1990.\n",
      "  \" Pauley and Wu 1990.\", DeprecationWarning)\n"
     ]
    },
    {
     "name": "stdout",
     "output_type": "stream",
     "text": [
      "."
     ]
    },
    {
     "name": "stderr",
     "output_type": "stream",
     "text": [
      "C:\\Users\\iac6311\\AppData\\Local\\Continuum\\anaconda3\\envs\\saveur\\lib\\site-packages\\pyart\\io\\cfradial.py:384: RuntimeWarning: invalid value encountered in less\n",
      "  data = self.ncvar[:]\n",
      "C:\\Users\\iac6311\\AppData\\Local\\Continuum\\anaconda3\\envs\\saveur\\lib\\site-packages\\pyart\\io\\cfradial.py:384: RuntimeWarning: invalid value encountered in greater\n",
      "  data = self.ncvar[:]\n",
      "C:\\Users\\iac6311\\AppData\\Local\\Continuum\\anaconda3\\envs\\saveur\\lib\\site-packages\\pyart\\map\\gates_to_grid.py:177: DeprecationWarning: Barnes weighting function is deprecated. Please use Barnes 2 to be consistent with Pauley and Wu 1990.\n",
      "  \" Pauley and Wu 1990.\", DeprecationWarning)\n"
     ]
    },
    {
     "name": "stdout",
     "output_type": "stream",
     "text": [
      "\n"
     ]
    }
   ],
   "source": [
    "for hour in list(fname_dict)[19:]:\n",
    "    print(hour)\n",
    "    fnames_within_hour = fname_dict[hour]\n",
    "    hour_accum_rrZ = np.zeros((300,300))\n",
    "    hour_accum_rrA = np.zeros((300,300))\n",
    "    hour_accum_rrKDP = np.zeros((300,300))\n",
    "    for fname in fnames_within_hour:\n",
    "        print('.',end='')\n",
    "\n",
    "        # get local time of radar\n",
    "        fname = fname.rsplit('/',1)[-1]\n",
    "        dtime_utc = dt.datetime.strptime(fname,'radar_KLOT_%Y%m%d_%H%M%S.nc')\n",
    "        dtime_utc = pytz.utc.localize(dtime_utc)\n",
    "        \n",
    "        # read radar data\n",
    "        radar = pyart.io.read_cfradial(os.path.join(path_rrfiles,fname))\n",
    "\n",
    "        # grid \n",
    "        gatefilter = pyart.filters.GateFilter(radar)\n",
    "        gatefilter.exclude_transition()\n",
    "        gatefilter.exclude_masked('reflectivity')\n",
    "\n",
    "        # perform Cartesian mapping, limit to the reflectivity field.\n",
    "        grid = pyart.map.grid_from_radars(\n",
    "            [radar], gatefilters=[gatefilter],\n",
    "            grid_shape=(1, 300, 300),\n",
    "            grid_limits=((2000, 2000), (-123000.0, 123000.0), (-123000.0, 123000.0)),\n",
    "            fields=['rainrate','rainrate_from_attenuation','rainrate_from_kdp'])\n",
    "\n",
    "        # 3.2 Get radar data\n",
    "        # Get slice\n",
    "        rrZ_0 = grid.fields['rainrate']['data']\n",
    "        rrA_0 = grid.fields['rainrate_from_attenuation']['data']\n",
    "        rrKDP_0 = grid.fields['rainrate_from_kdp']['data']\n",
    "        \n",
    "        # convert rain rate to rain amount\n",
    "        rrZ_amount = wrl.trafo.r_to_depth(rrZ_0,interval=345)\n",
    "        rrA_amount = wrl.trafo.r_to_depth(rrA_0,interval=345)\n",
    "        rrKDP_amount = wrl.trafo.r_to_depth(rrKDP_0,interval=345)\n",
    "        \n",
    "        hour_accum_rrZ += rrZ_amount[0]\n",
    "        hour_accum_rrA += rrA_amount[0]\n",
    "        hour_accum_rrKDP += rrKDP_amount[0]\n",
    "\n",
    "    savefname = dt.datetime.strftime(dtime_utc.replace(microsecond=0,second=0,minute=0)+dt.timedelta(hours=1), '%Y%m%d_%H%M%S')\n",
    "    wrl.io.to_hdf5('gridded_KLOT'+savefname+'_rrZ.hdf5', hour_accum_rrZ)\n",
    "    wrl.io.to_hdf5('gridded_KLOT'+savefname+'_rrA.hdf5', hour_accum_rrA)\n",
    "    wrl.io.to_hdf5('gridded_KLOT'+savefname+'_rrKDP.hdf5', hour_accum_rrKDP)\n",
    "\n",
    "    print('')"
   ]
  },
  {
   "cell_type": "code",
   "execution_count": 19,
   "metadata": {
    "ExecuteTime": {
     "end_time": "2019-11-27T17:56:24.610542Z",
     "start_time": "2019-11-27T17:56:24.575633Z"
    }
   },
   "outputs": [],
   "source": [
    "x_rad, y_rad = grid.get_point_longitude_latitude()\n",
    "\n",
    "# Saving the objects:\n",
    "with open('radar_grid.pkl', 'wb') as f:  # Python 3: open(..., 'wb')\n",
    "    pickle.dump([x_rad, y_rad], f)"
   ]
  },
  {
   "cell_type": "code",
   "execution_count": 20,
   "metadata": {
    "ExecuteTime": {
     "end_time": "2019-11-27T17:56:24.642457Z",
     "start_time": "2019-11-27T17:56:24.613533Z"
    }
   },
   "outputs": [
    {
     "data": {
      "text/plain": [
       "masked_array(\n",
       "  data=[[[0.0377497635781765, 0.0366617813706398, 0.03288820758461952,\n",
       "          ..., 0.022743716835975647, 0.023708203807473183,\n",
       "          0.0221539493650198],\n",
       "         [0.040014512836933136, 0.036143746227025986,\n",
       "          0.030236078426241875, ..., 0.025455353781580925,\n",
       "          0.025306599214673042, 0.025084221735596657],\n",
       "         [0.045348409563302994, 0.039611704647541046,\n",
       "          0.03597690537571907, ..., 0.027670955285429955,\n",
       "          0.027218781411647797, 0.02674008347094059],\n",
       "         ...,\n",
       "         [0.13352549076080322, 0.12662436068058014, 0.11794549226760864,\n",
       "          ..., 0.017065808176994324, 0.016287362203001976,\n",
       "          0.015680711716413498],\n",
       "         [0.1335674226284027, 0.12428756803274155, 0.11835647374391556,\n",
       "          ..., 0.01688634417951107, 0.01623213104903698,\n",
       "          0.01551198959350586],\n",
       "         [0.13142092525959015, 0.12689976394176483, 0.1180368959903717,\n",
       "          ..., 0.016634272411465645, 0.01621229201555252,\n",
       "          0.015705222263932228]]],\n",
       "  mask=[[[False, False, False, ..., False, False, False],\n",
       "         [False, False, False, ..., False, False, False],\n",
       "         [False, False, False, ..., False, False, False],\n",
       "         ...,\n",
       "         [False, False, False, ..., False, False, False],\n",
       "         [False, False, False, ..., False, False, False],\n",
       "         [False, False, False, ..., False, False, False]]],\n",
       "  fill_value=1e+20,\n",
       "  dtype=float32)"
      ]
     },
     "execution_count": 20,
     "metadata": {},
     "output_type": "execute_result"
    }
   ],
   "source": [
    "rrZ_amount"
   ]
  },
  {
   "cell_type": "code",
   "execution_count": 21,
   "metadata": {
    "ExecuteTime": {
     "end_time": "2019-11-27T17:56:24.650435Z",
     "start_time": "2019-11-27T17:56:24.644479Z"
    }
   },
   "outputs": [
    {
     "data": {
      "text/plain": [
       "(300, 300)"
      ]
     },
     "execution_count": 21,
     "metadata": {},
     "output_type": "execute_result"
    }
   ],
   "source": [
    "hour_accum_rrKDP.shape"
   ]
  },
  {
   "cell_type": "code",
   "execution_count": 22,
   "metadata": {
    "ExecuteTime": {
     "end_time": "2019-11-27T17:56:26.156669Z",
     "start_time": "2019-11-27T17:56:24.652430Z"
    }
   },
   "outputs": [
    {
     "data": {
      "text/plain": [
       "<matplotlib.collections.QuadMesh at 0x1ea406f4a90>"
      ]
     },
     "execution_count": 22,
     "metadata": {},
     "output_type": "execute_result"
    },
    {
     "data": {
      "image/png": "[encoded data removed]",
      "text/plain": [
       "<Figure size 432x288 with 1 Axes>"
      ]
     },
     "metadata": {
      "needs_background": "light"
     },
     "output_type": "display_data"
    }
   ],
   "source": [
    "plt.pcolormesh(rrZ_amount[0])"
   ]
  },
  {
   "cell_type": "code",
   "execution_count": 23,
   "metadata": {
    "ExecuteTime": {
     "end_time": "2019-11-27T17:56:26.163678Z",
     "start_time": "2019-11-27T17:56:26.158664Z"
    }
   },
   "outputs": [
    {
     "data": {
      "text/plain": [
       "(1, 300, 300)"
      ]
     },
     "execution_count": 23,
     "metadata": {},
     "output_type": "execute_result"
    }
   ],
   "source": [
    "rrZ_0.shape"
   ]
  },
  {
   "cell_type": "code",
   "execution_count": null,
   "metadata": {},
   "outputs": [],
   "source": []
  }
 ],
 "metadata": {
  "kernelspec": {
   "display_name": "Python 3",
   "language": "python",
   "name": "python3"
  },
  "language_info": {
   "codemirror_mode": {
    "name": "ipython",
    "version": 3
   },
   "file_extension": ".py",
   "mimetype": "text/x-python",
   "name": "python",
   "nbconvert_exporter": "python",
   "pygments_lexer": "ipython3",
   "version": "3.8.5"
  },
  "varInspector": {
   "cols": {
    "lenName": 16,
    "lenType": 16,
    "lenVar": 40
   },
   "kernels_config": {
    "python": {
     "delete_cmd_postfix": "",
     "delete_cmd_prefix": "del ",
     "library": "var_list.py",
     "varRefreshCmd": "print(var_dic_list())"
    },
    "r": {
     "delete_cmd_postfix": ") ",
     "delete_cmd_prefix": "rm(",
     "library": "var_list.r",
     "varRefreshCmd": "cat(var_dic_list()) "
    }
   },
   "types_to_exclude": [
    "module",
    "function",
    "builtin_function_or_method",
    "instance",
    "_Feature"
   ],
   "window_display": false
  }
 },
 "nbformat": 4,
 "nbformat_minor": 2
}
