{
 "cells": [
  {
   "cell_type": "markdown",
   "metadata": {},
   "source": [
    "# Hail Detection Animation"
   ]
  },
  {
   "cell_type": "markdown",
   "metadata": {},
   "source": [
    "This code uses the csu_radartools package and fuzzy logic to create an animation of KDP."
   ]
  },
  {
   "cell_type": "code",
   "execution_count": 1,
   "metadata": {},
   "outputs": [
    {
     "name": "stdout",
     "output_type": "stream",
     "text": [
      "\n",
      "## You are using the Python ARM Radar Toolkit (Py-ART), an open source\n",
      "## library for working with weather radar data. Py-ART is partly\n",
      "## supported by the U.S. Department of Energy as part of the Atmospheric\n",
      "## Radiation Measurement (ARM) Climate Research Facility, an Office of\n",
      "## Science user facility.\n",
      "##\n",
      "## If you use this software to prepare a publication, please cite:\n",
      "##\n",
      "##     JJ Helmus and SM Collis, JORS 2016, doi: 10.5334/jors.119\n",
      "\n"
     ]
    }
   ],
   "source": [
    "from __future__ import print_function\n",
    "import warnings\n",
    "warnings.filterwarnings('ignore')\n",
    "\n",
    "from pylab import *\n",
    "import pyart, boto3, tempfile, os, shutil, datetime, matplotlib\n",
    "import pyart\n",
    "import matplotlib.pyplot as plt\n",
    "import matplotlib\n",
    "%matplotlib inline\n",
    "import numpy as np\n",
    "from time import time\n",
    "import netCDF4\n",
    "import os\n",
    "import cartopy.crs as ccrs\n",
    "import matplotlib.colors as colors\n",
    "import cartopy.feature as cfeature\n",
    "import cartopy.crs as ccrs\n",
    "from datetime import datetime\n",
    "from dateutil import tz\n",
    "from skewt import SkewT\n",
    "from glob import glob\n",
    "from botocore.handlers import disable_signing\n",
    "from matplotlib.animation import FuncAnimation\n",
    "import cartopy.io.shapereader as shpreader\n",
    "import csu_radartools\n",
    "from csu_radartools import (csu_fhc, csu_liquid_ice_mass, csu_blended_rain, \n",
    "                            csu_dsd, csu_kdp, csu_misc, fundamentals) "
   ]
  },
  {
   "cell_type": "markdown",
   "metadata": {},
   "source": [
    "Use Amazon to download and obtain radar scans:"
   ]
  },
  {
   "cell_type": "code",
   "execution_count": null,
   "metadata": {},
   "outputs": [],
   "source": [
    "# Obtaining radar scans...\n",
    "def get_radar_scan(station='KLOT', date=None, key_index=-20):\n",
    "    \n",
    "    '''\n",
    "    Function will pull the latest radar scan from any radar site using \n",
    "    Amazon S3.\n",
    "    ----------\n",
    "    Station = Four letter NEXRAD identifier\n",
    "              Example: 'KEPZ'\n",
    "    Date = default is none for current date, else enter date in format \"YYYY/MM/DD\"\n",
    "    Ex: date ='2013/11/17\n",
    "    Key_index = Number of keys you want pulled from most recent scan.\n",
    "    Ex: key_index = -15 would pull ht most recent 15 scans\n",
    "    '''\n",
    "    \n",
    "    # Creating a bucket and a client to be able to pull data from AWS and setting it as unsigned\n",
    "    bucket = 'noaa-nexrad-level2'\n",
    "    s3 = boto3.resource('s3')\n",
    "    s3.meta.client.meta.events.register('choose-signer.s3.*', disable_signing)\n",
    "    \n",
    "    # Connects the bucket create above with radar data\n",
    "    aws_radar = s3.Bucket(bucket)\n",
    "    \n",
    "    # Setting the date and time to current...\n",
    "    # This will allow for allow the current date's radar scands to be pulled\n",
    "    if date == None:\n",
    "        target_string = datetime.datetime.utcnow().strftime('%Y/%m/%d/'+station)\n",
    "    else:\n",
    "        target_string = date+'/'+station\n",
    "    \n",
    "    for obj in aws_radar.objects.filter(Prefix= target_string):\n",
    "        '{0}:{1}'.format(aws_radar.name, obj.key)\n",
    "    my_list_of_keys = [this_object.key for this_object in aws_radar.objects.filter(Prefix= target_string)]\n",
    "    keys = my_list_of_keys[key_index:]\n",
    "    for key in keys:\n",
    "        if 'MDM' in key:\n",
    "            keys.remove(key)\n",
    "    print(keys)\n",
    "    return aws_radar, keys"
   ]
  },
  {
   "cell_type": "code",
   "execution_count": null,
   "metadata": {},
   "outputs": [],
   "source": [
    "aws_radar, keys = get_radar_scan(station='KLOT', date='2019/05/27', key_index=-400) \n",
    "out_path_dir = 'home/amedendorp/Desktop/april182013'"
   ]
  },
  {
   "cell_type": "code",
   "execution_count": null,
   "metadata": {},
   "outputs": [],
   "source": [
    "nk = keys[175:210] #:210\n",
    "nk"
   ]
  },
  {
   "cell_type": "code",
   "execution_count": null,
   "metadata": {},
   "outputs": [],
   "source": [
    "localfile = tempfile.NamedTemporaryFile()\n",
    "aws_radar.download_file(nk[0], localfile.name)\n",
    "radar = pyart.io.read(localfile.name)\n",
    "radar.fields.keys()"
   ]
  },
  {
   "cell_type": "code",
   "execution_count": null,
   "metadata": {},
   "outputs": [],
   "source": [
    "t = netCDF4.num2date(radar.time['data'][0],\n",
    "                     radar.time['units'])\n",
    "t"
   ]
  },
  {
   "cell_type": "code",
   "execution_count": null,
   "metadata": {},
   "outputs": [],
   "source": [
    "%%time\n",
    "for i in nk:\n",
    "    localfile = tempfile.NamedTemporaryFile()\n",
    "    aws_radar.download_file(i, localfile.name)\n",
    "    radar = pyart.io.read(localfile.name)\n",
    "    \n",
    "    dz = radar.fields['reflectivity']['data']\n",
    "    dr = radar.fields['differential_reflectivity']['data']\n",
    "    kd = radar.fields['differential_phase']['data']\n",
    "    rh = radar.fields['cross_correlation_ratio']['data']\n",
    "    fill_value = -32768\n",
    "    dzN = radar.fields['reflectivity']['data'].filled(fill_value=fill_value)\n",
    "    dpN = radar.fields['differential_phase']['data'].filled(fill_value=fill_value)\n",
    "    rng2d, az2d = np.meshgrid(radar.range['data'], radar.azimuth['data'])\n",
    "    \n",
    "    kdN, fdN, sdN = csu_kdp.calc_kdp_bringi(\n",
    "        dp=dpN, dz=dzN, rng=rng2d/1000.0, thsd=12, gs=250.0, window=5)\n",
    "    \n",
    "    def add_field_to_radar_object(field, radar, field_name='FH', units='unitless', \n",
    "                              long_name='Hydrometeor ID', standard_name='Hydrometeor ID',\n",
    "                              dz_field='reflectivity'):\n",
    "        \"\"\"\n",
    "        Adds a newly created field to the Py-ART radar object. If reflectivity is a masked array,\n",
    "        make the new field masked the same as reflectivity.\n",
    "        \"\"\"\n",
    "        fill_value = -32768\n",
    "        masked_field = np.ma.asanyarray(field)\n",
    "        gatefilter = pyart.filters.GateFilter(radar)\n",
    "        gatefilter.exclude_below(dz_field, 20)\n",
    "        masked_field.mask = masked_field == fill_value\n",
    "        if hasattr(radar.fields[dz_field]['data'], 'mask'):\n",
    "            setattr(masked_field, 'mask', \n",
    "                    np.logical_or(masked_field.mask, radar.fields[dz_field]['data'].mask))\n",
    "            fill_value = radar.fields[dz_field]['_FillValue']\n",
    "        field_dict = {'data': masked_field,\n",
    "                      'units': units,\n",
    "                      'long_name': long_name,\n",
    "                      'standard_name': standard_name,\n",
    "                      '_FillValue': fill_value}\n",
    "        radar.add_field(field_name, field_dict, replace_existing=True)\n",
    "        return radar\n",
    "    \n",
    "    radarN = add_field_to_radar_object(kdN, radar, field_name='KDP', units='deg/km', \n",
    "                                   long_name='Specific Differential Phase',\n",
    "                                   standard_name='Specific Differential Phase',\n",
    "                                   dz_field='reflectivity')\n",
    "    radarN = add_field_to_radar_object(fdN, radar, field_name='FDP', units='deg', \n",
    "                                   long_name='Filtered Differential Phase',\n",
    "                                   standard_name='Filtered Differential Phase',\n",
    "                                   dz_field='reflectivity')\n",
    "    radarN = add_field_to_radar_object(sdN, radar, field_name='SDP', units='deg', \n",
    "                                   long_name='Standard Deviation of Differential Phase',\n",
    "                                   standard_name='Standard Deviation of Differential Phase',\n",
    "                                   dz_field='reflectivity' )\n",
    "    # Create rainfall rate field\n",
    "    # Mask out last 10 gates of each ray, this removes the \"ring\" around the radar.\n",
    "    radarN.fields['KDP']['data'][:, -10:] = np.ma.masked\n",
    "\n",
    "    gatefilter = pyart.filters.GateFilter(radarN)\n",
    "    gatefilter.exclude_transition()\n",
    "    gatefilter.exclude_masked('KDP')\n",
    "    grid = pyart.map.grid_from_radars(\n",
    "            (radarN, ), grid_shape=(16, 300, 300),\n",
    "            grid_limits=((0, 15000), (-123000.0, 123000.0), (-123000.0, 123000.0)),\n",
    "            fields=['KDP'], weighting_function='Barnes2',\n",
    "            gridding_algo='map_gates_to_grid',\n",
    "            h_factor=0., nb=0.6, bsp=1., min_radius=500., gatefilters=(gatefilter, ))\n",
    "    name = os.path.join('/home/amedendorp/Desktop/MESH/KDP_grid_' + str(i[-23:]) + '.nc')\n",
    "    grid.write(name)\n",
    "    del radarN, radar, grid"
   ]
  },
  {
   "cell_type": "code",
   "execution_count": 2,
   "metadata": {},
   "outputs": [],
   "source": [
    "reader = shpreader.Reader('/home/amedendorp/Downloads/countyl010g_shp_nt00964/countyl010g.shp')\n",
    "counties = list(reader.geometries())\n",
    "COUNTIES = cfeature.ShapelyFeature(counties, ccrs.PlateCarree())"
   ]
  },
  {
   "cell_type": "code",
   "execution_count": 3,
   "metadata": {
    "scrolled": true
   },
   "outputs": [
    {
     "name": "stdout",
     "output_type": "stream",
     "text": [
      "2019-05-27 17:41:27.973000\n",
      "2019-05-27 17:41:27.973000\n",
      "2019-05-27 17:47:20.429000\n",
      "2019-05-27 17:53:11.744000\n",
      "2019-05-27 17:58:59.269000\n",
      "2019-05-27 18:04:45.995000\n",
      "2019-05-27 18:10:38.871000\n",
      "2019-05-27 18:16:15.015000\n",
      "2019-05-27 18:21:52.203000\n",
      "2019-05-27 18:27:31.288000\n",
      "2019-05-27 18:32:45.044000\n",
      "2019-05-27 18:37:44.662000\n",
      "2019-05-27 18:42:50.639000\n",
      "2019-05-27 18:47:50.278000\n",
      "2019-05-27 18:52:57.119000\n",
      "2019-05-27 18:58:02.637000\n",
      "2019-05-27 19:03:08.745000\n",
      "2019-05-27 19:08:15.174000\n",
      "2019-05-27 19:13:15.230000\n",
      "2019-05-27 19:18:13.709000\n",
      "2019-05-27 19:23:13.753000\n",
      "2019-05-27 19:28:13.415000\n",
      "2019-05-27 19:33:43.537000\n",
      "2019-05-27 19:38:42.985000\n",
      "2019-05-27 19:43:42.072000\n",
      "2019-05-27 19:49:11.617000\n",
      "2019-05-27 19:54:57.365000\n",
      "2019-05-27 20:00:43.523000\n",
      "2019-05-27 20:06:28.910000\n",
      "2019-05-27 20:12:15.303000\n",
      "2019-05-27 20:18:02.746000\n",
      "2019-05-27 20:23:50.087000\n",
      "2019-05-27 20:29:37.443000\n",
      "2019-05-27 20:35:23.932000\n",
      "2019-05-27 20:41:09.403000\n"
     ]
    },
    {
     "data": {
      "text/plain": [
       "<function matplotlib.pyplot.close(fig=None)>"
      ]
     },
     "execution_count": 3,
     "metadata": {},
     "output_type": "execute_result"
    },
    {
     "name": "stdout",
     "output_type": "stream",
     "text": [
      "2019-05-27 17:41:27.973000\n"
     ]
    },
    {
     "data": {
      "image/png": "[encoded data removed]",
      "text/plain": [
       "<Figure size 864x504 with 2 Axes>"
      ]
     },
     "metadata": {
      "needs_background": "light"
     },
     "output_type": "display_data"
    }
   ],
   "source": [
    "# This code was created using a modified version of pyART. The only thing that will change versus default\n",
    "# pyART is the thickness and color of the lat and lon lines, and the county and state outlines.\n",
    "def rr_animation(nframe): \n",
    "    plt.clf()\n",
    "    files = glob('/home/amedendorp/Desktop/MESH/KDP_grid_KLOT*')\n",
    "    files.sort()\n",
    "    nfile = files[nframe]\n",
    "    radar = pyart.io.read_grid(nfile)\n",
    "\n",
    "    # Converting the default UTC time to local time...\n",
    "    # Converts to 24-hour time. No AM or PM.\n",
    "    utc = netCDF4.num2date(radar.time['data'][0],\n",
    "                       radar.time['units'])\n",
    "    print(str(utc))\n",
    "    z = datetime.strptime(str(utc), '%Y-%m-%d %H:%M:%S.%f')\n",
    "  \n",
    "    from_zone = tz.tzutc()\n",
    "    to_zone = tz.tzlocal()\n",
    "    z = z.replace(tzinfo=from_zone)\n",
    "    central = z.astimezone(to_zone)\n",
    "    t = datetime.strftime(central, '%Y-%m-%dT%H:%M:%S.%f')\n",
    "\n",
    "    title = ('KLOT ' + str(radar.z['data'][0]/1000) + ' km ' + t + ' \\n'\n",
    "             + ' Specific Differential Phase')\n",
    "\n",
    "    projection = ccrs.PlateCarree()\n",
    "    ax = plt.axes(projection=projection)\n",
    "    \n",
    "    # Plot site locations...\n",
    "    ANL_lon, ANL_lat = -87.981810, 41.713969 \n",
    "    NW_lon, NW_lat = -87.675885, 42.057888\n",
    "    Naperville_lon, Naperville_lat = -88.181798, 41.738107\n",
    "    IBP_lon, IBP_lat = -87.687151, 41.606367\n",
    "\n",
    "    plt.plot([ANL_lon], [ANL_lat], color='black', marker= '.')\n",
    "    plt.plot([NW_lon], [NW_lat], color='black', marker= '.')\n",
    "    plt.plot([Naperville_lon], [Naperville_lat], color='black', marker= '.')\n",
    "    plt.plot([IBP_lon], [IBP_lat], color='black', marker= '.')\n",
    "\n",
    "    # Plot names of sites:\n",
    "    plt.text(ANL_lon + 0.01, ANL_lat - 0., 'ANL', horizontalalignment='left')\n",
    "    plt.text(NW_lon - 0.01, NW_lat - 0, 'Northwestern', horizontalalignment='right')\n",
    "    plt.text(Naperville_lon - 0.01, Naperville_lat + 0.01, 'Naperville', horizontalalignment='left')\n",
    "    plt.text(IBP_lon - 0.01, IBP_lat + 0.01, 'IBP', horizontalalignment='left')\n",
    "    \n",
    "    display = pyart.graph.GridMapDisplay(radar)\n",
    "    display.plot_grid('KDP', level= 0, lat_lines=np.arange(41, 43, .5), \n",
    "                       lon_lines=np.arange(-89, -86.5, .5), cmap='RdYlBu', vmax=5, vmin=-5,\n",
    "                       projection=projection, title=title, embelish=True) \n",
    "    \n",
    "\n",
    "    plt.rcParams.update({'axes.titlesize': '18'})\n",
    "    ax.tick_params(labelsize=14) \n",
    "    plt.rcParams['xtick.labelsize']=14\n",
    "    plt.rcParams['font.size']=16\n",
    "    plt.rcParams['ytick.labelsize']=14\n",
    "    plt.ylabel(\"latitude\", fontsize = 16)\n",
    "    plt.xlabel(\"longitude\", fontsize = 16)\n",
    "    \n",
    "    del radar, display\n",
    "    ax.add_feature(COUNTIES, facecolor='none', edgecolor='gray')\n",
    "    ax.add_feature(cfeature.LAKES, zorder=.5)\n",
    "    \n",
    "fig = plt.figure(figsize=[12,7])\n",
    "\n",
    "# Match the frames to the amount of grids\n",
    "sat_anim = FuncAnimation(fig, rr_animation, frames=34)\n",
    "sat_anim.save('/home/amedendorp/Desktop/csuanimtest.gif',\n",
    "              writer='imagemagick', fps=3)\n",
    "plt.close"
   ]
  },
  {
   "cell_type": "code",
   "execution_count": null,
   "metadata": {},
   "outputs": [],
   "source": []
  },
  {
   "cell_type": "code",
   "execution_count": null,
   "metadata": {},
   "outputs": [],
   "source": []
  }
 ],
 "metadata": {
  "kernelspec": {
   "display_name": "Python 3",
   "language": "python",
   "name": "python3"
  },
  "language_info": {
   "codemirror_mode": {
    "name": "ipython",
    "version": 3
   },
   "file_extension": ".py",
   "mimetype": "text/x-python",
   "name": "python",
   "nbconvert_exporter": "python",
   "pygments_lexer": "ipython3",
   "version": "3.6.7"
  }
 },
 "nbformat": 4,
 "nbformat_minor": 2
}
