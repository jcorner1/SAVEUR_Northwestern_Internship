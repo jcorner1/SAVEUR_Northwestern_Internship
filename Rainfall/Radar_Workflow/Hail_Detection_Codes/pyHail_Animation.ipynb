{
 "cells": [
  {
   "cell_type": "markdown",
   "metadata": {},
   "source": [
    "## pyHail MESH Animation"
   ]
  },
  {
   "cell_type": "markdown",
   "metadata": {},
   "source": [
    "This code utilizes the pyHAIL package to plot MESH, or the \"maximum expected size of hail\", grid the plots, and then create an animation with the plots."
   ]
  },
  {
   "cell_type": "code",
   "execution_count": 17,
   "metadata": {},
   "outputs": [],
   "source": [
    "from __future__ import print_function\n",
    "import warnings\n",
    "import warnings\n",
    "warnings.filterwarnings('ignore')\n",
    "\n",
    "\"\"\"\n",
    "MESH sub-module of pyhail\n",
    "Contains the single pol MESH retrieval for gridded radar data.\n",
    "Required reflectivity and temperature data.\n",
    "Joshua Soderholm - 15 June 2018\n",
    "\"\"\"\n",
    "import os\n",
    "\n",
    "import netCDF4\n",
    "import numpy as np\n",
    "import pyart\n",
    "import pyhail as ph\n",
    "from pyhail import common\n",
    "from pyhail import mesh\n",
    "\n",
    "\n",
    "from pylab import *\n",
    "import pyart, boto3, tempfile, os, shutil, datetime, matplotlib\n",
    "import cartopy.crs as ccrs\n",
    "import cartopy.feature as cfeature\n",
    "import pyart\n",
    "import matplotlib.pyplot as plt\n",
    "import matplotlib\n",
    "%matplotlib inline\n",
    "from time import time\n",
    "from datetime import datetime\n",
    "from dateutil import tz\n",
    "import os\n",
    "import cartopy.crs as ccrs\n",
    "import matplotlib.colors as colors\n",
    "import cartopy.io.shapereader as shpreader\n",
    "from skewt import SkewT\n",
    "import glob\n",
    "from glob import glob\n",
    "from botocore.handlers import disable_signing\n",
    "from matplotlib.animation import FuncAnimation\n",
    "\n",
    "# from cpol_processing import processing as cpol_prc\n",
    "from pyhail import hsda, hdr, mesh, common"
   ]
  },
  {
   "cell_type": "code",
   "execution_count": 2,
   "metadata": {},
   "outputs": [],
   "source": [
    "# Obtaining radar scans...\n",
    "def get_radar_scan(station='KLOT', date=None, key_index=-20):\n",
    "    \n",
    "    '''\n",
    "    Function will pull the latest radar scan from any radar site using \n",
    "    Amazon S3.\n",
    "    ----------\n",
    "    Station = Four letter NEXRAD identifier\n",
    "              Example: 'KEPZ'\n",
    "    Date = default is none for current date, else enter date in format \"YYYY/MM/DD\"\n",
    "    Ex: date ='2013/11/17\n",
    "    Key_index = Number of keys you want pulled from most recent scan.\n",
    "    Ex: key_index = -15 would pull ht most recent 15 scans\n",
    "    '''\n",
    "    \n",
    "    # Creating a bucket and a client to be able to pull data from AWS and setting it as unsigned\n",
    "    bucket = 'noaa-nexrad-level2'\n",
    "    s3 = boto3.resource('s3')\n",
    "    s3.meta.client.meta.events.register('choose-signer.s3.*', disable_signing)\n",
    "    \n",
    "    # Connects the bucket create above with radar data\n",
    "    aws_radar = s3.Bucket(bucket)\n",
    "    \n",
    "    # Setting the date and time to current...\n",
    "    # This will allow for allow the current date's radar scands to be pulled\n",
    "    if date == None:\n",
    "        target_string = datetime.datetime.utcnow().strftime('%Y/%m/%d/'+station)\n",
    "    else:\n",
    "        target_string = date+'/'+station\n",
    "    \n",
    "    for obj in aws_radar.objects.filter(Prefix= target_string):\n",
    "        '{0}:{1}'.format(aws_radar.name, obj.key)\n",
    "    my_list_of_keys = [this_object.key for this_object in aws_radar.objects.filter(Prefix= target_string)]\n",
    "    keys = my_list_of_keys[key_index:]\n",
    "    for key in keys:\n",
    "        if 'MDM' in key:\n",
    "            keys.remove(key)\n",
    "    print(keys)\n",
    "    return aws_radar, keys"
   ]
  },
  {
   "cell_type": "code",
   "execution_count": 3,
   "metadata": {
    "scrolled": true
   },
   "outputs": [
    {
     "name": "stdout",
     "output_type": "stream",
     "text": [
      "['2019/05/27/KLOT/KLOT20190527_000114_V06', '2019/05/27/KLOT/KLOT20190527_000759_V06', '2019/05/27/KLOT/KLOT20190527_001453_V06', '2019/05/27/KLOT/KLOT20190527_002158_V06', '2019/05/27/KLOT/KLOT20190527_002851_V06', '2019/05/27/KLOT/KLOT20190527_003550_V06', '2019/05/27/KLOT/KLOT20190527_004240_V06', '2019/05/27/KLOT/KLOT20190527_004945_V06', '2019/05/27/KLOT/KLOT20190527_005649_V06', '2019/05/27/KLOT/KLOT20190527_010348_V06', '2019/05/27/KLOT/KLOT20190527_011054_V06', '2019/05/27/KLOT/KLOT20190527_011753_V06', '2019/05/27/KLOT/KLOT20190527_012451_V06', '2019/05/27/KLOT/KLOT20190527_013157_V06', '2019/05/27/KLOT/KLOT20190527_013856_V06', '2019/05/27/KLOT/KLOT20190527_014602_V06', '2019/05/27/KLOT/KLOT20190527_015301_V06', '2019/05/27/KLOT/KLOT20190527_020006_V06', '2019/05/27/KLOT/KLOT20190527_020701_V06', '2019/05/27/KLOT/KLOT20190527_021405_V06', '2019/05/27/KLOT/KLOT20190527_022111_V06', '2019/05/27/KLOT/KLOT20190527_022816_V06', '2019/05/27/KLOT/KLOT20190527_023521_V06', '2019/05/27/KLOT/KLOT20190527_024225_V06', '2019/05/27/KLOT/KLOT20190527_024931_V06', '2019/05/27/KLOT/KLOT20190527_025637_V06', '2019/05/27/KLOT/KLOT20190527_030342_V06', '2019/05/27/KLOT/KLOT20190527_031046_V06', '2019/05/27/KLOT/KLOT20190527_031751_V06', '2019/05/27/KLOT/KLOT20190527_032456_V06', '2019/05/27/KLOT/KLOT20190527_033200_V06', '2019/05/27/KLOT/KLOT20190527_033905_V06', '2019/05/27/KLOT/KLOT20190527_034611_V06', '2019/05/27/KLOT/KLOT20190527_035315_V06', '2019/05/27/KLOT/KLOT20190527_040020_V06', '2019/05/27/KLOT/KLOT20190527_040725_V06', '2019/05/27/KLOT/KLOT20190527_041429_V06', '2019/05/27/KLOT/KLOT20190527_042134_V06', '2019/05/27/KLOT/KLOT20190527_042839_V06', '2019/05/27/KLOT/KLOT20190527_043545_V06', '2019/05/27/KLOT/KLOT20190527_044249_V06', '2019/05/27/KLOT/KLOT20190527_044954_V06', '2019/05/27/KLOT/KLOT20190527_045659_V06', '2019/05/27/KLOT/KLOT20190527_050404_V06', '2019/05/27/KLOT/KLOT20190527_051109_V06', '2019/05/27/KLOT/KLOT20190527_051814_V06', '2019/05/27/KLOT/KLOT20190527_052519_V06', '2019/05/27/KLOT/KLOT20190527_053225_V06', '2019/05/27/KLOT/KLOT20190527_053930_V06', '2019/05/27/KLOT/KLOT20190527_054635_V06', '2019/05/27/KLOT/KLOT20190527_055340_V06', '2019/05/27/KLOT/KLOT20190527_060045_V06', '2019/05/27/KLOT/KLOT20190527_060750_V06', '2019/05/27/KLOT/KLOT20190527_061455_V06', '2019/05/27/KLOT/KLOT20190527_062201_V06', '2019/05/27/KLOT/KLOT20190527_062907_V06', '2019/05/27/KLOT/KLOT20190527_063612_V06', '2019/05/27/KLOT/KLOT20190527_064317_V06', '2019/05/27/KLOT/KLOT20190527_065023_V06', '2019/05/27/KLOT/KLOT20190527_065728_V06', '2019/05/27/KLOT/KLOT20190527_070433_V06', '2019/05/27/KLOT/KLOT20190527_071138_V06', '2019/05/27/KLOT/KLOT20190527_071844_V06', '2019/05/27/KLOT/KLOT20190527_072548_V06', '2019/05/27/KLOT/KLOT20190527_073253_V06', '2019/05/27/KLOT/KLOT20190527_073722_V06', '2019/05/27/KLOT/KLOT20190527_074202_V06', '2019/05/27/KLOT/KLOT20190527_074643_V06', '2019/05/27/KLOT/KLOT20190527_075124_V06', '2019/05/27/KLOT/KLOT20190527_080022_V06', '2019/05/27/KLOT/KLOT20190527_080726_V06', '2019/05/27/KLOT/KLOT20190527_081157_V06', '2019/05/27/KLOT/KLOT20190527_081638_V06', '2019/05/27/KLOT/KLOT20190527_082118_V06', '2019/05/27/KLOT/KLOT20190527_082558_V06', '2019/05/27/KLOT/KLOT20190527_083039_V06', '2019/05/27/KLOT/KLOT20190527_083520_V06', '2019/05/27/KLOT/KLOT20190527_084001_V06', '2019/05/27/KLOT/KLOT20190527_084442_V06', '2019/05/27/KLOT/KLOT20190527_084923_V06', '2019/05/27/KLOT/KLOT20190527_085622_V06', '2019/05/27/KLOT/KLOT20190527_090327_V06', '2019/05/27/KLOT/KLOT20190527_091032_V06', '2019/05/27/KLOT/KLOT20190527_091736_V06', '2019/05/27/KLOT/KLOT20190527_092442_V06', '2019/05/27/KLOT/KLOT20190527_093147_V06', '2019/05/27/KLOT/KLOT20190527_093852_V06', '2019/05/27/KLOT/KLOT20190527_094320_V06', '2019/05/27/KLOT/KLOT20190527_094802_V06', '2019/05/27/KLOT/KLOT20190527_095242_V06', '2019/05/27/KLOT/KLOT20190527_095723_V06', '2019/05/27/KLOT/KLOT20190527_100205_V06', '2019/05/27/KLOT/KLOT20190527_100646_V06', '2019/05/27/KLOT/KLOT20190527_101126_V06', '2019/05/27/KLOT/KLOT20190527_101606_V06', '2019/05/27/KLOT/KLOT20190527_102047_V06', '2019/05/27/KLOT/KLOT20190527_102528_V06', '2019/05/27/KLOT/KLOT20190527_103008_V06', '2019/05/27/KLOT/KLOT20190527_103449_V06', '2019/05/27/KLOT/KLOT20190527_103929_V06', '2019/05/27/KLOT/KLOT20190527_104409_V06', '2019/05/27/KLOT/KLOT20190527_104851_V06', '2019/05/27/KLOT/KLOT20190527_105332_V06', '2019/05/27/KLOT/KLOT20190527_105813_V06', '2019/05/27/KLOT/KLOT20190527_110253_V06', '2019/05/27/KLOT/KLOT20190527_110728_V06', '2019/05/27/KLOT/KLOT20190527_111427_V06', '2019/05/27/KLOT/KLOT20190527_112127_V06', '2019/05/27/KLOT/KLOT20190527_112827_V06', '2019/05/27/KLOT/KLOT20190527_113520_V06', '2019/05/27/KLOT/KLOT20190527_114215_V06', '2019/05/27/KLOT/KLOT20190527_114909_V06', '2019/05/27/KLOT/KLOT20190527_115604_V06', '2019/05/27/KLOT/KLOT20190527_120258_V06', '2019/05/27/KLOT/KLOT20190527_120952_V06', '2019/05/27/KLOT/KLOT20190527_121642_V06', '2019/05/27/KLOT/KLOT20190527_122331_V06', '2019/05/27/KLOT/KLOT20190527_123037_V06', '2019/05/27/KLOT/KLOT20190527_123743_V06', '2019/05/27/KLOT/KLOT20190527_124447_V06', '2019/05/27/KLOT/KLOT20190527_125153_V06', '2019/05/27/KLOT/KLOT20190527_125859_V06', '2019/05/27/KLOT/KLOT20190527_130605_V06', '2019/05/27/KLOT/KLOT20190527_131304_V06', '2019/05/27/KLOT/KLOT20190527_132004_V06', '2019/05/27/KLOT/KLOT20190527_132703_V06', '2019/05/27/KLOT/KLOT20190527_133402_V06', '2019/05/27/KLOT/KLOT20190527_134101_V06', '2019/05/27/KLOT/KLOT20190527_134759_V06', '2019/05/27/KLOT/KLOT20190527_135453_V06', '2019/05/27/KLOT/KLOT20190527_140146_V06', '2019/05/27/KLOT/KLOT20190527_140615_V06', '2019/05/27/KLOT/KLOT20190527_141045_V06', '2019/05/27/KLOT/KLOT20190527_141509_V06', '2019/05/27/KLOT/KLOT20190527_141933_V06', '2019/05/27/KLOT/KLOT20190527_142357_V06', '2019/05/27/KLOT/KLOT20190527_142820_V06', '2019/05/27/KLOT/KLOT20190527_143239_V06', '2019/05/27/KLOT/KLOT20190527_143659_V06', '2019/05/27/KLOT/KLOT20190527_144118_V06', '2019/05/27/KLOT/KLOT20190527_144538_V06', '2019/05/27/KLOT/KLOT20190527_144957_V06', '2019/05/27/KLOT/KLOT20190527_145417_V06', '2019/05/27/KLOT/KLOT20190527_145836_V06', '2019/05/27/KLOT/KLOT20190527_150255_V06', '2019/05/27/KLOT/KLOT20190527_150723_V06', '2019/05/27/KLOT/KLOT20190527_151143_V06', '2019/05/27/KLOT/KLOT20190527_151623_V06', '2019/05/27/KLOT/KLOT20190527_152043_V06', '2019/05/27/KLOT/KLOT20190527_152522_V06', '2019/05/27/KLOT/KLOT20190527_152957_V06', '2019/05/27/KLOT/KLOT20190527_153447_V06', '2019/05/27/KLOT/KLOT20190527_153921_V06', '2019/05/27/KLOT/KLOT20190527_154410_V06', '2019/05/27/KLOT/KLOT20190527_154859_V06', '2019/05/27/KLOT/KLOT20190527_155348_V06', '2019/05/27/KLOT/KLOT20190527_160038_V06', '2019/05/27/KLOT/KLOT20190527_160528_V06', '2019/05/27/KLOT/KLOT20190527_161038_V06', '2019/05/27/KLOT/KLOT20190527_161602_V06', '2019/05/27/KLOT/KLOT20190527_162127_V06', '2019/05/27/KLOT/KLOT20190527_162705_V06', '2019/05/27/KLOT/KLOT20190527_163223_V06', '2019/05/27/KLOT/KLOT20190527_163741_V06', '2019/05/27/KLOT/KLOT20190527_164253_V06', '2019/05/27/KLOT/KLOT20190527_164810_V06', '2019/05/27/KLOT/KLOT20190527_165329_V06', '2019/05/27/KLOT/KLOT20190527_165856_V06', '2019/05/27/KLOT/KLOT20190527_170409_V06', '2019/05/27/KLOT/KLOT20190527_170922_V06', '2019/05/27/KLOT/KLOT20190527_171431_V06', '2019/05/27/KLOT/KLOT20190527_171934_V06', '2019/05/27/KLOT/KLOT20190527_172438_V06', '2019/05/27/KLOT/KLOT20190527_173001_V06', '2019/05/27/KLOT/KLOT20190527_173540_V06', '2019/05/27/KLOT/KLOT20190527_174127_V06', '2019/05/27/KLOT/KLOT20190527_174720_V06', '2019/05/27/KLOT/KLOT20190527_175311_V06', '2019/05/27/KLOT/KLOT20190527_175859_V06', '2019/05/27/KLOT/KLOT20190527_180445_V06', '2019/05/27/KLOT/KLOT20190527_181038_V06', '2019/05/27/KLOT/KLOT20190527_181615_V06', '2019/05/27/KLOT/KLOT20190527_182152_V06', '2019/05/27/KLOT/KLOT20190527_182731_V06', '2019/05/27/KLOT/KLOT20190527_183245_V06', '2019/05/27/KLOT/KLOT20190527_183744_V06', '2019/05/27/KLOT/KLOT20190527_184250_V06', '2019/05/27/KLOT/KLOT20190527_184750_V06', '2019/05/27/KLOT/KLOT20190527_185257_V06', '2019/05/27/KLOT/KLOT20190527_185802_V06', '2019/05/27/KLOT/KLOT20190527_190308_V06', '2019/05/27/KLOT/KLOT20190527_190815_V06', '2019/05/27/KLOT/KLOT20190527_191315_V06', '2019/05/27/KLOT/KLOT20190527_191813_V06', '2019/05/27/KLOT/KLOT20190527_192313_V06', '2019/05/27/KLOT/KLOT20190527_192813_V06', '2019/05/27/KLOT/KLOT20190527_193343_V06', '2019/05/27/KLOT/KLOT20190527_193842_V06', '2019/05/27/KLOT/KLOT20190527_194342_V06', '2019/05/27/KLOT/KLOT20190527_194911_V06', '2019/05/27/KLOT/KLOT20190527_195457_V06', '2019/05/27/KLOT/KLOT20190527_200043_V06', '2019/05/27/KLOT/KLOT20190527_200628_V06', '2019/05/27/KLOT/KLOT20190527_201215_V06', '2019/05/27/KLOT/KLOT20190527_201802_V06', '2019/05/27/KLOT/KLOT20190527_202350_V06', '2019/05/27/KLOT/KLOT20190527_202937_V06', '2019/05/27/KLOT/KLOT20190527_203523_V06', '2019/05/27/KLOT/KLOT20190527_204109_V06', '2019/05/27/KLOT/KLOT20190527_204655_V06', '2019/05/27/KLOT/KLOT20190527_205241_V06', '2019/05/27/KLOT/KLOT20190527_205826_V06', '2019/05/27/KLOT/KLOT20190527_210413_V06', '2019/05/27/KLOT/KLOT20190527_211000_V06', '2019/05/27/KLOT/KLOT20190527_211548_V06', '2019/05/27/KLOT/KLOT20190527_212135_V06', '2019/05/27/KLOT/KLOT20190527_212722_V06', '2019/05/27/KLOT/KLOT20190527_213309_V06', '2019/05/27/KLOT/KLOT20190527_213854_V06', '2019/05/27/KLOT/KLOT20190527_214440_V06', '2019/05/27/KLOT/KLOT20190527_215026_V06', '2019/05/27/KLOT/KLOT20190527_215614_V06', '2019/05/27/KLOT/KLOT20190527_220159_V06', '2019/05/27/KLOT/KLOT20190527_220746_V06', '2019/05/27/KLOT/KLOT20190527_221331_V06', '2019/05/27/KLOT/KLOT20190527_221918_V06', '2019/05/27/KLOT/KLOT20190527_222503_V06', '2019/05/27/KLOT/KLOT20190527_223050_V06', '2019/05/27/KLOT/KLOT20190527_223637_V06', '2019/05/27/KLOT/KLOT20190527_224224_V06', '2019/05/27/KLOT/KLOT20190527_224811_V06', '2019/05/27/KLOT/KLOT20190527_225357_V06', '2019/05/27/KLOT/KLOT20190527_225944_V06', '2019/05/27/KLOT/KLOT20190527_230517_V06', '2019/05/27/KLOT/KLOT20190527_231048_V06', '2019/05/27/KLOT/KLOT20190527_231609_V06', '2019/05/27/KLOT/KLOT20190527_232128_V06', '2019/05/27/KLOT/KLOT20190527_232634_V06', '2019/05/27/KLOT/KLOT20190527_233138_V06', '2019/05/27/KLOT/KLOT20190527_233653_V06', '2019/05/27/KLOT/KLOT20190527_234144_V06', '2019/05/27/KLOT/KLOT20190527_234636_V06', '2019/05/27/KLOT/KLOT20190527_235128_V06', '2019/05/27/KLOT/KLOT20190527_235620_V06']\n"
     ]
    }
   ],
   "source": [
    "aws_radar, keys = get_radar_scan(station='KLOT', date='2019/05/27', key_index=-400) \n",
    "out_path_dir = 'home/amedendorp/Desktop/april182013'"
   ]
  },
  {
   "cell_type": "code",
   "execution_count": 4,
   "metadata": {},
   "outputs": [
    {
     "data": {
      "text/plain": [
       "['2019/05/27/KLOT/KLOT20190527_174127_V06',\n",
       " '2019/05/27/KLOT/KLOT20190527_174720_V06',\n",
       " '2019/05/27/KLOT/KLOT20190527_175311_V06',\n",
       " '2019/05/27/KLOT/KLOT20190527_175859_V06',\n",
       " '2019/05/27/KLOT/KLOT20190527_180445_V06',\n",
       " '2019/05/27/KLOT/KLOT20190527_181038_V06',\n",
       " '2019/05/27/KLOT/KLOT20190527_181615_V06',\n",
       " '2019/05/27/KLOT/KLOT20190527_182152_V06',\n",
       " '2019/05/27/KLOT/KLOT20190527_182731_V06',\n",
       " '2019/05/27/KLOT/KLOT20190527_183245_V06',\n",
       " '2019/05/27/KLOT/KLOT20190527_183744_V06',\n",
       " '2019/05/27/KLOT/KLOT20190527_184250_V06',\n",
       " '2019/05/27/KLOT/KLOT20190527_184750_V06',\n",
       " '2019/05/27/KLOT/KLOT20190527_185257_V06',\n",
       " '2019/05/27/KLOT/KLOT20190527_185802_V06',\n",
       " '2019/05/27/KLOT/KLOT20190527_190308_V06',\n",
       " '2019/05/27/KLOT/KLOT20190527_190815_V06',\n",
       " '2019/05/27/KLOT/KLOT20190527_191315_V06',\n",
       " '2019/05/27/KLOT/KLOT20190527_191813_V06',\n",
       " '2019/05/27/KLOT/KLOT20190527_192313_V06',\n",
       " '2019/05/27/KLOT/KLOT20190527_192813_V06',\n",
       " '2019/05/27/KLOT/KLOT20190527_193343_V06',\n",
       " '2019/05/27/KLOT/KLOT20190527_193842_V06',\n",
       " '2019/05/27/KLOT/KLOT20190527_194342_V06',\n",
       " '2019/05/27/KLOT/KLOT20190527_194911_V06',\n",
       " '2019/05/27/KLOT/KLOT20190527_195457_V06',\n",
       " '2019/05/27/KLOT/KLOT20190527_200043_V06',\n",
       " '2019/05/27/KLOT/KLOT20190527_200628_V06',\n",
       " '2019/05/27/KLOT/KLOT20190527_201215_V06',\n",
       " '2019/05/27/KLOT/KLOT20190527_201802_V06',\n",
       " '2019/05/27/KLOT/KLOT20190527_202350_V06',\n",
       " '2019/05/27/KLOT/KLOT20190527_202937_V06',\n",
       " '2019/05/27/KLOT/KLOT20190527_203523_V06',\n",
       " '2019/05/27/KLOT/KLOT20190527_204109_V06',\n",
       " '2019/05/27/KLOT/KLOT20190527_204655_V06']"
      ]
     },
     "execution_count": 4,
     "metadata": {},
     "output_type": "execute_result"
    }
   ],
   "source": [
    "nk = keys[175:210] #:210\n",
    "nk"
   ]
  },
  {
   "cell_type": "code",
   "execution_count": 5,
   "metadata": {},
   "outputs": [
    {
     "data": {
      "text/plain": [
       "dict_keys(['differential_reflectivity', 'reflectivity', 'velocity', 'differential_phase', 'spectrum_width', 'cross_correlation_ratio'])"
      ]
     },
     "execution_count": 5,
     "metadata": {},
     "output_type": "execute_result"
    }
   ],
   "source": [
    "localfile = tempfile.NamedTemporaryFile()\n",
    "aws_radar.download_file(keys[0], localfile.name)\n",
    "radar = pyart.io.read(localfile.name)\n",
    "radar.fields.keys()"
   ]
  },
  {
   "cell_type": "code",
   "execution_count": 106,
   "metadata": {},
   "outputs": [
    {
     "name": "stdout",
     "output_type": "stream",
     "text": [
      "saving grid 0\n",
      "saving grid 1\n",
      "saving grid 2\n",
      "saving grid 3\n",
      "saving grid 4\n",
      "saving grid 5\n",
      "saving grid 6\n",
      "saving grid 7\n",
      "saving grid 8\n",
      "saving grid 9\n",
      "saving grid 10\n",
      "saving grid 11\n",
      "saving grid 12\n",
      "saving grid 13\n",
      "saving grid 14\n",
      "saving grid 15\n",
      "saving grid 16\n",
      "saving grid 17\n",
      "saving grid 18\n",
      "saving grid 19\n",
      "saving grid 20\n",
      "saving grid 21\n",
      "saving grid 22\n",
      "saving grid 23\n",
      "saving grid 24\n",
      "saving grid 25\n",
      "saving grid 26\n",
      "saving grid 27\n",
      "saving grid 28\n",
      "saving grid 29\n",
      "saving grid 30\n",
      "saving grid 31\n",
      "saving grid 32\n",
      "saving grid 33\n",
      "saving grid 34\n"
     ]
    }
   ],
   "source": [
    "# Turning the data into grid data and saving it to a folder...\n",
    "# If the grids are already created, there is no need to run this code block again.\n",
    "def get_grid(aws_radar, nk):\n",
    "    localfile = tempfile.NamedTemporaryFile()\n",
    "    aws_radar.download_file(nk, localfile.name)\n",
    "    radar = pyart.io.read(localfile.name)\n",
    "    # Create rainfall rate field\n",
    "    # Mask out last 10 gates of each ray, this removes the \"ring\" around the radar.\n",
    "    radar.fields['reflectivity']['data'][:, -10:] = np.ma.masked\n",
    "\n",
    "    gatefilter = pyart.filters.GateFilter(radar)\n",
    "    gatefilter.exclude_transition()\n",
    "    gatefilter.exclude_masked('reflectivity')\n",
    "    grid = pyart.map.grid_from_radars(\n",
    "            (radar, ), grid_shape=(16, 300, 300),\n",
    "            grid_limits=((0, 15000), (-123000.0, 123000.0), (-123000.0, 123000.0)),\n",
    "            fields=['reflectivity'], weighting_function='Barnes2',\n",
    "            gridding_algo='map_gates_to_grid',\n",
    "            h_factor=0., nb=0.6, bsp=1., min_radius=500., gatefilters=(gatefilter, ))\n",
    "    del radar\n",
    "    return grid\n",
    "\n",
    "for num,key in enumerate(nk):\n",
    "    print('saving grid', num)\n",
    "    grid = get_grid(aws_radar, key)\n",
    "    name = os.path.join('/home/amedendorp/Desktop/MESH/MESH_grid_' + str(num).zfill(3) + '.nc')\n",
    "    pyart.io.write_grid(name, grid)\n",
    "    del grid\n",
    "# If the code encounters a .tar file or any other unknown file, it will stop running.\n",
    "# Every grid created before that will be preserved."
   ]
  },
  {
   "cell_type": "code",
   "execution_count": 10,
   "metadata": {},
   "outputs": [],
   "source": [
    "from glob import glob\n",
    "files = glob('/home/amedendorp/Desktop/MESH/MESH_grid_*')\n",
    "files.sort()"
   ]
  },
  {
   "cell_type": "code",
   "execution_count": 18,
   "metadata": {},
   "outputs": [],
   "source": [
    "reader = shpreader.Reader('/home/amedendorp/Downloads/countyl010g_shp_nt00964/countyl010g.shp')\n",
    "counties = list(reader.geometries())\n",
    "COUNTIES = cfeature.ShapelyFeature(counties, ccrs.PlateCarree())"
   ]
  },
  {
   "cell_type": "code",
   "execution_count": 21,
   "metadata": {},
   "outputs": [
    {
     "name": "stdout",
     "output_type": "stream",
     "text": [
      "2019-05-27 17:41:27.973000\n",
      "2019-05-27 17:41:27.973000\n",
      "2019-05-27 17:47:20.429000\n",
      "2019-05-27 17:53:11.744000\n",
      "2019-05-27 17:58:59.269000\n",
      "2019-05-27 18:04:45.995000\n",
      "2019-05-27 18:10:38.871000\n",
      "2019-05-27 18:16:15.015000\n",
      "2019-05-27 18:21:52.203000\n",
      "2019-05-27 18:27:31.288000\n",
      "2019-05-27 18:32:45.044000\n",
      "2019-05-27 18:37:44.662000\n",
      "2019-05-27 18:42:50.639000\n",
      "2019-05-27 18:47:50.278000\n",
      "2019-05-27 18:52:57.119000\n",
      "2019-05-27 18:58:02.637000\n",
      "2019-05-27 19:03:08.745000\n",
      "2019-05-27 19:08:15.174000\n",
      "2019-05-27 19:13:15.230000\n",
      "2019-05-27 19:18:13.709000\n",
      "2019-05-27 19:23:13.753000\n",
      "2019-05-27 19:28:13.415000\n",
      "2019-05-27 19:33:43.537000\n",
      "2019-05-27 19:38:42.985000\n",
      "2019-05-27 19:43:42.072000\n",
      "2019-05-27 19:49:11.617000\n",
      "2019-05-27 19:54:57.365000\n",
      "2019-05-27 20:00:43.523000\n",
      "2019-05-27 20:06:28.910000\n",
      "2019-05-27 20:12:15.303000\n",
      "2019-05-27 20:18:02.746000\n",
      "2019-05-27 20:23:50.087000\n",
      "2019-05-27 20:29:37.443000\n",
      "2019-05-27 20:35:23.932000\n",
      "2019-05-27 20:41:09.403000\n"
     ]
    },
    {
     "data": {
      "text/plain": [
       "<function matplotlib.pyplot.close(fig=None)>"
      ]
     },
     "execution_count": 21,
     "metadata": {},
     "output_type": "execute_result"
    },
    {
     "name": "stdout",
     "output_type": "stream",
     "text": [
      "2019-05-27 17:41:27.973000\n"
     ]
    },
    {
     "data": {
      "image/png": "[encoded data removed]",
      "text/plain": [
       "<Figure size 864x504 with 2 Axes>"
      ]
     },
     "metadata": {
      "needs_background": "light"
     },
     "output_type": "display_data"
    }
   ],
   "source": [
    "# This code was created using a modified version of pyART. The only thing that will change versus default\n",
    "# pyART is the thickness and color of the lat and lon lines, and the county and state outlines.\n",
    "def rr_animation(nframe): \n",
    "    plt.clf()\n",
    "    nfile = files[nframe]\n",
    "    radar = pyart.io.read_grid(nfile)\n",
    "\n",
    "    # Converting the default UTC time to local time...\n",
    "    # Converts to 24-hour time. No AM or PM.\n",
    "    utc = netCDF4.num2date(radar.time['data'][0],\n",
    "                       radar.time['units'])\n",
    "    print(str(utc))\n",
    "    z = datetime.strptime(str(utc), '%Y-%m-%d %H:%M:%S.%f')\n",
    "  \n",
    "    from_zone = tz.tzutc()\n",
    "    to_zone = tz.tzlocal()\n",
    "    z = z.replace(tzinfo=from_zone)\n",
    "    central = z.astimezone(to_zone)\n",
    "    t = datetime.strftime(central, '%Y-%m-%dT%H:%M:%S.%f')\n",
    "\n",
    "    title = ('KLOT ' + str(radar.z['data'][0]/1000) + ' km ' + t + ' \\n'\n",
    "             + ' Maximum Expected Size of Hail')\n",
    "    hail = mesh.main(grid=radar, ref_name='reflectivity', \n",
    "                     snd_input='/home/amedendorp/Desktop/Sounding.nc', \n",
    "                     sonde_temp='temp', sonde_height='height', \n",
    "                     out_ffn=nfile)\n",
    "\n",
    "    projection = ccrs.PlateCarree()\n",
    "    \n",
    "    ax = plt.axes(projection=projection)\n",
    "    \n",
    "    # Plot site locations...\n",
    "    ANL_lon, ANL_lat = -87.981810, 41.713969 \n",
    "    NW_lon, NW_lat = -87.675885, 42.057888\n",
    "    Naperville_lon, Naperville_lat = -88.181798, 41.738107\n",
    "    IBP_lon, IBP_lat = -87.687151, 41.606367\n",
    "\n",
    "    plt.plot([ANL_lon], [ANL_lat], color='black', marker= '.')\n",
    "    plt.plot([NW_lon], [NW_lat], color='black', marker= '.')\n",
    "    plt.plot([Naperville_lon], [Naperville_lat], color='black', marker= '.')\n",
    "    plt.plot([IBP_lon], [IBP_lat], color='black', marker= '.')\n",
    "\n",
    "    # Plot names of sites:\n",
    "    plt.text(ANL_lon + 0.01, ANL_lat - 0., 'ANL', horizontalalignment='left')\n",
    "    plt.text(NW_lon - 0.01, NW_lat - 0, 'Northwestern', horizontalalignment='right')\n",
    "    plt.text(Naperville_lon - 0.01, Naperville_lat + 0.01, 'Naperville', horizontalalignment='left')\n",
    "    plt.text(IBP_lon - 0.01, IBP_lat + 0.01, 'IBP', horizontalalignment='left')\n",
    "    \n",
    "    display = pyart.graph.GridMapDisplay(hail)\n",
    "    display.plot_grid('MESH', level= 0, lat_lines=np.arange(41, 43, .5),\n",
    "                       lon_lines=np.arange(-89, -86.5, .5), cmap='hot_r', vmax=55, vmin=0)\n",
    "    \n",
    "\n",
    "    plt.rcParams.update({'axes.titlesize': '18'})\n",
    "    \n",
    "    del radar, display\n",
    "    ax.add_feature(COUNTIES, facecolor='none', edgecolor='gray')\n",
    "    ax.add_feature(cfeature.LAKES, zorder=.5)\n",
    "    \n",
    "fig = plt.figure(figsize=[12,7])\n",
    "\n",
    "# Match the frames to the amount of grids\n",
    "sat_anim = FuncAnimation(fig, rr_animation, frames=34)\n",
    "sat_anim.save('/home/amedendorp/Desktop/pyhailanimtest2.gif',\n",
    "              writer='imagemagick', fps=3)\n",
    "plt.close"
   ]
  }
 ],
 "metadata": {
  "kernelspec": {
   "display_name": "Python 3",
   "language": "python",
   "name": "python3"
  },
  "language_info": {
   "codemirror_mode": {
    "name": "ipython",
    "version": 3
   },
   "file_extension": ".py",
   "mimetype": "text/x-python",
   "name": "python",
   "nbconvert_exporter": "python",
   "pygments_lexer": "ipython3",
   "version": "3.6.7"
  }
 },
 "nbformat": 4,
 "nbformat_minor": 2
}
