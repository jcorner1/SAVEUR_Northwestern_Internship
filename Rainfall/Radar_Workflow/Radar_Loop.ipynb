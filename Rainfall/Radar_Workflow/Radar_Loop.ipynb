{
 "cells": [
  {
   "cell_type": "markdown",
   "metadata": {},
   "source": [
    "# Obtaining and Plotting NEXRAD Radar Data to Create Animations"
   ]
  },
  {
   "cell_type": "code",
   "execution_count": 8,
   "metadata": {},
   "outputs": [
    {
     "name": "stdout",
     "output_type": "stream",
     "text": [
      "\n",
      "## You are using the Python ARM Radar Toolkit (Py-ART), an open source\n",
      "## library for working with weather radar data. Py-ART is partly\n",
      "## supported by the U.S. Department of Energy as part of the Atmospheric\n",
      "## Radiation Measurement (ARM) Climate Research Facility, an Office of\n",
      "## Science user facility.\n",
      "##\n",
      "## If you use this software to prepare a publication, please cite:\n",
      "##\n",
      "##     JJ Helmus and SM Collis, JORS 2016, doi: 10.5334/jors.119\n",
      "\n"
     ]
    },
    {
     "name": "stderr",
     "output_type": "stream",
     "text": [
      "/home/amedendorp/pyart/pyart/graph/cm.py:104: FutureWarning: elementwise comparison failed; returning scalar instead, but in the future will perform elementwise comparison\n",
      "  if 'red' in spec:\n",
      "/home/amedendorp/pyart/pyart/graph/cm_colorblind.py:32: FutureWarning: elementwise comparison failed; returning scalar instead, but in the future will perform elementwise comparison\n",
      "  if 'red' in spec:\n"
     ]
    }
   ],
   "source": [
    "from pylab import *\n",
    "import pyart, boto3, tempfile, os, shutil, datetime, matplotlib\n",
    "import numpy as np\n",
    "import pandas as pd\n",
    "import cartopy.crs as ccrs\n",
    "import cartopy.feature as cfeature\n",
    "import matplotlib.pyplot as plt\n",
    "from matplotlib import animation\n",
    "from botocore.handlers import disable_signing\n",
    "from glob import glob\n",
    "import wradlib as wrl"
   ]
  },
  {
   "cell_type": "code",
   "execution_count": 9,
   "metadata": {},
   "outputs": [],
   "source": [
    "def get_radar_scan(station='KLOT', date=None, key_index=-20):\n",
    "    \n",
    "    '''\n",
    "    Function will pull the latest radar scan from any radar site using \n",
    "    Amazon S3.\n",
    "    ----------\n",
    "    Station = Four letter NEXRAD identifier\n",
    "              Example: 'KEPZ'\n",
    "    Date = default is none for current date, else enter date in format \"YYYY/MM/DD\"\n",
    "    Ex: date ='2013/11/17\n",
    "    Key_index = Number of keys you want pulled from most recent scan.\n",
    "    Ex: key_index = -15 would pull ht most recent 15 scans\n",
    "    '''\n",
    "    \n",
    "    # Creating a bucket and a client to be able to pull data from AWS and setting it as unsigned\n",
    "    bucket = 'noaa-nexrad-level2'\n",
    "    s3 = boto3.resource('s3')\n",
    "    s3.meta.client.meta.events.register('choose-signer.s3.*', disable_signing)\n",
    "    \n",
    "    # Connects the bucket create above with radar data\n",
    "    aws_radar = s3.Bucket(bucket)\n",
    "    \n",
    "    # Setting the date and time to current...\n",
    "    # This will allow for allow the current date's radar scands to be pulled\n",
    "    if date == None:\n",
    "        target_string = datetime.datetime.utcnow().strftime('%Y/%m/%d/'+station)\n",
    "    else:\n",
    "        target_string = date+'/'+station\n",
    "    \n",
    "    for obj in aws_radar.objects.filter(Prefix= target_string):\n",
    "        '{0}:{1}'.format(aws_radar.name, obj.key)\n",
    "    my_list_of_keys = [this_object.key for this_object in aws_radar.objects.filter(Prefix= target_string)]\n",
    "    keys = my_list_of_keys[key_index:]\n",
    "    for key in keys:\n",
    "        if 'MDM' in key:\n",
    "            keys.remove(key)\n",
    "    print(keys)\n",
    "    return aws_radar, keys"
   ]
  },
  {
   "cell_type": "code",
   "execution_count": 11,
   "metadata": {
    "scrolled": true
   },
   "outputs": [
    {
     "name": "stdout",
     "output_type": "stream",
     "text": [
      "['2019/05/27/KLOT/KLOT20190527_000114_V06', '2019/05/27/KLOT/KLOT20190527_000759_V06', '2019/05/27/KLOT/KLOT20190527_001453_V06', '2019/05/27/KLOT/KLOT20190527_002158_V06', '2019/05/27/KLOT/KLOT20190527_002851_V06', '2019/05/27/KLOT/KLOT20190527_003550_V06', '2019/05/27/KLOT/KLOT20190527_004240_V06', '2019/05/27/KLOT/KLOT20190527_004945_V06', '2019/05/27/KLOT/KLOT20190527_005649_V06', '2019/05/27/KLOT/KLOT20190527_010348_V06', '2019/05/27/KLOT/KLOT20190527_011054_V06', '2019/05/27/KLOT/KLOT20190527_011753_V06', '2019/05/27/KLOT/KLOT20190527_012451_V06', '2019/05/27/KLOT/KLOT20190527_013157_V06', '2019/05/27/KLOT/KLOT20190527_013856_V06', '2019/05/27/KLOT/KLOT20190527_014602_V06', '2019/05/27/KLOT/KLOT20190527_015301_V06', '2019/05/27/KLOT/KLOT20190527_020006_V06', '2019/05/27/KLOT/KLOT20190527_020701_V06', '2019/05/27/KLOT/KLOT20190527_021405_V06', '2019/05/27/KLOT/KLOT20190527_022111_V06', '2019/05/27/KLOT/KLOT20190527_022816_V06', '2019/05/27/KLOT/KLOT20190527_023521_V06', '2019/05/27/KLOT/KLOT20190527_024225_V06', '2019/05/27/KLOT/KLOT20190527_024931_V06', '2019/05/27/KLOT/KLOT20190527_025637_V06', '2019/05/27/KLOT/KLOT20190527_030342_V06', '2019/05/27/KLOT/KLOT20190527_031046_V06', '2019/05/27/KLOT/KLOT20190527_031751_V06', '2019/05/27/KLOT/KLOT20190527_032456_V06', '2019/05/27/KLOT/KLOT20190527_033200_V06', '2019/05/27/KLOT/KLOT20190527_033905_V06', '2019/05/27/KLOT/KLOT20190527_034611_V06', '2019/05/27/KLOT/KLOT20190527_035315_V06', '2019/05/27/KLOT/KLOT20190527_040020_V06', '2019/05/27/KLOT/KLOT20190527_040725_V06', '2019/05/27/KLOT/KLOT20190527_041429_V06', '2019/05/27/KLOT/KLOT20190527_042134_V06', '2019/05/27/KLOT/KLOT20190527_042839_V06', '2019/05/27/KLOT/KLOT20190527_043545_V06', '2019/05/27/KLOT/KLOT20190527_044249_V06', '2019/05/27/KLOT/KLOT20190527_044954_V06', '2019/05/27/KLOT/KLOT20190527_045659_V06', '2019/05/27/KLOT/KLOT20190527_050404_V06', '2019/05/27/KLOT/KLOT20190527_051109_V06', '2019/05/27/KLOT/KLOT20190527_051814_V06', '2019/05/27/KLOT/KLOT20190527_052519_V06', '2019/05/27/KLOT/KLOT20190527_053225_V06', '2019/05/27/KLOT/KLOT20190527_053930_V06', '2019/05/27/KLOT/KLOT20190527_054635_V06', '2019/05/27/KLOT/KLOT20190527_055340_V06', '2019/05/27/KLOT/KLOT20190527_060045_V06', '2019/05/27/KLOT/KLOT20190527_060750_V06', '2019/05/27/KLOT/KLOT20190527_061455_V06', '2019/05/27/KLOT/KLOT20190527_062201_V06', '2019/05/27/KLOT/KLOT20190527_062907_V06', '2019/05/27/KLOT/KLOT20190527_063612_V06', '2019/05/27/KLOT/KLOT20190527_064317_V06', '2019/05/27/KLOT/KLOT20190527_065023_V06', '2019/05/27/KLOT/KLOT20190527_065728_V06', '2019/05/27/KLOT/KLOT20190527_070433_V06', '2019/05/27/KLOT/KLOT20190527_071138_V06', '2019/05/27/KLOT/KLOT20190527_071844_V06', '2019/05/27/KLOT/KLOT20190527_072548_V06', '2019/05/27/KLOT/KLOT20190527_073253_V06', '2019/05/27/KLOT/KLOT20190527_073722_V06', '2019/05/27/KLOT/KLOT20190527_074202_V06', '2019/05/27/KLOT/KLOT20190527_074643_V06', '2019/05/27/KLOT/KLOT20190527_075124_V06', '2019/05/27/KLOT/KLOT20190527_080022_V06', '2019/05/27/KLOT/KLOT20190527_080726_V06', '2019/05/27/KLOT/KLOT20190527_081157_V06', '2019/05/27/KLOT/KLOT20190527_081638_V06', '2019/05/27/KLOT/KLOT20190527_082118_V06', '2019/05/27/KLOT/KLOT20190527_082558_V06', '2019/05/27/KLOT/KLOT20190527_083039_V06', '2019/05/27/KLOT/KLOT20190527_083520_V06', '2019/05/27/KLOT/KLOT20190527_084001_V06', '2019/05/27/KLOT/KLOT20190527_084442_V06', '2019/05/27/KLOT/KLOT20190527_084923_V06', '2019/05/27/KLOT/KLOT20190527_085622_V06', '2019/05/27/KLOT/KLOT20190527_090327_V06', '2019/05/27/KLOT/KLOT20190527_091032_V06', '2019/05/27/KLOT/KLOT20190527_091736_V06', '2019/05/27/KLOT/KLOT20190527_092442_V06', '2019/05/27/KLOT/KLOT20190527_093147_V06', '2019/05/27/KLOT/KLOT20190527_093852_V06', '2019/05/27/KLOT/KLOT20190527_094320_V06', '2019/05/27/KLOT/KLOT20190527_094802_V06', '2019/05/27/KLOT/KLOT20190527_095242_V06', '2019/05/27/KLOT/KLOT20190527_095723_V06', '2019/05/27/KLOT/KLOT20190527_100205_V06', '2019/05/27/KLOT/KLOT20190527_100646_V06', '2019/05/27/KLOT/KLOT20190527_101126_V06', '2019/05/27/KLOT/KLOT20190527_101606_V06', '2019/05/27/KLOT/KLOT20190527_102047_V06', '2019/05/27/KLOT/KLOT20190527_102528_V06', '2019/05/27/KLOT/KLOT20190527_103008_V06', '2019/05/27/KLOT/KLOT20190527_103449_V06', '2019/05/27/KLOT/KLOT20190527_103929_V06', '2019/05/27/KLOT/KLOT20190527_104409_V06', '2019/05/27/KLOT/KLOT20190527_104851_V06', '2019/05/27/KLOT/KLOT20190527_105332_V06', '2019/05/27/KLOT/KLOT20190527_105813_V06', '2019/05/27/KLOT/KLOT20190527_110253_V06', '2019/05/27/KLOT/KLOT20190527_110728_V06', '2019/05/27/KLOT/KLOT20190527_111427_V06', '2019/05/27/KLOT/KLOT20190527_112127_V06', '2019/05/27/KLOT/KLOT20190527_112827_V06', '2019/05/27/KLOT/KLOT20190527_113520_V06', '2019/05/27/KLOT/KLOT20190527_114215_V06', '2019/05/27/KLOT/KLOT20190527_114909_V06', '2019/05/27/KLOT/KLOT20190527_115604_V06', '2019/05/27/KLOT/KLOT20190527_120258_V06', '2019/05/27/KLOT/KLOT20190527_120952_V06', '2019/05/27/KLOT/KLOT20190527_121642_V06', '2019/05/27/KLOT/KLOT20190527_122331_V06', '2019/05/27/KLOT/KLOT20190527_123037_V06', '2019/05/27/KLOT/KLOT20190527_123743_V06', '2019/05/27/KLOT/KLOT20190527_124447_V06', '2019/05/27/KLOT/KLOT20190527_125153_V06', '2019/05/27/KLOT/KLOT20190527_125859_V06', '2019/05/27/KLOT/KLOT20190527_130605_V06', '2019/05/27/KLOT/KLOT20190527_131304_V06', '2019/05/27/KLOT/KLOT20190527_132004_V06', '2019/05/27/KLOT/KLOT20190527_132703_V06', '2019/05/27/KLOT/KLOT20190527_133402_V06', '2019/05/27/KLOT/KLOT20190527_134101_V06', '2019/05/27/KLOT/KLOT20190527_134759_V06', '2019/05/27/KLOT/KLOT20190527_135453_V06', '2019/05/27/KLOT/KLOT20190527_140146_V06', '2019/05/27/KLOT/KLOT20190527_140615_V06', '2019/05/27/KLOT/KLOT20190527_141045_V06', '2019/05/27/KLOT/KLOT20190527_141509_V06', '2019/05/27/KLOT/KLOT20190527_141933_V06', '2019/05/27/KLOT/KLOT20190527_142357_V06', '2019/05/27/KLOT/KLOT20190527_142820_V06', '2019/05/27/KLOT/KLOT20190527_143239_V06', '2019/05/27/KLOT/KLOT20190527_143659_V06', '2019/05/27/KLOT/KLOT20190527_144118_V06', '2019/05/27/KLOT/KLOT20190527_144538_V06', '2019/05/27/KLOT/KLOT20190527_144957_V06', '2019/05/27/KLOT/KLOT20190527_145417_V06', '2019/05/27/KLOT/KLOT20190527_145836_V06', '2019/05/27/KLOT/KLOT20190527_150255_V06', '2019/05/27/KLOT/KLOT20190527_150723_V06', '2019/05/27/KLOT/KLOT20190527_151143_V06', '2019/05/27/KLOT/KLOT20190527_151623_V06', '2019/05/27/KLOT/KLOT20190527_152043_V06', '2019/05/27/KLOT/KLOT20190527_152522_V06', '2019/05/27/KLOT/KLOT20190527_152957_V06', '2019/05/27/KLOT/KLOT20190527_153447_V06', '2019/05/27/KLOT/KLOT20190527_153921_V06', '2019/05/27/KLOT/KLOT20190527_154410_V06', '2019/05/27/KLOT/KLOT20190527_154859_V06', '2019/05/27/KLOT/KLOT20190527_155348_V06', '2019/05/27/KLOT/KLOT20190527_160038_V06', '2019/05/27/KLOT/KLOT20190527_160528_V06', '2019/05/27/KLOT/KLOT20190527_161038_V06', '2019/05/27/KLOT/KLOT20190527_161602_V06', '2019/05/27/KLOT/KLOT20190527_162127_V06', '2019/05/27/KLOT/KLOT20190527_162705_V06', '2019/05/27/KLOT/KLOT20190527_163223_V06', '2019/05/27/KLOT/KLOT20190527_163741_V06', '2019/05/27/KLOT/KLOT20190527_164253_V06', '2019/05/27/KLOT/KLOT20190527_164810_V06', '2019/05/27/KLOT/KLOT20190527_165329_V06', '2019/05/27/KLOT/KLOT20190527_165856_V06', '2019/05/27/KLOT/KLOT20190527_170409_V06', '2019/05/27/KLOT/KLOT20190527_170922_V06', '2019/05/27/KLOT/KLOT20190527_171431_V06', '2019/05/27/KLOT/KLOT20190527_171934_V06', '2019/05/27/KLOT/KLOT20190527_172438_V06', '2019/05/27/KLOT/KLOT20190527_173001_V06', '2019/05/27/KLOT/KLOT20190527_173540_V06', '2019/05/27/KLOT/KLOT20190527_174127_V06', '2019/05/27/KLOT/KLOT20190527_174720_V06', '2019/05/27/KLOT/KLOT20190527_175311_V06', '2019/05/27/KLOT/KLOT20190527_175859_V06', '2019/05/27/KLOT/KLOT20190527_180445_V06', '2019/05/27/KLOT/KLOT20190527_181038_V06', '2019/05/27/KLOT/KLOT20190527_181615_V06', '2019/05/27/KLOT/KLOT20190527_182152_V06', '2019/05/27/KLOT/KLOT20190527_182731_V06', '2019/05/27/KLOT/KLOT20190527_183245_V06', '2019/05/27/KLOT/KLOT20190527_183744_V06', '2019/05/27/KLOT/KLOT20190527_184250_V06', '2019/05/27/KLOT/KLOT20190527_184750_V06', '2019/05/27/KLOT/KLOT20190527_185257_V06', '2019/05/27/KLOT/KLOT20190527_185802_V06', '2019/05/27/KLOT/KLOT20190527_190308_V06', '2019/05/27/KLOT/KLOT20190527_190815_V06', '2019/05/27/KLOT/KLOT20190527_191315_V06', '2019/05/27/KLOT/KLOT20190527_191813_V06', '2019/05/27/KLOT/KLOT20190527_192313_V06', '2019/05/27/KLOT/KLOT20190527_192813_V06', '2019/05/27/KLOT/KLOT20190527_193343_V06', '2019/05/27/KLOT/KLOT20190527_193842_V06', '2019/05/27/KLOT/KLOT20190527_194342_V06', '2019/05/27/KLOT/KLOT20190527_194911_V06', '2019/05/27/KLOT/KLOT20190527_195457_V06', '2019/05/27/KLOT/KLOT20190527_200043_V06', '2019/05/27/KLOT/KLOT20190527_200628_V06', '2019/05/27/KLOT/KLOT20190527_201215_V06', '2019/05/27/KLOT/KLOT20190527_201802_V06', '2019/05/27/KLOT/KLOT20190527_202350_V06', '2019/05/27/KLOT/KLOT20190527_202937_V06', '2019/05/27/KLOT/KLOT20190527_203523_V06', '2019/05/27/KLOT/KLOT20190527_204109_V06', '2019/05/27/KLOT/KLOT20190527_204655_V06', '2019/05/27/KLOT/KLOT20190527_205241_V06', '2019/05/27/KLOT/KLOT20190527_205826_V06', '2019/05/27/KLOT/KLOT20190527_210413_V06', '2019/05/27/KLOT/KLOT20190527_211000_V06', '2019/05/27/KLOT/KLOT20190527_211548_V06', '2019/05/27/KLOT/KLOT20190527_212135_V06', '2019/05/27/KLOT/KLOT20190527_212722_V06', '2019/05/27/KLOT/KLOT20190527_213309_V06', '2019/05/27/KLOT/KLOT20190527_213854_V06', '2019/05/27/KLOT/KLOT20190527_214440_V06', '2019/05/27/KLOT/KLOT20190527_215026_V06', '2019/05/27/KLOT/KLOT20190527_215614_V06', '2019/05/27/KLOT/KLOT20190527_220159_V06', '2019/05/27/KLOT/KLOT20190527_220746_V06', '2019/05/27/KLOT/KLOT20190527_221331_V06', '2019/05/27/KLOT/KLOT20190527_221918_V06', '2019/05/27/KLOT/KLOT20190527_222503_V06', '2019/05/27/KLOT/KLOT20190527_223050_V06', '2019/05/27/KLOT/KLOT20190527_223637_V06', '2019/05/27/KLOT/KLOT20190527_224224_V06', '2019/05/27/KLOT/KLOT20190527_224811_V06', '2019/05/27/KLOT/KLOT20190527_225357_V06', '2019/05/27/KLOT/KLOT20190527_225944_V06', '2019/05/27/KLOT/KLOT20190527_230517_V06', '2019/05/27/KLOT/KLOT20190527_231048_V06', '2019/05/27/KLOT/KLOT20190527_231609_V06', '2019/05/27/KLOT/KLOT20190527_232128_V06', '2019/05/27/KLOT/KLOT20190527_232634_V06', '2019/05/27/KLOT/KLOT20190527_233138_V06', '2019/05/27/KLOT/KLOT20190527_233653_V06', '2019/05/27/KLOT/KLOT20190527_234144_V06', '2019/05/27/KLOT/KLOT20190527_234636_V06', '2019/05/27/KLOT/KLOT20190527_235128_V06', '2019/05/27/KLOT/KLOT20190527_235620_V06']\n"
     ]
    },
    {
     "ename": "NameError",
     "evalue": "name 'radar' is not defined",
     "output_type": "error",
     "traceback": [
      "\u001b[0;31m---------------------------------------------------------------------------\u001b[0m",
      "\u001b[0;31mNameError\u001b[0m                                 Traceback (most recent call last)",
      "\u001b[0;32m<ipython-input-11-451249ad0803>\u001b[0m in \u001b[0;36m<module>\u001b[0;34m\u001b[0m\n\u001b[1;32m      2\u001b[0m \u001b[0maws_radar\u001b[0m\u001b[0;34m,\u001b[0m \u001b[0mkeys\u001b[0m \u001b[0;34m=\u001b[0m \u001b[0mget_radar_scan\u001b[0m\u001b[0;34m(\u001b[0m\u001b[0mstation\u001b[0m\u001b[0;34m=\u001b[0m\u001b[0;34m'KLOT'\u001b[0m\u001b[0;34m,\u001b[0m \u001b[0mdate\u001b[0m\u001b[0;34m=\u001b[0m\u001b[0;34m'2019/05/27'\u001b[0m\u001b[0;34m,\u001b[0m \u001b[0mkey_index\u001b[0m\u001b[0;34m=\u001b[0m\u001b[0;34m-\u001b[0m\u001b[0;36m400\u001b[0m\u001b[0;34m)\u001b[0m\u001b[0;34m\u001b[0m\u001b[0;34m\u001b[0m\u001b[0m\n\u001b[1;32m      3\u001b[0m \u001b[0mout_path_dir\u001b[0m \u001b[0;34m=\u001b[0m \u001b[0;34m'home/amedendorp/Desktop/may272019'\u001b[0m\u001b[0;34m\u001b[0m\u001b[0;34m\u001b[0m\u001b[0m\n\u001b[0;32m----> 4\u001b[0;31m \u001b[0mradar\u001b[0m\u001b[0;34m.\u001b[0m\u001b[0mfields\u001b[0m\u001b[0;34m.\u001b[0m\u001b[0mkeys\u001b[0m\u001b[0;34m(\u001b[0m\u001b[0;34m)\u001b[0m\u001b[0;34m\u001b[0m\u001b[0;34m\u001b[0m\u001b[0m\n\u001b[0m",
      "\u001b[0;31mNameError\u001b[0m: name 'radar' is not defined"
     ]
    }
   ],
   "source": [
    "# Setting radar, date of radar scans needed, and key index (amount of items in list)\n",
    "aws_radar, keys = get_radar_scan(station='KLOT', date='2019/05/27', key_index=-400) \n",
    "out_path_dir = 'home/amedendorp/Desktop/may272019'"
   ]
  },
  {
   "cell_type": "code",
   "execution_count": 2,
   "metadata": {},
   "outputs": [
    {
     "ename": "NameError",
     "evalue": "name 'keys' is not defined",
     "output_type": "error",
     "traceback": [
      "\u001b[0;31m---------------------------------------------------------------------------\u001b[0m",
      "\u001b[0;31mNameError\u001b[0m                                 Traceback (most recent call last)",
      "\u001b[0;32m<ipython-input-2-4d3d29fcdfb7>\u001b[0m in \u001b[0;36m<module>\u001b[0;34m\u001b[0m\n\u001b[1;32m      1\u001b[0m \u001b[0;31m# Obtaining every 7th step (approximately every half hour).\u001b[0m\u001b[0;34m\u001b[0m\u001b[0;34m\u001b[0m\u001b[0;34m\u001b[0m\u001b[0m\n\u001b[1;32m      2\u001b[0m \u001b[0;31m# Leave blank bracket to include all timesteps\u001b[0m\u001b[0;34m\u001b[0m\u001b[0;34m\u001b[0m\u001b[0;34m\u001b[0m\u001b[0m\n\u001b[0;32m----> 3\u001b[0;31m \u001b[0mnewkeys\u001b[0m\u001b[0;34m=\u001b[0m\u001b[0mkeys\u001b[0m\u001b[0;34m[\u001b[0m\u001b[0;36m100\u001b[0m\u001b[0;34m:\u001b[0m\u001b[0;36m400\u001b[0m\u001b[0;34m]\u001b[0m\u001b[0;34m\u001b[0m\u001b[0;34m\u001b[0m\u001b[0m\n\u001b[0m\u001b[1;32m      4\u001b[0m \u001b[0mprint\u001b[0m\u001b[0;34m(\u001b[0m\u001b[0mnewkeys\u001b[0m\u001b[0;34m)\u001b[0m\u001b[0;34m\u001b[0m\u001b[0;34m\u001b[0m\u001b[0m\n\u001b[1;32m      5\u001b[0m \u001b[0;34m\u001b[0m\u001b[0m\n",
      "\u001b[0;31mNameError\u001b[0m: name 'keys' is not defined"
     ]
    }
   ],
   "source": [
    "# Obtaining every 7th step (approximately every half hour). \n",
    "# Leave blank bracket to include all timesteps\n",
    "newkeys=keys[100:400]\n",
    "print(newkeys)"
   ]
  },
  {
   "cell_type": "code",
   "execution_count": 13,
   "metadata": {},
   "outputs": [
    {
     "ename": "NameError",
     "evalue": "name 'radar' is not defined",
     "output_type": "error",
     "traceback": [
      "\u001b[0;31m---------------------------------------------------------------------------\u001b[0m",
      "\u001b[0;31mNameError\u001b[0m                                 Traceback (most recent call last)",
      "\u001b[0;32m<ipython-input-13-dbb50d0d2336>\u001b[0m in \u001b[0;36m<module>\u001b[0;34m\u001b[0m\n\u001b[1;32m      6\u001b[0m     \u001b[0mradar\u001b[0m \u001b[0;34m=\u001b[0m \u001b[0mpyart\u001b[0m\u001b[0;34m.\u001b[0m\u001b[0mio\u001b[0m\u001b[0;34m.\u001b[0m\u001b[0mread_nexrad_archive\u001b[0m\u001b[0;34m(\u001b[0m\u001b[0mlocalfile\u001b[0m\u001b[0;34m.\u001b[0m\u001b[0mname\u001b[0m\u001b[0;34m)\u001b[0m\u001b[0;34m\u001b[0m\u001b[0;34m\u001b[0m\u001b[0m\n\u001b[1;32m      7\u001b[0m     \u001b[0;32mreturn\u001b[0m \u001b[0mradar\u001b[0m\u001b[0;34m\u001b[0m\u001b[0;34m\u001b[0m\u001b[0m\n\u001b[0;32m----> 8\u001b[0;31m \u001b[0mradar\u001b[0m\u001b[0;34m.\u001b[0m\u001b[0mfields\u001b[0m\u001b[0;34m.\u001b[0m\u001b[0mkeys\u001b[0m\u001b[0;34m(\u001b[0m\u001b[0;34m)\u001b[0m\u001b[0;34m\u001b[0m\u001b[0;34m\u001b[0m\u001b[0m\n\u001b[0m",
      "\u001b[0;31mNameError\u001b[0m: name 'radar' is not defined"
     ]
    }
   ],
   "source": [
    "def radar_keys_to_data(newkeys):\n",
    "    # Stores keys into temporary localfile to be read with pyart. \n",
    "    localfile = tempfile.NamedTemporaryFile()\n",
    "    keys.get_contents_to_filename(localfile.name)\n",
    "    # Only pulling two scans for the sake of time and memory.\n",
    "    radar = pyart.io.read_nexrad_archive(localfile.name)\n",
    "    return radar\n",
    "radar.fields.keys()"
   ]
  },
  {
   "cell_type": "code",
   "execution_count": 6,
   "metadata": {},
   "outputs": [],
   "source": [
    "import cartopy.io.shapereader as shpreader\n",
    "\n",
    "reader = shpreader.Reader('/home/amedendorp/Downloads/countyl010g_shp_nt00964/countyl010g.shp')\n",
    "counties = list(reader.geometries())\n",
    "COUNTIES = cfeature.ShapelyFeature(counties, ccrs.PlateCarree())"
   ]
  },
  {
   "cell_type": "code",
   "execution_count": 7,
   "metadata": {},
   "outputs": [
    {
     "ename": "ValueError",
     "evalue": "Image size of 86961x43487 pixels is too large. It must be less than 2^16 in each direction.",
     "output_type": "error",
     "traceback": [
      "\u001b[0;31m---------------------------------------------------------------------------\u001b[0m",
      "\u001b[0;31mValueError\u001b[0m                                Traceback (most recent call last)",
      "\u001b[0;32m~/.conda/envs/clouds_env/lib/python3.6/site-packages/IPython/core/formatters.py\u001b[0m in \u001b[0;36m__call__\u001b[0;34m(self, obj)\u001b[0m\n\u001b[1;32m    339\u001b[0m                 \u001b[0;32mpass\u001b[0m\u001b[0;34m\u001b[0m\u001b[0;34m\u001b[0m\u001b[0m\n\u001b[1;32m    340\u001b[0m             \u001b[0;32melse\u001b[0m\u001b[0;34m:\u001b[0m\u001b[0;34m\u001b[0m\u001b[0;34m\u001b[0m\u001b[0m\n\u001b[0;32m--> 341\u001b[0;31m                 \u001b[0;32mreturn\u001b[0m \u001b[0mprinter\u001b[0m\u001b[0;34m(\u001b[0m\u001b[0mobj\u001b[0m\u001b[0;34m)\u001b[0m\u001b[0;34m\u001b[0m\u001b[0;34m\u001b[0m\u001b[0m\n\u001b[0m\u001b[1;32m    342\u001b[0m             \u001b[0;31m# Finally look for special method names\u001b[0m\u001b[0;34m\u001b[0m\u001b[0;34m\u001b[0m\u001b[0;34m\u001b[0m\u001b[0m\n\u001b[1;32m    343\u001b[0m             \u001b[0mmethod\u001b[0m \u001b[0;34m=\u001b[0m \u001b[0mget_real_method\u001b[0m\u001b[0;34m(\u001b[0m\u001b[0mobj\u001b[0m\u001b[0;34m,\u001b[0m \u001b[0mself\u001b[0m\u001b[0;34m.\u001b[0m\u001b[0mprint_method\u001b[0m\u001b[0;34m)\u001b[0m\u001b[0;34m\u001b[0m\u001b[0;34m\u001b[0m\u001b[0m\n",
      "\u001b[0;32m~/.conda/envs/clouds_env/lib/python3.6/site-packages/IPython/core/pylabtools.py\u001b[0m in \u001b[0;36m<lambda>\u001b[0;34m(fig)\u001b[0m\n\u001b[1;32m    242\u001b[0m \u001b[0;34m\u001b[0m\u001b[0m\n\u001b[1;32m    243\u001b[0m     \u001b[0;32mif\u001b[0m \u001b[0;34m'png'\u001b[0m \u001b[0;32min\u001b[0m \u001b[0mformats\u001b[0m\u001b[0;34m:\u001b[0m\u001b[0;34m\u001b[0m\u001b[0;34m\u001b[0m\u001b[0m\n\u001b[0;32m--> 244\u001b[0;31m         \u001b[0mpng_formatter\u001b[0m\u001b[0;34m.\u001b[0m\u001b[0mfor_type\u001b[0m\u001b[0;34m(\u001b[0m\u001b[0mFigure\u001b[0m\u001b[0;34m,\u001b[0m \u001b[0;32mlambda\u001b[0m \u001b[0mfig\u001b[0m\u001b[0;34m:\u001b[0m \u001b[0mprint_figure\u001b[0m\u001b[0;34m(\u001b[0m\u001b[0mfig\u001b[0m\u001b[0;34m,\u001b[0m \u001b[0;34m'png'\u001b[0m\u001b[0;34m,\u001b[0m \u001b[0;34m**\u001b[0m\u001b[0mkwargs\u001b[0m\u001b[0;34m)\u001b[0m\u001b[0;34m)\u001b[0m\u001b[0;34m\u001b[0m\u001b[0;34m\u001b[0m\u001b[0m\n\u001b[0m\u001b[1;32m    245\u001b[0m     \u001b[0;32mif\u001b[0m \u001b[0;34m'retina'\u001b[0m \u001b[0;32min\u001b[0m \u001b[0mformats\u001b[0m \u001b[0;32mor\u001b[0m \u001b[0;34m'png2x'\u001b[0m \u001b[0;32min\u001b[0m \u001b[0mformats\u001b[0m\u001b[0;34m:\u001b[0m\u001b[0;34m\u001b[0m\u001b[0;34m\u001b[0m\u001b[0m\n\u001b[1;32m    246\u001b[0m         \u001b[0mpng_formatter\u001b[0m\u001b[0;34m.\u001b[0m\u001b[0mfor_type\u001b[0m\u001b[0;34m(\u001b[0m\u001b[0mFigure\u001b[0m\u001b[0;34m,\u001b[0m \u001b[0;32mlambda\u001b[0m \u001b[0mfig\u001b[0m\u001b[0;34m:\u001b[0m \u001b[0mretina_figure\u001b[0m\u001b[0;34m(\u001b[0m\u001b[0mfig\u001b[0m\u001b[0;34m,\u001b[0m \u001b[0;34m**\u001b[0m\u001b[0mkwargs\u001b[0m\u001b[0;34m)\u001b[0m\u001b[0;34m)\u001b[0m\u001b[0;34m\u001b[0m\u001b[0;34m\u001b[0m\u001b[0m\n",
      "\u001b[0;32m~/.conda/envs/clouds_env/lib/python3.6/site-packages/IPython/core/pylabtools.py\u001b[0m in \u001b[0;36mprint_figure\u001b[0;34m(fig, fmt, bbox_inches, **kwargs)\u001b[0m\n\u001b[1;32m    126\u001b[0m \u001b[0;34m\u001b[0m\u001b[0m\n\u001b[1;32m    127\u001b[0m     \u001b[0mbytes_io\u001b[0m \u001b[0;34m=\u001b[0m \u001b[0mBytesIO\u001b[0m\u001b[0;34m(\u001b[0m\u001b[0;34m)\u001b[0m\u001b[0;34m\u001b[0m\u001b[0;34m\u001b[0m\u001b[0m\n\u001b[0;32m--> 128\u001b[0;31m     \u001b[0mfig\u001b[0m\u001b[0;34m.\u001b[0m\u001b[0mcanvas\u001b[0m\u001b[0;34m.\u001b[0m\u001b[0mprint_figure\u001b[0m\u001b[0;34m(\u001b[0m\u001b[0mbytes_io\u001b[0m\u001b[0;34m,\u001b[0m \u001b[0;34m**\u001b[0m\u001b[0mkw\u001b[0m\u001b[0;34m)\u001b[0m\u001b[0;34m\u001b[0m\u001b[0;34m\u001b[0m\u001b[0m\n\u001b[0m\u001b[1;32m    129\u001b[0m     \u001b[0mdata\u001b[0m \u001b[0;34m=\u001b[0m \u001b[0mbytes_io\u001b[0m\u001b[0;34m.\u001b[0m\u001b[0mgetvalue\u001b[0m\u001b[0;34m(\u001b[0m\u001b[0;34m)\u001b[0m\u001b[0;34m\u001b[0m\u001b[0;34m\u001b[0m\u001b[0m\n\u001b[1;32m    130\u001b[0m     \u001b[0;32mif\u001b[0m \u001b[0mfmt\u001b[0m \u001b[0;34m==\u001b[0m \u001b[0;34m'svg'\u001b[0m\u001b[0;34m:\u001b[0m\u001b[0;34m\u001b[0m\u001b[0;34m\u001b[0m\u001b[0m\n",
      "\u001b[0;32m~/.conda/envs/clouds_env/lib/python3.6/site-packages/matplotlib/backend_bases.py\u001b[0m in \u001b[0;36mprint_figure\u001b[0;34m(self, filename, dpi, facecolor, edgecolor, orientation, format, bbox_inches, **kwargs)\u001b[0m\n\u001b[1;32m   2080\u001b[0m                     \u001b[0morientation\u001b[0m\u001b[0;34m=\u001b[0m\u001b[0morientation\u001b[0m\u001b[0;34m,\u001b[0m\u001b[0;34m\u001b[0m\u001b[0;34m\u001b[0m\u001b[0m\n\u001b[1;32m   2081\u001b[0m                     \u001b[0mbbox_inches_restore\u001b[0m\u001b[0;34m=\u001b[0m\u001b[0m_bbox_inches_restore\u001b[0m\u001b[0;34m,\u001b[0m\u001b[0;34m\u001b[0m\u001b[0;34m\u001b[0m\u001b[0m\n\u001b[0;32m-> 2082\u001b[0;31m                     **kwargs)\n\u001b[0m\u001b[1;32m   2083\u001b[0m             \u001b[0;32mfinally\u001b[0m\u001b[0;34m:\u001b[0m\u001b[0;34m\u001b[0m\u001b[0;34m\u001b[0m\u001b[0m\n\u001b[1;32m   2084\u001b[0m                 \u001b[0;32mif\u001b[0m \u001b[0mbbox_inches\u001b[0m \u001b[0;32mand\u001b[0m \u001b[0mrestore_bbox\u001b[0m\u001b[0;34m:\u001b[0m\u001b[0;34m\u001b[0m\u001b[0;34m\u001b[0m\u001b[0m\n",
      "\u001b[0;32m~/.conda/envs/clouds_env/lib/python3.6/site-packages/matplotlib/backends/backend_agg.py\u001b[0m in \u001b[0;36mprint_png\u001b[0;34m(self, filename_or_obj, metadata, pil_kwargs, *args, **kwargs)\u001b[0m\n\u001b[1;32m    525\u001b[0m \u001b[0;34m\u001b[0m\u001b[0m\n\u001b[1;32m    526\u001b[0m         \u001b[0;32melse\u001b[0m\u001b[0;34m:\u001b[0m\u001b[0;34m\u001b[0m\u001b[0;34m\u001b[0m\u001b[0m\n\u001b[0;32m--> 527\u001b[0;31m             \u001b[0mFigureCanvasAgg\u001b[0m\u001b[0;34m.\u001b[0m\u001b[0mdraw\u001b[0m\u001b[0;34m(\u001b[0m\u001b[0mself\u001b[0m\u001b[0;34m)\u001b[0m\u001b[0;34m\u001b[0m\u001b[0;34m\u001b[0m\u001b[0m\n\u001b[0m\u001b[1;32m    528\u001b[0m             \u001b[0mrenderer\u001b[0m \u001b[0;34m=\u001b[0m \u001b[0mself\u001b[0m\u001b[0;34m.\u001b[0m\u001b[0mget_renderer\u001b[0m\u001b[0;34m(\u001b[0m\u001b[0;34m)\u001b[0m\u001b[0;34m\u001b[0m\u001b[0;34m\u001b[0m\u001b[0m\n\u001b[1;32m    529\u001b[0m             \u001b[0;32mwith\u001b[0m \u001b[0mcbook\u001b[0m\u001b[0;34m.\u001b[0m\u001b[0m_setattr_cm\u001b[0m\u001b[0;34m(\u001b[0m\u001b[0mrenderer\u001b[0m\u001b[0;34m,\u001b[0m \u001b[0mdpi\u001b[0m\u001b[0;34m=\u001b[0m\u001b[0mself\u001b[0m\u001b[0;34m.\u001b[0m\u001b[0mfigure\u001b[0m\u001b[0;34m.\u001b[0m\u001b[0mdpi\u001b[0m\u001b[0;34m)\u001b[0m\u001b[0;34m,\u001b[0m\u001b[0;31m \u001b[0m\u001b[0;31m\\\u001b[0m\u001b[0;34m\u001b[0m\u001b[0;34m\u001b[0m\u001b[0m\n",
      "\u001b[0;32m~/.conda/envs/clouds_env/lib/python3.6/site-packages/matplotlib/backends/backend_agg.py\u001b[0m in \u001b[0;36mdraw\u001b[0;34m(self)\u001b[0m\n\u001b[1;32m    384\u001b[0m         \u001b[0mDraw\u001b[0m \u001b[0mthe\u001b[0m \u001b[0mfigure\u001b[0m \u001b[0musing\u001b[0m \u001b[0mthe\u001b[0m \u001b[0mrenderer\u001b[0m\u001b[0;34m.\u001b[0m\u001b[0;34m\u001b[0m\u001b[0;34m\u001b[0m\u001b[0m\n\u001b[1;32m    385\u001b[0m         \"\"\"\n\u001b[0;32m--> 386\u001b[0;31m         \u001b[0mself\u001b[0m\u001b[0;34m.\u001b[0m\u001b[0mrenderer\u001b[0m \u001b[0;34m=\u001b[0m \u001b[0mself\u001b[0m\u001b[0;34m.\u001b[0m\u001b[0mget_renderer\u001b[0m\u001b[0;34m(\u001b[0m\u001b[0mcleared\u001b[0m\u001b[0;34m=\u001b[0m\u001b[0;32mTrue\u001b[0m\u001b[0;34m)\u001b[0m\u001b[0;34m\u001b[0m\u001b[0;34m\u001b[0m\u001b[0m\n\u001b[0m\u001b[1;32m    387\u001b[0m         \u001b[0;32mwith\u001b[0m \u001b[0mRendererAgg\u001b[0m\u001b[0;34m.\u001b[0m\u001b[0mlock\u001b[0m\u001b[0;34m:\u001b[0m\u001b[0;34m\u001b[0m\u001b[0;34m\u001b[0m\u001b[0m\n\u001b[1;32m    388\u001b[0m             \u001b[0mself\u001b[0m\u001b[0;34m.\u001b[0m\u001b[0mfigure\u001b[0m\u001b[0;34m.\u001b[0m\u001b[0mdraw\u001b[0m\u001b[0;34m(\u001b[0m\u001b[0mself\u001b[0m\u001b[0;34m.\u001b[0m\u001b[0mrenderer\u001b[0m\u001b[0;34m)\u001b[0m\u001b[0;34m\u001b[0m\u001b[0;34m\u001b[0m\u001b[0m\n",
      "\u001b[0;32m~/.conda/envs/clouds_env/lib/python3.6/site-packages/matplotlib/backends/backend_agg.py\u001b[0m in \u001b[0;36mget_renderer\u001b[0;34m(self, cleared)\u001b[0m\n\u001b[1;32m    397\u001b[0m                           and getattr(self, \"_lastKey\", None) == key)\n\u001b[1;32m    398\u001b[0m         \u001b[0;32mif\u001b[0m \u001b[0;32mnot\u001b[0m \u001b[0mreuse_renderer\u001b[0m\u001b[0;34m:\u001b[0m\u001b[0;34m\u001b[0m\u001b[0;34m\u001b[0m\u001b[0m\n\u001b[0;32m--> 399\u001b[0;31m             \u001b[0mself\u001b[0m\u001b[0;34m.\u001b[0m\u001b[0mrenderer\u001b[0m \u001b[0;34m=\u001b[0m \u001b[0mRendererAgg\u001b[0m\u001b[0;34m(\u001b[0m\u001b[0mw\u001b[0m\u001b[0;34m,\u001b[0m \u001b[0mh\u001b[0m\u001b[0;34m,\u001b[0m \u001b[0mself\u001b[0m\u001b[0;34m.\u001b[0m\u001b[0mfigure\u001b[0m\u001b[0;34m.\u001b[0m\u001b[0mdpi\u001b[0m\u001b[0;34m)\u001b[0m\u001b[0;34m\u001b[0m\u001b[0;34m\u001b[0m\u001b[0m\n\u001b[0m\u001b[1;32m    400\u001b[0m             \u001b[0mself\u001b[0m\u001b[0;34m.\u001b[0m\u001b[0m_lastKey\u001b[0m \u001b[0;34m=\u001b[0m \u001b[0mkey\u001b[0m\u001b[0;34m\u001b[0m\u001b[0;34m\u001b[0m\u001b[0m\n\u001b[1;32m    401\u001b[0m         \u001b[0;32melif\u001b[0m \u001b[0mcleared\u001b[0m\u001b[0;34m:\u001b[0m\u001b[0;34m\u001b[0m\u001b[0;34m\u001b[0m\u001b[0m\n",
      "\u001b[0;32m~/.conda/envs/clouds_env/lib/python3.6/site-packages/matplotlib/backends/backend_agg.py\u001b[0m in \u001b[0;36m__init__\u001b[0;34m(self, width, height, dpi)\u001b[0m\n\u001b[1;32m     84\u001b[0m         \u001b[0mself\u001b[0m\u001b[0;34m.\u001b[0m\u001b[0mwidth\u001b[0m \u001b[0;34m=\u001b[0m \u001b[0mwidth\u001b[0m\u001b[0;34m\u001b[0m\u001b[0;34m\u001b[0m\u001b[0m\n\u001b[1;32m     85\u001b[0m         \u001b[0mself\u001b[0m\u001b[0;34m.\u001b[0m\u001b[0mheight\u001b[0m \u001b[0;34m=\u001b[0m \u001b[0mheight\u001b[0m\u001b[0;34m\u001b[0m\u001b[0;34m\u001b[0m\u001b[0m\n\u001b[0;32m---> 86\u001b[0;31m         \u001b[0mself\u001b[0m\u001b[0;34m.\u001b[0m\u001b[0m_renderer\u001b[0m \u001b[0;34m=\u001b[0m \u001b[0m_RendererAgg\u001b[0m\u001b[0;34m(\u001b[0m\u001b[0mint\u001b[0m\u001b[0;34m(\u001b[0m\u001b[0mwidth\u001b[0m\u001b[0;34m)\u001b[0m\u001b[0;34m,\u001b[0m \u001b[0mint\u001b[0m\u001b[0;34m(\u001b[0m\u001b[0mheight\u001b[0m\u001b[0;34m)\u001b[0m\u001b[0;34m,\u001b[0m \u001b[0mdpi\u001b[0m\u001b[0;34m)\u001b[0m\u001b[0;34m\u001b[0m\u001b[0;34m\u001b[0m\u001b[0m\n\u001b[0m\u001b[1;32m     87\u001b[0m         \u001b[0mself\u001b[0m\u001b[0;34m.\u001b[0m\u001b[0m_filter_renderers\u001b[0m \u001b[0;34m=\u001b[0m \u001b[0;34m[\u001b[0m\u001b[0;34m]\u001b[0m\u001b[0;34m\u001b[0m\u001b[0;34m\u001b[0m\u001b[0m\n\u001b[1;32m     88\u001b[0m \u001b[0;34m\u001b[0m\u001b[0m\n",
      "\u001b[0;31mValueError\u001b[0m: Image size of 86961x43487 pixels is too large. It must be less than 2^16 in each direction."
     ]
    },
    {
     "data": {
      "text/plain": [
       "<Figure size 720x576 with 2 Axes>"
      ]
     },
     "metadata": {
      "needs_background": "light"
     },
     "output_type": "display_data"
    }
   ],
   "source": [
    "# Animation code:\n",
    "def animate(nframe):\n",
    "    plt.clf()\n",
    "    localfile = tempfile.NamedTemporaryFile()\n",
    "    aws_radar.download_file(newkeys[nframe], localfile.name)\n",
    "    radar = pyart.io.read(localfile.name)\n",
    "    ax = plt.axes(projection=ccrs.PlateCarree())\n",
    "    display = pyart.graph.RadarMapDisplay(radar)\n",
    "    \n",
    "    # Delete radar after use to save memory.\n",
    "    del radar\n",
    "    display.plot_ppi_map('reflectivity', sweep=0, resolution='10m',\n",
    "                         vmin=-8, vmax=64, mask_outside=False, \n",
    "                         fig=fig, height=200000, width=150000) \n",
    "\n",
    "    display.plot_point(-87.981810, 41.713969, label_text='ANL', symbol='ko')\n",
    "    display.plot_point(-87.675885, 42.057888, label_text='Northwestern', symbol='ko')\n",
    "    display.plot_point(-88.181798, 41.738107, label_text='NPR', symbol='ko') #Naperville\n",
    "    display.plot_point(-87.687151, 41.606367, label_text='IBP', symbol='ko')\n",
    "    \n",
    "    ax.add_feature(cfeature.LAKES, zorder=0.5)\n",
    "    ax.add_feature(COUNTIES, facecolor='none', edgecolor='gray')\n",
    "\n",
    "fig = plt.figure(figsize=(10, 8))\n",
    "\n",
    "anim_klot = animation.FuncAnimation(fig, animate,\n",
    "                                    frames=len(newkeys))\n",
    "anim_klot.save('/home/amedendorp/Desktop/reflectivity_animation_may272019.gif', \n",
    "               writer='imagemagick', fps=3)\n",
    "plt.show()\n",
    "plt.close()"
   ]
  },
  {
   "cell_type": "code",
   "execution_count": null,
   "metadata": {},
   "outputs": [],
   "source": []
  }
 ],
 "metadata": {
  "kernelspec": {
   "display_name": "Python 3",
   "language": "python",
   "name": "python3"
  },
  "language_info": {
   "codemirror_mode": {
    "name": "ipython",
    "version": 3
   },
   "file_extension": ".py",
   "mimetype": "text/x-python",
   "name": "python",
   "nbconvert_exporter": "python",
   "pygments_lexer": "ipython3",
   "version": "3.9.4"
  }
 },
 "nbformat": 4,
 "nbformat_minor": 2
}
